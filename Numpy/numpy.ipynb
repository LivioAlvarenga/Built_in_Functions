{
 "cells": [
  {
   "cell_type": "markdown",
   "metadata": {},
   "source": [
    "# Numpy\n",
    "O pacote Numpy possui um poderoso objeto array multidimensional, que nos permite realizar um conjunto bastante amplo de operações numéricas, sem a necessidade de utilização de laços for.\n",
    "\n",
    "1. [Atributos e Métodos de arrays Numpy](#Metodos-e-funções-Numpy)\n",
    "    1. [arange( )](#arange)\n",
    "    1. [array( )](#array)\n",
    "    1. [column_stack( )](#column_stack)\n",
    "    1. [copy( )](#copy)\n",
    "    1. [.dtype](#dtype)\n",
    "    1. [loadtxt( )](#loadtxt)\n",
    "    1. [.ndim](#ndim)\n",
    "    1. [reshape(shape[, order])](#reshape)\n",
    "    1. [resize(newshape[, refcheck])](#resize)\n",
    "    1. [.shape](#shape)\n",
    "    1. [.size](#size)\n",
    "    1. [.T | transpose()](#t)\n",
    "    1. [tolist()](#tolist)\n",
    "1. [Trabalhando com Numpy](#Trabalhando-com-Numpy)\n",
    "    1. [Desempenho Numpy vs lista Python](#Desempenho-Numpy-vs-lista-Python)\n",
    "    1. [Operações com Numpy](#Operacoes_com_Numpy)\n",
    "        1. [Operações entre array Numpy e constantes](#array_Numpy_e_constantes)\n",
    "        1. [Operações entre arrays Numpy](#operacoes_entre_arrays_Numpy)\n",
    "        1. [Operações entre arrays Numpy de duas dimensões](#operacoes_entre_arrays_Numpy_duas_dimencoes)\n",
    "    1. [Seleção/Fatiamento com Numpy](#Selecao_com_Numpy)\n",
    "    1. [Indexação com array booleano no Numpy](#indexacao_bool_com_Numpy)\n",
    "    1. [Estatísticas no Numpy](#estatistica_Numpy)\n",
    "1. [Soluções com Numpy](#Solucoes-com-Numpy)\n",
    "    1. [Adicionando uma nova linha a um array Numpy](#adicionando_nova_linha_a_array_Numpy)\n"
   ]
  },
  {
   "cell_type": "markdown",
   "metadata": {},
   "source": [
    "# Atributos e Métodos de arrays Numpy<a class=\"anchor\" id=\"Metodos-e-funções-Numpy\"></a>"
   ]
  },
  {
   "cell_type": "markdown",
   "metadata": {},
   "source": [
    "## arange( )<a class=\"anchor\" id=\"arange\"></a>\n",
    "\n",
    "Igual ao range( ), o arange( ) cria um array de números inteiros, com um intervalo especificado."
   ]
  },
  {
   "cell_type": "code",
   "execution_count": null,
   "metadata": {},
   "outputs": [],
   "source": [
    "from numpy import arange\n",
    "\n",
    "arange(10)"
   ]
  },
  {
   "cell_type": "markdown",
   "metadata": {},
   "source": [
    "## array( )<a class=\"anchor\" id=\"array\"></a>\n",
    "\n",
    "* Diferente das listas do Python, que podem conter tipos variados em uma mesma sequência, arrays Numpy suportam somente um tipo de dado por vez."
   ]
  },
  {
   "cell_type": "code",
   "execution_count": null,
   "metadata": {},
   "outputs": [],
   "source": [
    "from numpy import array\n",
    "\n",
    "# .Transformando uma lista em um array Numpy\n",
    "\n",
    "km = array([10, 20, 30, 40, 50])\n",
    "print(f'{km = }')\n",
    "print(f'{type(km) = }')"
   ]
  },
  {
   "cell_type": "markdown",
   "metadata": {},
   "source": [
    "## column_stack( )<a class=\"anchor\" id=\"column_stack\"></a>\n",
    "Transforma vários arrays em um único array, com cada uma das colunas de cada array como uma coluna."
   ]
  },
  {
   "cell_type": "code",
   "execution_count": null,
   "metadata": {},
   "outputs": [],
   "source": [
    "from numpy import loadtxt, column_stack\n",
    "\n",
    "# pegando dados\n",
    "anos = loadtxt(fname='carros-anos.txt', dtype=int)\n",
    "km = loadtxt(fname='carros-km.txt')\n",
    "valor = loadtxt(fname='carros-valor.txt')\n",
    "\n",
    "print(f'{anos.shape = } - {km.shape = } - {valor.shape = }')\n",
    "\n",
    "dataset = column_stack((anos, km, valor))\n",
    "dataset"
   ]
  },
  {
   "cell_type": "markdown",
   "metadata": {},
   "source": [
    "## copy( )<a class=\"anchor\" id=\"copy\"></a>\n",
    "\n",
    "Faz uma copia do array sem referencia-lo"
   ]
  },
  {
   "cell_type": "code",
   "execution_count": null,
   "metadata": {},
   "outputs": [],
   "source": [
    "from numpy import array\n",
    "\n",
    "km = array([44410., 5712., 37123., 0., 25757.])\n",
    "anos = array([2003, 1991, 1990, 2019, 2006])\n",
    "dados = array([km, anos])\n",
    "\n",
    "dados_new = dados\n",
    "# somando 1000 em todos dados da primeira linha\n",
    "dados_new[0] += 1000\n",
    "print(f'dados_new = {dados_new}')\n",
    "\n",
    "# veja que dados também mudou\n",
    "print(f'\\ndados = {dados}')"
   ]
  },
  {
   "cell_type": "code",
   "execution_count": null,
   "metadata": {},
   "outputs": [],
   "source": [
    "# Tirando a referencia com copy()\n",
    "\n",
    "dados_new = dados.copy()\n",
    "# somando 1000 em todos dados da primeira linha\n",
    "dados_new[0] += 1000\n",
    "print(f'dados_new = {dados_new}')\n",
    "\n",
    "# veja que dados não mudou\n",
    "print(f'\\ndados = {dados}')"
   ]
  },
  {
   "cell_type": "markdown",
   "metadata": {},
   "source": [
    "## .dtype<a class=\"anchor\" id=\"dtype\"></a>"
   ]
  },
  {
   "cell_type": "code",
   "execution_count": null,
   "metadata": {},
   "outputs": [],
   "source": [
    "from numpy import array\n",
    "\n",
    "# .Verificando o tipo do array\n",
    "\n",
    "km = array([10, 20, 30, 40, 50])\n",
    "print(f'{km = }')\n",
    "print(f'{type(km) = }')\n",
    "print(f'{km.dtype = }')"
   ]
  },
  {
   "cell_type": "markdown",
   "metadata": {},
   "source": [
    "## loadtxt(file.txt, dtype=float)<a class=\"anchor\" id=\"loadtxt\"></a>"
   ]
  },
  {
   "cell_type": "code",
   "execution_count": null,
   "metadata": {},
   "outputs": [],
   "source": [
    "import numpy as np\n",
    "\n",
    "km = np.loadtxt('carros-km.txt')\n",
    "km"
   ]
  },
  {
   "cell_type": "code",
   "execution_count": null,
   "metadata": {},
   "outputs": [],
   "source": [
    "anos = np.loadtxt('carros-anos.txt', dtype=int)\n",
    "anos"
   ]
  },
  {
   "cell_type": "markdown",
   "metadata": {},
   "source": [
    "## .ndim<a class=\"anchor\" id=\"ndim\"></a>\n",
    "\n",
    "Retorna numero de dimenssões do array."
   ]
  },
  {
   "cell_type": "code",
   "execution_count": null,
   "metadata": {},
   "outputs": [],
   "source": [
    "from numpy import array\n",
    "\n",
    "km = array([44410., 5712., 37123., 0., 25757.])\n",
    "anos = array([2003, 1991, 1990, 2019, 2006])\n",
    "dados = array([km, anos])\n",
    "\n",
    "print(f'{dados.ndim = }')"
   ]
  },
  {
   "cell_type": "markdown",
   "metadata": {},
   "source": [
    "\n",
    "## reshape(shape[, order])<a class=\"anchor\" id=\"reshape\"></a>\n",
    "\n",
    "Retorna o array com os mesmos dados com uma nova forma"
   ]
  },
  {
   "cell_type": "code",
   "execution_count": null,
   "metadata": {},
   "outputs": [],
   "source": [
    "from numpy import arange\n",
    "\n",
    "contador = arange(10)\n",
    "print(f'{contador = }')\n",
    "\n",
    "# Transformando em 5 linhas e 2 colunas com indexação de C (linguagem C)\n",
    "c = contador.reshape((5, 2), order='C') # order='C' é default, não precisa colocar\n",
    "print(f'c\\n{c}')\n",
    "\n",
    "# Transformando em 5 linhas e 2 colunas com indexação de F (Fortran)\n",
    "f = contador.reshape((5, 2), order='F')\n",
    "print(f'f\\n{f}')"
   ]
  },
  {
   "cell_type": "markdown",
   "metadata": {},
   "source": [
    "\n",
    "\n",
    "## resize(newshape[, refcheck])<a class=\"anchor\" id=\"resize\"></a>\n",
    "\n",
    "Altera forma e tamanho do array\n"
   ]
  },
  {
   "cell_type": "code",
   "execution_count": null,
   "metadata": {},
   "outputs": [],
   "source": [
    "from numpy import array\n",
    "\n",
    "km = array([44410., 5712., 37123., 0., 25757.])\n",
    "anos = array([2003, 1991, 1990, 2019, 2006])\n",
    "dados = array([km, anos])\n",
    "\n",
    "dados_new = dados\n",
    "\n",
    "# Adicionando uma nova linha (irá preenche-la com 0)\n",
    "dados_new.resize((3, 5))\n",
    "print(f'dados_new.resize((3, 5))\\n{dados_new}')\n",
    "\n",
    "# Gera um erro pois os dados são referenciados (dados_new = dados)\n",
    "# Ou tiramos a referencia fazendo --> dados_new = dados.copy()\n",
    "# Ou adicionamos o atributo refcheck=False --> dados_new.resize((3, 5))"
   ]
  },
  {
   "cell_type": "code",
   "execution_count": null,
   "metadata": {},
   "outputs": [],
   "source": [
    "# Ou tiramos a referencia fazendo --> dados_new = dados.copy()\n",
    "dados_new = dados.copy()\n",
    "\n",
    "# Adicionando uma nova linha (irá preenche-la com 0)\n",
    "dados_new.resize((3, 5))\n",
    "print(f'dados_new.resize((3, 5))\\n{dados_new}')"
   ]
  },
  {
   "cell_type": "code",
   "execution_count": null,
   "metadata": {},
   "outputs": [],
   "source": [
    "# Ou adicionamos o atributo refcheck=False --> dados_new.resize((3, 5))\n",
    "\n",
    "dados_new = dados\n",
    "\n",
    "# Adicionando uma nova linha (irá preenche-la com 0)\n",
    "dados_new.resize((3, 5), refcheck=False)\n",
    "print(f'dados_new.resize((3, 5))\\n{dados_new}')\n",
    "\n",
    "# Mas veja que dados também foi modificado!!!\n",
    "dados"
   ]
  },
  {
   "cell_type": "markdown",
   "metadata": {},
   "source": [
    "## .shape<a class=\"anchor\" id=\"shape\"></a>"
   ]
  },
  {
   "cell_type": "code",
   "execution_count": null,
   "metadata": {},
   "outputs": [],
   "source": [
    "from numpy import array\n",
    "\n",
    "km = array([44410., 5712., 37123., 0., 25757.])\n",
    "\n",
    "print(f'{km.shape = }')\n",
    "\n",
    "anos = array([2003, 1991, 1990, 2019, 2006])\n",
    "\n",
    "dados = array([km, anos])\n",
    "\n",
    "print(f'{dados.shape = }')\n"
   ]
  },
  {
   "cell_type": "markdown",
   "metadata": {},
   "source": [
    "## .size<a class=\"anchor\" id=\"size\"></a>\n",
    "\n",
    "Retorna numero de elementos do array."
   ]
  },
  {
   "cell_type": "code",
   "execution_count": null,
   "metadata": {},
   "outputs": [],
   "source": [
    "from numpy import array\n",
    "\n",
    "km = array([44410., 5712., 37123., 0., 25757.])\n",
    "anos = array([2003, 1991, 1990, 2019, 2006])\n",
    "dados = array([km, anos])\n",
    "\n",
    "print(f'{dados.size = }')"
   ]
  },
  {
   "cell_type": "markdown",
   "metadata": {},
   "source": [
    "## .T | transpose()<a class=\"anchor\" id=\"t\"></a>\n",
    "\n",
    "Retorna o transposto, transforma linhas em colunas e vice versa."
   ]
  },
  {
   "cell_type": "code",
   "execution_count": null,
   "metadata": {},
   "outputs": [],
   "source": [
    "from numpy import array\n",
    "\n",
    "km = array([44410., 5712., 37123., 0., 25757.])\n",
    "anos = array([2003, 1991, 1990, 2019, 2006])\n",
    "dados = array([km, anos])\n",
    "\n",
    "print(f'{dados = }')\n",
    "print(f'{dados.T = }')\n",
    "print(f'{dados.transpose() = }')"
   ]
  },
  {
   "cell_type": "markdown",
   "metadata": {},
   "source": [
    "## tolist()<a class=\"anchor\" id=\"tolist\"></a>\n",
    "\n",
    "Retorna o array com uma lista python."
   ]
  },
  {
   "cell_type": "code",
   "execution_count": null,
   "metadata": {},
   "outputs": [],
   "source": [
    "from numpy import array\n",
    "\n",
    "km = array([44410., 5712., 37123., 0., 25757.])\n",
    "anos = array([2003, 1991, 1990, 2019, 2006])\n",
    "dados = array([km, anos])\n",
    "\n",
    "lista = dados.tolist()\n",
    "print(f'{lista = }')\n",
    "print(f'{type(lista) = }')"
   ]
  },
  {
   "cell_type": "markdown",
   "metadata": {},
   "source": [
    "# Trabalhando com Numpy<a class=\"anchor\" id=\"Trabalhando-com-Numpy\"></a>"
   ]
  },
  {
   "cell_type": "markdown",
   "metadata": {},
   "source": [
    "## Desempenho Numpy vs lista Python<a class=\"anchor\" id=\"Desempenho-Numpy-vs-lista-Python\"></a>"
   ]
  },
  {
   "cell_type": "code",
   "execution_count": null,
   "metadata": {},
   "outputs": [],
   "source": [
    "from numpy import arange\n",
    "\n",
    "np_array = arange(1000000)\n",
    "py_list = list(range(1000000))\n",
    "\n",
    "%time for _ in range(100): np_array *=2\n",
    "\n",
    "%time for _ in range(100): py_list = [x * 2 for x in py_list]"
   ]
  },
  {
   "cell_type": "markdown",
   "metadata": {},
   "source": [
    "## Operações com Numpy<a class=\"anchor\" id=\"Operacoes_com_Numpy\"></a>"
   ]
  },
  {
   "cell_type": "markdown",
   "metadata": {},
   "source": [
    "### Operações entre array Numpy e constantes<a class=\"anchor\" id=\"array_Numpy_e_constantes\"></a>"
   ]
  },
  {
   "cell_type": "code",
   "execution_count": null,
   "metadata": {},
   "outputs": [],
   "source": [
    "from numpy import array\n",
    "\n",
    "# .Lista com km e anos de veiculos (ambas tem o mesmo tamanho!)\n",
    "\n",
    "km = [44410., 5712., 37123., 0., 25757.]\n",
    "anos = [2003, 1991, 1990, 2019, 2006]\n",
    "\n",
    "# .veja que a lista não suporta a operação\n",
    "idade = 2019 - anos"
   ]
  },
  {
   "cell_type": "code",
   "execution_count": null,
   "metadata": {},
   "outputs": [],
   "source": [
    "km = array([44410., 5712., 37123., 0., 25757.])\n",
    "anos = array([2003, 1991, 1990, 2019, 2006])\n",
    "\n",
    "# .veja que array numpy suporta a operação\n",
    "idade = 2019 - anos\n",
    "idade"
   ]
  },
  {
   "cell_type": "markdown",
   "metadata": {},
   "source": [
    "### Operações entre arrays Numpy<a class=\"anchor\" id=\"operacoes_entre_arrays_Numpy\"></a>"
   ]
  },
  {
   "cell_type": "code",
   "execution_count": null,
   "metadata": {},
   "outputs": [],
   "source": [
    "from numpy import array\n",
    "\n",
    "km = array([44410., 5712., 37123., 0., 25757.])\n",
    "anos = array([2003, 1991, 1990, 2019, 2006])\n",
    "idade = 2019 - anos\n",
    "\n",
    "km_media = km / idade\n",
    "\n",
    "km_media"
   ]
  },
  {
   "cell_type": "markdown",
   "metadata": {},
   "source": [
    "### Operações entre arrays Numpy de duas dimensões<a class=\"anchor\" id=\"operacoes_entre_arrays_Numpy_duas_dimencoes\"></a>\n",
    "\n",
    "![array_duas_dimensões](array_duas_dimencoes.png)"
   ]
  },
  {
   "cell_type": "code",
   "execution_count": null,
   "metadata": {},
   "outputs": [],
   "source": [
    "from numpy import array\n",
    "\n",
    "km = array([44410., 5712., 37123., 0., 25757.])\n",
    "anos = array([2003, 1991, 1990, 2019, 2006])\n",
    "\n",
    "dados = array([km, anos])\n",
    "# .Array de duas linhas e cinco colunas\n",
    "print(dados)\n",
    "\n",
    "print(f'\\n{dados.shape = }')"
   ]
  },
  {
   "cell_type": "code",
   "execution_count": null,
   "metadata": {},
   "outputs": [],
   "source": [
    "# .Para acessar os arrays fazemos slice como em listas\n",
    "print(f'\\n{dados[0] = }')\n",
    "print(f'\\n{dados[1] = }')\n",
    "\n",
    "km_media = dados[0] / (2021 - dados[1])\n",
    "km_media"
   ]
  },
  {
   "cell_type": "markdown",
   "metadata": {},
   "source": [
    "## Seleção/Fatiamento com Numpy<a class=\"anchor\" id=\"Selecao_com_Numpy\"></a>"
   ]
  },
  {
   "cell_type": "code",
   "execution_count": null,
   "metadata": {},
   "outputs": [],
   "source": [
    "from numpy import array\n",
    "\n",
    "km = array([44410., 5712., 37123., 0., 25757.])\n",
    "anos = array([2003, 1991, 1990, 2019, 2006])\n",
    "\n",
    "dados = array([km, anos])\n",
    "\n",
    "# .Array de duas linhas e cinco colunas\n",
    "print(dados)\n",
    "\n",
    "# Podemos selecionar por [linha, coluna] ou [linha][coluna]\n",
    "print(f'\\n{dados[0, 0] = }')\n",
    "print(f'\\n{dados[0][0] = }')\n",
    "print(f'\\n{dados[1][4] = }')\n",
    "print(f'\\n{dados[1] = }')\n",
    "print(f'\\n{dados[0] = }')"
   ]
  },
  {
   "cell_type": "code",
   "execution_count": null,
   "metadata": {},
   "outputs": [],
   "source": [
    "from numpy import arange\n",
    "\n",
    "# . Fatiamento de arrays\n",
    "\n",
    "contador = arange(10)\n",
    "print(f'{contador = }')\n",
    "print(f'{contador[1:5] = }')\n",
    "print(f'{contador[1:8:2] = }')\n",
    "print(f'{contador[::2] = }')\n",
    "print(f'{contador[:10] = }')\n",
    "print(f'{contador[5:] = }')\n",
    "print(f'{contador[-1:-3] = }')\n"
   ]
  },
  {
   "cell_type": "code",
   "execution_count": null,
   "metadata": {},
   "outputs": [],
   "source": [
    "from numpy import array\n",
    "\n",
    "# .Fatiando arrays multidimensionais (Podemos fazer seleção por [linha, coluna])\n",
    "\n",
    "km = array([44410., 5712., 37123., 0., 25757.])\n",
    "anos = array([2003, 1991, 1990, 2019, 2006])\n",
    "\n",
    "dados = array([km, anos])\n",
    "\n",
    "\n",
    "print(f'{dados = }\\n')\n",
    "# Linha 0 coluna de 0 a 3\n",
    "print(f'{dados[0, 0:3] = }')\n",
    "# Linha 0 e 1 coluna de 0 a 3\n",
    "dados2 = dados[0:3, 0:3]\n",
    "print(f'\\ndados[0:3, 0:3]\\n{dados[0:3, 0:3]}')\n",
    "\n",
    "print(f'\\n{dados2[1,2] = }')"
   ]
  },
  {
   "cell_type": "markdown",
   "metadata": {},
   "source": [
    "\n",
    "## Indexação com array booleano no Numpy<a class=\"anchor\" id=\"indexacao_bool_com_Numpy\"></a>"
   ]
  },
  {
   "cell_type": "code",
   "execution_count": null,
   "metadata": {},
   "outputs": [],
   "source": [
    "from numpy import arange\n",
    "\n",
    "contador = arange(10)\n",
    "print(f'{contador = }')\n",
    "\n",
    "contador_maior_5 = contador > 5\n",
    "print(f'\\ncontador_maior_5\\n{contador_maior_5}')\n",
    "\n",
    "contador_maior_5 = contador[contador > 5]\n",
    "print(f'\\ncontador_maior_5\\n{contador_maior_5}')"
   ]
  },
  {
   "cell_type": "code",
   "execution_count": null,
   "metadata": {},
   "outputs": [],
   "source": [
    "from numpy import array\n",
    "\n",
    "km = array([44410., 5712., 37123., 0., 25757.])\n",
    "anos = array([2003, 1991, 1990, 2019, 2006])\n",
    "\n",
    "dados = array([km, anos])\n",
    "\n",
    "# Pegar os valores de km e anos dos veículos com ano maior que 2000\n",
    "print(f'\\ndados\\n{dados}')\n",
    "\n",
    "# dados[:,] Selecionando as duas linhas. , dados[1] > 2000 Selecionando a colunas que linha 2 maior que 2000\n",
    "print(f'\\ndados[:, dados[1] > 2000]\\n{dados[:, dados[1] > 2000]}')"
   ]
  },
  {
   "cell_type": "markdown",
   "metadata": {},
   "source": [
    "\n",
    "## Estatísticas no Numpy<a class=\"anchor\" id=\"estatistica_Numpy\"></a>"
   ]
  },
  {
   "cell_type": "code",
   "execution_count": null,
   "metadata": {},
   "outputs": [],
   "source": [
    "from numpy import loadtxt, column_stack, mean, std, sum\n",
    "\n",
    "# pegando dados\n",
    "anos = loadtxt(fname='carros-anos.txt', dtype=int)\n",
    "km = loadtxt(fname='carros-km.txt')\n",
    "valor = loadtxt(fname='carros-valor.txt')"
   ]
  },
  {
   "cell_type": "code",
   "execution_count": null,
   "metadata": {},
   "outputs": [],
   "source": [
    "# Verificando shape\n",
    "print(f'{anos.shape = }\\n{km.shape = }\\n{valor.shape = }')"
   ]
  },
  {
   "cell_type": "code",
   "execution_count": null,
   "metadata": {},
   "outputs": [],
   "source": [
    "# transformando em um único array\n",
    "dataset = column_stack((anos, km, valor))\n",
    "dataset.shape"
   ]
  },
  {
   "cell_type": "code",
   "execution_count": null,
   "metadata": {},
   "outputs": [],
   "source": [
    "# verificando media de todas as colunas\n",
    "media_todas_colunas = mean(dataset, axis=0) # axis=0 para linhas, axis=1 para colunas\n",
    "print(f'{media_todas_colunas = }')\n",
    "\n",
    "# verificando media individual por coluna\n",
    "media_km = mean(dataset[:, 1])\n",
    "print(f'{media_km = }')\n",
    "media_valor = mean(dataset[:, 2])\n",
    "print(f'{media_valor = }')"
   ]
  },
  {
   "cell_type": "code",
   "execution_count": null,
   "metadata": {},
   "outputs": [],
   "source": [
    "# verificando desvio padrão de todas as colunas\n",
    "std_todas_colunas = std(dataset, axis=0) # axis=0 para linhas, axis=1 para colunas\n",
    "print(f'{std_todas_colunas = }')\n",
    "\n",
    "# verificando desvio padrão individual por coluna\n",
    "std_km = std(dataset[:, 1])\n",
    "print(f'{std_km = }')\n",
    "std_valor = std(dataset[:, 2])\n",
    "print(f'{std_valor = }')"
   ]
  },
  {
   "cell_type": "code",
   "execution_count": null,
   "metadata": {},
   "outputs": [],
   "source": [
    "# soma de todas as colunas\n",
    "soma_todas_colunas = dataset.sum(axis=0)\n",
    "soma_todas_colunas2 = sum(dataset, axis=0)\n",
    "print(f'{soma_todas_colunas = }\\n{soma_todas_colunas2 = }')\n",
    "\n",
    "soma_km = dataset[:, 1].sum()\n",
    "soma_km2 = sum(dataset[:, 1])\n",
    "print(f'{soma_km = }\\n{soma_km2 = }')\n"
   ]
  },
  {
   "cell_type": "markdown",
   "metadata": {},
   "source": [
    "# Soluções com Numpy<a class=\"anchor\" id=\"Solucoes-com-Numpy\"></a>"
   ]
  },
  {
   "cell_type": "markdown",
   "metadata": {},
   "source": [
    "\n",
    "## Adicionando uma nova linha a um array Numpy<a class=\"anchor\" id=\"adicionando_nova_linha_a_array_Numpy\"></a>\n",
    "\n",
    "Temos um array de duas linhas, sendo:\n",
    "* km dos carros\n",
    "* ano dos carros\n",
    "\n",
    "Queremos colocar uma linha com km_média e transforma-la para o formato de colunas."
   ]
  },
  {
   "cell_type": "code",
   "execution_count": null,
   "metadata": {},
   "outputs": [],
   "source": [
    "from numpy import array\n",
    "\n",
    "km = array([44410., 5712., 37123., 0., 25757.])\n",
    "anos = array([2003, 1991, 1990, 2019, 2006])\n",
    "\n",
    "dados = array([km, anos])\n",
    "dados"
   ]
  },
  {
   "cell_type": "code",
   "execution_count": null,
   "metadata": {},
   "outputs": [],
   "source": [
    "# Adicionando linha\n",
    "dados.resize((3, 5), refcheck=False)\n",
    "dados"
   ]
  },
  {
   "cell_type": "code",
   "execution_count": null,
   "metadata": {},
   "outputs": [],
   "source": [
    "# Preenchendo linha de velocidade média\n",
    "dados[2] = dados[0] / (2021 - dados[1])\n",
    "dados"
   ]
  },
  {
   "cell_type": "code",
   "execution_count": null,
   "metadata": {},
   "outputs": [],
   "source": [
    "# Transformando em colunas\n",
    "dados.T"
   ]
  }
 ],
 "metadata": {
  "interpreter": {
   "hash": "325cb660cce599eef17833f9bb0afcb0e3dbe3e8605c570c8e00eb36d04c5df3"
  },
  "kernelspec": {
   "display_name": "Python 3.9.5 64-bit ('venv': venv)",
   "language": "python",
   "name": "python3"
  },
  "language_info": {
   "codemirror_mode": {
    "name": "ipython",
    "version": 3
   },
   "file_extension": ".py",
   "mimetype": "text/x-python",
   "name": "python",
   "nbconvert_exporter": "python",
   "pygments_lexer": "ipython3",
   "version": "3.9.5"
  },
  "orig_nbformat": 4
 },
 "nbformat": 4,
 "nbformat_minor": 2
}
