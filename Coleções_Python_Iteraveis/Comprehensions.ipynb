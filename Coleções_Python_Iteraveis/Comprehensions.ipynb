{
 "cells": [
  {
   "cell_type": "markdown",
   "metadata": {},
   "source": [
    "# Lists Comprehensions\n",
    "\n",
    "List comprehensions (abrangências de lista) são um dos recursos mais amados da linguagem Python. \n",
    "Elas permitem que você componha uma nova lista de modo conciso, filtrando os elementos de uma coleção, transformando os elementos ao passar o filtro, com uma expressão concisa. A condição de filtro pode ser omitida, restando somente a expressão."
   ]
  },
  {
   "cell_type": "markdown",
   "metadata": {},
   "source": [
    "## Sintaxe \n",
    "A sintaxe geral de compreensão de lista é a seguinte. Consiste em três partes: iteração, transformação e filtragem.\n",
    "\n",
    "![Sintax List Comprehensions](list-comprehension-syntax.jpg)\n",
    "\n",
    "* **Iteração**: esta é a primeira parte executada em uma compreensão de lista que itera por todos os elementos do iterável. \n",
    "* **Transformação**: como o nome diz, a transformação será aplicada a cada elemento do iterável. No exemplo acima, estamos elevando ao quadrado cada elemento do iterável.\n",
    "* **Filtro (opcional)**: é opcional e filtra alguns dos elementos com base nas condições. O exemplo acima percorre todos os elementos de 1 a 10, filtra os números ímpares e considera apenas os números positivos antes de aplicar a transformação."
   ]
  },
  {
   "cell_type": "markdown",
   "metadata": {},
   "source": [
    "# Lists Comprehensions simples _**SEM**_ filtro \n",
    "\n",
    "## Converte todas as strings da lista em maiúsculas."
   ]
  },
  {
   "cell_type": "code",
   "execution_count": 8,
   "metadata": {},
   "outputs": [
    {
     "name": "stdout",
     "output_type": "stream",
     "text": [
      "['MAÇÃ', 'BANANA', 'LARANJA', 'MELANCIA']\n"
     ]
    }
   ],
   "source": [
    "# Com for\n",
    "frutas = [\"maçã\", \"banana\", \"laranja\", \"melancia\"]\n",
    "lista = []\n",
    "\n",
    "for fruta in frutas:\n",
    "    lista.append(fruta.upper())\n",
    "\n",
    "print(lista)"
   ]
  },
  {
   "cell_type": "code",
   "execution_count": 9,
   "metadata": {},
   "outputs": [
    {
     "name": "stdout",
     "output_type": "stream",
     "text": [
      "['MAÇÃ', 'BANANA', 'LARANJA', 'MELANCIA']\n"
     ]
    }
   ],
   "source": [
    "# Com list comprehensions\n",
    "frutas = [\"maçã\", \"banana\", \"laranja\", \"melancia\"]\n",
    "lista = []\n",
    "\n",
    "lista = [fruta.upper() for fruta in frutas]\n",
    "\n",
    "print(lista)"
   ]
  },
  {
   "cell_type": "code",
   "execution_count": 10,
   "metadata": {},
   "outputs": [
    {
     "name": "stdout",
     "output_type": "stream",
     "text": [
      "[1, 9, 16, 25, 49, 64]\n"
     ]
    }
   ],
   "source": [
    "inteiros = [1,3,4,5,7,8]\n",
    "quadrados = [(n * n) for n in inteiros] # potencia de n para cada n na lista inteiros\n",
    "print(quadrados)"
   ]
  },
  {
   "cell_type": "code",
   "execution_count": 11,
   "metadata": {},
   "outputs": [
    {
     "name": "stdout",
     "output_type": "stream",
     "text": [
      "[32.0, 50.0, 68.18, 94.1]\n"
     ]
    }
   ],
   "source": [
    "# Converter Celsius para Fahrenheit\n",
    "celsius = [0,10,20.1,34.5]\n",
    "fahrenheit = [ ((float(9)/5)*temp + 32) for temp in celsius ]\n",
    "print(fahrenheit)"
   ]
  },
  {
   "cell_type": "markdown",
   "metadata": {},
   "source": [
    "# Lists Comprehensions simples _**COM**_ filtro _**IF**_\n",
    "\n",
    "Observe que a instrução if vem após o loop. Em geral, se a condição é usada para filtragem."
   ]
  },
  {
   "cell_type": "code",
   "execution_count": 14,
   "metadata": {},
   "outputs": [
    {
     "name": "stdout",
     "output_type": "stream",
     "text": [
      "[4, 8]\n"
     ]
    }
   ],
   "source": [
    "# Com for - filtrando números pares\n",
    "inteiros = [1,3,4,5,7,8,9]\n",
    "pares = []\n",
    "\n",
    "for numero in inteiros:\n",
    "    if numero % 2 == 0:\n",
    "        pares.append(numero)\n",
    "        \n",
    "print(pares)"
   ]
  },
  {
   "cell_type": "code",
   "execution_count": 15,
   "metadata": {},
   "outputs": [
    {
     "name": "stdout",
     "output_type": "stream",
     "text": [
      "[4, 8]\n"
     ]
    }
   ],
   "source": [
    "# Com list comprehensions - filtrando números pares\n",
    "inteiros = [1,3,4,5,7,8,9]\n",
    "pares = []\n",
    "\n",
    "pares = [ numero for numero in inteiros if numero % 2 == 0]\n",
    "\n",
    "print(pares)"
   ]
  },
  {
   "cell_type": "code",
   "execution_count": 1,
   "metadata": {},
   "outputs": [
    {
     "data": {
      "text/plain": [
       "'Main -> Survey -> Livio'"
      ]
     },
     "execution_count": 1,
     "metadata": {},
     "output_type": "execute_result"
    }
   ],
   "source": [
    "# Criando uma string de uma lista\n",
    "\n",
    "lista = ['Main', 'Survey', 'Livio']\n",
    "\n",
    "t = ''\n",
    "texto = t.join([f' -> {string}' if lista.index(string) > 0 else string for string in lista])\n",
    "\n",
    "texto"
   ]
  },
  {
   "cell_type": "code",
   "execution_count": null,
   "metadata": {},
   "outputs": [],
   "source": [
    "# Varrendo uma lista de dicionários e retornando um total de uma key\n",
    "lista = [{'investor': 'Vreeland', 'expense': 'Expense', 'loss': 'Common Expense', 'date': '2021/08/25', 'categoria': 'Main -> Septic tank permit', 'parcial_value': '10.00', 'saldo': 90.0, \n",
    "'label1': 'Partial', 'label2': 'Balance', 'label3': 'Date'}, {'investor': 'Vreeland', 'expense': 'Expense', \n",
    "'loss': 'Common Expense', 'date': '2021/08/25', 'categoria': 'Main -> Energy cal.', 'parcial_value': '9.00', 'saldo': 81.0, 'label1': 'Partial', 'label2': 'Balance', 'label3': 'Date'}, {'investor': 'Vreeland', 'expense': 'Expense', 'loss': 'Common Expense', 'date': '2021/08/25', 'categoria': 'Main -> Energy cal.', 'parcial_value': '81.00', 'saldo': 0.0, 'label1': 'Partial', 'label2': 'Balance', 'label3': 'Date'}]\n",
    "\n",
    "total = sum([float(x[\"parcial_value\"]) for x in lista])\n",
    "total"
   ]
  },
  {
   "cell_type": "markdown",
   "metadata": {},
   "source": [
    "## Lists Comprehensions simples _**COM**_ filtro _**IF - ELSE**_\n",
    "\n",
    "Quando o if-else é usado com a compreensão de lista, a sintaxe é um pouco diferente em comparação com a compreensão apenas com a instrução if. O exemplo a seguir calcula os números pares quadrados e o cubo de números ímpares entre 1 e 10 usando uma instrução if-else."
   ]
  },
  {
   "cell_type": "code",
   "execution_count": 10,
   "metadata": {},
   "outputs": [
    {
     "name": "stdout",
     "output_type": "stream",
     "text": [
      "[1, 4, 27, 16, 125, 36, 343, 64, 729, 100]\n"
     ]
    }
   ],
   "source": [
    "lista = [i**2 if i%2==0 else i**3 for i in range(1,11)]\n",
    "\n",
    "print(lista)"
   ]
  },
  {
   "cell_type": "markdown",
   "metadata": {},
   "source": [
    "# List Comprehensions _**ANINHADAS**_\n",
    "\n",
    "É possível escrever compreensões de lista aninhada, o que significa que você pode incluir uma compreensão de lista dentro de outra. Um dos usos das compreensões de lista aninhada é que elas podem ser usadas para criar matrizes n-dimensionais.\n",
    "\n",
    "Metodo para entender List Comprehensions _**ANINHADAS**_:\n",
    "* Crie o for:\n",
    "    ```\n",
    "    for i in range(2):\n",
    "        for j in range(5):\n",
    "            i + j\n",
    "    ```\n",
    "> Crie a compreensão de lista.\n",
    "* Pegue o resultado i + j e adicione a lista.\n",
    "    ```\n",
    "    lista = [i + j]\n",
    "    ```\t\n",
    "* Pegue o primeiro for e adicione a lista.\n",
    "    ```\n",
    "    lista = [i + j for i in range(2)]\n",
    "    ```\n",
    "* Pegue o segundo for e adicione a lista.\n",
    "    ```\n",
    "    lista = [i + j for i in range(2) for j in range(5)]\n",
    "    ```\n",
    "Esta pronta a list comprehension aninhada, o resultado é:\n",
    "    ```\n",
    "    [0, 1, 2, 3, 4, 1, 2, 3, 4, 5]\n",
    "    ```"
   ]
  },
  {
   "cell_type": "markdown",
   "metadata": {},
   "source": [
    "### Criar uma matriz 5 × 5 usando compreensões de listas aninhadas."
   ]
  },
  {
   "cell_type": "code",
   "execution_count": 2,
   "metadata": {},
   "outputs": [
    {
     "name": "stdout",
     "output_type": "stream",
     "text": [
      "[[0, 0, 0, 0, 0], [0, 1, 2, 3, 4], [0, 2, 4, 6, 8], [0, 3, 6, 9, 12], [0, 4, 8, 12, 16]]\n"
     ]
    }
   ],
   "source": [
    "matriz = [[i*j for j in range(5)] for i in range(5)]\n",
    "\n",
    "print(matriz)"
   ]
  },
  {
   "cell_type": "markdown",
   "metadata": {},
   "source": [
    "# List Comprehensions _**ANINHADAS**_ com LOOPs\n",
    "\n",
    "Também é possível incluir vários loops em compreensões de lista. Você pode usar quantos loops quiser. Mas, como prática recomendada, você deve limitar a profundidade a dois para não perder a legibilidade. O exemplo a seguir usa dois loops for. "
   ]
  },
  {
   "cell_type": "code",
   "execution_count": 1,
   "metadata": {},
   "outputs": [
    {
     "name": "stdout",
     "output_type": "stream",
     "text": [
      "[0, 1, 2, 3, 4, 1, 2, 3, 4, 5]\n"
     ]
    }
   ],
   "source": [
    "matriz = [i+j for i in range(2) for j in range(5)]\n",
    "\n",
    "print(matriz)"
   ]
  },
  {
   "cell_type": "code",
   "execution_count": 6,
   "metadata": {},
   "outputs": [
    {
     "name": "stdout",
     "output_type": "stream",
     "text": [
      "[1, 2, 3, 4, 5, 6]\n"
     ]
    }
   ],
   "source": [
    "# Um dos usos dos loops aninhados é vetorizar a matriz (achatando a matriz). \n",
    "# No exemplo abaixo, my_matrix é uma matriz 2 × 2. Usando loops aninhados, \n",
    "# podemos criar uma versão vetorial.\n",
    "minha_matriz = [[1, 2, 3], [4, 5, 6]]\n",
    "\n",
    "print([valor for linha in minha_matriz for valor in linha] )"
   ]
  },
  {
   "cell_type": "markdown",
   "metadata": {},
   "source": [
    "# List Comprehensions _**MULTILINHA**_\n",
    "Você também pode escrever compreensões de lista multilinhas e são preferidas quando você não consegue encaixar todas as instruções em uma linha. Eles apenas aumentam a legibilidade e não oferecem nenhum benefício adicional."
   ]
  },
  {
   "cell_type": "code",
   "execution_count": 7,
   "metadata": {},
   "outputs": [
    {
     "name": "stdout",
     "output_type": "stream",
     "text": [
      "[(0, 0, 0), (0, 0, 1), (0, 1, 0), (0, 1, 1), (1, 0, 0), (1, 0, 1), (1, 1, 0), (1, 1, 1)]\n"
     ]
    }
   ],
   "source": [
    "lista = [(i, j, k) for i in range(2) for j in range(2) for k in range(2)] # uma única linha\n",
    "\n",
    "print(lista)"
   ]
  },
  {
   "cell_type": "code",
   "execution_count": 9,
   "metadata": {},
   "outputs": [
    {
     "name": "stdout",
     "output_type": "stream",
     "text": [
      "[(0, 0, 0), (0, 0, 1), (0, 1, 0), (0, 1, 1), (1, 0, 0), (1, 0, 1), (1, 1, 0), (1, 1, 1)]\n"
     ]
    }
   ],
   "source": [
    "lista = [(i, j, k) \n",
    "         for i in range(2) \n",
    "         for j in range(2) \n",
    "         for k in range(2)\n",
    "         ] # multi linha\n",
    "\n",
    "print(lista)"
   ]
  },
  {
   "cell_type": "markdown",
   "metadata": {},
   "source": [
    "# List Comprehensions Vs map( )\n",
    "\n",
    "A compreensão de lista pode ser uma alternativa à função de map( ). E também é mais rápida que a mesma."
   ]
  },
  {
   "cell_type": "code",
   "execution_count": 11,
   "metadata": {},
   "outputs": [
    {
     "name": "stdout",
     "output_type": "stream",
     "text": [
      "[1, 4, 9, 16, 25, 36, 49, 64, 81, 100]\n",
      "[1, 4, 9, 16, 25, 36, 49, 64, 81, 100]\n"
     ]
    }
   ],
   "source": [
    "# Map function\n",
    "map_ex = list(map(lambda x: x**2, range(1,11)))\n",
    "print(map_ex)\n",
    "\n",
    "# List comprehension\n",
    "list_ex = [num**2 for num in range(1,11)]\n",
    "print(list_ex)"
   ]
  },
  {
   "cell_type": "code",
   "execution_count": 15,
   "metadata": {},
   "outputs": [
    {
     "name": "stdout",
     "output_type": "stream",
     "text": [
      "map_ex=33.891265700000076\n",
      "list_ex=23.60165380000035\n"
     ]
    }
   ],
   "source": [
    "from timeit import timeit\n",
    "\n",
    "# Time taken for map function\n",
    "map_ex = timeit(\"list(map(lambda x: x**2, range(1,11)))\", number=10_000_000)\n",
    "print(f'{map_ex = }')\n",
    "\n",
    "# Time taken for list comprehension\n",
    "list_ex = timeit(\"[num**2 for num in range(1,11)]\", number=10_000_000)\n",
    "print(f'{list_ex = }')"
   ]
  },
  {
   "cell_type": "markdown",
   "metadata": {},
   "source": [
    "# List Comprehensions Vs filter( )\n",
    "\n",
    "A compreensão de lista pode ser uma alternativa à função de filter( ). E também é mais rápida que a mesma."
   ]
  },
  {
   "cell_type": "code",
   "execution_count": 17,
   "metadata": {},
   "outputs": [
    {
     "name": "stdout",
     "output_type": "stream",
     "text": [
      "[2, 4, 6, 8, 10]\n",
      "[2, 4, 6, 8, 10]\n"
     ]
    }
   ],
   "source": [
    "# Filter function\n",
    "filter_ex = list(filter(lambda x: x%2==0, range(1,11)))\n",
    "print(filter_ex)\n",
    "\n",
    "# List comprehension\n",
    "list_ex = [num for num in range(1,11) if num%2==0]\n",
    "print(list_ex)"
   ]
  },
  {
   "cell_type": "code",
   "execution_count": 7,
   "metadata": {},
   "outputs": [
    {
     "name": "stdout",
     "output_type": "stream",
     "text": [
      "4\n"
     ]
    }
   ],
   "source": [
    "# Contando qty de elementos de uma lista de dicionários > 0\n",
    "\n",
    "lista = [{'value': 0.0}, {'value': 1.0}, {'value': 0.0}, {'value': 1.0}, {'value': 0.0}, {'value': 1.0}, {'value': 1.0}]\n",
    "\n",
    "qty = [num for num in lista if num['value'] > 0.0]\n",
    "\n",
    "print(len(qty))"
   ]
  },
  {
   "cell_type": "code",
   "execution_count": 34,
   "metadata": {},
   "outputs": [
    {
     "name": "stdout",
     "output_type": "stream",
     "text": [
      "filter_ex = 12.378539300000284\n",
      "list_ex = 7.8097867000001315\n"
     ]
    }
   ],
   "source": [
    "from timeit import timeit\n",
    "\n",
    "# Time taken for filter function\n",
    "filter_ex = timeit(\"list(filter(lambda x: x%2==0, range(1,11)))\", number=10_000_000)\n",
    "print(f'{filter_ex = }')\n",
    "\n",
    "# Time taken for list comprehension\n",
    "list_ex = timeit(\"[num for num in range(1,11) if num%2==0]\", number=10_000_000)\n",
    "print(f'{list_ex = }')"
   ]
  },
  {
   "cell_type": "markdown",
   "metadata": {},
   "source": [
    "# Comprehensions de conjuntos { }\n",
    "\n",
    "Podemos criar compreensões de conjuntos, mas a única diferença é que eles estão entre chaves { }. O exemplo a seguir cria uma compreensão de conjunto a partir de uma lista. Ele converte todas as strings da lista em maiúsculas e cria um conjunto (é claro, removendo as duplicatas)."
   ]
  },
  {
   "cell_type": "code",
   "execution_count": 21,
   "metadata": {},
   "outputs": [
    {
     "name": "stdout",
     "output_type": "stream",
     "text": [
      "{'.', 'PYTHON', 'COM', 'SIMPLIFIED'}\n"
     ]
    }
   ],
   "source": [
    "nomes = [\"python\", \"PYTHON\", \"simplified\", \"SIMPLIFIED\", \".\", \"com\", \"COM\"]\n",
    "\n",
    "conjunto = {nome.upper() for nome in nomes}\n",
    "\n",
    "print(conjunto)"
   ]
  },
  {
   "cell_type": "markdown",
   "metadata": {},
   "source": [
    "# Comprehensions de dicionários {key: value}\n",
    "\n",
    "As compreensões do dicionário também estão entre { } colchetes, mas seu conteúdo segue o formato chave: valor conforme o esperado. O exemplo abaixo cria uma compreensão de dicionário a partir de uma lista. Ele cria um dicionário com string como chave e comprimento da string como valor. "
   ]
  },
  {
   "cell_type": "code",
   "execution_count": 25,
   "metadata": {},
   "outputs": [
    {
     "name": "stdout",
     "output_type": "stream",
     "text": [
      "{'Python': 6, 'Simplified': 10, '.': 1, 'Com': 3}\n"
     ]
    }
   ],
   "source": [
    "nome = [\"Python\", \"Simplified\", \".\", \"Com\"]\n",
    "\n",
    "dicionario = { s: len(s) for s in nome}\n",
    "\n",
    "print(dicionario)"
   ]
  },
  {
   "cell_type": "markdown",
   "metadata": {},
   "source": [
    "# Expressões Geradoras ( )\n",
    "\n",
    "As expressões geradoras são muito semelhantes à compreensão de lista, com a diferença de que as expressões geradoras são colocadas entre parênteses ( ). Você poderia dizer que a compreensão do gerador é uma versão preguiçosa da compreensão da lista."
   ]
  },
  {
   "cell_type": "code",
   "execution_count": 36,
   "metadata": {},
   "outputs": [
    {
     "name": "stdout",
     "output_type": "stream",
     "text": [
      "<generator object <genexpr> at 0x0000023B7D765E40>\n",
      "4\n",
      "16\n",
      "36\n",
      "64\n",
      "100\n"
     ]
    }
   ],
   "source": [
    "gerador = (num**2 for num in range(1, 11) if num % 2 == 0)\n",
    "\n",
    "print(gerador)\n",
    "\n",
    "# aplicando lazy evaluetion\n",
    "print(next(gerador))\n",
    "print(next(gerador))\n",
    "print(next(gerador))\n",
    "print(next(gerador))\n",
    "print(next(gerador))"
   ]
  },
  {
   "cell_type": "code",
   "execution_count": 30,
   "metadata": {},
   "outputs": [
    {
     "name": "stdout",
     "output_type": "stream",
     "text": [
      "[4, 16, 36, 64, 100]\n"
     ]
    }
   ],
   "source": [
    "# imprimindo tudo de uma unica vez com list\n",
    "gerador = (num**2 for num in range(1, 11) if num % 2 == 0)\n",
    "print(list(gerador))"
   ]
  },
  {
   "cell_type": "markdown",
   "metadata": {},
   "source": [
    "## **Observações:**\n",
    "\n",
    "## _**Eficiência de armazenamento**_: uma compreensão de lista armazena a lista inteira na memória, enquanto um gerador produz um item por vez sob demanda. Conseqüentemente, as expressões geradoras são mais eficientes em termos de memória do que as listas. Como visto no exemplo abaixo, a mesma expressão geradora de código ocupa muito menos memória."
   ]
  },
  {
   "cell_type": "code",
   "execution_count": 33,
   "metadata": {},
   "outputs": [
    {
     "name": "stdout",
     "output_type": "stream",
     "text": [
      "85176\n",
      "112\n"
     ]
    }
   ],
   "source": [
    "from sys import getsizeof\n",
    "\n",
    "# Tamanho alocado em memória com list comprehension\n",
    "print(getsizeof([i for i in range(10000)]))\n",
    "\n",
    "# Tamanho alocado em memória com generator expression\n",
    "print(getsizeof((i for i in range(10000))))"
   ]
  },
  {
   "cell_type": "markdown",
   "metadata": {},
   "source": [
    "## **Observações:**\n",
    "\n",
    "## _**Eficiência de velocidade**_: as compreensões de listas são mais rápidas do que as expressões geradoras. O mesmo código leva 2.91 segundos para a compreensão de listas, mas 4.23 segundos para expressões geradoras."
   ]
  },
  {
   "cell_type": "code",
   "execution_count": 37,
   "metadata": {},
   "outputs": [
    {
     "name": "stdout",
     "output_type": "stream",
     "text": [
      "2.9132464000003893\n",
      "4.231144200000017\n"
     ]
    }
   ],
   "source": [
    "from timeit import timeit\n",
    "\n",
    "# Time taken para list comprehensions\n",
    "print(timeit(\"sys.getsizeof(sum([i for i in range(10000)]))\", number=10000))\n",
    "\n",
    "# Time taken para generator expression\n",
    "print(timeit(\"sys.getsizeof( sum(i for i in range(10000)) )\", number=10000))"
   ]
  },
  {
   "cell_type": "markdown",
   "metadata": {},
   "source": [
    "# Então, qual você deve considerar? listar compreensões ou expressões geradoras. Sempre há uma compensação entre memória e eficiência de velocidade, portanto, você precisa escolher com base nos requisitos. "
   ]
  }
 ],
 "metadata": {
  "interpreter": {
   "hash": "325cb660cce599eef17833f9bb0afcb0e3dbe3e8605c570c8e00eb36d04c5df3"
  },
  "kernelspec": {
   "display_name": "Python 3.9.5 64-bit ('venv': venv)",
   "name": "python3"
  },
  "language_info": {
   "codemirror_mode": {
    "name": "ipython",
    "version": 3
   },
   "file_extension": ".py",
   "mimetype": "text/x-python",
   "name": "python",
   "nbconvert_exporter": "python",
   "pygments_lexer": "ipython3",
   "version": "3.9.5"
  },
  "orig_nbformat": 4
 },
 "nbformat": 4,
 "nbformat_minor": 2
}
