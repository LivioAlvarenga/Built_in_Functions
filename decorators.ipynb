{
 "cells": [
  {
   "cell_type": "markdown",
   "metadata": {},
   "source": [
    "# Decoradores\n",
    "\n",
    "> Eduardo Mende: https://www.youtube.com/watch?v=5q-qz3GAj5U"
   ]
  },
  {
   "cell_type": "markdown",
   "metadata": {},
   "source": [
    "## EX 1: Adicionando uma função entre scripts fixos"
   ]
  },
  {
   "cell_type": "code",
   "execution_count": 9,
   "metadata": {},
   "outputs": [
    {
     "name": "stdout",
     "output_type": "stream",
     "text": [
      "Scripts ANTERIORES a função.\n",
      "\n",
      "   >>> Executei entre os scripts da def decorator()\n",
      "\n",
      "Scripts POSTERIORES a função.\n"
     ]
    }
   ],
   "source": [
    "def decorador(func):\n",
    "    # func é uma variável livre\n",
    "    def interna(*args, **kwargs):\n",
    "        print('Scripts ANTERIORES a função.')\n",
    "        \n",
    "        resultado = func(*args, **kwargs)\n",
    "        \n",
    "        print('Scripts POSTERIORES a função.')\n",
    "        return resultado\n",
    "    return interna\n",
    "\n",
    "@decorador\n",
    "def teste():\n",
    "    print('\\n   >>> Executei entre os scripts da def decorator()\\n')\n",
    "    \n",
    "teste()"
   ]
  },
  {
   "cell_type": "markdown",
   "metadata": {},
   "source": [
    "## EX 2: Validando número inteiro antes de somar"
   ]
  },
  {
   "cell_type": "code",
   "execution_count": 19,
   "metadata": {},
   "outputs": [
    {
     "name": "stdout",
     "output_type": "stream",
     "text": [
      "\n",
      "Valores não são inteiros!\n",
      "soma('x', 'y') = None\n",
      "\n",
      "Valores não são inteiros!\n",
      "soma('x', 1) = None\n",
      "\n",
      "Valores não são inteiros!\n",
      "soma(0.5, 1) = None\n",
      "soma(1, 1) = 2\n"
     ]
    }
   ],
   "source": [
    "def valida_inteiro(func):\n",
    "    def interna(*args):\n",
    "        if all(isinstance(val, int) for val in args):\n",
    "            return func(*args)\n",
    "        else:\n",
    "            print('\\nValores não são inteiros!')\n",
    "    return interna\n",
    "\n",
    "@valida_inteiro\n",
    "def soma(x, y):\n",
    "    return x + y\n",
    "\n",
    "print(f\"{soma('x', 'y') = }\")\n",
    "print(f\"{soma('x', 1) = }\")\n",
    "print(f\"{soma(0.5, 1) = }\")\n",
    "print(f\"{soma(1, 1) = }\")\n"
   ]
  },
  {
   "cell_type": "markdown",
   "metadata": {},
   "source": [
    "## EX 3: Validando type personalizado antes de somar"
   ]
  },
  {
   "cell_type": "code",
   "execution_count": 24,
   "metadata": {},
   "outputs": [
    {
     "name": "stdout",
     "output_type": "stream",
     "text": [
      "\n",
      "Valores ('x', 'y') não são do tipo <class 'int'>!\n",
      "soma('x', 'y') = None\n",
      "soma(1, 1) = 2\n",
      "====================================================================================================\n",
      "soma('x', 'y') = 'xy'\n",
      "\n",
      "Valores (1, 1) não são do tipo <class 'str'>!\n",
      "soma(1, 1) = None\n"
     ]
    }
   ],
   "source": [
    "def valida_type(type):\n",
    "    # type é uma variável livre\n",
    "    def validate(func):\n",
    "        # func é uma variável livre\n",
    "        def interna(*args):\n",
    "            if all(isinstance(val, type) for val in args):\n",
    "                return func(*args)\n",
    "            else:\n",
    "                print(f'\\nValores {args} não são do tipo {type}!')\n",
    "        return interna\n",
    "    return validate\n",
    "\n",
    "@valida_type(int)\n",
    "def soma(x, y):\n",
    "    return x + y\n",
    "\n",
    "print(f\"{soma('x', 'y') = }\")\n",
    "print(f\"{soma(1, 1) = }\")\n",
    "\n",
    "print(100*'=')\n",
    "\n",
    "@valida_type(str)\n",
    "def soma(x, y):\n",
    "    return x + y\n",
    "\n",
    "print(f\"{soma('x', 'y') = }\")\n",
    "print(f\"{soma(1, 1) = }\")"
   ]
  },
  {
   "cell_type": "markdown",
   "metadata": {},
   "source": [
    "## EX 4: Utilizando wraps (from functools import wraps)"
   ]
  },
  {
   "cell_type": "code",
   "execution_count": 26,
   "metadata": {},
   "outputs": [
    {
     "name": "stdout",
     "output_type": "stream",
     "text": [
      "soma = <function valida_type.<locals>.validate.<locals>.interna at 0x0000028A397A8CA0>\n",
      "soma.__name__ = 'interna'\n"
     ]
    }
   ],
   "source": [
    "def valida_type(type):\n",
    "    # type é uma variável livre\n",
    "    def validate(func):\n",
    "        # func é uma variável livre\n",
    "        def interna(*args):\n",
    "            if all(isinstance(val, type) for val in args):\n",
    "                return func(*args)\n",
    "            else:\n",
    "                print(f'\\nValores {args} não são do tipo {type}!')\n",
    "        return interna\n",
    "    return validate\n",
    "\n",
    "@valida_type(int)\n",
    "def soma(x, y):\n",
    "    return x + y\n",
    "\n",
    "#! Observe se darmos um __name__ 0 nome da função soma = interna do nosso decorator\n",
    "#* Podemos consertar isso utilizando from functools import wraps \n",
    "print(f\"{soma = }\")\n",
    "print(f\"{soma.__name__ = }\")"
   ]
  },
  {
   "cell_type": "code",
   "execution_count": 27,
   "metadata": {},
   "outputs": [
    {
     "name": "stdout",
     "output_type": "stream",
     "text": [
      "soma = <function soma at 0x0000028A397A8E50>\n",
      "soma.__name__ = 'soma'\n"
     ]
    }
   ],
   "source": [
    "from functools import wraps\n",
    "\n",
    "def valida_type(type):\n",
    "    # type é uma variável livre\n",
    "    def validate(func):\n",
    "        # func é uma variável livre\n",
    "        @wraps(func)\n",
    "        def interna(*args):\n",
    "            if all(isinstance(val, type) for val in args):\n",
    "                return func(*args)\n",
    "            else:\n",
    "                print(f'\\nValores {args} não são do tipo {type}!')\n",
    "        return interna\n",
    "    return validate\n",
    "\n",
    "@valida_type(int)\n",
    "def soma(x, y):\n",
    "    return x + y\n",
    "\n",
    "#! Observe se darmos um __name__ 0 nome da função soma = interna do nosso decorator\n",
    "#* Podemos consertar isso utilizando from functools import wraps\n",
    "print(f\"{soma = }\")\n",
    "print(f\"{soma.__name__ = }\")"
   ]
  }
 ],
 "metadata": {
  "interpreter": {
   "hash": "e5b38b4da38b492211ae643ed18c5d8682efbb69149a1a70510cd80b196985fd"
  },
  "kernelspec": {
   "display_name": "Python 3.9.5 64-bit ('.venv': poetry)",
   "language": "python",
   "name": "python3"
  },
  "language_info": {
   "codemirror_mode": {
    "name": "ipython",
    "version": 3
   },
   "file_extension": ".py",
   "mimetype": "text/x-python",
   "name": "python",
   "nbconvert_exporter": "python",
   "pygments_lexer": "ipython3",
   "version": "3.9.5"
  },
  "orig_nbformat": 4
 },
 "nbformat": 4,
 "nbformat_minor": 2
}
