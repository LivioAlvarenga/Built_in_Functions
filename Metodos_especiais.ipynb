{
 "metadata": {
  "language_info": {
   "codemirror_mode": {
    "name": "ipython",
    "version": 3
   },
   "file_extension": ".py",
   "mimetype": "text/x-python",
   "name": "python",
   "nbconvert_exporter": "python",
   "pygments_lexer": "ipython3",
   "version": "3.9.5"
  },
  "orig_nbformat": 4,
  "kernelspec": {
   "name": "python3",
   "display_name": "Python 3.9.5  ('venv': venv)"
  },
  "interpreter": {
   "hash": "325cb660cce599eef17833f9bb0afcb0e3dbe3e8605c570c8e00eb36d04c5df3"
  }
 },
 "nbformat": 4,
 "nbformat_minor": 2,
 "cells": [
  {
   "source": [
    "<h1><font color=#32CD32>Métodos especiais __ __</font></h1>"
   ],
   "cell_type": "markdown",
   "metadata": {}
  },
  {
   "source": [
    "<h3><font color=#00BFFF>__class__</font></h3>\n",
    "O método interno __class__ permite que possamos fazer uma referência a classe atual, permitindo o acesso a informações da mesma.\n",
    "\n",
    "Utilizando o ____class____ podemos acessar informações como nome da classe, atributo da classe ou algum método da classe."
   ],
   "cell_type": "markdown",
   "metadata": {}
  },
  {
   "cell_type": "code",
   "execution_count": 4,
   "metadata": {},
   "outputs": [
    {
     "output_type": "stream",
     "name": "stdout",
     "text": [
      "Conta\nMichael\nchamando um método\nTrue\n"
     ]
    }
   ],
   "source": [
    "class Conta():\n",
    "  nome: str = \"Michael\" # esse é um atributo da classe\n",
    "\n",
    "  def __init__(self, titular: str):\n",
    "    self.titular = titular # esse é um atributo da instância(objeto)\n",
    "\n",
    "  @classmethod\n",
    "  def metodo(cls): # esse é um método da classe\n",
    "    return \"chamando um método\"\n",
    "\n",
    "# acessando nome da classe\n",
    "conta = Conta(\"Erick\")\n",
    "print(conta.__class__.__name__)\n",
    "\n",
    "# acessando o atributo de classe 'nome'\n",
    "print(conta.__class__.nome)\n",
    "\n",
    "# acessando um método da classe\n",
    "print(conta.__class__.metodo())\n",
    "\n",
    "# Também podemos utilizar o __class__ para verificar o tipo de uma instância:\n",
    "print(conta.__class__ == Conta)"
   ]
  },
  {
   "source": [
    "<h3><font color=#DAA520>Porque usarmos __class__</font></h3>"
   ],
   "cell_type": "markdown",
   "metadata": {}
  },
  {
   "cell_type": "code",
   "execution_count": 1,
   "metadata": {},
   "outputs": [
    {
     "output_type": "stream",
     "name": "stdout",
     "text": [
      "True\nFalse\n"
     ]
    }
   ],
   "source": [
    "class Pessoa():\n",
    "    tamanho_cpf = 11\n",
    "\n",
    "    def __init__(self, cpf, nome):\n",
    "        self.cpf = cpf\n",
    "        self.nome = nome\n",
    "\n",
    "    def valida_cpf(self):\n",
    "        return True if len(self.cpf) == __class__.tamanho_cpf else False\n",
    "\n",
    "pe = Pessoa('00000000001', 'Ruby')\n",
    "print(pe.valida_cpf())\n",
    "\n",
    "pe = Pessoa('0000000000', 'Cristal')\n",
    "print(pe.valida_cpf())"
   ]
  },
  {
   "cell_type": "code",
   "execution_count": 2,
   "metadata": {},
   "outputs": [
    {
     "output_type": "stream",
     "name": "stdout",
     "text": [
      "11\n12\n11\n"
     ]
    }
   ],
   "source": [
    "'''O que acontece é que, caso não exista o atributo tamanho_cpf na instância, o Python busca o atributo na classe. Em seguida, adicionamos um atributo tamanho_cpf na instância e quando dizemos que o valor é 12, o atributo da classe não é alterado, já que são atributos diferentes, um da classe e outro só da instância.'''\n",
    "\n",
    "class Pessoa:\n",
    "    tamanho_cpf = 11\n",
    "\n",
    "p = Pessoa()\n",
    "\n",
    "print(p.tamanho_cpf)\n",
    "\n",
    "p.tamanho_cpf = 12\n",
    "\n",
    "print(p.tamanho_cpf)\n",
    "\n",
    "print(Pessoa.tamanho_cpf)"
   ]
  },
  {
   "source": [
    "<h3><font color=#00BFFF>__module__</font></h3>\n",
    "guarda o nome do modulo ao qual a classe pertence."
   ],
   "cell_type": "markdown",
   "metadata": {}
  },
  {
   "cell_type": "code",
   "execution_count": 1,
   "metadata": {},
   "outputs": [
    {
     "output_type": "stream",
     "name": "stdout",
     "text": [
      "__main__\nmath\n"
     ]
    }
   ],
   "source": [
    "from math import sqrt\n",
    "class Circulos:\n",
    "    pass\n",
    "print(Circulos.__module__) # __main__ , pois a classe Circulos foi criada no script corrente cujo __name__ é sempre __main__\n",
    "print(sqrt.__module__) # veja como não criamos a classe sqrt o modulo é de onde ela foi criada (math)"
   ]
  },
  {
   "source": [
    "<h3><font color=#00BFFF>__name__ == __main__</font></h3>\n",
    "No Python, arquivos .py são chamados de módulos. Cada módulo pode ser executado diretamente, como um programa em si, ou importado por outro módulo.\n",
    "\n",
    "Precisamos, de alguma maneira, identificar essa diferença. Para isso, temos uma variável nativa que pode nos auxiliar nisso - a __name__, que nos indica o nome do contexto em que o módulo está rodando.\n",
    "\n",
    "Resumindo, a variável __name__ representa o nome do módulo. Entretanto, quando o módulo é executado por si só como um programa, __name__ é definido para ’__main__’, diferente de quando o módulo é importado, no qual o valor fica de fato igual ao nome do módulo."
   ],
   "cell_type": "markdown",
   "metadata": {}
  },
  {
   "cell_type": "code",
   "execution_count": 5,
   "metadata": {},
   "outputs": [
    {
     "output_type": "stream",
     "name": "stdout",
     "text": [
      "__main__\n__main__\n"
     ]
    }
   ],
   "source": [
    "print(__name__)\n",
    "\n",
    "# Como estamos com arquivo Metodos_especiais.ipynb aberto o __name__ == '__main__'. É boa pratica usarmos esta logica para testarmos nosso codigo, ou seja quando o arquivo for importado o __name__ dele passara a ser chamado de Metodos_especiais e não executará o codigo indentado no if __name__ == '__main__'\n",
    "if __name__ == '__main__':\n",
    "    print(__name__)"
   ]
  },
  {
   "source": [
    "<h3><font color=#00BFFF>__repr__</font></h3>\n",
    "\n",
    "repr () imprime a representação “oficial” de um objeto (significa que usando a representação de string “oficial” podemos reconstruir o objeto). Basicamente repr mostra a linguagem  real da maquina e str mostra a linguagem para o usuário."
   ],
   "cell_type": "markdown",
   "metadata": {}
  },
  {
   "cell_type": "code",
   "execution_count": 6,
   "metadata": {},
   "outputs": [
    {
     "output_type": "stream",
     "name": "stdout",
     "text": [
      "2021-06-17 16:23:45.295182\ndatetime.datetime(2021, 6, 17, 16, 23, 45, 295182)\n[datetime.datetime(2021, 6, 17, 16, 23, 45, 295182), 'oi']\n"
     ]
    }
   ],
   "source": [
    "import datetime\n",
    "today = datetime.datetime.now()\n",
    "\n",
    "print(str(today))\n",
    "\n",
    "print(repr(today)) \n",
    "\n",
    "lista = [today, 'oi']\n",
    "# em uma lista sempre é mostrato repr\n",
    "print(lista)"
   ]
  },
  {
   "cell_type": "code",
   "execution_count": 9,
   "metadata": {},
   "outputs": [
    {
     "output_type": "stream",
     "name": "stdout",
     "text": [
      "10 + i20\nRational 10 - 20\n[Rational 10 - 20, 'oi']\n"
     ]
    }
   ],
   "source": [
    "class Complex:\n",
    "    def __init__(self, real, imag):\n",
    "       self.real = real\n",
    "       self.imag = imag\n",
    "    \n",
    "    def __str__(self):\n",
    "       return f'{self.real} + i{self.imag}' \n",
    "    \n",
    "    def __repr__(self):\n",
    "       return f'Rational {self.real} - {self.imag}' \n",
    "\n",
    "t = Complex(10, 20)\n",
    "\n",
    "print(str(t))  \n",
    "print(repr(t))\n",
    "\n",
    "lista = [t, 'oi']\n",
    "# em uma lista sempre é mostrato repr\n",
    "print(lista)"
   ]
  },
  {
   "source": [
    "<h3><font color=#00BFFF>__str__</font></h3>\n",
    "\n",
    "O método __str__()  cria um modo de exibição padrão com print() é usado para retornar uma representação de string de um objeto."
   ],
   "cell_type": "markdown",
   "metadata": {}
  },
  {
   "source": [
    "<h3><font color=#DAA520>sem __srt__ </font></h3>"
   ],
   "cell_type": "markdown",
   "metadata": {}
  },
  {
   "cell_type": "code",
   "execution_count": 7,
   "metadata": {},
   "outputs": [
    {
     "output_type": "stream",
     "name": "stdout",
     "text": [
      "Livro criado\n\n<__main__.Livro object at 0x0000012A7A985F40>\n"
     ]
    }
   ],
   "source": [
    "class Livro():\n",
    "    def __init__(self, titulo: str, autor: str, paginas: int):\n",
    "        print (\"Livro criado\\n\")\n",
    "        self.titulo = titulo\n",
    "        self.autor = autor\n",
    "        self.paginas = paginas            \n",
    "    \n",
    "    '''def __str__(self): # chama o print(), ou seja tanto faz um ou outro\n",
    "        return f'Título: {self.titulo} , autor: {self.autor}, páginas: {self.paginas}'''\n",
    "    \n",
    "livro1 = Livro(\"Os Lusíadas\", \"Luis de Camões\", 8816)\n",
    "print(livro1)"
   ]
  },
  {
   "source": [
    "<h3><font color=#DAA520>com __srt__ </font></h3>"
   ],
   "cell_type": "markdown",
   "metadata": {}
  },
  {
   "cell_type": "code",
   "execution_count": 8,
   "metadata": {},
   "outputs": [
    {
     "output_type": "stream",
     "name": "stdout",
     "text": [
      "Livro criado\n\nTítulo: Os Lusíadas , autor: Luis de Camões, páginas: 8816\n"
     ]
    }
   ],
   "source": [
    "class Livro():\n",
    "    def __init__(self, titulo: str, autor: str, paginas: int):\n",
    "        print (\"Livro criado\\n\")\n",
    "        self.titulo = titulo\n",
    "        self.autor = autor\n",
    "        self.paginas = paginas            \n",
    "    \n",
    "    def __str__(self): # chama o print(), ou seja tanto faz um ou outro\n",
    "        return f'Título: {self.titulo} , autor: {self.autor}, páginas: {self.paginas}'\n",
    "    \n",
    "livro1 = Livro(\"Os Lusíadas\", \"Luis de Camões\", 8816)\n",
    "print(livro1)"
   ]
  }
 ]
}