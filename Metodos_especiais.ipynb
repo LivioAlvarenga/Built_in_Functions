{
 "metadata": {
  "language_info": {
   "codemirror_mode": {
    "name": "ipython",
    "version": 3
   },
   "file_extension": ".py",
   "mimetype": "text/x-python",
   "name": "python",
   "nbconvert_exporter": "python",
   "pygments_lexer": "ipython3",
   "version": "3.9.5"
  },
  "orig_nbformat": 4,
  "kernelspec": {
   "name": "python3",
   "display_name": "Python 3.9.5  ('venv': venv)"
  },
  "interpreter": {
   "hash": "325cb660cce599eef17833f9bb0afcb0e3dbe3e8605c570c8e00eb36d04c5df3"
  }
 },
 "nbformat": 4,
 "nbformat_minor": 2,
 "cells": [
  {
   "source": [
    "<h1><font color=#32CD32>Métodos especiais __ __</font></h1>"
   ],
   "cell_type": "markdown",
   "metadata": {}
  },
  {
   "source": [
    "<h3><font color=#00BFFF>__module__</font></h3>\n",
    "guarda o nome do modulo ao qual a classe pertence."
   ],
   "cell_type": "markdown",
   "metadata": {}
  },
  {
   "cell_type": "code",
   "execution_count": 1,
   "metadata": {},
   "outputs": [
    {
     "output_type": "stream",
     "name": "stdout",
     "text": [
      "__main__\nmath\n"
     ]
    }
   ],
   "source": [
    "from math import sqrt\n",
    "class Circulos:\n",
    "    pass\n",
    "print(Circulos.__module__) # __main__ , pois a classe Circulos foi criada no script corrente cujo __name__ é sempre __main__\n",
    "print(sqrt.__module__) # veja como não criamos a classe sqrt o modulo é de onde ela foi criada (math)"
   ]
  },
  {
   "source": [
    "<h3><font color=#00BFFF>__name__ == __main__</font></h3>\n",
    "No Python, arquivos .py são chamados de módulos. Cada módulo pode ser executado diretamente, como um programa em si, ou importado por outro módulo.\n",
    "\n",
    "Precisamos, de alguma maneira, identificar essa diferença. Para isso, temos uma variável nativa que pode nos auxiliar nisso - a __name__, que nos indica o nome do contexto em que o módulo está rodando.\n",
    "\n",
    "Resumindo, a variável __name__ representa o nome do módulo. Entretanto, quando o módulo é executado por si só como um programa, __name__ é definido para ’__main__’, diferente de quando o módulo é importado, no qual o valor fica de fato igual ao nome do módulo."
   ],
   "cell_type": "markdown",
   "metadata": {}
  },
  {
   "cell_type": "code",
   "execution_count": 5,
   "metadata": {},
   "outputs": [
    {
     "output_type": "stream",
     "name": "stdout",
     "text": [
      "__main__\n__main__\n"
     ]
    }
   ],
   "source": [
    "print(__name__)\n",
    "\n",
    "# Como estamos com arquivo Metodos_especiais.ipynb aberto o __name__ == '__main__'. É boa pratica usarmos esta logica para testarmos nosso codigo, ou seja quando o arquivo for importado o __name__ dele passara a ser chamado de Metodos_especiais e não executará o codigo indentado no if __name__ == '__main__'\n",
    "if __name__ == '__main__':\n",
    "    print(__name__)"
   ]
  },
  {
   "source": [
    "<h3><font color=#00BFFF>__str__</font></h3>\n",
    "\n",
    "O método __str__()  cria um modo de exibição padrão com print() é usado para retornar uma representação de string de um objeto."
   ],
   "cell_type": "markdown",
   "metadata": {}
  },
  {
   "source": [
    "<h3><font color=#DAA520>sem __srt__ </font></h3>"
   ],
   "cell_type": "markdown",
   "metadata": {}
  },
  {
   "cell_type": "code",
   "execution_count": 7,
   "metadata": {},
   "outputs": [
    {
     "output_type": "stream",
     "name": "stdout",
     "text": [
      "Livro criado\n\n<__main__.Livro object at 0x0000012A7A985F40>\n"
     ]
    }
   ],
   "source": [
    "class Livro():\n",
    "    def __init__(self, titulo: str, autor: str, paginas: int):\n",
    "        print (\"Livro criado\\n\")\n",
    "        self.titulo = titulo\n",
    "        self.autor = autor\n",
    "        self.paginas = paginas            \n",
    "    \n",
    "    '''def __str__(self): # chama o print(), ou seja tanto faz um ou outro\n",
    "        return f'Título: {self.titulo} , autor: {self.autor}, páginas: {self.paginas}'''\n",
    "    \n",
    "livro1 = Livro(\"Os Lusíadas\", \"Luis de Camões\", 8816)\n",
    "print(livro1)"
   ]
  },
  {
   "source": [
    "<h3><font color=#DAA520>com __srt__ </font></h3>"
   ],
   "cell_type": "markdown",
   "metadata": {}
  },
  {
   "cell_type": "code",
   "execution_count": 8,
   "metadata": {},
   "outputs": [
    {
     "output_type": "stream",
     "name": "stdout",
     "text": [
      "Livro criado\n\nTítulo: Os Lusíadas , autor: Luis de Camões, páginas: 8816\n"
     ]
    }
   ],
   "source": [
    "class Livro():\n",
    "    def __init__(self, titulo: str, autor: str, paginas: int):\n",
    "        print (\"Livro criado\\n\")\n",
    "        self.titulo = titulo\n",
    "        self.autor = autor\n",
    "        self.paginas = paginas            \n",
    "    \n",
    "    def __str__(self): # chama o print(), ou seja tanto faz um ou outro\n",
    "        return f'Título: {self.titulo} , autor: {self.autor}, páginas: {self.paginas}'\n",
    "    \n",
    "livro1 = Livro(\"Os Lusíadas\", \"Luis de Camões\", 8816)\n",
    "print(livro1)"
   ]
  }
 ]
}