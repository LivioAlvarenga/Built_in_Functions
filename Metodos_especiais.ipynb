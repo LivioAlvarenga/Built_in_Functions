{
 "metadata": {
  "language_info": {
   "codemirror_mode": {
    "name": "ipython",
    "version": 3
   },
   "file_extension": ".py",
   "mimetype": "text/x-python",
   "name": "python",
   "nbconvert_exporter": "python",
   "pygments_lexer": "ipython3",
   "version": "3.9.5"
  },
  "orig_nbformat": 4,
  "kernelspec": {
   "name": "python3",
   "display_name": "Python 3.9.5  ('venv': venv)"
  },
  "interpreter": {
   "hash": "325cb660cce599eef17833f9bb0afcb0e3dbe3e8605c570c8e00eb36d04c5df3"
  }
 },
 "nbformat": 4,
 "nbformat_minor": 2,
 "cells": [
  {
   "source": [
    "<h1><font color=#32CD32>Métodos especiais __ __</font></h1>"
   ],
   "cell_type": "markdown",
   "metadata": {}
  },
  {
   "source": [
    "<h3><font color=#00BFFF>__module__</font></h3>\n",
    "guarda o nome do modulo ao qual a classe pertence."
   ],
   "cell_type": "markdown",
   "metadata": {}
  },
  {
   "cell_type": "code",
   "execution_count": 1,
   "metadata": {},
   "outputs": [
    {
     "output_type": "stream",
     "name": "stdout",
     "text": [
      "__main__\nmath\n"
     ]
    }
   ],
   "source": [
    "from math import sqrt\n",
    "class Circulos:\n",
    "    pass\n",
    "print(Circulos.__module__) # __main__ , pois a classe Circulos foi criada no script corrente cujo __name__ é sempre __main__\n",
    "print(sqrt.__module__) # veja como não criamos a classe sqrt o modulo é de onde ela foi criada (math)"
   ]
  }
 ]
}