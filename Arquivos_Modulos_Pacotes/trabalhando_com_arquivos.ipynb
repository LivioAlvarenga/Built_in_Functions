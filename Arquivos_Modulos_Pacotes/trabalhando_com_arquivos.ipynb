{
 "metadata": {
  "language_info": {
   "codemirror_mode": {
    "name": "ipython",
    "version": 3
   },
   "file_extension": ".py",
   "mimetype": "text/x-python",
   "name": "python",
   "nbconvert_exporter": "python",
   "pygments_lexer": "ipython3",
   "version": "3.9.5"
  },
  "orig_nbformat": 4,
  "kernelspec": {
   "name": "python3",
   "display_name": "Python 3.9.5  ('venv': venv)"
  },
  "interpreter": {
   "hash": "325cb660cce599eef17833f9bb0afcb0e3dbe3e8605c570c8e00eb36d04c5df3"
  }
 },
 "nbformat": 4,
 "nbformat_minor": 2,
 "cells": [
  {
   "source": [
    "<h1><font color=#32CD32>Trabalhando com Arquivos</font></h1>\n",
    "Tabela Modos de arquivo\n",
    "\n",
    "<img src=\"Tabela Modos de arquivo em Python.png\">"
   ],
   "cell_type": "markdown",
   "metadata": {}
  },
  {
   "source": [
    "<h2><font color=#00BFFF>Métodos de uma lista usando biblioteca rich import inspect</font></h2>"
   ],
   "cell_type": "markdown",
   "metadata": {}
  },
  {
   "cell_type": "code",
   "execution_count": 3,
   "metadata": {},
   "outputs": [
    {
     "output_type": "display_data",
     "data": {
      "text/plain": "\u001b[34m╭─\u001b[0m\u001b[34m────────────────────────────── \u001b[0m\u001b[1;34m<\u001b[0m\u001b[1;95mclass\u001b[0m\u001b[39m \u001b[0m\u001b[32m'_io.TextIOWrapper'\u001b[0m\u001b[1;34m>\u001b[0m\u001b[34m ──────────────────────────────\u001b[0m\u001b[34m─╮\u001b[0m\n\u001b[34m│\u001b[0m \u001b[36mCharacter and line based layer over a BufferedIOBase object, buffer.\u001b[0m                      \u001b[34m│\u001b[0m\n\u001b[34m│\u001b[0m                                                                                           \u001b[34m│\u001b[0m\n\u001b[34m│\u001b[0m \u001b[32m╭───────────────────────────────────────────────────────────────────────────────────────╮\u001b[0m \u001b[34m│\u001b[0m\n\u001b[34m│\u001b[0m \u001b[32m│\u001b[0m \u001b[1m<\u001b[0m\u001b[1;95m_io.TextIOWrapper\u001b[0m\u001b[39m \u001b[0m\u001b[33mname\u001b[0m\u001b[39m=\u001b[0m\u001b[32m'arquivo1.txt'\u001b[0m\u001b[39m \u001b[0m\u001b[33mmode\u001b[0m\u001b[39m=\u001b[0m\u001b[32m'wt+'\u001b[0m\u001b[39m \u001b[0m\u001b[33mencoding\u001b[0m\u001b[39m=\u001b[0m\u001b[32m'cp1252'\u001b[0m\u001b[1m>\u001b[0m                  \u001b[32m│\u001b[0m \u001b[34m│\u001b[0m\n\u001b[34m│\u001b[0m \u001b[32m╰───────────────────────────────────────────────────────────────────────────────────────╯\u001b[0m \u001b[34m│\u001b[0m\n\u001b[34m│\u001b[0m                                                                                           \u001b[34m│\u001b[0m\n\u001b[34m│\u001b[0m         \u001b[3;33mbuffer\u001b[0m = \u001b[1m<\u001b[0m\u001b[1;95m_io.BufferedRandom\u001b[0m\u001b[39m \u001b[0m\u001b[33mname\u001b[0m\u001b[39m=\u001b[0m\u001b[32m'arquivo1.txt'\u001b[0m\u001b[1m>\u001b[0m                                 \u001b[34m│\u001b[0m\n\u001b[34m│\u001b[0m         \u001b[3;33mclosed\u001b[0m = \u001b[3;91mFalse\u001b[0m                                                                    \u001b[34m│\u001b[0m\n\u001b[34m│\u001b[0m       \u001b[3;33mencoding\u001b[0m = \u001b[32m'cp1252'\u001b[0m                                                                 \u001b[34m│\u001b[0m\n\u001b[34m│\u001b[0m         \u001b[3;33merrors\u001b[0m = \u001b[32m'strict'\u001b[0m                                                                 \u001b[34m│\u001b[0m\n\u001b[34m│\u001b[0m \u001b[3;33mline_buffering\u001b[0m = \u001b[3;91mFalse\u001b[0m                                                                    \u001b[34m│\u001b[0m\n\u001b[34m│\u001b[0m           \u001b[3;33mmode\u001b[0m = \u001b[32m'wt+'\u001b[0m                                                                    \u001b[34m│\u001b[0m\n\u001b[34m│\u001b[0m           \u001b[3;33mname\u001b[0m = \u001b[32m'arquivo1.txt'\u001b[0m                                                           \u001b[34m│\u001b[0m\n\u001b[34m│\u001b[0m       \u001b[3;33mnewlines\u001b[0m = \u001b[3;35mNone\u001b[0m                                                                     \u001b[34m│\u001b[0m\n\u001b[34m│\u001b[0m  \u001b[3;33mwrite_through\u001b[0m = \u001b[3;91mFalse\u001b[0m                                                                    \u001b[34m│\u001b[0m\n\u001b[34m│\u001b[0m          \u001b[3;33mclose\u001b[0m = \u001b[3;96mdef \u001b[0m\u001b[1;31mclose\u001b[0m\u001b[1m(\u001b[0m\u001b[1m)\u001b[0m: \u001b[2mFlush and close the IO object.\u001b[0m                              \u001b[34m│\u001b[0m\n\u001b[34m│\u001b[0m         \u001b[3;33mdetach\u001b[0m = \u001b[3;96mdef \u001b[0m\u001b[1;31mdetach\u001b[0m\u001b[1m(\u001b[0m\u001b[1m)\u001b[0m: \u001b[2mSeparate the underlying buffer from the TextIOBase and \u001b[0m    \u001b[34m│\u001b[0m\n\u001b[34m│\u001b[0m                  \u001b[2mreturn it.\u001b[0m                                                               \u001b[34m│\u001b[0m\n\u001b[34m│\u001b[0m         \u001b[3;33mfileno\u001b[0m = \u001b[3;96mdef \u001b[0m\u001b[1;31mfileno\u001b[0m\u001b[1m(\u001b[0m\u001b[1m)\u001b[0m: \u001b[2mReturns underlying file descriptor if one exists.\u001b[0m          \u001b[34m│\u001b[0m\n\u001b[34m│\u001b[0m          \u001b[3;33mflush\u001b[0m = \u001b[3;96mdef \u001b[0m\u001b[1;31mflush\u001b[0m\u001b[1m(\u001b[0m\u001b[1m)\u001b[0m: \u001b[2mFlush write buffers, if applicable.\u001b[0m                         \u001b[34m│\u001b[0m\n\u001b[34m│\u001b[0m         \u001b[3;33misatty\u001b[0m = \u001b[3;96mdef \u001b[0m\u001b[1;31misatty\u001b[0m\u001b[1m(\u001b[0m\u001b[1m)\u001b[0m: \u001b[2mReturn whether this is an \u001b[0m\u001b[2;32m'interactive'\u001b[0m\u001b[2m stream.\u001b[0m            \u001b[34m│\u001b[0m\n\u001b[34m│\u001b[0m           \u001b[3;33mread\u001b[0m = \u001b[3;96mdef \u001b[0m\u001b[1;31mread\u001b[0m\u001b[1m(\u001b[0m\u001b[33msize\u001b[0m=\u001b[1;36m-1\u001b[0m, \u001b[35m/\u001b[0m\u001b[1m)\u001b[0m: \u001b[2mRead at most n characters from stream.\u001b[0m             \u001b[34m│\u001b[0m\n\u001b[34m│\u001b[0m       \u001b[3;33mreadable\u001b[0m = \u001b[3;96mdef \u001b[0m\u001b[1;31mreadable\u001b[0m\u001b[1m(\u001b[0m\u001b[1m)\u001b[0m: \u001b[2mReturn whether object was opened for reading.\u001b[0m            \u001b[34m│\u001b[0m\n\u001b[34m│\u001b[0m       \u001b[3;33mreadline\u001b[0m = \u001b[3;96mdef \u001b[0m\u001b[1;31mreadline\u001b[0m\u001b[1m(\u001b[0m\u001b[33msize\u001b[0m=\u001b[1;36m-1\u001b[0m, \u001b[35m/\u001b[0m\u001b[1m)\u001b[0m: \u001b[2mRead until newline or EOF.\u001b[0m                     \u001b[34m│\u001b[0m\n\u001b[34m│\u001b[0m      \u001b[3;33mreadlines\u001b[0m = \u001b[3;96mdef \u001b[0m\u001b[1;31mreadlines\u001b[0m\u001b[1m(\u001b[0m\u001b[33mhint\u001b[0m=\u001b[1;36m-1\u001b[0m, \u001b[35m/\u001b[0m\u001b[1m)\u001b[0m: \u001b[2mReturn a list of lines from the stream.\u001b[0m       \u001b[34m│\u001b[0m\n\u001b[34m│\u001b[0m    \u001b[3;33mreconfigure\u001b[0m = \u001b[3;96mdef \u001b[0m\u001b[1;31mreconfigure\u001b[0m\u001b[1m(\u001b[0m*, \u001b[33mencoding\u001b[0m=\u001b[3;35mNone\u001b[0m, \u001b[33merrors\u001b[0m=\u001b[3;35mNone\u001b[0m, \u001b[33mnewline\u001b[0m=\u001b[3;35mNone\u001b[0m,             \u001b[34m│\u001b[0m\n\u001b[34m│\u001b[0m                  \u001b[33mline_buffering\u001b[0m=\u001b[3;35mNone\u001b[0m, \u001b[33mwrite_through\u001b[0m=\u001b[3;35mNone\u001b[0m\u001b[1m)\u001b[0m: \u001b[2mReconfigure the text stream \u001b[0m   \u001b[34m│\u001b[0m\n\u001b[34m│\u001b[0m                  \u001b[2mwith new parameters.\u001b[0m                                                     \u001b[34m│\u001b[0m\n\u001b[34m│\u001b[0m           \u001b[3;33mseek\u001b[0m = \u001b[3;96mdef \u001b[0m\u001b[1;31mseek\u001b[0m\u001b[1m(\u001b[0mcookie, \u001b[33mwhence\u001b[0m=\u001b[1;36m0\u001b[0m, \u001b[35m/\u001b[0m\u001b[1m)\u001b[0m: \u001b[2mChange stream position.\u001b[0m                   \u001b[34m│\u001b[0m\n\u001b[34m│\u001b[0m       \u001b[3;33mseekable\u001b[0m = \u001b[3;96mdef \u001b[0m\u001b[1;31mseekable\u001b[0m\u001b[1m(\u001b[0m\u001b[1m)\u001b[0m: \u001b[2mReturn whether object supports random access.\u001b[0m            \u001b[34m│\u001b[0m\n\u001b[34m│\u001b[0m           \u001b[3;33mtell\u001b[0m = \u001b[3;96mdef \u001b[0m\u001b[1;31mtell\u001b[0m\u001b[1m(\u001b[0m\u001b[1m)\u001b[0m: \u001b[2mReturn current stream position.\u001b[0m                              \u001b[34m│\u001b[0m\n\u001b[34m│\u001b[0m       \u001b[3;33mtruncate\u001b[0m = \u001b[3;96mdef \u001b[0m\u001b[1;31mtruncate\u001b[0m\u001b[1m(\u001b[0m\u001b[33mpos\u001b[0m=\u001b[3;35mNone\u001b[0m, \u001b[35m/\u001b[0m\u001b[1m)\u001b[0m: \u001b[2mTruncate file to size bytes.\u001b[0m                  \u001b[34m│\u001b[0m\n\u001b[34m│\u001b[0m       \u001b[3;33mwritable\u001b[0m = \u001b[3;96mdef \u001b[0m\u001b[1;31mwritable\u001b[0m\u001b[1m(\u001b[0m\u001b[1m)\u001b[0m: \u001b[2mReturn whether object was opened for writing.\u001b[0m            \u001b[34m│\u001b[0m\n\u001b[34m│\u001b[0m          \u001b[3;33mwrite\u001b[0m = \u001b[3;96mdef \u001b[0m\u001b[1;31mwrite\u001b[0m\u001b[1m(\u001b[0mtext, \u001b[35m/\u001b[0m\u001b[1m)\u001b[0m:                                                      \u001b[34m│\u001b[0m\n\u001b[34m│\u001b[0m                  \u001b[2mWrite string to stream.\u001b[0m                                                  \u001b[34m│\u001b[0m\n\u001b[34m│\u001b[0m                  \u001b[2mReturns the number of characters written \u001b[0m\u001b[1;2m(\u001b[0m\u001b[2mwhich is always equal to\u001b[0m       \u001b[34m│\u001b[0m\n\u001b[34m│\u001b[0m                  \u001b[2mthe length of the string\u001b[0m\u001b[1;2m)\u001b[0m\u001b[2m.\u001b[0m                                               \u001b[34m│\u001b[0m\n\u001b[34m│\u001b[0m     \u001b[3;33mwritelines\u001b[0m = \u001b[3;96mdef \u001b[0m\u001b[1;31mwritelines\u001b[0m\u001b[1m(\u001b[0mlines, \u001b[35m/\u001b[0m\u001b[1m)\u001b[0m: \u001b[2mWrite a list of lines to stream.\u001b[0m               \u001b[34m│\u001b[0m\n\u001b[34m╰───────────────────────────────────────────────────────────────────────────────────────────╯\u001b[0m\n",
      "text/html": "<pre style=\"white-space:pre;overflow-x:auto;line-height:normal;font-family:Menlo,'DejaVu Sans Mono',consolas,'Courier New',monospace\"><span style=\"color: #000080; text-decoration-color: #000080\">╭─────────────────────────────── </span><span style=\"color: #000080; text-decoration-color: #000080; font-weight: bold\">&lt;</span><span style=\"color: #ff00ff; text-decoration-color: #ff00ff; font-weight: bold\">class</span><span style=\"color: #000000; text-decoration-color: #000000\"> </span><span style=\"color: #008000; text-decoration-color: #008000\">'_io.TextIOWrapper'</span><span style=\"color: #000080; text-decoration-color: #000080; font-weight: bold\">&gt;</span><span style=\"color: #000080; text-decoration-color: #000080\"> ───────────────────────────────╮</span>\n<span style=\"color: #000080; text-decoration-color: #000080\">│</span> <span style=\"color: #008080; text-decoration-color: #008080\">Character and line based layer over a BufferedIOBase object, buffer.</span>                      <span style=\"color: #000080; text-decoration-color: #000080\">│</span>\n<span style=\"color: #000080; text-decoration-color: #000080\">│</span>                                                                                           <span style=\"color: #000080; text-decoration-color: #000080\">│</span>\n<span style=\"color: #000080; text-decoration-color: #000080\">│</span> <span style=\"color: #008000; text-decoration-color: #008000\">╭───────────────────────────────────────────────────────────────────────────────────────╮</span> <span style=\"color: #000080; text-decoration-color: #000080\">│</span>\n<span style=\"color: #000080; text-decoration-color: #000080\">│</span> <span style=\"color: #008000; text-decoration-color: #008000\">│</span> <span style=\"font-weight: bold\">&lt;</span><span style=\"color: #ff00ff; text-decoration-color: #ff00ff; font-weight: bold\">_io.TextIOWrapper</span><span style=\"color: #000000; text-decoration-color: #000000\"> </span><span style=\"color: #808000; text-decoration-color: #808000\">name</span><span style=\"color: #000000; text-decoration-color: #000000\">=</span><span style=\"color: #008000; text-decoration-color: #008000\">'arquivo1.txt'</span><span style=\"color: #000000; text-decoration-color: #000000\"> </span><span style=\"color: #808000; text-decoration-color: #808000\">mode</span><span style=\"color: #000000; text-decoration-color: #000000\">=</span><span style=\"color: #008000; text-decoration-color: #008000\">'wt+'</span><span style=\"color: #000000; text-decoration-color: #000000\"> </span><span style=\"color: #808000; text-decoration-color: #808000\">encoding</span><span style=\"color: #000000; text-decoration-color: #000000\">=</span><span style=\"color: #008000; text-decoration-color: #008000\">'cp1252'</span><span style=\"font-weight: bold\">&gt;</span>                  <span style=\"color: #008000; text-decoration-color: #008000\">│</span> <span style=\"color: #000080; text-decoration-color: #000080\">│</span>\n<span style=\"color: #000080; text-decoration-color: #000080\">│</span> <span style=\"color: #008000; text-decoration-color: #008000\">╰───────────────────────────────────────────────────────────────────────────────────────╯</span> <span style=\"color: #000080; text-decoration-color: #000080\">│</span>\n<span style=\"color: #000080; text-decoration-color: #000080\">│</span>                                                                                           <span style=\"color: #000080; text-decoration-color: #000080\">│</span>\n<span style=\"color: #000080; text-decoration-color: #000080\">│</span>         <span style=\"color: #808000; text-decoration-color: #808000; font-style: italic\">buffer</span> = <span style=\"font-weight: bold\">&lt;</span><span style=\"color: #ff00ff; text-decoration-color: #ff00ff; font-weight: bold\">_io.BufferedRandom</span><span style=\"color: #000000; text-decoration-color: #000000\"> </span><span style=\"color: #808000; text-decoration-color: #808000\">name</span><span style=\"color: #000000; text-decoration-color: #000000\">=</span><span style=\"color: #008000; text-decoration-color: #008000\">'arquivo1.txt'</span><span style=\"font-weight: bold\">&gt;</span>                                 <span style=\"color: #000080; text-decoration-color: #000080\">│</span>\n<span style=\"color: #000080; text-decoration-color: #000080\">│</span>         <span style=\"color: #808000; text-decoration-color: #808000; font-style: italic\">closed</span> = <span style=\"color: #ff0000; text-decoration-color: #ff0000; font-style: italic\">False</span>                                                                    <span style=\"color: #000080; text-decoration-color: #000080\">│</span>\n<span style=\"color: #000080; text-decoration-color: #000080\">│</span>       <span style=\"color: #808000; text-decoration-color: #808000; font-style: italic\">encoding</span> = <span style=\"color: #008000; text-decoration-color: #008000\">'cp1252'</span>                                                                 <span style=\"color: #000080; text-decoration-color: #000080\">│</span>\n<span style=\"color: #000080; text-decoration-color: #000080\">│</span>         <span style=\"color: #808000; text-decoration-color: #808000; font-style: italic\">errors</span> = <span style=\"color: #008000; text-decoration-color: #008000\">'strict'</span>                                                                 <span style=\"color: #000080; text-decoration-color: #000080\">│</span>\n<span style=\"color: #000080; text-decoration-color: #000080\">│</span> <span style=\"color: #808000; text-decoration-color: #808000; font-style: italic\">line_buffering</span> = <span style=\"color: #ff0000; text-decoration-color: #ff0000; font-style: italic\">False</span>                                                                    <span style=\"color: #000080; text-decoration-color: #000080\">│</span>\n<span style=\"color: #000080; text-decoration-color: #000080\">│</span>           <span style=\"color: #808000; text-decoration-color: #808000; font-style: italic\">mode</span> = <span style=\"color: #008000; text-decoration-color: #008000\">'wt+'</span>                                                                    <span style=\"color: #000080; text-decoration-color: #000080\">│</span>\n<span style=\"color: #000080; text-decoration-color: #000080\">│</span>           <span style=\"color: #808000; text-decoration-color: #808000; font-style: italic\">name</span> = <span style=\"color: #008000; text-decoration-color: #008000\">'arquivo1.txt'</span>                                                           <span style=\"color: #000080; text-decoration-color: #000080\">│</span>\n<span style=\"color: #000080; text-decoration-color: #000080\">│</span>       <span style=\"color: #808000; text-decoration-color: #808000; font-style: italic\">newlines</span> = <span style=\"color: #800080; text-decoration-color: #800080; font-style: italic\">None</span>                                                                     <span style=\"color: #000080; text-decoration-color: #000080\">│</span>\n<span style=\"color: #000080; text-decoration-color: #000080\">│</span>  <span style=\"color: #808000; text-decoration-color: #808000; font-style: italic\">write_through</span> = <span style=\"color: #ff0000; text-decoration-color: #ff0000; font-style: italic\">False</span>                                                                    <span style=\"color: #000080; text-decoration-color: #000080\">│</span>\n<span style=\"color: #000080; text-decoration-color: #000080\">│</span>          <span style=\"color: #808000; text-decoration-color: #808000; font-style: italic\">close</span> = <span style=\"color: #00ffff; text-decoration-color: #00ffff; font-style: italic\">def </span><span style=\"color: #800000; text-decoration-color: #800000; font-weight: bold\">close</span><span style=\"font-weight: bold\">()</span>: <span style=\"color: #7f7f7f; text-decoration-color: #7f7f7f\">Flush and close the IO object.</span>                              <span style=\"color: #000080; text-decoration-color: #000080\">│</span>\n<span style=\"color: #000080; text-decoration-color: #000080\">│</span>         <span style=\"color: #808000; text-decoration-color: #808000; font-style: italic\">detach</span> = <span style=\"color: #00ffff; text-decoration-color: #00ffff; font-style: italic\">def </span><span style=\"color: #800000; text-decoration-color: #800000; font-weight: bold\">detach</span><span style=\"font-weight: bold\">()</span>: <span style=\"color: #7f7f7f; text-decoration-color: #7f7f7f\">Separate the underlying buffer from the TextIOBase and </span>    <span style=\"color: #000080; text-decoration-color: #000080\">│</span>\n<span style=\"color: #000080; text-decoration-color: #000080\">│</span>                  <span style=\"color: #7f7f7f; text-decoration-color: #7f7f7f\">return it.</span>                                                               <span style=\"color: #000080; text-decoration-color: #000080\">│</span>\n<span style=\"color: #000080; text-decoration-color: #000080\">│</span>         <span style=\"color: #808000; text-decoration-color: #808000; font-style: italic\">fileno</span> = <span style=\"color: #00ffff; text-decoration-color: #00ffff; font-style: italic\">def </span><span style=\"color: #800000; text-decoration-color: #800000; font-weight: bold\">fileno</span><span style=\"font-weight: bold\">()</span>: <span style=\"color: #7f7f7f; text-decoration-color: #7f7f7f\">Returns underlying file descriptor if one exists.</span>          <span style=\"color: #000080; text-decoration-color: #000080\">│</span>\n<span style=\"color: #000080; text-decoration-color: #000080\">│</span>          <span style=\"color: #808000; text-decoration-color: #808000; font-style: italic\">flush</span> = <span style=\"color: #00ffff; text-decoration-color: #00ffff; font-style: italic\">def </span><span style=\"color: #800000; text-decoration-color: #800000; font-weight: bold\">flush</span><span style=\"font-weight: bold\">()</span>: <span style=\"color: #7f7f7f; text-decoration-color: #7f7f7f\">Flush write buffers, if applicable.</span>                         <span style=\"color: #000080; text-decoration-color: #000080\">│</span>\n<span style=\"color: #000080; text-decoration-color: #000080\">│</span>         <span style=\"color: #808000; text-decoration-color: #808000; font-style: italic\">isatty</span> = <span style=\"color: #00ffff; text-decoration-color: #00ffff; font-style: italic\">def </span><span style=\"color: #800000; text-decoration-color: #800000; font-weight: bold\">isatty</span><span style=\"font-weight: bold\">()</span>: <span style=\"color: #7f7f7f; text-decoration-color: #7f7f7f\">Return whether this is an </span><span style=\"color: #7fbf7f; text-decoration-color: #7fbf7f\">'interactive'</span><span style=\"color: #7f7f7f; text-decoration-color: #7f7f7f\"> stream.</span>            <span style=\"color: #000080; text-decoration-color: #000080\">│</span>\n<span style=\"color: #000080; text-decoration-color: #000080\">│</span>           <span style=\"color: #808000; text-decoration-color: #808000; font-style: italic\">read</span> = <span style=\"color: #00ffff; text-decoration-color: #00ffff; font-style: italic\">def </span><span style=\"color: #800000; text-decoration-color: #800000; font-weight: bold\">read</span><span style=\"font-weight: bold\">(</span><span style=\"color: #808000; text-decoration-color: #808000\">size</span>=<span style=\"color: #008080; text-decoration-color: #008080; font-weight: bold\">-1</span>, <span style=\"color: #800080; text-decoration-color: #800080\">/</span><span style=\"font-weight: bold\">)</span>: <span style=\"color: #7f7f7f; text-decoration-color: #7f7f7f\">Read at most n characters from stream.</span>             <span style=\"color: #000080; text-decoration-color: #000080\">│</span>\n<span style=\"color: #000080; text-decoration-color: #000080\">│</span>       <span style=\"color: #808000; text-decoration-color: #808000; font-style: italic\">readable</span> = <span style=\"color: #00ffff; text-decoration-color: #00ffff; font-style: italic\">def </span><span style=\"color: #800000; text-decoration-color: #800000; font-weight: bold\">readable</span><span style=\"font-weight: bold\">()</span>: <span style=\"color: #7f7f7f; text-decoration-color: #7f7f7f\">Return whether object was opened for reading.</span>            <span style=\"color: #000080; text-decoration-color: #000080\">│</span>\n<span style=\"color: #000080; text-decoration-color: #000080\">│</span>       <span style=\"color: #808000; text-decoration-color: #808000; font-style: italic\">readline</span> = <span style=\"color: #00ffff; text-decoration-color: #00ffff; font-style: italic\">def </span><span style=\"color: #800000; text-decoration-color: #800000; font-weight: bold\">readline</span><span style=\"font-weight: bold\">(</span><span style=\"color: #808000; text-decoration-color: #808000\">size</span>=<span style=\"color: #008080; text-decoration-color: #008080; font-weight: bold\">-1</span>, <span style=\"color: #800080; text-decoration-color: #800080\">/</span><span style=\"font-weight: bold\">)</span>: <span style=\"color: #7f7f7f; text-decoration-color: #7f7f7f\">Read until newline or EOF.</span>                     <span style=\"color: #000080; text-decoration-color: #000080\">│</span>\n<span style=\"color: #000080; text-decoration-color: #000080\">│</span>      <span style=\"color: #808000; text-decoration-color: #808000; font-style: italic\">readlines</span> = <span style=\"color: #00ffff; text-decoration-color: #00ffff; font-style: italic\">def </span><span style=\"color: #800000; text-decoration-color: #800000; font-weight: bold\">readlines</span><span style=\"font-weight: bold\">(</span><span style=\"color: #808000; text-decoration-color: #808000\">hint</span>=<span style=\"color: #008080; text-decoration-color: #008080; font-weight: bold\">-1</span>, <span style=\"color: #800080; text-decoration-color: #800080\">/</span><span style=\"font-weight: bold\">)</span>: <span style=\"color: #7f7f7f; text-decoration-color: #7f7f7f\">Return a list of lines from the stream.</span>       <span style=\"color: #000080; text-decoration-color: #000080\">│</span>\n<span style=\"color: #000080; text-decoration-color: #000080\">│</span>    <span style=\"color: #808000; text-decoration-color: #808000; font-style: italic\">reconfigure</span> = <span style=\"color: #00ffff; text-decoration-color: #00ffff; font-style: italic\">def </span><span style=\"color: #800000; text-decoration-color: #800000; font-weight: bold\">reconfigure</span><span style=\"font-weight: bold\">(</span>*, <span style=\"color: #808000; text-decoration-color: #808000\">encoding</span>=<span style=\"color: #800080; text-decoration-color: #800080; font-style: italic\">None</span>, <span style=\"color: #808000; text-decoration-color: #808000\">errors</span>=<span style=\"color: #800080; text-decoration-color: #800080; font-style: italic\">None</span>, <span style=\"color: #808000; text-decoration-color: #808000\">newline</span>=<span style=\"color: #800080; text-decoration-color: #800080; font-style: italic\">None</span>,             <span style=\"color: #000080; text-decoration-color: #000080\">│</span>\n<span style=\"color: #000080; text-decoration-color: #000080\">│</span>                  <span style=\"color: #808000; text-decoration-color: #808000\">line_buffering</span>=<span style=\"color: #800080; text-decoration-color: #800080; font-style: italic\">None</span>, <span style=\"color: #808000; text-decoration-color: #808000\">write_through</span>=<span style=\"color: #800080; text-decoration-color: #800080; font-style: italic\">None</span><span style=\"font-weight: bold\">)</span>: <span style=\"color: #7f7f7f; text-decoration-color: #7f7f7f\">Reconfigure the text stream </span>   <span style=\"color: #000080; text-decoration-color: #000080\">│</span>\n<span style=\"color: #000080; text-decoration-color: #000080\">│</span>                  <span style=\"color: #7f7f7f; text-decoration-color: #7f7f7f\">with new parameters.</span>                                                     <span style=\"color: #000080; text-decoration-color: #000080\">│</span>\n<span style=\"color: #000080; text-decoration-color: #000080\">│</span>           <span style=\"color: #808000; text-decoration-color: #808000; font-style: italic\">seek</span> = <span style=\"color: #00ffff; text-decoration-color: #00ffff; font-style: italic\">def </span><span style=\"color: #800000; text-decoration-color: #800000; font-weight: bold\">seek</span><span style=\"font-weight: bold\">(</span>cookie, <span style=\"color: #808000; text-decoration-color: #808000\">whence</span>=<span style=\"color: #008080; text-decoration-color: #008080; font-weight: bold\">0</span>, <span style=\"color: #800080; text-decoration-color: #800080\">/</span><span style=\"font-weight: bold\">)</span>: <span style=\"color: #7f7f7f; text-decoration-color: #7f7f7f\">Change stream position.</span>                   <span style=\"color: #000080; text-decoration-color: #000080\">│</span>\n<span style=\"color: #000080; text-decoration-color: #000080\">│</span>       <span style=\"color: #808000; text-decoration-color: #808000; font-style: italic\">seekable</span> = <span style=\"color: #00ffff; text-decoration-color: #00ffff; font-style: italic\">def </span><span style=\"color: #800000; text-decoration-color: #800000; font-weight: bold\">seekable</span><span style=\"font-weight: bold\">()</span>: <span style=\"color: #7f7f7f; text-decoration-color: #7f7f7f\">Return whether object supports random access.</span>            <span style=\"color: #000080; text-decoration-color: #000080\">│</span>\n<span style=\"color: #000080; text-decoration-color: #000080\">│</span>           <span style=\"color: #808000; text-decoration-color: #808000; font-style: italic\">tell</span> = <span style=\"color: #00ffff; text-decoration-color: #00ffff; font-style: italic\">def </span><span style=\"color: #800000; text-decoration-color: #800000; font-weight: bold\">tell</span><span style=\"font-weight: bold\">()</span>: <span style=\"color: #7f7f7f; text-decoration-color: #7f7f7f\">Return current stream position.</span>                              <span style=\"color: #000080; text-decoration-color: #000080\">│</span>\n<span style=\"color: #000080; text-decoration-color: #000080\">│</span>       <span style=\"color: #808000; text-decoration-color: #808000; font-style: italic\">truncate</span> = <span style=\"color: #00ffff; text-decoration-color: #00ffff; font-style: italic\">def </span><span style=\"color: #800000; text-decoration-color: #800000; font-weight: bold\">truncate</span><span style=\"font-weight: bold\">(</span><span style=\"color: #808000; text-decoration-color: #808000\">pos</span>=<span style=\"color: #800080; text-decoration-color: #800080; font-style: italic\">None</span>, <span style=\"color: #800080; text-decoration-color: #800080\">/</span><span style=\"font-weight: bold\">)</span>: <span style=\"color: #7f7f7f; text-decoration-color: #7f7f7f\">Truncate file to size bytes.</span>                  <span style=\"color: #000080; text-decoration-color: #000080\">│</span>\n<span style=\"color: #000080; text-decoration-color: #000080\">│</span>       <span style=\"color: #808000; text-decoration-color: #808000; font-style: italic\">writable</span> = <span style=\"color: #00ffff; text-decoration-color: #00ffff; font-style: italic\">def </span><span style=\"color: #800000; text-decoration-color: #800000; font-weight: bold\">writable</span><span style=\"font-weight: bold\">()</span>: <span style=\"color: #7f7f7f; text-decoration-color: #7f7f7f\">Return whether object was opened for writing.</span>            <span style=\"color: #000080; text-decoration-color: #000080\">│</span>\n<span style=\"color: #000080; text-decoration-color: #000080\">│</span>          <span style=\"color: #808000; text-decoration-color: #808000; font-style: italic\">write</span> = <span style=\"color: #00ffff; text-decoration-color: #00ffff; font-style: italic\">def </span><span style=\"color: #800000; text-decoration-color: #800000; font-weight: bold\">write</span><span style=\"font-weight: bold\">(</span>text, <span style=\"color: #800080; text-decoration-color: #800080\">/</span><span style=\"font-weight: bold\">)</span>:                                                      <span style=\"color: #000080; text-decoration-color: #000080\">│</span>\n<span style=\"color: #000080; text-decoration-color: #000080\">│</span>                  <span style=\"color: #7f7f7f; text-decoration-color: #7f7f7f\">Write string to stream.</span>                                                  <span style=\"color: #000080; text-decoration-color: #000080\">│</span>\n<span style=\"color: #000080; text-decoration-color: #000080\">│</span>                  <span style=\"color: #7f7f7f; text-decoration-color: #7f7f7f\">Returns the number of characters written </span><span style=\"color: #7f7f7f; text-decoration-color: #7f7f7f; font-weight: bold\">(</span><span style=\"color: #7f7f7f; text-decoration-color: #7f7f7f\">which is always equal to</span>       <span style=\"color: #000080; text-decoration-color: #000080\">│</span>\n<span style=\"color: #000080; text-decoration-color: #000080\">│</span>                  <span style=\"color: #7f7f7f; text-decoration-color: #7f7f7f\">the length of the string</span><span style=\"color: #7f7f7f; text-decoration-color: #7f7f7f; font-weight: bold\">)</span><span style=\"color: #7f7f7f; text-decoration-color: #7f7f7f\">.</span>                                               <span style=\"color: #000080; text-decoration-color: #000080\">│</span>\n<span style=\"color: #000080; text-decoration-color: #000080\">│</span>     <span style=\"color: #808000; text-decoration-color: #808000; font-style: italic\">writelines</span> = <span style=\"color: #00ffff; text-decoration-color: #00ffff; font-style: italic\">def </span><span style=\"color: #800000; text-decoration-color: #800000; font-weight: bold\">writelines</span><span style=\"font-weight: bold\">(</span>lines, <span style=\"color: #800080; text-decoration-color: #800080\">/</span><span style=\"font-weight: bold\">)</span>: <span style=\"color: #7f7f7f; text-decoration-color: #7f7f7f\">Write a list of lines to stream.</span>               <span style=\"color: #000080; text-decoration-color: #000080\">│</span>\n<span style=\"color: #000080; text-decoration-color: #000080\">╰───────────────────────────────────────────────────────────────────────────────────────────╯</span>\n</pre>\n"
     },
     "metadata": {}
    }
   ],
   "source": [
    "from rich import inspect\n",
    "a = open('arquivo1.txt', 'wt+')\n",
    "inspect(a, methods=True)"
   ]
  },
  {
   "source": [
    "<h2><font color=#00BFFF>Criando Arquivo w(write) e x</font></h2>\n",
    "<h3><font color=#DAA520>.close()</font></h3>"
   ],
   "cell_type": "markdown",
   "metadata": {}
  },
  {
   "cell_type": "code",
   "execution_count": 1,
   "metadata": {},
   "outputs": [],
   "source": [
    "# cria arquivo ou abre apagando os dados de qualquer arquivo existente\n",
    "a = open('arquivo1.txt', 'wt+') # w(write text) + (se não existir o arquivo crie) (t decodifica os caracteres Unicode-é default não precisa colocar)\n",
    "a.close()"
   ]
  },
  {
   "cell_type": "code",
   "execution_count": 14,
   "metadata": {},
   "outputs": [
    {
     "output_type": "error",
     "ename": "FileExistsError",
     "evalue": "[Errno 17] File exists: 'arquivo1.txt'",
     "traceback": [
      "\u001b[1;31m---------------------------------------------------------------------------\u001b[0m",
      "\u001b[1;31mFileExistsError\u001b[0m                           Traceback (most recent call last)",
      "\u001b[1;32m<ipython-input-14-8a8de0e8b4cd>\u001b[0m in \u001b[0;36m<module>\u001b[1;34m\u001b[0m\n\u001b[0;32m      1\u001b[0m \u001b[1;31m# cria arquivo, mas falha se o mesmo ja existir\u001b[0m\u001b[1;33m\u001b[0m\u001b[1;33m\u001b[0m\u001b[1;33m\u001b[0m\u001b[0m\n\u001b[1;32m----> 2\u001b[1;33m \u001b[0ma\u001b[0m \u001b[1;33m=\u001b[0m \u001b[0mopen\u001b[0m\u001b[1;33m(\u001b[0m\u001b[1;34m'arquivo1.txt'\u001b[0m\u001b[1;33m,\u001b[0m \u001b[1;34m'x'\u001b[0m\u001b[1;33m)\u001b[0m\u001b[1;33m\u001b[0m\u001b[1;33m\u001b[0m\u001b[0m\n\u001b[0m\u001b[0;32m      3\u001b[0m \u001b[0ma\u001b[0m\u001b[1;33m.\u001b[0m\u001b[0mclose\u001b[0m\u001b[1;33m(\u001b[0m\u001b[1;33m)\u001b[0m\u001b[1;33m\u001b[0m\u001b[1;33m\u001b[0m\u001b[0m\n",
      "\u001b[1;31mFileExistsError\u001b[0m: [Errno 17] File exists: 'arquivo1.txt'"
     ]
    }
   ],
   "source": [
    "# cria arquivo, mas falha se o mesmo ja existir\n",
    "a = open('arquivo1.txt', 'x')\n",
    "a.close()"
   ]
  },
  {
   "source": [
    "<h3><font color=#DAA520>.writefile()</font></h3>\n",
    "Criar arquivo pelo Jupyter Notebook"
   ],
   "cell_type": "markdown",
   "metadata": {}
  },
  {
   "cell_type": "code",
   "execution_count": 4,
   "metadata": {},
   "outputs": [
    {
     "output_type": "stream",
     "name": "stdout",
     "text": [
      "Writing teste.txt\n"
     ]
    }
   ],
   "source": [
    "%%writefile teste.txt\n",
    "Olá este arquivo foi gerado pelo próprio Jupyter Notebook.\n",
    "Podemos gerar quantas linhas quisermos e o Jupyter gera o arquivo final.\n",
    "la...\n",
    "la...."
   ]
  },
  {
   "source": [
    "<h2><font color=#00BFFF>Abrindo/Lendo arquivos r(read))</font></h2>"
   ],
   "cell_type": "markdown",
   "metadata": {}
  },
  {
   "cell_type": "code",
   "execution_count": 16,
   "metadata": {},
   "outputs": [],
   "source": [
    "#Abre arquivo como leitura\n",
    "a = open('arquivo1.txt', 'r' ,encoding=\"utf-8\") # rt(read text) (,encoding=\"utf-8\")\n",
    "a.close()"
   ]
  },
  {
   "cell_type": "code",
   "execution_count": 15,
   "metadata": {},
   "outputs": [],
   "source": [
    "#Abre arquivo como escrita e não apaga o anterior\n",
    "a = open('arquivo1.txt', 'a') # at(append text)\n",
    "a.close()"
   ]
  },
  {
   "source": [
    "<h3><font color=#DAA520>.read() e encoding=\"utf-8\"</font></h3>\n",
    "O método read() somente funciona se abrir o arquivo como leitura ('r')"
   ],
   "cell_type": "markdown",
   "metadata": {}
  },
  {
   "cell_type": "code",
   "execution_count": 17,
   "metadata": {},
   "outputs": [
    {
     "output_type": "stream",
     "name": "stdout",
     "text": [
      "Olá este arquivo foi gerado pelo próprio Jupyter Notebook.\nPodemos gerar quantas linhas quisermos e o Jupyter gera o arquivo final.\nla...\nla....\n\n"
     ]
    }
   ],
   "source": [
    "arq4 = open(\"teste.txt\", 'r',encoding=\"utf-8\")\n",
    "print(arq4.read())\n"
   ]
  },
  {
   "cell_type": "code",
   "execution_count": 19,
   "metadata": {},
   "outputs": [
    {
     "output_type": "stream",
     "name": "stdout",
     "text": [
      "Python é uma linguagem poderosa!Editando arquivo\nPython Ã© uma linguagem poderosa!Editando arquivo\n"
     ]
    }
   ],
   "source": [
    "a = open('arquivo1.txt', 'rt',encoding=\"utf-8\") # (,encoding=\"utf-8\") mostra as acentuações\n",
    "print(a.read())\n",
    "a = open('arquivo1.txt', 'rt')\n",
    "print(a.read())\n",
    "a.close()"
   ]
  },
  {
   "cell_type": "code",
   "execution_count": 20,
   "metadata": {},
   "outputs": [
    {
     "output_type": "stream",
     "name": "stdout",
     "text": [
      "Pyt\n"
     ]
    }
   ],
   "source": [
    "a = open('arquivo1.txt', 'rt',encoding=\"utf-8\")\n",
    "print(a.read(3)) # Lendo os três primeiros caracteres\n",
    "a.close()"
   ]
  },
  {
   "source": [
    "<h3><font color=#DAA520>.readlines()</font></h3>\n",
    "readlines ler linha por linha e coloca em uma lista"
   ],
   "cell_type": "markdown",
   "metadata": {}
  },
  {
   "cell_type": "code",
   "execution_count": 21,
   "metadata": {},
   "outputs": [
    {
     "output_type": "stream",
     "name": "stdout",
     "text": [
      "Olá este arquivo foi gerado pelo próprio Jupyter Notebook.\nPodemos gerar quantas linhas quisermos e o Jupyter gera o arquivo final.\nla...\nla....\n\n['Olá este arquivo foi gerado pelo próprio Jupyter Notebook.\\n', 'Podemos gerar quantas linhas quisermos e o Jupyter gera o arquivo final.\\n', 'la...\\n', 'la....\\n']\n"
     ]
    }
   ],
   "source": [
    "a = open(\"teste.txt\", 'r',encoding=\"utf-8\")\n",
    "print(a.read())\n",
    "a.seek(0)\n",
    "print(a.readlines())\n",
    "a.close()"
   ]
  },
  {
   "source": [
    "<h3><font color=#DAA520>.seek()</font></h3>"
   ],
   "cell_type": "markdown",
   "metadata": {}
  },
  {
   "cell_type": "code",
   "execution_count": 18,
   "metadata": {},
   "outputs": [
    {
     "output_type": "stream",
     "name": "stdout",
     "text": [
      "Lendo o arquivo a primeira vez:\n\nOlá este arquivo foi gerado pelo próprio Jupyter Notebook.\nPodemos gerar quantas linhas quisermos e o Jupyter gera o arquivo final.\nla...\nla....\n\nTentando ler novamente e não conseguimos\n\n\nApós o uso do seek conseguimos ler novamente!\n\nOlá este arquivo foi gerado pelo próprio Jupyter Notebook.\nPodemos gerar quantas linhas quisermos e o Jupyter gera o arquivo final.\nla...\nla....\n\n"
     ]
    }
   ],
   "source": [
    "arq4 = open(\"teste.txt\", 'r',encoding=\"utf-8\")\n",
    "print(f'Lendo o arquivo a primeira vez:\\n\\n{arq4.read()}')\n",
    "print(f'Tentando ler novamente e não conseguimos\\n\\n{arq4.read()}') # como ja lemos o arquivo ate o final temos que retornar com seek()\n",
    "arq4.seek(0)\n",
    "print(f'Após o uso do seek conseguimos ler novamente!\\n\\n{arq4.read()}')"
   ]
  },
  {
   "source": [
    "<h3><font color=#DAA520>.split()</font></h3>\n",
    "separar os caracteres"
   ],
   "cell_type": "markdown",
   "metadata": {}
  },
  {
   "cell_type": "code",
   "execution_count": 23,
   "metadata": {},
   "outputs": [
    {
     "output_type": "stream",
     "name": "stdout",
     "text": [
      "['Name,Position Title,Department,Employee Annual Salary', '\"AARON,  ELVIA J\",WATER RATE TAKER,WATER MGMNT,$88967.00', '\"ABDELMAJEID,  AZIZ\",POLICE OFFICER,POLICE,$80778.00', '\"ABDOLLAHZADEH,  ALI\",FIREFIGHTER/PARAMEDIC,FIRE,$87720.00', '\"ABDUL-KARIM,  MUHAMMAD A\",ENGINEERING TECHNICIAN VI,WATER MGMNT,$106104.00', '\"ABDULLAH,  DANIEL N\",FIREFIGHTER-EMT,FIRE,$91764.00', '\"ABDULLAH,  KEVIN\",LIEUTENANT,FIRE,$110370.00', '\"ABDULLAH,  LAKENYA N\",CROSSING GUARD,POLICE,$16692.00', '\"ABDULLAH,  RASHAD J\",ELECTRICAL MECHANIC-AUTO-POLICE MTR MNT,GENERAL SERVICES,$91520.00', '\"ABDUL-SHAKUR,  TAHIR\",GENERAL LABORER - DSS,STREETS & SAN,$40560.00']\n"
     ]
    }
   ],
   "source": [
    "# separando caracteres por linhas\n",
    "f = open('salarios.csv', 'r')\n",
    "data = f.read()\n",
    "rows = data.split('\\n') # '\\n' é um espaço separamos por espaço\n",
    "print(rows) # cada '' é uma linha\n",
    "f.close()"
   ]
  },
  {
   "cell_type": "code",
   "execution_count": 24,
   "metadata": {},
   "outputs": [
    {
     "output_type": "stream",
     "name": "stdout",
     "text": [
      "[['Name', 'Position Title', 'Department', 'Employee Annual Salary'], ['\"AARON', '  ELVIA J\"', 'WATER RATE TAKER', 'WATER MGMNT', '$88967.00'], ['\"ABDELMAJEID', '  AZIZ\"', 'POLICE OFFICER', 'POLICE', '$80778.00'], ['\"ABDOLLAHZADEH', '  ALI\"', 'FIREFIGHTER/PARAMEDIC', 'FIRE', '$87720.00'], ['\"ABDUL-KARIM', '  MUHAMMAD A\"', 'ENGINEERING TECHNICIAN VI', 'WATER MGMNT', '$106104.00'], ['\"ABDULLAH', '  DANIEL N\"', 'FIREFIGHTER-EMT', 'FIRE', '$91764.00'], ['\"ABDULLAH', '  KEVIN\"', 'LIEUTENANT', 'FIRE', '$110370.00'], ['\"ABDULLAH', '  LAKENYA N\"', 'CROSSING GUARD', 'POLICE', '$16692.00'], ['\"ABDULLAH', '  RASHAD J\"', 'ELECTRICAL MECHANIC-AUTO-POLICE MTR MNT', 'GENERAL SERVICES', '$91520.00'], ['\"ABDUL-SHAKUR', '  TAHIR\"', 'GENERAL LABORER - DSS', 'STREETS & SAN', '$40560.00']]\n"
     ]
    }
   ],
   "source": [
    "# separando caracteres por colunas\n",
    "f = open('salarios.csv', 'r')\n",
    "data = f.read()\n",
    "rows = data.split('\\n') # '\\n' é um espaço separamos por espaço\n",
    "dados = []\n",
    "for row in rows:\n",
    "    split_row = row.split(',') # agora dentro de '' vamos separar por \",\" pois o arquivo é um csv\n",
    "    dados.append(split_row)\n",
    "\n",
    "print(dados)\n",
    "f.close()"
   ]
  },
  {
   "source": [
    "<h3><font color=#DAA520>.tell()</font></h3>\n",
    "Contar o número de caracteres"
   ],
   "cell_type": "markdown",
   "metadata": {}
  },
  {
   "cell_type": "code",
   "execution_count": 25,
   "metadata": {},
   "outputs": [
    {
     "output_type": "stream",
     "name": "stdout",
     "text": [
      "49\n"
     ]
    }
   ],
   "source": [
    "a = open('arquivo1.txt', 'r', encoding=\"utf-8\") \n",
    "a.read() # Se não ler o mesmo o .tell() não funciona\n",
    "print(a.tell())\n",
    "a.close()"
   ]
  },
  {
   "source": [
    "<h3><font color=#DAA520>.with open</font></h3>\n",
    "O método close() é executado automaticamente"
   ],
   "cell_type": "markdown",
   "metadata": {}
  },
  {
   "cell_type": "code",
   "execution_count": 28,
   "metadata": {},
   "outputs": [
    {
     "output_type": "stream",
     "name": "stdout",
     "text": [
      "Python é uma linguagem poderosa!Editando arquivo\n"
     ]
    }
   ],
   "source": [
    "with open('arquivo1.txt', 'r', encoding=\"utf-8\") as a:\n",
    "    conteudo = a.read()\n",
    "print(conteudo)"
   ]
  },
  {
   "source": [
    "<h2><font color=#00BFFF>Escrevendo no arquivos a(append)</font></h2>"
   ],
   "cell_type": "markdown",
   "metadata": {}
  },
  {
   "cell_type": "code",
   "execution_count": 35,
   "metadata": {},
   "outputs": [
    {
     "output_type": "stream",
     "name": "stdout",
     "text": [
      "Python é uma linguagem poderosa!Editando arquivo\nEditando arquivo!!!\nEditando arquivo!!!\nEditando arquivo!!!\nEditando arquivo!!!\nEditando arquivo!!!\nEditando arquivo!!!\n"
     ]
    }
   ],
   "source": [
    "with open('arquivo1.txt', 'a', encoding=\"utf-8\") as a:\n",
    "    a.write('\\nEditando arquivo!!!') #\\n é um enter, se iniciarmos com ele daremos um enter e apos isso escreveremos.\n",
    "# a.read() se usar este comando ira dar erro, lembre-se que .read() somente se abrir o arquivo como leitura ('r')\n",
    "with open('arquivo1.txt', 'r', encoding=\"utf-8\") as a:\n",
    "    print(a.read())"
   ]
  },
  {
   "source": [
    "<h2><font color=#00BFFF>Trabalhando em modo b(binário) (imagens)</font></h2>"
   ],
   "cell_type": "markdown",
   "metadata": {}
  },
  {
   "cell_type": "code",
   "execution_count": 41,
   "metadata": {
    "tags": []
   },
   "outputs": [],
   "source": [
    "# criando uma copia da imagem python-logo.png\n",
    "with open(\"python-logo.png\", \"rb\") as imagem:\n",
    "    data = imagem.read()\n",
    "\n",
    "with open(\"python-logo2.png\", \"wb\") as imagem2:\n",
    "    imagem2.write(data)\n"
   ]
  }
 ]
}