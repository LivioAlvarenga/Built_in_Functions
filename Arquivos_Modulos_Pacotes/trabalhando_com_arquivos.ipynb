{
 "cells": [
  {
   "cell_type": "markdown",
   "metadata": {},
   "source": [
    "# Trabalhando com Arquivos\n",
    "Tabela Modos de arquivo\n",
    "\n",
    "![Modos de arquivo](Tabela_Modos_de_arquivo_em_Python.png)"
   ]
  },
  {
   "cell_type": "markdown",
   "metadata": {},
   "source": [
    "# Métodos de uma lista usando biblioteca rich import inspect"
   ]
  },
  {
   "cell_type": "code",
   "execution_count": 3,
   "metadata": {},
   "outputs": [
    {
     "data": {
      "text/html": [
       "<pre style=\"white-space:pre;overflow-x:auto;line-height:normal;font-family:Menlo,'DejaVu Sans Mono',consolas,'Courier New',monospace\"><span style=\"color: #000080; text-decoration-color: #000080\">╭─────────────────────────────── </span><span style=\"color: #000080; text-decoration-color: #000080; font-weight: bold\">&lt;</span><span style=\"color: #ff00ff; text-decoration-color: #ff00ff; font-weight: bold\">class</span><span style=\"color: #000000; text-decoration-color: #000000\"> </span><span style=\"color: #008000; text-decoration-color: #008000\">'_io.TextIOWrapper'</span><span style=\"color: #000080; text-decoration-color: #000080; font-weight: bold\">&gt;</span><span style=\"color: #000080; text-decoration-color: #000080\"> ───────────────────────────────╮</span>\n",
       "<span style=\"color: #000080; text-decoration-color: #000080\">│</span> <span style=\"color: #008080; text-decoration-color: #008080\">Character and line based layer over a BufferedIOBase object, buffer.</span>                      <span style=\"color: #000080; text-decoration-color: #000080\">│</span>\n",
       "<span style=\"color: #000080; text-decoration-color: #000080\">│</span>                                                                                           <span style=\"color: #000080; text-decoration-color: #000080\">│</span>\n",
       "<span style=\"color: #000080; text-decoration-color: #000080\">│</span> <span style=\"color: #008000; text-decoration-color: #008000\">╭───────────────────────────────────────────────────────────────────────────────────────╮</span> <span style=\"color: #000080; text-decoration-color: #000080\">│</span>\n",
       "<span style=\"color: #000080; text-decoration-color: #000080\">│</span> <span style=\"color: #008000; text-decoration-color: #008000\">│</span> <span style=\"font-weight: bold\">&lt;</span><span style=\"color: #ff00ff; text-decoration-color: #ff00ff; font-weight: bold\">_io.TextIOWrapper</span><span style=\"color: #000000; text-decoration-color: #000000\"> </span><span style=\"color: #808000; text-decoration-color: #808000\">name</span><span style=\"color: #000000; text-decoration-color: #000000\">=</span><span style=\"color: #008000; text-decoration-color: #008000\">'arquivo1.txt'</span><span style=\"color: #000000; text-decoration-color: #000000\"> </span><span style=\"color: #808000; text-decoration-color: #808000\">mode</span><span style=\"color: #000000; text-decoration-color: #000000\">=</span><span style=\"color: #008000; text-decoration-color: #008000\">'wt+'</span><span style=\"color: #000000; text-decoration-color: #000000\"> </span><span style=\"color: #808000; text-decoration-color: #808000\">encoding</span><span style=\"color: #000000; text-decoration-color: #000000\">=</span><span style=\"color: #008000; text-decoration-color: #008000\">'cp1252'</span><span style=\"font-weight: bold\">&gt;</span>                  <span style=\"color: #008000; text-decoration-color: #008000\">│</span> <span style=\"color: #000080; text-decoration-color: #000080\">│</span>\n",
       "<span style=\"color: #000080; text-decoration-color: #000080\">│</span> <span style=\"color: #008000; text-decoration-color: #008000\">╰───────────────────────────────────────────────────────────────────────────────────────╯</span> <span style=\"color: #000080; text-decoration-color: #000080\">│</span>\n",
       "<span style=\"color: #000080; text-decoration-color: #000080\">│</span>                                                                                           <span style=\"color: #000080; text-decoration-color: #000080\">│</span>\n",
       "<span style=\"color: #000080; text-decoration-color: #000080\">│</span>         <span style=\"color: #808000; text-decoration-color: #808000; font-style: italic\">buffer</span> = <span style=\"font-weight: bold\">&lt;</span><span style=\"color: #ff00ff; text-decoration-color: #ff00ff; font-weight: bold\">_io.BufferedRandom</span><span style=\"color: #000000; text-decoration-color: #000000\"> </span><span style=\"color: #808000; text-decoration-color: #808000\">name</span><span style=\"color: #000000; text-decoration-color: #000000\">=</span><span style=\"color: #008000; text-decoration-color: #008000\">'arquivo1.txt'</span><span style=\"font-weight: bold\">&gt;</span>                                 <span style=\"color: #000080; text-decoration-color: #000080\">│</span>\n",
       "<span style=\"color: #000080; text-decoration-color: #000080\">│</span>         <span style=\"color: #808000; text-decoration-color: #808000; font-style: italic\">closed</span> = <span style=\"color: #ff0000; text-decoration-color: #ff0000; font-style: italic\">False</span>                                                                    <span style=\"color: #000080; text-decoration-color: #000080\">│</span>\n",
       "<span style=\"color: #000080; text-decoration-color: #000080\">│</span>       <span style=\"color: #808000; text-decoration-color: #808000; font-style: italic\">encoding</span> = <span style=\"color: #008000; text-decoration-color: #008000\">'cp1252'</span>                                                                 <span style=\"color: #000080; text-decoration-color: #000080\">│</span>\n",
       "<span style=\"color: #000080; text-decoration-color: #000080\">│</span>         <span style=\"color: #808000; text-decoration-color: #808000; font-style: italic\">errors</span> = <span style=\"color: #008000; text-decoration-color: #008000\">'strict'</span>                                                                 <span style=\"color: #000080; text-decoration-color: #000080\">│</span>\n",
       "<span style=\"color: #000080; text-decoration-color: #000080\">│</span> <span style=\"color: #808000; text-decoration-color: #808000; font-style: italic\">line_buffering</span> = <span style=\"color: #ff0000; text-decoration-color: #ff0000; font-style: italic\">False</span>                                                                    <span style=\"color: #000080; text-decoration-color: #000080\">│</span>\n",
       "<span style=\"color: #000080; text-decoration-color: #000080\">│</span>           <span style=\"color: #808000; text-decoration-color: #808000; font-style: italic\">mode</span> = <span style=\"color: #008000; text-decoration-color: #008000\">'wt+'</span>                                                                    <span style=\"color: #000080; text-decoration-color: #000080\">│</span>\n",
       "<span style=\"color: #000080; text-decoration-color: #000080\">│</span>           <span style=\"color: #808000; text-decoration-color: #808000; font-style: italic\">name</span> = <span style=\"color: #008000; text-decoration-color: #008000\">'arquivo1.txt'</span>                                                           <span style=\"color: #000080; text-decoration-color: #000080\">│</span>\n",
       "<span style=\"color: #000080; text-decoration-color: #000080\">│</span>       <span style=\"color: #808000; text-decoration-color: #808000; font-style: italic\">newlines</span> = <span style=\"color: #800080; text-decoration-color: #800080; font-style: italic\">None</span>                                                                     <span style=\"color: #000080; text-decoration-color: #000080\">│</span>\n",
       "<span style=\"color: #000080; text-decoration-color: #000080\">│</span>  <span style=\"color: #808000; text-decoration-color: #808000; font-style: italic\">write_through</span> = <span style=\"color: #ff0000; text-decoration-color: #ff0000; font-style: italic\">False</span>                                                                    <span style=\"color: #000080; text-decoration-color: #000080\">│</span>\n",
       "<span style=\"color: #000080; text-decoration-color: #000080\">│</span>          <span style=\"color: #808000; text-decoration-color: #808000; font-style: italic\">close</span> = <span style=\"color: #00ffff; text-decoration-color: #00ffff; font-style: italic\">def </span><span style=\"color: #800000; text-decoration-color: #800000; font-weight: bold\">close</span><span style=\"font-weight: bold\">()</span>: <span style=\"color: #7f7f7f; text-decoration-color: #7f7f7f\">Flush and close the IO object.</span>                              <span style=\"color: #000080; text-decoration-color: #000080\">│</span>\n",
       "<span style=\"color: #000080; text-decoration-color: #000080\">│</span>         <span style=\"color: #808000; text-decoration-color: #808000; font-style: italic\">detach</span> = <span style=\"color: #00ffff; text-decoration-color: #00ffff; font-style: italic\">def </span><span style=\"color: #800000; text-decoration-color: #800000; font-weight: bold\">detach</span><span style=\"font-weight: bold\">()</span>: <span style=\"color: #7f7f7f; text-decoration-color: #7f7f7f\">Separate the underlying buffer from the TextIOBase and </span>    <span style=\"color: #000080; text-decoration-color: #000080\">│</span>\n",
       "<span style=\"color: #000080; text-decoration-color: #000080\">│</span>                  <span style=\"color: #7f7f7f; text-decoration-color: #7f7f7f\">return it.</span>                                                               <span style=\"color: #000080; text-decoration-color: #000080\">│</span>\n",
       "<span style=\"color: #000080; text-decoration-color: #000080\">│</span>         <span style=\"color: #808000; text-decoration-color: #808000; font-style: italic\">fileno</span> = <span style=\"color: #00ffff; text-decoration-color: #00ffff; font-style: italic\">def </span><span style=\"color: #800000; text-decoration-color: #800000; font-weight: bold\">fileno</span><span style=\"font-weight: bold\">()</span>: <span style=\"color: #7f7f7f; text-decoration-color: #7f7f7f\">Returns underlying file descriptor if one exists.</span>          <span style=\"color: #000080; text-decoration-color: #000080\">│</span>\n",
       "<span style=\"color: #000080; text-decoration-color: #000080\">│</span>          <span style=\"color: #808000; text-decoration-color: #808000; font-style: italic\">flush</span> = <span style=\"color: #00ffff; text-decoration-color: #00ffff; font-style: italic\">def </span><span style=\"color: #800000; text-decoration-color: #800000; font-weight: bold\">flush</span><span style=\"font-weight: bold\">()</span>: <span style=\"color: #7f7f7f; text-decoration-color: #7f7f7f\">Flush write buffers, if applicable.</span>                         <span style=\"color: #000080; text-decoration-color: #000080\">│</span>\n",
       "<span style=\"color: #000080; text-decoration-color: #000080\">│</span>         <span style=\"color: #808000; text-decoration-color: #808000; font-style: italic\">isatty</span> = <span style=\"color: #00ffff; text-decoration-color: #00ffff; font-style: italic\">def </span><span style=\"color: #800000; text-decoration-color: #800000; font-weight: bold\">isatty</span><span style=\"font-weight: bold\">()</span>: <span style=\"color: #7f7f7f; text-decoration-color: #7f7f7f\">Return whether this is an </span><span style=\"color: #7fbf7f; text-decoration-color: #7fbf7f\">'interactive'</span><span style=\"color: #7f7f7f; text-decoration-color: #7f7f7f\"> stream.</span>            <span style=\"color: #000080; text-decoration-color: #000080\">│</span>\n",
       "<span style=\"color: #000080; text-decoration-color: #000080\">│</span>           <span style=\"color: #808000; text-decoration-color: #808000; font-style: italic\">read</span> = <span style=\"color: #00ffff; text-decoration-color: #00ffff; font-style: italic\">def </span><span style=\"color: #800000; text-decoration-color: #800000; font-weight: bold\">read</span><span style=\"font-weight: bold\">(</span><span style=\"color: #808000; text-decoration-color: #808000\">size</span>=<span style=\"color: #008080; text-decoration-color: #008080; font-weight: bold\">-1</span>, <span style=\"color: #800080; text-decoration-color: #800080\">/</span><span style=\"font-weight: bold\">)</span>: <span style=\"color: #7f7f7f; text-decoration-color: #7f7f7f\">Read at most n characters from stream.</span>             <span style=\"color: #000080; text-decoration-color: #000080\">│</span>\n",
       "<span style=\"color: #000080; text-decoration-color: #000080\">│</span>       <span style=\"color: #808000; text-decoration-color: #808000; font-style: italic\">readable</span> = <span style=\"color: #00ffff; text-decoration-color: #00ffff; font-style: italic\">def </span><span style=\"color: #800000; text-decoration-color: #800000; font-weight: bold\">readable</span><span style=\"font-weight: bold\">()</span>: <span style=\"color: #7f7f7f; text-decoration-color: #7f7f7f\">Return whether object was opened for reading.</span>            <span style=\"color: #000080; text-decoration-color: #000080\">│</span>\n",
       "<span style=\"color: #000080; text-decoration-color: #000080\">│</span>       <span style=\"color: #808000; text-decoration-color: #808000; font-style: italic\">readline</span> = <span style=\"color: #00ffff; text-decoration-color: #00ffff; font-style: italic\">def </span><span style=\"color: #800000; text-decoration-color: #800000; font-weight: bold\">readline</span><span style=\"font-weight: bold\">(</span><span style=\"color: #808000; text-decoration-color: #808000\">size</span>=<span style=\"color: #008080; text-decoration-color: #008080; font-weight: bold\">-1</span>, <span style=\"color: #800080; text-decoration-color: #800080\">/</span><span style=\"font-weight: bold\">)</span>: <span style=\"color: #7f7f7f; text-decoration-color: #7f7f7f\">Read until newline or EOF.</span>                     <span style=\"color: #000080; text-decoration-color: #000080\">│</span>\n",
       "<span style=\"color: #000080; text-decoration-color: #000080\">│</span>      <span style=\"color: #808000; text-decoration-color: #808000; font-style: italic\">readlines</span> = <span style=\"color: #00ffff; text-decoration-color: #00ffff; font-style: italic\">def </span><span style=\"color: #800000; text-decoration-color: #800000; font-weight: bold\">readlines</span><span style=\"font-weight: bold\">(</span><span style=\"color: #808000; text-decoration-color: #808000\">hint</span>=<span style=\"color: #008080; text-decoration-color: #008080; font-weight: bold\">-1</span>, <span style=\"color: #800080; text-decoration-color: #800080\">/</span><span style=\"font-weight: bold\">)</span>: <span style=\"color: #7f7f7f; text-decoration-color: #7f7f7f\">Return a list of lines from the stream.</span>       <span style=\"color: #000080; text-decoration-color: #000080\">│</span>\n",
       "<span style=\"color: #000080; text-decoration-color: #000080\">│</span>    <span style=\"color: #808000; text-decoration-color: #808000; font-style: italic\">reconfigure</span> = <span style=\"color: #00ffff; text-decoration-color: #00ffff; font-style: italic\">def </span><span style=\"color: #800000; text-decoration-color: #800000; font-weight: bold\">reconfigure</span><span style=\"font-weight: bold\">(</span>*, <span style=\"color: #808000; text-decoration-color: #808000\">encoding</span>=<span style=\"color: #800080; text-decoration-color: #800080; font-style: italic\">None</span>, <span style=\"color: #808000; text-decoration-color: #808000\">errors</span>=<span style=\"color: #800080; text-decoration-color: #800080; font-style: italic\">None</span>, <span style=\"color: #808000; text-decoration-color: #808000\">newline</span>=<span style=\"color: #800080; text-decoration-color: #800080; font-style: italic\">None</span>,             <span style=\"color: #000080; text-decoration-color: #000080\">│</span>\n",
       "<span style=\"color: #000080; text-decoration-color: #000080\">│</span>                  <span style=\"color: #808000; text-decoration-color: #808000\">line_buffering</span>=<span style=\"color: #800080; text-decoration-color: #800080; font-style: italic\">None</span>, <span style=\"color: #808000; text-decoration-color: #808000\">write_through</span>=<span style=\"color: #800080; text-decoration-color: #800080; font-style: italic\">None</span><span style=\"font-weight: bold\">)</span>: <span style=\"color: #7f7f7f; text-decoration-color: #7f7f7f\">Reconfigure the text stream </span>   <span style=\"color: #000080; text-decoration-color: #000080\">│</span>\n",
       "<span style=\"color: #000080; text-decoration-color: #000080\">│</span>                  <span style=\"color: #7f7f7f; text-decoration-color: #7f7f7f\">with new parameters.</span>                                                     <span style=\"color: #000080; text-decoration-color: #000080\">│</span>\n",
       "<span style=\"color: #000080; text-decoration-color: #000080\">│</span>           <span style=\"color: #808000; text-decoration-color: #808000; font-style: italic\">seek</span> = <span style=\"color: #00ffff; text-decoration-color: #00ffff; font-style: italic\">def </span><span style=\"color: #800000; text-decoration-color: #800000; font-weight: bold\">seek</span><span style=\"font-weight: bold\">(</span>cookie, <span style=\"color: #808000; text-decoration-color: #808000\">whence</span>=<span style=\"color: #008080; text-decoration-color: #008080; font-weight: bold\">0</span>, <span style=\"color: #800080; text-decoration-color: #800080\">/</span><span style=\"font-weight: bold\">)</span>: <span style=\"color: #7f7f7f; text-decoration-color: #7f7f7f\">Change stream position.</span>                   <span style=\"color: #000080; text-decoration-color: #000080\">│</span>\n",
       "<span style=\"color: #000080; text-decoration-color: #000080\">│</span>       <span style=\"color: #808000; text-decoration-color: #808000; font-style: italic\">seekable</span> = <span style=\"color: #00ffff; text-decoration-color: #00ffff; font-style: italic\">def </span><span style=\"color: #800000; text-decoration-color: #800000; font-weight: bold\">seekable</span><span style=\"font-weight: bold\">()</span>: <span style=\"color: #7f7f7f; text-decoration-color: #7f7f7f\">Return whether object supports random access.</span>            <span style=\"color: #000080; text-decoration-color: #000080\">│</span>\n",
       "<span style=\"color: #000080; text-decoration-color: #000080\">│</span>           <span style=\"color: #808000; text-decoration-color: #808000; font-style: italic\">tell</span> = <span style=\"color: #00ffff; text-decoration-color: #00ffff; font-style: italic\">def </span><span style=\"color: #800000; text-decoration-color: #800000; font-weight: bold\">tell</span><span style=\"font-weight: bold\">()</span>: <span style=\"color: #7f7f7f; text-decoration-color: #7f7f7f\">Return current stream position.</span>                              <span style=\"color: #000080; text-decoration-color: #000080\">│</span>\n",
       "<span style=\"color: #000080; text-decoration-color: #000080\">│</span>       <span style=\"color: #808000; text-decoration-color: #808000; font-style: italic\">truncate</span> = <span style=\"color: #00ffff; text-decoration-color: #00ffff; font-style: italic\">def </span><span style=\"color: #800000; text-decoration-color: #800000; font-weight: bold\">truncate</span><span style=\"font-weight: bold\">(</span><span style=\"color: #808000; text-decoration-color: #808000\">pos</span>=<span style=\"color: #800080; text-decoration-color: #800080; font-style: italic\">None</span>, <span style=\"color: #800080; text-decoration-color: #800080\">/</span><span style=\"font-weight: bold\">)</span>: <span style=\"color: #7f7f7f; text-decoration-color: #7f7f7f\">Truncate file to size bytes.</span>                  <span style=\"color: #000080; text-decoration-color: #000080\">│</span>\n",
       "<span style=\"color: #000080; text-decoration-color: #000080\">│</span>       <span style=\"color: #808000; text-decoration-color: #808000; font-style: italic\">writable</span> = <span style=\"color: #00ffff; text-decoration-color: #00ffff; font-style: italic\">def </span><span style=\"color: #800000; text-decoration-color: #800000; font-weight: bold\">writable</span><span style=\"font-weight: bold\">()</span>: <span style=\"color: #7f7f7f; text-decoration-color: #7f7f7f\">Return whether object was opened for writing.</span>            <span style=\"color: #000080; text-decoration-color: #000080\">│</span>\n",
       "<span style=\"color: #000080; text-decoration-color: #000080\">│</span>          <span style=\"color: #808000; text-decoration-color: #808000; font-style: italic\">write</span> = <span style=\"color: #00ffff; text-decoration-color: #00ffff; font-style: italic\">def </span><span style=\"color: #800000; text-decoration-color: #800000; font-weight: bold\">write</span><span style=\"font-weight: bold\">(</span>text, <span style=\"color: #800080; text-decoration-color: #800080\">/</span><span style=\"font-weight: bold\">)</span>:                                                      <span style=\"color: #000080; text-decoration-color: #000080\">│</span>\n",
       "<span style=\"color: #000080; text-decoration-color: #000080\">│</span>                  <span style=\"color: #7f7f7f; text-decoration-color: #7f7f7f\">Write string to stream.</span>                                                  <span style=\"color: #000080; text-decoration-color: #000080\">│</span>\n",
       "<span style=\"color: #000080; text-decoration-color: #000080\">│</span>                  <span style=\"color: #7f7f7f; text-decoration-color: #7f7f7f\">Returns the number of characters written </span><span style=\"color: #7f7f7f; text-decoration-color: #7f7f7f; font-weight: bold\">(</span><span style=\"color: #7f7f7f; text-decoration-color: #7f7f7f\">which is always equal to</span>       <span style=\"color: #000080; text-decoration-color: #000080\">│</span>\n",
       "<span style=\"color: #000080; text-decoration-color: #000080\">│</span>                  <span style=\"color: #7f7f7f; text-decoration-color: #7f7f7f\">the length of the string</span><span style=\"color: #7f7f7f; text-decoration-color: #7f7f7f; font-weight: bold\">)</span><span style=\"color: #7f7f7f; text-decoration-color: #7f7f7f\">.</span>                                               <span style=\"color: #000080; text-decoration-color: #000080\">│</span>\n",
       "<span style=\"color: #000080; text-decoration-color: #000080\">│</span>     <span style=\"color: #808000; text-decoration-color: #808000; font-style: italic\">writelines</span> = <span style=\"color: #00ffff; text-decoration-color: #00ffff; font-style: italic\">def </span><span style=\"color: #800000; text-decoration-color: #800000; font-weight: bold\">writelines</span><span style=\"font-weight: bold\">(</span>lines, <span style=\"color: #800080; text-decoration-color: #800080\">/</span><span style=\"font-weight: bold\">)</span>: <span style=\"color: #7f7f7f; text-decoration-color: #7f7f7f\">Write a list of lines to stream.</span>               <span style=\"color: #000080; text-decoration-color: #000080\">│</span>\n",
       "<span style=\"color: #000080; text-decoration-color: #000080\">╰───────────────────────────────────────────────────────────────────────────────────────────╯</span>\n",
       "</pre>\n"
      ],
      "text/plain": [
       "\u001b[34m╭─\u001b[0m\u001b[34m────────────────────────────── \u001b[0m\u001b[1;34m<\u001b[0m\u001b[1;95mclass\u001b[0m\u001b[39m \u001b[0m\u001b[32m'_io.TextIOWrapper'\u001b[0m\u001b[1;34m>\u001b[0m\u001b[34m ──────────────────────────────\u001b[0m\u001b[34m─╮\u001b[0m\n",
       "\u001b[34m│\u001b[0m \u001b[36mCharacter and line based layer over a BufferedIOBase object, buffer.\u001b[0m                      \u001b[34m│\u001b[0m\n",
       "\u001b[34m│\u001b[0m                                                                                           \u001b[34m│\u001b[0m\n",
       "\u001b[34m│\u001b[0m \u001b[32m╭───────────────────────────────────────────────────────────────────────────────────────╮\u001b[0m \u001b[34m│\u001b[0m\n",
       "\u001b[34m│\u001b[0m \u001b[32m│\u001b[0m \u001b[1m<\u001b[0m\u001b[1;95m_io.TextIOWrapper\u001b[0m\u001b[39m \u001b[0m\u001b[33mname\u001b[0m\u001b[39m=\u001b[0m\u001b[32m'arquivo1.txt'\u001b[0m\u001b[39m \u001b[0m\u001b[33mmode\u001b[0m\u001b[39m=\u001b[0m\u001b[32m'wt+'\u001b[0m\u001b[39m \u001b[0m\u001b[33mencoding\u001b[0m\u001b[39m=\u001b[0m\u001b[32m'cp1252'\u001b[0m\u001b[1m>\u001b[0m                  \u001b[32m│\u001b[0m \u001b[34m│\u001b[0m\n",
       "\u001b[34m│\u001b[0m \u001b[32m╰───────────────────────────────────────────────────────────────────────────────────────╯\u001b[0m \u001b[34m│\u001b[0m\n",
       "\u001b[34m│\u001b[0m                                                                                           \u001b[34m│\u001b[0m\n",
       "\u001b[34m│\u001b[0m         \u001b[3;33mbuffer\u001b[0m = \u001b[1m<\u001b[0m\u001b[1;95m_io.BufferedRandom\u001b[0m\u001b[39m \u001b[0m\u001b[33mname\u001b[0m\u001b[39m=\u001b[0m\u001b[32m'arquivo1.txt'\u001b[0m\u001b[1m>\u001b[0m                                 \u001b[34m│\u001b[0m\n",
       "\u001b[34m│\u001b[0m         \u001b[3;33mclosed\u001b[0m = \u001b[3;91mFalse\u001b[0m                                                                    \u001b[34m│\u001b[0m\n",
       "\u001b[34m│\u001b[0m       \u001b[3;33mencoding\u001b[0m = \u001b[32m'cp1252'\u001b[0m                                                                 \u001b[34m│\u001b[0m\n",
       "\u001b[34m│\u001b[0m         \u001b[3;33merrors\u001b[0m = \u001b[32m'strict'\u001b[0m                                                                 \u001b[34m│\u001b[0m\n",
       "\u001b[34m│\u001b[0m \u001b[3;33mline_buffering\u001b[0m = \u001b[3;91mFalse\u001b[0m                                                                    \u001b[34m│\u001b[0m\n",
       "\u001b[34m│\u001b[0m           \u001b[3;33mmode\u001b[0m = \u001b[32m'wt+'\u001b[0m                                                                    \u001b[34m│\u001b[0m\n",
       "\u001b[34m│\u001b[0m           \u001b[3;33mname\u001b[0m = \u001b[32m'arquivo1.txt'\u001b[0m                                                           \u001b[34m│\u001b[0m\n",
       "\u001b[34m│\u001b[0m       \u001b[3;33mnewlines\u001b[0m = \u001b[3;35mNone\u001b[0m                                                                     \u001b[34m│\u001b[0m\n",
       "\u001b[34m│\u001b[0m  \u001b[3;33mwrite_through\u001b[0m = \u001b[3;91mFalse\u001b[0m                                                                    \u001b[34m│\u001b[0m\n",
       "\u001b[34m│\u001b[0m          \u001b[3;33mclose\u001b[0m = \u001b[3;96mdef \u001b[0m\u001b[1;31mclose\u001b[0m\u001b[1m(\u001b[0m\u001b[1m)\u001b[0m: \u001b[2mFlush and close the IO object.\u001b[0m                              \u001b[34m│\u001b[0m\n",
       "\u001b[34m│\u001b[0m         \u001b[3;33mdetach\u001b[0m = \u001b[3;96mdef \u001b[0m\u001b[1;31mdetach\u001b[0m\u001b[1m(\u001b[0m\u001b[1m)\u001b[0m: \u001b[2mSeparate the underlying buffer from the TextIOBase and \u001b[0m    \u001b[34m│\u001b[0m\n",
       "\u001b[34m│\u001b[0m                  \u001b[2mreturn it.\u001b[0m                                                               \u001b[34m│\u001b[0m\n",
       "\u001b[34m│\u001b[0m         \u001b[3;33mfileno\u001b[0m = \u001b[3;96mdef \u001b[0m\u001b[1;31mfileno\u001b[0m\u001b[1m(\u001b[0m\u001b[1m)\u001b[0m: \u001b[2mReturns underlying file descriptor if one exists.\u001b[0m          \u001b[34m│\u001b[0m\n",
       "\u001b[34m│\u001b[0m          \u001b[3;33mflush\u001b[0m = \u001b[3;96mdef \u001b[0m\u001b[1;31mflush\u001b[0m\u001b[1m(\u001b[0m\u001b[1m)\u001b[0m: \u001b[2mFlush write buffers, if applicable.\u001b[0m                         \u001b[34m│\u001b[0m\n",
       "\u001b[34m│\u001b[0m         \u001b[3;33misatty\u001b[0m = \u001b[3;96mdef \u001b[0m\u001b[1;31misatty\u001b[0m\u001b[1m(\u001b[0m\u001b[1m)\u001b[0m: \u001b[2mReturn whether this is an \u001b[0m\u001b[2;32m'interactive'\u001b[0m\u001b[2m stream.\u001b[0m            \u001b[34m│\u001b[0m\n",
       "\u001b[34m│\u001b[0m           \u001b[3;33mread\u001b[0m = \u001b[3;96mdef \u001b[0m\u001b[1;31mread\u001b[0m\u001b[1m(\u001b[0m\u001b[33msize\u001b[0m=\u001b[1;36m-1\u001b[0m, \u001b[35m/\u001b[0m\u001b[1m)\u001b[0m: \u001b[2mRead at most n characters from stream.\u001b[0m             \u001b[34m│\u001b[0m\n",
       "\u001b[34m│\u001b[0m       \u001b[3;33mreadable\u001b[0m = \u001b[3;96mdef \u001b[0m\u001b[1;31mreadable\u001b[0m\u001b[1m(\u001b[0m\u001b[1m)\u001b[0m: \u001b[2mReturn whether object was opened for reading.\u001b[0m            \u001b[34m│\u001b[0m\n",
       "\u001b[34m│\u001b[0m       \u001b[3;33mreadline\u001b[0m = \u001b[3;96mdef \u001b[0m\u001b[1;31mreadline\u001b[0m\u001b[1m(\u001b[0m\u001b[33msize\u001b[0m=\u001b[1;36m-1\u001b[0m, \u001b[35m/\u001b[0m\u001b[1m)\u001b[0m: \u001b[2mRead until newline or EOF.\u001b[0m                     \u001b[34m│\u001b[0m\n",
       "\u001b[34m│\u001b[0m      \u001b[3;33mreadlines\u001b[0m = \u001b[3;96mdef \u001b[0m\u001b[1;31mreadlines\u001b[0m\u001b[1m(\u001b[0m\u001b[33mhint\u001b[0m=\u001b[1;36m-1\u001b[0m, \u001b[35m/\u001b[0m\u001b[1m)\u001b[0m: \u001b[2mReturn a list of lines from the stream.\u001b[0m       \u001b[34m│\u001b[0m\n",
       "\u001b[34m│\u001b[0m    \u001b[3;33mreconfigure\u001b[0m = \u001b[3;96mdef \u001b[0m\u001b[1;31mreconfigure\u001b[0m\u001b[1m(\u001b[0m*, \u001b[33mencoding\u001b[0m=\u001b[3;35mNone\u001b[0m, \u001b[33merrors\u001b[0m=\u001b[3;35mNone\u001b[0m, \u001b[33mnewline\u001b[0m=\u001b[3;35mNone\u001b[0m,             \u001b[34m│\u001b[0m\n",
       "\u001b[34m│\u001b[0m                  \u001b[33mline_buffering\u001b[0m=\u001b[3;35mNone\u001b[0m, \u001b[33mwrite_through\u001b[0m=\u001b[3;35mNone\u001b[0m\u001b[1m)\u001b[0m: \u001b[2mReconfigure the text stream \u001b[0m   \u001b[34m│\u001b[0m\n",
       "\u001b[34m│\u001b[0m                  \u001b[2mwith new parameters.\u001b[0m                                                     \u001b[34m│\u001b[0m\n",
       "\u001b[34m│\u001b[0m           \u001b[3;33mseek\u001b[0m = \u001b[3;96mdef \u001b[0m\u001b[1;31mseek\u001b[0m\u001b[1m(\u001b[0mcookie, \u001b[33mwhence\u001b[0m=\u001b[1;36m0\u001b[0m, \u001b[35m/\u001b[0m\u001b[1m)\u001b[0m: \u001b[2mChange stream position.\u001b[0m                   \u001b[34m│\u001b[0m\n",
       "\u001b[34m│\u001b[0m       \u001b[3;33mseekable\u001b[0m = \u001b[3;96mdef \u001b[0m\u001b[1;31mseekable\u001b[0m\u001b[1m(\u001b[0m\u001b[1m)\u001b[0m: \u001b[2mReturn whether object supports random access.\u001b[0m            \u001b[34m│\u001b[0m\n",
       "\u001b[34m│\u001b[0m           \u001b[3;33mtell\u001b[0m = \u001b[3;96mdef \u001b[0m\u001b[1;31mtell\u001b[0m\u001b[1m(\u001b[0m\u001b[1m)\u001b[0m: \u001b[2mReturn current stream position.\u001b[0m                              \u001b[34m│\u001b[0m\n",
       "\u001b[34m│\u001b[0m       \u001b[3;33mtruncate\u001b[0m = \u001b[3;96mdef \u001b[0m\u001b[1;31mtruncate\u001b[0m\u001b[1m(\u001b[0m\u001b[33mpos\u001b[0m=\u001b[3;35mNone\u001b[0m, \u001b[35m/\u001b[0m\u001b[1m)\u001b[0m: \u001b[2mTruncate file to size bytes.\u001b[0m                  \u001b[34m│\u001b[0m\n",
       "\u001b[34m│\u001b[0m       \u001b[3;33mwritable\u001b[0m = \u001b[3;96mdef \u001b[0m\u001b[1;31mwritable\u001b[0m\u001b[1m(\u001b[0m\u001b[1m)\u001b[0m: \u001b[2mReturn whether object was opened for writing.\u001b[0m            \u001b[34m│\u001b[0m\n",
       "\u001b[34m│\u001b[0m          \u001b[3;33mwrite\u001b[0m = \u001b[3;96mdef \u001b[0m\u001b[1;31mwrite\u001b[0m\u001b[1m(\u001b[0mtext, \u001b[35m/\u001b[0m\u001b[1m)\u001b[0m:                                                      \u001b[34m│\u001b[0m\n",
       "\u001b[34m│\u001b[0m                  \u001b[2mWrite string to stream.\u001b[0m                                                  \u001b[34m│\u001b[0m\n",
       "\u001b[34m│\u001b[0m                  \u001b[2mReturns the number of characters written \u001b[0m\u001b[1;2m(\u001b[0m\u001b[2mwhich is always equal to\u001b[0m       \u001b[34m│\u001b[0m\n",
       "\u001b[34m│\u001b[0m                  \u001b[2mthe length of the string\u001b[0m\u001b[1;2m)\u001b[0m\u001b[2m.\u001b[0m                                               \u001b[34m│\u001b[0m\n",
       "\u001b[34m│\u001b[0m     \u001b[3;33mwritelines\u001b[0m = \u001b[3;96mdef \u001b[0m\u001b[1;31mwritelines\u001b[0m\u001b[1m(\u001b[0mlines, \u001b[35m/\u001b[0m\u001b[1m)\u001b[0m: \u001b[2mWrite a list of lines to stream.\u001b[0m               \u001b[34m│\u001b[0m\n",
       "\u001b[34m╰───────────────────────────────────────────────────────────────────────────────────────────╯\u001b[0m\n"
      ]
     },
     "metadata": {},
     "output_type": "display_data"
    }
   ],
   "source": [
    "from rich import inspect\n",
    "a = open('arquivo1.txt', 'wt+')\n",
    "inspect(a, methods=True)"
   ]
  },
  {
   "cell_type": "markdown",
   "metadata": {},
   "source": [
    "# Criando Arquivo w(write) e x\n",
    "# .close()"
   ]
  },
  {
   "cell_type": "code",
   "execution_count": 1,
   "metadata": {},
   "outputs": [],
   "source": [
    "# cria arquivo ou abre apagando os dados de qualquer arquivo existente\n",
    "a = open('arquivo1.txt', 'wt+') # w(write text) + (se não existir o arquivo crie) (t decodifica os caracteres Unicode-é default não precisa colocar)\n",
    "a.close()"
   ]
  },
  {
   "cell_type": "code",
   "execution_count": 14,
   "metadata": {},
   "outputs": [
    {
     "ename": "FileExistsError",
     "evalue": "[Errno 17] File exists: 'arquivo1.txt'",
     "output_type": "error",
     "traceback": [
      "\u001b[1;31m---------------------------------------------------------------------------\u001b[0m",
      "\u001b[1;31mFileExistsError\u001b[0m                           Traceback (most recent call last)",
      "\u001b[1;32m<ipython-input-14-8a8de0e8b4cd>\u001b[0m in \u001b[0;36m<module>\u001b[1;34m\u001b[0m\n\u001b[0;32m      1\u001b[0m \u001b[1;31m# cria arquivo, mas falha se o mesmo ja existir\u001b[0m\u001b[1;33m\u001b[0m\u001b[1;33m\u001b[0m\u001b[1;33m\u001b[0m\u001b[0m\n\u001b[1;32m----> 2\u001b[1;33m \u001b[0ma\u001b[0m \u001b[1;33m=\u001b[0m \u001b[0mopen\u001b[0m\u001b[1;33m(\u001b[0m\u001b[1;34m'arquivo1.txt'\u001b[0m\u001b[1;33m,\u001b[0m \u001b[1;34m'x'\u001b[0m\u001b[1;33m)\u001b[0m\u001b[1;33m\u001b[0m\u001b[1;33m\u001b[0m\u001b[0m\n\u001b[0m\u001b[0;32m      3\u001b[0m \u001b[0ma\u001b[0m\u001b[1;33m.\u001b[0m\u001b[0mclose\u001b[0m\u001b[1;33m(\u001b[0m\u001b[1;33m)\u001b[0m\u001b[1;33m\u001b[0m\u001b[1;33m\u001b[0m\u001b[0m\n",
      "\u001b[1;31mFileExistsError\u001b[0m: [Errno 17] File exists: 'arquivo1.txt'"
     ]
    }
   ],
   "source": [
    "# cria arquivo, mas falha se o mesmo ja existir\n",
    "a = open('arquivo1.txt', 'x')\n",
    "a.close()"
   ]
  },
  {
   "cell_type": "markdown",
   "metadata": {},
   "source": [
    "# .writefile()\n",
    "Criar arquivo pelo Jupyter Notebook"
   ]
  },
  {
   "cell_type": "code",
   "execution_count": 4,
   "metadata": {},
   "outputs": [
    {
     "name": "stdout",
     "output_type": "stream",
     "text": [
      "Writing teste.txt\n"
     ]
    }
   ],
   "source": [
    "%%writefile teste.txt\n",
    "Olá este arquivo foi gerado pelo próprio Jupyter Notebook.\n",
    "Podemos gerar quantas linhas quisermos e o Jupyter gera o arquivo final.\n",
    "la...\n",
    "la...."
   ]
  },
  {
   "cell_type": "markdown",
   "metadata": {},
   "source": [
    "# Abrindo/Lendo arquivos r(read)"
   ]
  },
  {
   "cell_type": "code",
   "execution_count": 1,
   "metadata": {},
   "outputs": [],
   "source": [
    "#Abre arquivo como leitura\n",
    "a = open('arquivo1.txt', 'r' ,encoding=\"utf-8\") # rt(read text) (,encoding=\"utf-8\")\n",
    "a.close()"
   ]
  },
  {
   "cell_type": "code",
   "execution_count": 15,
   "metadata": {},
   "outputs": [],
   "source": [
    "#Abre arquivo como escrita e não apaga o anterior\n",
    "a = open('arquivo1.txt', 'a') # at(append text)\n",
    "a.close()"
   ]
  },
  {
   "cell_type": "markdown",
   "metadata": {},
   "source": [
    "# .read() e encoding=\"utf-8\"\n",
    "O método read() somente funciona se abrir o arquivo como leitura ('r')\n",
    "\n",
    "Ao abrir o arquivo com uma codificação diferente da que ele foi escrito, alguns caracteres podem apresentar erros, ou, em alguns sistemas operacionais, como no Mac OS, pode ser lançada uma exceção\n",
    "\n",
    "Tipos de encoding:\n",
    "https://docs.python.org/3/library/codecs.html#standard-encodings"
   ]
  },
  {
   "cell_type": "code",
   "execution_count": 17,
   "metadata": {},
   "outputs": [
    {
     "name": "stdout",
     "output_type": "stream",
     "text": [
      "Olá este arquivo foi gerado pelo próprio Jupyter Notebook.\n",
      "Podemos gerar quantas linhas quisermos e o Jupyter gera o arquivo final.\n",
      "la...\n",
      "la....\n",
      "\n"
     ]
    }
   ],
   "source": [
    "arq4 = open(\"teste.txt\", 'r',encoding=\"utf-8\")\n",
    "print(arq4.read())\n"
   ]
  },
  {
   "cell_type": "code",
   "execution_count": 19,
   "metadata": {},
   "outputs": [
    {
     "name": "stdout",
     "output_type": "stream",
     "text": [
      "Python é uma linguagem poderosa!Editando arquivo\n",
      "Python Ã© uma linguagem poderosa!Editando arquivo\n"
     ]
    }
   ],
   "source": [
    "a = open('arquivo1.txt', 'rt',encoding=\"utf-8\") # (,encoding=\"utf-8\") mostra as acentuações\n",
    "print(a.read())\n",
    "a = open('arquivo1.txt', 'rt')\n",
    "print(a.read())\n",
    "a.close()"
   ]
  },
  {
   "cell_type": "code",
   "execution_count": 20,
   "metadata": {},
   "outputs": [
    {
     "name": "stdout",
     "output_type": "stream",
     "text": [
      "Pyt\n"
     ]
    }
   ],
   "source": [
    "a = open('arquivo1.txt', 'rt',encoding=\"utf-8\")\n",
    "print(a.read(3)) # Lendo os três primeiros caracteres\n",
    "a.close()"
   ]
  },
  {
   "cell_type": "markdown",
   "metadata": {},
   "source": [
    "# .read() e encoding=\"latin_1\"\n",
    "O método read() somente funciona se abrir o arquivo como leitura ('r')\n",
    "\n",
    "Ao abrir o arquivo com uma codificação diferente da que ele foi escrito, alguns caracteres podem apresentar erros, ou, em alguns sistemas operacionais, como no Mac OS, pode ser lançada uma exceção\n",
    "\n",
    "Tipos de encoding:\n",
    "https://docs.python.org/3/library/codecs.html#standard-encodings"
   ]
  },
  {
   "cell_type": "code",
   "execution_count": 3,
   "metadata": {},
   "outputs": [
    {
     "name": "stdout",
     "output_type": "stream",
     "text": [
      "1,Guilherme,guilherme@guilherme.com.br\n",
      "2,Elias,elias@elias.com.br\n",
      "3,Gabriel,gabriel@gabriel.com.br\n",
      "4,Anderson,anderson@anderson.com.br\n",
      "5,Alex,alex@alex.com.br\n",
      "6,Vini,vini@vini.com.br\n",
      "7,Letícia,leticia@leticia.com.br\n",
      "8,Giulia,giulia@giulia.com.br\n",
      "9,Felipe,felipe@felipe.com.br\n",
      "10,Luísa,luisa@luisa\n",
      "\n"
     ]
    }
   ],
   "source": [
    "a = open('contatos.csv', encoding='latin_1')\n",
    "print(a.read())\n",
    "a.close()"
   ]
  },
  {
   "cell_type": "markdown",
   "metadata": {},
   "source": [
    "# .readlines()\n",
    "readlines ler linha por linha e coloca em uma lista"
   ]
  },
  {
   "cell_type": "code",
   "execution_count": 21,
   "metadata": {},
   "outputs": [
    {
     "name": "stdout",
     "output_type": "stream",
     "text": [
      "Olá este arquivo foi gerado pelo próprio Jupyter Notebook.\n",
      "Podemos gerar quantas linhas quisermos e o Jupyter gera o arquivo final.\n",
      "la...\n",
      "la....\n",
      "\n",
      "['Olá este arquivo foi gerado pelo próprio Jupyter Notebook.\\n', 'Podemos gerar quantas linhas quisermos e o Jupyter gera o arquivo final.\\n', 'la...\\n', 'la....\\n']\n"
     ]
    }
   ],
   "source": [
    "a = open(\"teste.txt\", 'r',encoding=\"utf-8\")\n",
    "print(a.read())\n",
    "a.seek(0)\n",
    "print(a.readlines())\n",
    "a.close()"
   ]
  },
  {
   "cell_type": "markdown",
   "metadata": {},
   "source": [
    "# readline() Vs readlines()\n",
    "\n",
    "readline() - ler somente uma linha\n",
    "\n",
    "readlines() - coloca todas as linhas em um lista"
   ]
  },
  {
   "cell_type": "code",
   "execution_count": 8,
   "metadata": {},
   "outputs": [
    {
     "name": "stdout",
     "output_type": "stream",
     "text": [
      "1,Guilherme,guilherme@guilherme.com.br\n",
      "\n",
      "conteudo = 88 bytes\n"
     ]
    }
   ],
   "source": [
    "# Testando readline()\n",
    "from sys import getsizeof\n",
    "\n",
    "with open('contatos.csv', 'r', encoding='latin_1') as a:\n",
    "    conteudo = a.readline()\n",
    "print(conteudo)\n",
    "print(f'conteudo = {getsizeof(conteudo)} bytes')"
   ]
  },
  {
   "cell_type": "code",
   "execution_count": 9,
   "metadata": {},
   "outputs": [
    {
     "name": "stdout",
     "output_type": "stream",
     "text": [
      "['1,Guilherme,guilherme@guilherme.com.br\\n', '2,Elias,elias@elias.com.br\\n', '3,Gabriel,gabriel@gabriel.com.br\\n', '4,Anderson,anderson@anderson.com.br\\n', '5,Alex,alex@alex.com.br\\n', '6,Vini,vini@vini.com.br\\n', '7,Letícia,leticia@leticia.com.br\\n', '8,Giulia,giulia@giulia.com.br\\n', '9,Felipe,felipe@felipe.com.br\\n', '10,Luísa,luisa@luisa\\n']\n",
      "conteudo = 184 bytes\n"
     ]
    }
   ],
   "source": [
    "# Testando readlines()\n",
    "from sys import getsizeof\n",
    "\n",
    "with open('contatos.csv', 'r', encoding='latin_1') as a:\n",
    "    conteudo = a.readlines()\n",
    "print(conteudo)\n",
    "print(f'conteudo = {getsizeof(conteudo)} bytes')"
   ]
  },
  {
   "cell_type": "markdown",
   "metadata": {},
   "source": [
    "# .seek()"
   ]
  },
  {
   "cell_type": "code",
   "execution_count": 18,
   "metadata": {},
   "outputs": [
    {
     "name": "stdout",
     "output_type": "stream",
     "text": [
      "Lendo o arquivo a primeira vez:\n",
      "\n",
      "Olá este arquivo foi gerado pelo próprio Jupyter Notebook.\n",
      "Podemos gerar quantas linhas quisermos e o Jupyter gera o arquivo final.\n",
      "la...\n",
      "la....\n",
      "\n",
      "Tentando ler novamente e não conseguimos\n",
      "\n",
      "\n",
      "Após o uso do seek conseguimos ler novamente!\n",
      "\n",
      "Olá este arquivo foi gerado pelo próprio Jupyter Notebook.\n",
      "Podemos gerar quantas linhas quisermos e o Jupyter gera o arquivo final.\n",
      "la...\n",
      "la....\n",
      "\n"
     ]
    }
   ],
   "source": [
    "arq4 = open(\"teste.txt\", 'r',encoding=\"utf-8\")\n",
    "print(f'Lendo o arquivo a primeira vez:\\n\\n{arq4.read()}')\n",
    "print(f'Tentando ler novamente e não conseguimos\\n\\n{arq4.read()}') # como ja lemos o arquivo ate o final temos que retornar com seek()\n",
    "arq4.seek(0)\n",
    "print(f'Após o uso do seek conseguimos ler novamente!\\n\\n{arq4.read()}')"
   ]
  },
  {
   "cell_type": "markdown",
   "metadata": {},
   "source": [
    "# .split()\n",
    "separar os caracteres"
   ]
  },
  {
   "cell_type": "code",
   "execution_count": 23,
   "metadata": {},
   "outputs": [
    {
     "name": "stdout",
     "output_type": "stream",
     "text": [
      "['Name,Position Title,Department,Employee Annual Salary', '\"AARON,  ELVIA J\",WATER RATE TAKER,WATER MGMNT,$88967.00', '\"ABDELMAJEID,  AZIZ\",POLICE OFFICER,POLICE,$80778.00', '\"ABDOLLAHZADEH,  ALI\",FIREFIGHTER/PARAMEDIC,FIRE,$87720.00', '\"ABDUL-KARIM,  MUHAMMAD A\",ENGINEERING TECHNICIAN VI,WATER MGMNT,$106104.00', '\"ABDULLAH,  DANIEL N\",FIREFIGHTER-EMT,FIRE,$91764.00', '\"ABDULLAH,  KEVIN\",LIEUTENANT,FIRE,$110370.00', '\"ABDULLAH,  LAKENYA N\",CROSSING GUARD,POLICE,$16692.00', '\"ABDULLAH,  RASHAD J\",ELECTRICAL MECHANIC-AUTO-POLICE MTR MNT,GENERAL SERVICES,$91520.00', '\"ABDUL-SHAKUR,  TAHIR\",GENERAL LABORER - DSS,STREETS & SAN,$40560.00']\n"
     ]
    }
   ],
   "source": [
    "# separando caracteres por linhas\n",
    "f = open('salarios.csv', 'r')\n",
    "data = f.read()\n",
    "rows = data.split('\\n') # '\\n' é um espaço separamos por espaço\n",
    "print(rows) # cada '' é uma linha\n",
    "f.close()"
   ]
  },
  {
   "cell_type": "code",
   "execution_count": 24,
   "metadata": {},
   "outputs": [
    {
     "name": "stdout",
     "output_type": "stream",
     "text": [
      "[['Name', 'Position Title', 'Department', 'Employee Annual Salary'], ['\"AARON', '  ELVIA J\"', 'WATER RATE TAKER', 'WATER MGMNT', '$88967.00'], ['\"ABDELMAJEID', '  AZIZ\"', 'POLICE OFFICER', 'POLICE', '$80778.00'], ['\"ABDOLLAHZADEH', '  ALI\"', 'FIREFIGHTER/PARAMEDIC', 'FIRE', '$87720.00'], ['\"ABDUL-KARIM', '  MUHAMMAD A\"', 'ENGINEERING TECHNICIAN VI', 'WATER MGMNT', '$106104.00'], ['\"ABDULLAH', '  DANIEL N\"', 'FIREFIGHTER-EMT', 'FIRE', '$91764.00'], ['\"ABDULLAH', '  KEVIN\"', 'LIEUTENANT', 'FIRE', '$110370.00'], ['\"ABDULLAH', '  LAKENYA N\"', 'CROSSING GUARD', 'POLICE', '$16692.00'], ['\"ABDULLAH', '  RASHAD J\"', 'ELECTRICAL MECHANIC-AUTO-POLICE MTR MNT', 'GENERAL SERVICES', '$91520.00'], ['\"ABDUL-SHAKUR', '  TAHIR\"', 'GENERAL LABORER - DSS', 'STREETS & SAN', '$40560.00']]\n"
     ]
    }
   ],
   "source": [
    "# separando caracteres por colunas\n",
    "f = open('salarios.csv', 'r')\n",
    "data = f.read()\n",
    "rows = data.split('\\n') # '\\n' é um espaço separamos por espaço\n",
    "dados = []\n",
    "for row in rows:\n",
    "    split_row = row.split(',') # agora dentro de '' vamos separar por \",\" pois o arquivo é um csv\n",
    "    dados.append(split_row)\n",
    "\n",
    "print(dados)\n",
    "f.close()"
   ]
  },
  {
   "cell_type": "markdown",
   "metadata": {},
   "source": [
    "# .tell()\n",
    "Contar o número de caracteres"
   ]
  },
  {
   "cell_type": "code",
   "execution_count": 25,
   "metadata": {},
   "outputs": [
    {
     "name": "stdout",
     "output_type": "stream",
     "text": [
      "49\n"
     ]
    }
   ],
   "source": [
    "a = open('arquivo1.txt', 'r', encoding=\"utf-8\") \n",
    "a.read() # Se não ler o mesmo o .tell() não funciona\n",
    "print(a.tell())\n",
    "a.close()"
   ]
  },
  {
   "cell_type": "markdown",
   "metadata": {},
   "source": [
    "# .flush()\n",
    "Uma característica de quando a gente está trabalhando com escrita de arquivo no Python. A gente precisa fechar o arquivo para indicar que a gente não está mais trabalhando com ele. Somente após fechar é que as edições serão salvas, mas e se não podermos fechar o arquivo?\n",
    "\n",
    "Com método **flush**, os dados vão ser escritos, porém o arquivo vai continuar aberto."
   ]
  },
  {
   "cell_type": "code",
   "execution_count": 5,
   "metadata": {},
   "outputs": [],
   "source": [
    "arquivos_contatos = open('contatos.csv', mode='a', encoding='latin_1')\n",
    "\n",
    "novo_contato = '11,Livio,livio@livio.com.br\\n'\n",
    "\n",
    "arquivos_contatos.write(novo_contato)\n",
    "\n",
    "arquivos_contatos.flush()\n",
    "\n",
    "arquivos_contatos.close()\n"
   ]
  },
  {
   "cell_type": "markdown",
   "metadata": {},
   "source": [
    "# <font color=#FF0000>**with open**</font>"
   ]
  },
  {
   "cell_type": "code",
   "execution_count": 12,
   "metadata": {},
   "outputs": [
    {
     "name": "stdout",
     "output_type": "stream",
     "text": [
      "Python é uma linguagem poderosa!Editando arquivo\n",
      "Editando arquivo!!!\n",
      "Editando arquivo!!!\n",
      "Editando arquivo!!!\n",
      "Editando arquivo!!!\n",
      "Editando arquivo!!!\n",
      "Editando arquivo!!!\n",
      "\n"
     ]
    }
   ],
   "source": [
    "with open('arquivo1.txt', mode='r', encoding=\"utf-8\") as a:\n",
    "    conteudo = a.read()\n",
    "print(conteudo)"
   ]
  },
  {
   "cell_type": "markdown",
   "metadata": {},
   "source": [
    "# <font color=#FF0000>**with open - newline=''**</font>\n",
    "\n",
    "Ao final de cada linha em um arquivo temos uma instrução de quebra de linha '\\n' que significa que o texto irá para proxima linha. Este caractere é oculto, mas conseguimos ve-lo colocando **readlines()**.\n",
    "\n",
    "Quando não usamos o newline='' o caractere é igual á '\\n' (padrão Linux/unix/python) ao utilizar o newline='' o caractere muda para '\\r\\n' (padrão Microsoft)"
   ]
  },
  {
   "cell_type": "markdown",
   "metadata": {},
   "source": [
    "# <font color=#FF0000>**diferença entre \\n e \\r\\n e newline=''**</font>\n",
    "\n",
    "O **\\n** significa \"new line\" ou \"line-feed\", ou seja, **\"nova linha\"**. \n",
    "O **\\r** significa \"carriage return\", ou seja **\"retorno de linha\"**. \n",
    "Quando a tabela ASCII foi padronizada, o \\n recebeu o código 10 e \\r recebeu o código 13.\n",
    "\n",
    "_A ideia originalmente, quando as tabelas de codificação de caracteres como sequências de bits foram concebidas, é que o \\n fosse interpretado como o comando para fazer o cursor se mover para baixo, e o \\r o comando para ele se mover de volta até o começo da linha._ \n",
    "\n",
    "> Essa distinção era importante para as máquinas de escrever digitais que precederam os computadores, para telégrafos digitais, para teletipos e para a programação das primeiras impressoras que surgiram. De fato, isso é surpreendentemente mais antigo do que se pensa, já aparecendo no ano de 1901 junto com algumas das primeiras dessas tabelas de codificação de caracteres.\n",
    "\n",
    "Assim sendo, em **um texto para que uma quebra-de-linha fosse inserida, fazia-se necessário utilizar-se \\r\\n**. Primeiro o cursor deveria se mover até o começo da linha e depois para baixo. **E foi esse o padrão de quebra-de-linha adotado muito mais tarde pela Microsoft.**\n",
    "\n",
    "Já o Multics (e posteriormente o Unix) seguiram um caminho diferente, e decidiram implementar o **\\n** como quebra-de-linha, o que já incluía um retorno ao começo da linha. Afinal de contas, não tem lá muito sentido ter uma coisa sem ter a outra junto, e **ao utilizá-los como sendo uma coisa só, garante-se que nunca serão separados**. Isso também tem a vantagem de economizar espaço ao usar um só byte para codificar a quebra-de-linha ao invés de dois, e naqueles anos aonde a memória era pequena e o processamento de baixo poder, cada byte economizado contava bastante.\n",
    "\n",
    "Outras empresas, como a Apple e a Commodore, também seguiram um caminho semelhante ao do Unix, mas ao invés de adotarem o \\n para quebras-de-linha, adotaram o \\r.\n",
    "\n",
    "Outras empresas menores adotaram outros códigos para a quebra-de-linha. Por exemplo, o QNX adotou o caractere 30 da tabela ASCII. A Atari adotou o 155. A Acorn e o RISC OS adotaram o \\n\\r ao invés de \\r\\n. A Sinclair adotou o 118.\n",
    "\n",
    "**_Em resumo: Linux utiliza \\n que representa \\r(retorno ao primeiro caractere da linha) e \\n(nova linha). A Apple utiliza \\r que representa \\r(retorno ao primeiro caractere da linha) e \\n(nova linha). Já a Microsoft utiliza o padrão como \\r\\n. Ao usar o redline='' representamos a quebra de linha como \\r\\n se ocultarmos o mesmo a quebra de linha será \\n._** \n"
   ]
  },
  {
   "cell_type": "code",
   "execution_count": 15,
   "metadata": {},
   "outputs": [
    {
     "name": "stdout",
     "output_type": "stream",
     "text": [
      "['Python é uma linguagem poderosa!Editando arquivo\\n', 'Editando arquivo!!!\\n', 'Editando arquivo!!!\\n', 'Editando arquivo!!!\\n', 'Editando arquivo!!!\\n', 'Editando arquivo!!!\\n', 'Editando arquivo!!!\\n']\n"
     ]
    }
   ],
   "source": [
    "# Sem newline='' - caractere de fim de linha = '\\n' padrão UNIX/Python\n",
    "with open('arquivo1.txt', mode='r', encoding=\"utf-8\") as a:\n",
    "    \n",
    "    print(a.readlines())\n",
    "# veja que ao final de cada linha temos o '\\n'. É usado para indicar o fim de uma linha de texto."
   ]
  },
  {
   "cell_type": "code",
   "execution_count": 16,
   "metadata": {},
   "outputs": [
    {
     "name": "stdout",
     "output_type": "stream",
     "text": [
      "['Python é uma linguagem poderosa!Editando arquivo\\r\\n', 'Editando arquivo!!!\\r\\n', 'Editando arquivo!!!\\r\\n', 'Editando arquivo!!!\\r\\n', 'Editando arquivo!!!\\r\\n', 'Editando arquivo!!!\\r\\n', 'Editando arquivo!!!\\r\\n']\n"
     ]
    }
   ],
   "source": [
    "# Com newline='' - caractere de fim de linha = '\\r\\n' padrão Microsoft\n",
    "with open('arquivo1.txt', mode='r', encoding=\"utf-8\", newline='') as a:\n",
    "    \n",
    "    print(a.readlines())\n",
    "# veja que ao final de cada linha temos o '\\n'. É usado para indicar o fim de uma linha de texto.."
   ]
  },
  {
   "cell_type": "markdown",
   "metadata": {},
   "source": [
    "# Escrevendo no arquivos a(append)"
   ]
  },
  {
   "cell_type": "code",
   "execution_count": 35,
   "metadata": {},
   "outputs": [
    {
     "name": "stdout",
     "output_type": "stream",
     "text": [
      "Python é uma linguagem poderosa!Editando arquivo\n",
      "Editando arquivo!!!\n",
      "Editando arquivo!!!\n",
      "Editando arquivo!!!\n",
      "Editando arquivo!!!\n",
      "Editando arquivo!!!\n",
      "Editando arquivo!!!\n"
     ]
    }
   ],
   "source": [
    "with open('arquivo1.txt', 'a', encoding=\"utf-8\") as a:\n",
    "    a.write('\\nEditando arquivo!!!') #\\n é um enter, se iniciarmos com ele daremos um enter e apos isso escreveremos.\n",
    "# a.read() se usar este comando ira dar erro, lembre-se que .read() somente se abrir o arquivo como leitura ('r')\n",
    "with open('arquivo1.txt', 'r', encoding=\"utf-8\") as a:\n",
    "    print(a.read())"
   ]
  },
  {
   "cell_type": "markdown",
   "metadata": {},
   "source": [
    "# Trabalhando em modo b(binário) (imagens)"
   ]
  },
  {
   "cell_type": "code",
   "execution_count": 2,
   "metadata": {
    "tags": []
   },
   "outputs": [],
   "source": [
    "# criando uma copia da imagem python-logo.png\n",
    "with open(\"python-logo.png\", \"rb\") as imagem:\n",
    "    data = imagem.read()\n",
    "\n",
    "with open(\"python-logo2.png\", \"wb\") as imagem2:\n",
    "    imagem2.write(data)\n"
   ]
  },
  {
   "cell_type": "markdown",
   "metadata": {},
   "source": [
    "# Lendo arquivos linha a linha e protegendo uso de memoria"
   ]
  },
  {
   "cell_type": "code",
   "execution_count": 28,
   "metadata": {},
   "outputs": [
    {
     "name": "stdout",
     "output_type": "stream",
     "text": [
      "Imprimindo linha 0 | 88-bytes\n",
      " 1,Guilherme,guilherme@guilherme.com.br\n",
      "Imprimindo linha 1 | 76-bytes\n",
      " 2,Elias,elias@elias.com.br\n",
      "Imprimindo linha 2 | 82-bytes\n",
      " 3,Gabriel,gabriel@gabriel.com.br\n",
      "Imprimindo linha 3 | 85-bytes\n",
      " 4,Anderson,anderson@anderson.com.br\n",
      "Imprimindo linha 4 | 73-bytes\n",
      " 5,Alex,alex@alex.com.br\n",
      "Imprimindo linha 5 | 73-bytes\n",
      " 6,Vini,vini@vini.com.br\n",
      "Imprimindo linha 6 | 108-bytes\n",
      " 7,Letï¿½cia,leticia@leticia.com.br\n",
      "Imprimindo linha 7 | 79-bytes\n",
      " 8,Giulia,giulia@giulia.com.br\n",
      "Imprimindo linha 8 | 79-bytes\n",
      " 9,Felipe,felipe@felipe.com.br\n",
      "Imprimindo linha 9 | 96-bytes\n",
      " 10,Luï¿½sa,luisa@luisa\n",
      "Imprimindo linha 10 | 77-bytes\n",
      " 11,Livio,livio@livio.com.br\n"
     ]
    }
   ],
   "source": [
    "from sys import getsizeof\n",
    "\n",
    "with open('contatos.csv', 'r', encoding='latin_1') as a:\n",
    "    for numero, linha in enumerate(a):\n",
    "        print(f'Imprimindo linha {numero} | {getsizeof(linha)}-bytes\\n {linha}', end='')"
   ]
  },
  {
   "cell_type": "markdown",
   "metadata": {},
   "source": [
    "# Erros comuns ao tentar abrir um arquivo.\n",
    "\n",
    "1. **FileNotFoundError** - Não encontrar o arquivo no local especificado.\n",
    "\n",
    "1. **PermissionError** - Não tem permissão de escrita/criação no diretorio."
   ]
  },
  {
   "cell_type": "markdown",
   "metadata": {},
   "source": [
    "## try + finally"
   ]
  },
  {
   "cell_type": "code",
   "execution_count": 15,
   "metadata": {},
   "outputs": [
    {
     "name": "stdout",
     "output_type": "stream",
     "text": [
      "['1,Guilherme,guilherme@guilherme.com.br\\n', '2,Elias,elias@elias.com.br\\n', '3,Gabriel,gabriel@gabriel.com.br\\n', '4,Anderson,anderson@anderson.com.br\\n', '5,Alex,alex@alex.com.br\\n', '6,Vini,vini@vini.com.br\\n', '7,Letï¿½cia,leticia@leticia.com.br\\n', '8,Giulia,giulia@giulia.com.br\\n', '9,Felipe,felipe@felipe.com.br\\n', '10,Luï¿½sa,luisa@luisa\\n', '11,Livio,livio@livio.com.br\\n']\n"
     ]
    }
   ],
   "source": [
    "# Tratando erros com try:\n",
    "try:\n",
    "    arquivo = open('contatos.csv', mode='a+', encoding='latin_1')\n",
    "    # Em mode='a' o arquivo abre na ultima linha, colocamos seek(0) para retornar a 1ª linha\n",
    "    #  assim o readlines funcionar.\n",
    "    arquivo.seek(0)\n",
    "    conteudo = arquivo.readlines()\n",
    "    print(conteudo)\n",
    "\n",
    "# finally será executando sempre, é comum colocarmos este tratamento para fechar o arquivo, \n",
    "#  apos o uso. Assim liberando o mesmo para outras pessoas.\n",
    "finally:\n",
    "    arquivo.close()\n"
   ]
  },
  {
   "cell_type": "markdown",
   "metadata": {},
   "source": [
    "## simulando FileNotFoundError\n",
    "\n",
    "* Modificando o nome do arquivo para um arquivo que não existe.\n",
    "* Abrindo em mode='r', pois em w e a se não existir o arquivo o Python cria"
   ]
  },
  {
   "cell_type": "code",
   "execution_count": 17,
   "metadata": {},
   "outputs": [
    {
     "ename": "FileNotFoundError",
     "evalue": "[Errno 2] No such file or directory: 'arquivo_nao_existe.csv'",
     "output_type": "error",
     "traceback": [
      "\u001b[1;31m---------------------------------------------------------------------------\u001b[0m",
      "\u001b[1;31mFileNotFoundError\u001b[0m                         Traceback (most recent call last)",
      "\u001b[1;32m<ipython-input-17-13c66ac0315f>\u001b[0m in \u001b[0;36m<module>\u001b[1;34m\u001b[0m\n\u001b[0;32m      1\u001b[0m \u001b[1;32mtry\u001b[0m\u001b[1;33m:\u001b[0m\u001b[1;33m\u001b[0m\u001b[1;33m\u001b[0m\u001b[0m\n\u001b[1;32m----> 2\u001b[1;33m     \u001b[0marquivo\u001b[0m \u001b[1;33m=\u001b[0m \u001b[0mopen\u001b[0m\u001b[1;33m(\u001b[0m\u001b[1;34m'arquivo_nao_existe.csv'\u001b[0m\u001b[1;33m,\u001b[0m \u001b[0mmode\u001b[0m\u001b[1;33m=\u001b[0m\u001b[1;34m'r'\u001b[0m\u001b[1;33m,\u001b[0m \u001b[0mencoding\u001b[0m\u001b[1;33m=\u001b[0m\u001b[1;34m'latin_1'\u001b[0m\u001b[1;33m)\u001b[0m\u001b[1;33m\u001b[0m\u001b[1;33m\u001b[0m\u001b[0m\n\u001b[0m\u001b[0;32m      3\u001b[0m     \u001b[0marquivo\u001b[0m\u001b[1;33m.\u001b[0m\u001b[0mseek\u001b[0m\u001b[1;33m(\u001b[0m\u001b[1;36m0\u001b[0m\u001b[1;33m)\u001b[0m\u001b[1;33m\u001b[0m\u001b[1;33m\u001b[0m\u001b[0m\n\u001b[0;32m      4\u001b[0m     \u001b[0mconteudo\u001b[0m \u001b[1;33m=\u001b[0m \u001b[0marquivo\u001b[0m\u001b[1;33m.\u001b[0m\u001b[0mreadlines\u001b[0m\u001b[1;33m(\u001b[0m\u001b[1;33m)\u001b[0m\u001b[1;33m\u001b[0m\u001b[1;33m\u001b[0m\u001b[0m\n\u001b[0;32m      5\u001b[0m     \u001b[0mprint\u001b[0m\u001b[1;33m(\u001b[0m\u001b[0mconteudo\u001b[0m\u001b[1;33m)\u001b[0m\u001b[1;33m\u001b[0m\u001b[1;33m\u001b[0m\u001b[0m\n",
      "\u001b[1;31mFileNotFoundError\u001b[0m: [Errno 2] No such file or directory: 'arquivo_nao_existe.csv'"
     ]
    }
   ],
   "source": [
    "try:\n",
    "    arquivo = open('arquivo_nao_existe.csv', mode='r', encoding='latin_1')\n",
    "    arquivo.seek(0)\n",
    "    conteudo = arquivo.readlines()\n",
    "    print(conteudo)\n",
    "\n",
    "finally:\n",
    "    arquivo.close()"
   ]
  },
  {
   "cell_type": "markdown",
   "metadata": {},
   "source": [
    "### Solução com except FileNotFoundError:\n",
    "\n",
    "**Agora nosso script não quebra caso não encontre o arquivo**"
   ]
  },
  {
   "cell_type": "code",
   "execution_count": 22,
   "metadata": {},
   "outputs": [
    {
     "name": "stdout",
     "output_type": "stream",
     "text": [
      "Arquivo não encontrado\n"
     ]
    }
   ],
   "source": [
    "try:\n",
    "    arquivo = open('arquivo_nao_existe.csv', mode='r', encoding='latin_1')\n",
    "    arquivo.seek(0)\n",
    "    conteudo = arquivo.readlines()\n",
    "    print(conteudo)\n",
    "\n",
    "except FileNotFoundError:\n",
    "    print('Arquivo não encontrado')\n",
    "    \n",
    "except PermissionError:\n",
    "    print('Sem permissão de escrita')\n",
    "\n",
    "finally:\n",
    "    arquivo.close()"
   ]
  },
  {
   "cell_type": "markdown",
   "metadata": {},
   "source": [
    "### Substituindo finally por with\n",
    "\n",
    "* with fecha automaticamente um arquivo\n",
    "* usando Lists Comprehensions simples para imprimir linha a linha\n",
    "\n",
    "> Utilizamos o comando with para gerenciar o contexto de utilização do arquivo. Além de arquivos, podemos utilizar o with para gerenciar processos que precisam de uma pré e pós condição de execução; por exemplo: abrir e fechar o arquivo, realizar conexão com o banco de dados, sockets, entre outros.\n",
    "\n",
    "> O objeto que está sendo manipulado pelo with precisa implementar dois métodos mágicos: \\_\\_enter__() e \\_\\_exit__().\n",
    "\n",
    "> O método \\_\\_enter__() é executado logo no início da chamada da função e retorna uma representação do objeto que está sendo executada no contexto (ou context guard). Ao final, o método \\_\\_exit__() é invocado, e o contexto da execução, finalizado."
   ]
  },
  {
   "cell_type": "code",
   "execution_count": 43,
   "metadata": {},
   "outputs": [
    {
     "name": "stdout",
     "output_type": "stream",
     "text": [
      "1,Guilherme,guilherme@guilherme.com.br\n",
      "2,Elias,elias@elias.com.br\n",
      "3,Gabriel,gabriel@gabriel.com.br\n",
      "4,Anderson,anderson@anderson.com.br\n",
      "5,Alex,alex@alex.com.br\n",
      "6,Vini,vini@vini.com.br\n",
      "7,Letï¿½cia,leticia@leticia.com.br\n",
      "8,Giulia,giulia@giulia.com.br\n",
      "9,Felipe,felipe@felipe.com.br\n",
      "10,Luï¿½sa,luisa@luisa\n",
      "11,Livio,livio@livio.com.br\n"
     ]
    }
   ],
   "source": [
    "try:\n",
    "    with open('contatos.csv', mode='r', encoding='latin_1') as arquivo:\n",
    "        [print(linha, end='') for linha in arquivo]\n",
    "\n",
    "except FileNotFoundError:\n",
    "    print('Arquivo não encontrado')\n",
    "    \n",
    "except PermissionError:\n",
    "    print('Sem permissão de escrita')\n"
   ]
  },
  {
   "cell_type": "markdown",
   "metadata": {},
   "source": [
    "# De csv p/ Python\n",
    "\n",
    "* converter um arquivo csv para um objeto list no python\n",
    "* usando modulo csv\n",
    "* criando uma função"
   ]
  },
  {
   "cell_type": "markdown",
   "metadata": {},
   "source": [
    "## Criando uma class contatos"
   ]
  },
  {
   "cell_type": "code",
   "execution_count": 55,
   "metadata": {},
   "outputs": [],
   "source": [
    "class Contato():\n",
    "    def __init__(self, id: int, nome: str, email: str):\n",
    "        self.id = id\n",
    "        self.nome = nome\n",
    "        self.email = email\n"
   ]
  },
  {
   "cell_type": "markdown",
   "metadata": {},
   "source": [
    "## Criando uma função csv para list python"
   ]
  },
  {
   "cell_type": "code",
   "execution_count": 56,
   "metadata": {},
   "outputs": [],
   "source": [
    "import csv\n",
    "\n",
    "def csv_para_contatos(caminho: str, encoding: str = 'Latin_1'):\n",
    "    contatos: list = []\n",
    "    try:\n",
    "        with open(caminho, encoding=encoding) as a:\n",
    "            leitor = csv.reader(a)\n",
    "            for linha in leitor:\n",
    "                id, nome, email = linha # desencapsulando\n",
    "                \n",
    "                contato = Contato(int(id), nome, email)\n",
    "                contatos.append(contato)\n",
    "\n",
    "        return contatos\n",
    "    \n",
    "    except FileNotFoundError:\n",
    "        print('Arquivo não encontrado')\n",
    "    \n",
    "    except PermissionError:\n",
    "        print('Sem permissão de escrita')"
   ]
  },
  {
   "cell_type": "markdown",
   "metadata": {},
   "source": [
    "## Testando com arquivo contatos.csv"
   ]
  },
  {
   "cell_type": "code",
   "execution_count": 67,
   "metadata": {},
   "outputs": [
    {
     "name": "stdout",
     "output_type": "stream",
     "text": [
      "1 - Guilherme - guilherme@guilherme.com.br\n",
      "2 - Elias - elias@elias.com.br\n",
      "3 - Gabriel - gabriel@gabriel.com.br\n",
      "4 - Anderson - anderson@anderson.com.br\n",
      "5 - Alex - alex@alex.com.br\n",
      "6 - Vini - vini@vini.com.br\n",
      "7 - Letï¿½cia - leticia@leticia.com.br\n",
      "8 - Giulia - giulia@giulia.com.br\n",
      "9 - Felipe - felipe@felipe.com.br\n",
      "10 - Luï¿½sa - luisa@luisa\n",
      "11 - Livio - livio@livio.com.br\n"
     ]
    }
   ],
   "source": [
    "contatos = csv_para_contatos('contatos.csv')\n",
    "\n",
    "lista = [print(f'{contato.id} - {contato.nome} - {contato.email}') for contato in contatos]"
   ]
  },
  {
   "cell_type": "markdown",
   "metadata": {},
   "source": [
    "# De objeto Python para json\n",
    "\n",
    "* converter um objeto python para um arquivo json\n",
    "* usando modulo json\n",
    "* criando uma função"
   ]
  },
  {
   "cell_type": "markdown",
   "metadata": {},
   "source": [
    "## Criando uma função objeto python para json"
   ]
  },
  {
   "cell_type": "code",
   "execution_count": 71,
   "metadata": {},
   "outputs": [],
   "source": [
    "import json\n",
    "\n",
    "# escrita\n",
    "def contatos_para_json(contatos, caminho: str):\n",
    "    try:\n",
    "        with open(caminho, mode='w') as a:\n",
    "            json.dump(contatos, a, default=__contato_para_json)\n",
    "    \n",
    "    except FileNotFoundError:\n",
    "        print('Arquivo não encontrado')\n",
    "    \n",
    "    except PermissionError:\n",
    "        print('Sem permissão de escrita')\n",
    "        \n",
    "def __contato_para_json(contato):\n",
    "    return contato.__dict__\n",
    "\n",
    "# leitura\n",
    "def json_para_contatos(caminho: str):\n",
    "    contatos = []\n",
    "    \n",
    "    try:\n",
    "        with open(caminho, mode='r') as a:\n",
    "            contatos_json = json.load(a)\n",
    "            # Contato(contato['id'], contato['nome'], contato['email']) = Contato(**contato)\n",
    "            #  assim estariamos desempacotando\n",
    "            [contatos.append(Contato(contato['id'], contato['nome'], contato['email']))\n",
    "             for contato in contatos_json]\n",
    "        \n",
    "        return contatos\n",
    "    \n",
    "    except FileNotFoundError:\n",
    "        print('Arquivo não encontrado')\n",
    "    \n",
    "    except PermissionError:\n",
    "        print('Sem permissão de escrita')\n",
    "    "
   ]
  },
  {
   "cell_type": "markdown",
   "metadata": {},
   "source": [
    "## Testando de objeto python para json"
   ]
  },
  {
   "cell_type": "code",
   "execution_count": 75,
   "metadata": {},
   "outputs": [
    {
     "name": "stdout",
     "output_type": "stream",
     "text": [
      "1 - Guilherme - guilherme@guilherme.com.br\n",
      "2 - Elias - elias@elias.com.br\n",
      "3 - Gabriel - gabriel@gabriel.com.br\n",
      "4 - Anderson - anderson@anderson.com.br\n",
      "5 - Alex - alex@alex.com.br\n",
      "6 - Vini - vini@vini.com.br\n",
      "7 - Letï¿½cia - leticia@leticia.com.br\n",
      "8 - Giulia - giulia@giulia.com.br\n",
      "9 - Felipe - felipe@felipe.com.br\n",
      "10 - Luï¿½sa - luisa@luisa\n",
      "11 - Livio - livio@livio.com.br\n"
     ]
    }
   ],
   "source": [
    "# transformando csv em objeto python\n",
    "contatos = csv_para_contatos('contatos.csv')\n",
    "\n",
    "# transformando objeto python em json\n",
    "contatos_para_json(contatos, 'contatos.json')\n",
    "\n",
    "# transformando json em objeto python\n",
    "contatos = json_para_contatos('contatos.json')\n",
    "\n",
    "lista = [print(f'{contato.id} - {contato.nome} - {contato.email}') for contato in contatos]"
   ]
  },
  {
   "cell_type": "code",
   "execution_count": 19,
   "metadata": {},
   "outputs": [
    {
     "name": "stdout",
     "output_type": "stream",
     "text": [
      "json_dump = '[\"foo\", {\"bar\": [\"baz\", null, 1.0, 2]}]'\n",
      "json_dump = '{\"a\": 0, \"b\": 0, \"c\": 0}'\n",
      "[1,2,3,{\"4\":5,\"6\":7}]\n",
      "[1, 2, 3, {\"4\": 5, \"6\": 7}]\n",
      "{\n",
      "    \"4\": 5,\n",
      "    \"6\": 7\n",
      "}\n",
      "['foo', {'bar': ['baz', None, 1.0, 2]}]\n"
     ]
    }
   ],
   "source": [
    "import json\n",
    "# json.dump = usado para gravar dados de objeto python em arquivo json\n",
    "# json.dumps = usado para transformar objetos python em objetos str json\n",
    "# json.load = usado para ler um arquivo json e transforma-lo em objto python\n",
    "\n",
    "# Codificando hierarquias básicas de objetos Python:\n",
    "lista = ['foo', {'bar': ('baz', None, 1.0, 2)}]\n",
    "json_dump = json.dumps(lista)\n",
    "print(f'{json_dump = }')\n",
    "\n",
    "dicionario = {\"c\": 0, \"b\": 0, \"a\": 0}\n",
    "json_dump = json.dumps(dicionario, sort_keys=True)\n",
    "print(f'{json_dump = }')\n",
    "\n",
    "# Codificação compacta:\n",
    "lista = [1, 2, 3, {'4': 5, '6': 7}]\n",
    "print(json.dumps(lista, separators=(',', ':')))\n",
    "print(json.dumps(lista))\n",
    "\n",
    "# Impressão bonita:\n",
    "dicionario = {'4': 5, '6': 7}\n",
    "print(json.dumps(dicionario, sort_keys=True, indent=4))\n",
    "\n",
    "# Decodificando JSON:\n",
    "texto = '[\"foo\", {\"bar\":[\"baz\", null, 1.0, 2]}]'\n",
    "print(json.loads(texto))"
   ]
  },
  {
   "cell_type": "code",
   "execution_count": 24,
   "metadata": {},
   "outputs": [
    {
     "name": "stdout",
     "output_type": "stream",
     "text": [
      "<class 'dict'>\n",
      "{'name': 'Jane Doe', 'salary': 9000, 'skills': ['Python', 'Machine Learning', 'Web Development'], 'email': 'jane.doe@pynative.com'}\n",
      "<class 'str'>\n"
     ]
    }
   ],
   "source": [
    "import json\n",
    "\n",
    "developer_Dict = {\n",
    "    \"name\": \"Jane Doe\",\n",
    "    \"salary\": 9000,\n",
    "    \"skills\": [\"Python\", \"Machine Learning\", \"Web Development\"],\n",
    "    \"email\": \"jane.doe@pynative.com\"\n",
    "}\n",
    "\n",
    "print(type(developer_Dict))\n",
    "\n",
    "developer_str = json.dumps(developer_Dict)\n",
    "\n",
    "print(developer_Dict)\n",
    "print(type(developer_str))"
   ]
  },
  {
   "cell_type": "code",
   "execution_count": 25,
   "metadata": {},
   "outputs": [
    {
     "name": "stdout",
     "output_type": "stream",
     "text": [
      "Converting Python primitive types into JSON\n",
      "Done converting Python primitive types into JSON\n",
      "{\"colorList\": [\"Red\", \"Green\", \"Blue\"], \"carTuple\": [\"BMW\", \"Audi\", \"range rover\"], \"sampleString\": \"pynative.com\", \"sampleInteger\": 457, \"sampleFloat\": 225.48, \"booleantrue\": true, \"booleanfalse\": false, \"nonevalue\": null}\n"
     ]
    }
   ],
   "source": [
    "import json\n",
    "\n",
    "sampleDict = {\n",
    "    \"colorList\": [\"Red\", \"Green\", \"Blue\"],\n",
    "    \"carTuple\": (\"BMW\", \"Audi\", \"range rover\"),\n",
    "    \"sampleString\": \"pynative.com\",\n",
    "    \"sampleInteger\": 457,\n",
    "    \"sampleFloat\": 225.48,\n",
    "    \"booleantrue\": True,\n",
    "    \"booleanfalse\": False,\n",
    "    \"nonevalue\": None\n",
    "}\n",
    "print(\"Converting Python primitive types into JSON\")\n",
    "resultJSON = json.dumps(sampleDict)\n",
    "print(\"Done converting Python primitive types into JSON\")\n",
    "print(resultJSON)"
   ]
  },
  {
   "cell_type": "markdown",
   "metadata": {},
   "source": [
    "# <font color=#FF0000>**json**</font>\n",
    "Geralmente, anexar dados a um arquivo JSON não é uma ideia muito boa porque, para cada pequena atualização, você deve ler e analisar todo o objeto de arquivo. Se o seu arquivo JSON tiver n entradas, a complexidade do tempo de execução de apenas atualizá-lo é O (n) .\n",
    "\n",
    "**_Uma abordagem melhor seria armazenar os dados como um arquivo CSV que pode ser lido linha por linha que simplifica a análise e atualização significativamente, apenas acrescentando uma única linha ao arquivo que tem complexidade de tempo de execução constante._**"
   ]
  },
  {
   "cell_type": "markdown",
   "metadata": {},
   "source": [
    "# Sintaxe de <font color=#FF0000>**json.dump()**</font> e <font color=#FF0000>**json.dumps()**</font>\n",
    "\n",
    ">json.dump(obj, fp, *, skipkeys=False, ensure_ascii=True, check_circular=True, allow_nan=True, cls=None, indent=None, separators=None, default=None, sort_keys=False, **kw)\n",
    "\n",
    "**É usado para gravar um objeto Python em um arquivo como dados formatados em JSON.**\n",
    "\n",
    ">json.dumps(obj, *, skipkeys=False, ensure_ascii=True, check_circular=True, allow_nan=True, cls=None, indent=None, separators=None, default=None, sort_keys=False, **kw)\n",
    "\n",
    "**É usado para escrever um objeto Python em uma String JSON.**\n",
    "\n",
    "* **obj** nada mais é que um objeto serializável Python que você deseja converter em um formato JSON.\n",
    "* A **fp** é um ponteiro de arquivo usado para gravar dados formatados em JSON em um arquivo. O módulo json Python sempre produz objetos de string, não objetos de bytes, portanto, fp.write()deve suportar a entrada de string.\n",
    "* Se **skipkeysfor** verdadeiro (padrão: False), então as chaves de dict que não são de um tipo básico, (str, int, float, bool, None) serão ignoradas em vez de aumentar a TypeError. Por exemplo, se uma de suas chaves de dicionário for um objeto Python personalizado, essa chave será omitida durante a conversão do dicionário em JSON.\n",
    "* Se **ensure_ascii** for verdadeiro (o padrão), a saída terá a garantia de ter todos os caracteres não ASCII de entrada com escape. Se ensure_asciifor falso, esses caracteres serão reproduzidos no estado em que se encontram.\n",
    "* **allow_nan** é True por padrão, então seus equivalentes JavaScript (NaN, Infinity, -Infinity) serão usados. Se for False, será um ValueError para serializar valores flutuantes fora do intervalo (nan, inf, -inf).\n",
    "* Um **indent** argumento é usado para imprimir JSON para torná-lo mais legível. O padrão é (', ', ': '). Para obter a representação JSON mais compacta, você deve usar (',', ':')  para eliminar os espaços em branco.\n",
    "*Se **sort_keys** for verdadeiro (padrão: Falso), a saída dos dicionários será classificada por chave"
   ]
  },
  {
   "cell_type": "markdown",
   "metadata": {},
   "source": [
    "# <font color=#FF0000>**json.load()**</font> - Lendo um arquivo json formatado e transformando em dict\n",
    "\n",
    "```json\n",
    "{\n",
    "    \"permissões\": {\n",
    "        \"1\": {\"nome\": \"Desenvolvedor\", \"descrição\": \"Tem acesso full ao sistema\"},\n",
    "        \"2\": {\"nome\": \"Administrador Master\", \"descrição\": \"Tem acesso full as funcionalidades do sistema e não pode ser apagado\"},\n",
    "        \"3\": {\"nome\": \"Administrador\", \"descrição\": \"Tem acesso full as funcionalidades do sistema e pode ser apagado\"},\n",
    "        \"4\": {\"nome\": \"Escrita\", \"descrição\": \"Tem acesso para inserção de dados no sistema e pode se bloquear telas do mesmo\"},\n",
    "        \"5\": {\"nome\": \"Leitura\", \"descrição\": \"Tem acesso para leitura de dados no sistema e pode se bloquear telas do mesmo\"}\n",
    "    },\n",
    "    \"bloqueio_tela\": {\n",
    "        \"2\": {\"tela_bloqueadas\": []},\n",
    "        \"3\": {\"tela_bloqueadas\": []},\n",
    "        \"4\": {\"tela_bloqueadas\": []},\n",
    "        \"5\": {\"tela_bloqueadas\": []}\n",
    "    },\n",
    "    \"telas\": {},\n",
    "    \"menu_config\": {\n",
    "        \"0\": [{\"icon_left\": \"account\", \"texto\": \"_users\", \"icon_right\": \"chevron-right\", \"status_icon_right\": \"True\", \"func_icon_right\": \"config_user\", \"cor\": \"False\"},\n",
    "             {\"icon_left\": \"tools\", \"texto\": \"_project\",  \"icon_right\": \"chevron-right\", \"status_icon_right\": \"True\", \"func_icon_right\": \"config_project\", \"cor\": \"False\"}]\n",
    "    }\n",
    "}\n",
    "```\n",
    "\n",
    "Abrindo arquivo json de varios niveis e transformando o mesmo em objeto dict em python. Por fim manipulando o dict."
   ]
  },
  {
   "cell_type": "code",
   "execution_count": 13,
   "metadata": {},
   "outputs": [
    {
     "name": "stdout",
     "output_type": "stream",
     "text": [
      "Type = <class 'dict'>\n",
      "\n",
      "permissões - {'1': {'nome': 'Desenvolvedor', 'descrição': 'Tem acesso full ao sistema'}, '2': {'nome': 'Administrador Master', 'descrição': 'Tem acesso full as funcionalidades do sistema e não pode ser apagado'}, '3': {'nome': 'Administrador', 'descrição': 'Tem acesso full as funcionalidades do sistema e pode ser apagado'}, '4': {'nome': 'Escrita', 'descrição': 'Tem acesso para inserção de dados no sistema e pode se bloquear telas do mesmo'}, '5': {'nome': 'Leitura', 'descrição': 'Tem acesso para leitura de dados no sistema e pode se bloquear telas do mesmo'}}\n",
      "\n",
      "bloqueio_tela - {'2': {'tela_bloqueadas': []}, '3': {'tela_bloqueadas': []}, '4': {'tela_bloqueadas': []}, '5': {'tela_bloqueadas': []}}\n",
      "\n",
      "telas - {}\n",
      "\n",
      "menu_config - {'0': [{'icon_left': 'account', 'texto': '_users', 'icon_right': 'chevron-right', 'status_icon_right': 'True', 'func_icon_right': 'config_user', 'cor': 'False'}, {'icon_left': 'tools', 'texto': '_project', 'icon_right': 'chevron-right', 'status_icon_right': 'True', 'func_icon_right': 'config_project', 'cor': 'False'}]}\n",
      "----------------------------------------------------------------------------------------------------\n",
      "\n",
      " Imprimindo nivel 2:\n",
      "{'nome': 'Leitura', 'descrição': 'Tem acesso para leitura de dados no sistema e pode se bloquear telas do mesmo'}\n",
      "\n",
      " Imprimindo nivel 3:\n",
      "Leitura\n"
     ]
    }
   ],
   "source": [
    "import json\n",
    "\n",
    "with open('config_app.json', mode='r', encoding='utf-8') as a:\n",
    "    json_obj = json.load(a)\n",
    "\n",
    "print(f'Type = {type(json_obj)}')\n",
    "\n",
    "for key, data in json_obj.items():\n",
    "    print(f'\\n{key} - {data}')\n",
    "    \n",
    "print('-'*100)\n",
    "    \n",
    "print(f'\\n Imprimindo nivel 2:\\n{json_obj[\"permissões\"][\"5\"]}')\n",
    "\n",
    "print(f'\\n Imprimindo nivel 3:\\n{json_obj[\"permissões\"][\"5\"][\"nome\"]}')\n"
   ]
  },
  {
   "cell_type": "markdown",
   "metadata": {},
   "source": [
    "# <font color=#FF0000>**json.load()**</font> - Trabalhando com json.load()\n",
    "\n",
    "transformando obj json em dict **_(json.loads)_** python e obj json **_(json.dumps)_**"
   ]
  },
  {
   "cell_type": "code",
   "execution_count": 91,
   "metadata": {},
   "outputs": [
    {
     "name": "stdout",
     "output_type": "stream",
     "text": [
      "json_string = '{\"first_name\": \"Guido\", \"last_name\":\"Rossum\"}'\n",
      "type(json_string) = <class 'str'>\n",
      "\n",
      "parsed_json = {'first_name': 'Guido', 'last_name': 'Rossum'}\n",
      "type(parsed_json) = <class 'dict'>\n",
      "\n",
      "parsed_json[\"first_name\"] = 'Guido'\n",
      "\n",
      "json_obj = '{\"first_name\": \"Guido\", \"last_name\": \"Rossum\"}'\n",
      "type(json_obj) = <class 'str'>\n"
     ]
    }
   ],
   "source": [
    "import json\n",
    "\n",
    "json_string = '{\"first_name\": \"Guido\", \"last_name\":\"Rossum\"}'\n",
    "print(f'{json_string = }')\n",
    "print(f'{type(json_string) = }')\n",
    "\n",
    "# A mesma pode ser analisado assim:\n",
    "parsed_json = json.loads(json_string)\n",
    "print(f'\\n{parsed_json = }')\n",
    "print(f'{type(parsed_json) = }')\n",
    "# e agora pode ser usado como um dicionário normal:\n",
    "print(f'\\n{parsed_json[\"first_name\"] = }')\n",
    "\n",
    "# convertendo novamente para json\n",
    "json_obj = json.dumps(parsed_json)\n",
    "print(f'\\n{json_obj = }')\n",
    "print(f'{type(json_obj) = }')\n"
   ]
  },
  {
   "cell_type": "markdown",
   "metadata": {},
   "source": [
    "# <font color=#FF0000>**json.dumps()**</font> para converter tipos primitivos Python em equivalentes JSON\n",
    "\n",
    "Existem vários cenários em que você precisa usar dados JSON serializados em seu programa. Se você precisar desses dados JSON serializados em seu aplicativo de processamento adicional, poderá convertê-los em um **str objeto Python** nativo em vez de gravá-los em um arquivo.\n",
    "\n",
    "Por exemplo, você recebe uma solicitação HTTP para enviar detalhes do desenvolvedor. você buscou dados de desenvolvedor da tabela de banco de dados e os armazenou em um dicionário Python ou qualquer objeto Python, agora você precisa enviar esses dados de volta para o aplicativo solicitado, então você precisa converter o objeto de dicionário Python em uma string formatada em JSON para enviar como um resposta na string JSON. Para fazer isso, você precisa usar json.dumps().\n",
    "\n",
    "O json.dumps() retorna a representação de string JSON do Python dict.\n",
    "\n",
    "## converter o dicionário Python em uma string formatada em JSON"
   ]
  },
  {
   "cell_type": "code",
   "execution_count": 50,
   "metadata": {},
   "outputs": [
    {
     "name": "stdout",
     "output_type": "stream",
     "text": [
      "Type dicionario = <class 'dict'>\n",
      "dicionario = {'name': 'Jane Doe', 'salary': 9000, 'skills': ['Python', 'Machine Learning', 'Web Development'], 'email': 'jane.doe@pynative.com'}\n",
      "\n",
      "Type string_json= <class 'str'>\n",
      "string_json = '{\"name\": \"Jane Doe\", \"salary\": 9000, \"skills\": [\"Python\", \"Machine Learning\", \"Web Development\"], \"email\": \"jane.doe@pynative.com\"}'\n"
     ]
    }
   ],
   "source": [
    "import json\n",
    "\n",
    "def SendJsonResponse(resultDict):\n",
    "    print(\"Convert Python dictionary into JSON formatted String\")\n",
    "    developer_str = json.dumps(resultDict)\n",
    "    print(developer_str)\n",
    "\n",
    "# sample developer dict\n",
    "dicionario = {\n",
    "    \"name\": \"Jane Doe\",\n",
    "    \"salary\": 9000,\n",
    "    \"skills\": [\"Python\", \"Machine Learning\", \"Web Development\"],\n",
    "    \"email\": \"jane.doe@pynative.com\"\n",
    "}\n",
    "\n",
    "print(f'Type dicionario = {type(dicionario)}')\n",
    "print(f'{dicionario = }')\n",
    "\n",
    "string_json = json.dumps(dicionario)\n",
    "\n",
    "print(f'\\nType string_json= {type(string_json)}')\n",
    "print(f'{string_json = }')\n"
   ]
  },
  {
   "cell_type": "markdown",
   "metadata": {},
   "source": [
    "# <font color=#FF0000>**json.dumps()**</font> - Mapeamento entre entidades JSON e Python durante a codificação\n",
    "\n",
    "Para codificar objetos Python no módulo JSON equivalente a JSON, usa-se a seguinte tabela de conversão. A json.dump() e json.dumps() executa o método as traduções quando codificam.\n",
    "\n",
    "Agora vamos ver como converter todos os tipos primitivos Python, tais como dict, list, set, tuple, str, números em JSON dados formatados. Consulte a tabela a seguir para saber o mapeamento entre os tipos de dados JSON e Python.\n",
    "\n",
    "Python | Json\n",
    ":---: | :---:\n",
    "dict | object\n",
    "list, tuple | array\n",
    "str | string\n",
    "int, float, int & float-derived Enums | number\n",
    "True | true\n",
    "False | false\n",
    "None | null"
   ]
  },
  {
   "cell_type": "code",
   "execution_count": 51,
   "metadata": {},
   "outputs": [
    {
     "name": "stdout",
     "output_type": "stream",
     "text": [
      "Type dicionario = <class 'dict'>\n",
      "dicionario = {'colorList': ['Red', 'Green', 'Blue'], 'carTuple': ('BMW', 'Audi', 'range rover'), 'sampleString': 'pynative.com', 'sampleInteger': 457, 'sampleFloat': 225.48, 'booleantrue': True, 'booleanfalse': False, 'nonevalue': None}\n",
      "\n",
      "Type string_json= <class 'str'>\n",
      "string_json = '{\"colorList\": [\"Red\", \"Green\", \"Blue\"], \"carTuple\": [\"BMW\", \"Audi\", \"range rover\"], \"sampleString\": \"pynative.com\", \"sampleInteger\": 457, \"sampleFloat\": 225.48, \"booleantrue\": true, \"booleanfalse\": false, \"nonevalue\": null}'\n"
     ]
    }
   ],
   "source": [
    "import json\n",
    "\n",
    "dicionario = {\n",
    "    \"colorList\": [\"Red\", \"Green\", \"Blue\"],\n",
    "    \"carTuple\": (\"BMW\", \"Audi\", \"range rover\"),\n",
    "    \"sampleString\": \"pynative.com\",\n",
    "    \"sampleInteger\": 457,\n",
    "    \"sampleFloat\": 225.48,\n",
    "    \"booleantrue\": True,\n",
    "    \"booleanfalse\": False,\n",
    "    \"nonevalue\": None\n",
    "}\n",
    "print(f'Type dicionario = {type(dicionario)}')\n",
    "print(f'{dicionario = }')\n",
    "\n",
    "string_json = json.dumps(dicionario)\n",
    "\n",
    "print(f'\\nType string_json= {type(string_json)}')\n",
    "print(f'{string_json = }')"
   ]
  },
  {
   "cell_type": "code",
   "execution_count": 4,
   "metadata": {},
   "outputs": [
    {
     "name": "stdout",
     "output_type": "stream",
     "text": [
      "{'marca': 'Toyota', 'modelo': 'Corolla', 'cor': 'chumbo'}\n",
      "<class 'dict'>\n",
      "\n",
      "{\"marca\": \"Toyota\", \"modelo\": \"Corolla\", \"cor\": \"chumbo\"}\n",
      "<class 'str'>\n"
     ]
    }
   ],
   "source": [
    "from json import dumps\n",
    "\n",
    "#! dict para obj json\n",
    "\n",
    "carros_dict = {'marca': 'Toyota', 'modelo': 'Corolla', 'cor': 'chumbo'}\n",
    "print(carros_dict)\n",
    "print(type(carros_dict))\n",
    "\n",
    "# transformando em objeto json\n",
    "carros_json = dumps(carros_dict)\n",
    "print(f'\\n{carros_json}')\n",
    "print(type(carros_json))"
   ]
  },
  {
   "cell_type": "code",
   "execution_count": 5,
   "metadata": {},
   "outputs": [
    {
     "name": "stdout",
     "output_type": "stream",
     "text": [
      "('Toyota', 'VW', 'Honda', 'BMW')\n",
      "<class 'tuple'>\n",
      "\n",
      "[\"Toyota\", \"VW\", \"Honda\", \"BMW\"]\n",
      "<class 'str'>\n"
     ]
    }
   ],
   "source": [
    "from json import dumps\n",
    "\n",
    "#! tuple() to array json []\n",
    "\n",
    "carros_tuple = ('Toyota', 'VW', 'Honda', 'BMW')\n",
    "print(carros_tuple)\n",
    "print(type(carros_tuple))\n",
    "\n",
    "# transformando em objeto json\n",
    "carros_json = dumps(carros_tuple)\n",
    "print(f'\\n{carros_json}')\n",
    "print(type(carros_json))\n"
   ]
  },
  {
   "cell_type": "code",
   "execution_count": 6,
   "metadata": {},
   "outputs": [
    {
     "name": "stdout",
     "output_type": "stream",
     "text": [
      "['Toyota', 'VW', 'Honda', 'BMW']\n",
      "<class 'list'>\n",
      "\n",
      "[\"Toyota\", \"VW\", \"Honda\", \"BMW\"]\n",
      "<class 'str'>\n"
     ]
    }
   ],
   "source": [
    "from json import dumps\n",
    "\n",
    "#! list[] to array json[]\n",
    "\n",
    "carros_list = ['Toyota', 'VW', 'Honda', 'BMW']\n",
    "print(carros_list)\n",
    "print(type(carros_list))\n",
    "\n",
    "# transformando em objeto json\n",
    "carros_json = dumps(carros_list)\n",
    "print(f'\\n{carros_json}')\n",
    "print(type(carros_json))"
   ]
  },
  {
   "cell_type": "markdown",
   "metadata": {},
   "source": [
    "# <font color=#FF0000>**json.dump()**</font> - Para codificar e gravar dados JSON em um arquivo\n",
    "\n",
    "Para gravar a resposta JSON em um arquivo: Na maioria das vezes, ao executar uma solicitação GET, você recebe uma resposta no formato JSON e pode armazenar a resposta JSON em um arquivo para uso futuro ou para uso de um sistema subjacente.\n",
    "\n",
    "Por exemplo, você tem dados em uma lista ou dicionário ou qualquer objeto Python e deseja codificá-los e armazená-los em um arquivo na forma de JSON.\n",
    "\n",
    "Vamos converter o dicionário Python em um formato JSON e gravá-lo em um arquivo, sendo:\n",
    "\n",
    "1. **SEM FORMATAÇÃO NO ARQUIVO JSON**. (file_json_sem_formatar.json)\n",
    "\n",
    "```json\n",
    "{\"bloqueio_tela\": {\"5\": {\"tela_bloqueadas\": []}, \"3\": {\"tela_bloqueadas\": []}, \"1\": {\"tela_bloqueadas\": []}, \"2\": {\"tela_bloqueadas\": []}}}\n",
    "```\n",
    "\n",
    "2. **RECUADOS E FORMATADOS**. (file_json_formatado.json)\n",
    "    * indent=4 --> _4 espaços de indentação_\n",
    "    * separators=(', ', ': ') --> _formato com espaço apos \",\" e apos \":\"_\n",
    "    * sort_keys=True --> _as chavas são gravadas em ordem crescente_\n",
    "\n",
    "```json\n",
    "{\n",
    "    \"bloqueio_tela\": {\n",
    "        \"1\": {\n",
    "            \"tela_bloqueadas\": []\n",
    "        }, \n",
    "        \"2\": {\n",
    "            \"tela_bloqueadas\": []\n",
    "        }, \n",
    "        \"3\": {\n",
    "            \"tela_bloqueadas\": []\n",
    "        }, \n",
    "        \"5\": {\n",
    "            \"tela_bloqueadas\": []\n",
    "        }\n",
    "    }\n",
    "}\n",
    "```\n",
    "\n",
    "3. **CODIFICAÇÃO COMPACTA PARA ECONOMIZAR ESPAÇO**. (file_json_compacto.json)\n",
    "    * separators=(',', ':') --> _eliminando os espaços e formatação_\n",
    "\n",
    "```json\n",
    "{\"bloqueio_tela\":{\"1\":{\"tela_bloqueadas\":[]},\"2\":{\"tela_bloqueadas\":[]},\"3\":{\"tela_bloqueadas\":[]},\"5\":{\"tela_bloqueadas\":[]}}}\n",
    "``` "
   ]
  },
  {
   "cell_type": "code",
   "execution_count": 1,
   "metadata": {},
   "outputs": [
    {
     "name": "stdout",
     "output_type": "stream",
     "text": [
      "{\"bloqueio_tela\"={\"1\"={\"tela_bloqueadas\"=[]},\"2\"={\"tela_bloqueadas\"=[]},\"3\"={\"tela_bloqueadas\"=[]},\"5\"={\"tela_bloqueadas\"=[]}}}\n"
     ]
    }
   ],
   "source": [
    "import json\n",
    "\n",
    "dicionario = {\"bloqueio_tela\": {\"5\": {\"tela_bloqueadas\": []}, \"3\": {\"tela_bloqueadas\": []}, \"1\": {\"tela_bloqueadas\": []}, \"2\": {\"tela_bloqueadas\": []}}}\n",
    "\n",
    "# criando um arquivo sem formatar:\n",
    "with open('file_json_sem_formatar.json', mode='w', encoding='utf-8') as write_file:\n",
    "    json.dump(dicionario, write_file)\n",
    "    \n",
    "# criando um arquivo json formatado, com recuo, espaços apos \",\" e \":\" e em orden crescente de chaves:\n",
    "with open('file_json_formatado.json', mode='w', encoding='utf-8') as write_file:\n",
    "    json.dump(dicionario, write_file, indent=4, separators=(', ', ': '), sort_keys=True)\n",
    "    \n",
    "# criando um arquivo json sem formatação e sem espaço para economizar tamanho com \",\" e \":\":\n",
    "with open('file_json_compacto.json', mode='w', encoding='utf-8') as write_file:\n",
    "    json.dump(dicionario, write_file, separators=(',', ':'), sort_keys=True)\n",
    "    \n",
    "# podemos tambem trocar o sinal que divide key e chave com separators\n",
    "print(json.dumps(dicionario, separators=(',', '='), sort_keys=True))\n"
   ]
  },
  {
   "cell_type": "markdown",
   "metadata": {},
   "source": [
    "# <font color=#FF0000>**json.dump()**</font> - Pule os tipos não básicos ao gravar JSON em um arquivo usando o parâmetro skipkeys\n",
    "\n",
    "O módulo json integrado do Python só pode lidar com tipos primitivos Python que tenham um equivalente JSON direto (por exemplo, dicionário, listas, strings, ints, Nenhum, etc.).\n",
    "\n",
    "Se o dicionário Python contiver um objeto Python personalizado como uma das chaves e se tentarmos convertê-lo em um formato JSON, você obterá um TypeError, isto é <font color=#FF0000>**_Object of type \"Your Class\" is not JSON serializable_**</font>,.\n",
    "\n",
    "Se este objeto personalizado não for necessário em dados JSON, você pode ignorá-lo usando um **_skipkeys=true_** argumento do json.dump() método.\n",
    "Se **_skipkeys=true_** for True, então as dict chaves que não são de um tipo básico (str, int, float, bool, None) serão ignoradas em vez de gerar um TypeError.\n",
    "\n",
    "```json\n",
    "{\"salario\": 9000, \"skills\": [\"Python\", \"Machine Learning\", \"Web Development\"], \"email\": \"jane.doe@pynative.com\"}\n",
    "```\n",
    "Obs.: Sem o DadosPessoais: usuario\n",
    "\n",
    "Artigo para transformar tipos não basicos em json:\n",
    "<https://pynative.com/make-python-class-json-serializable/>"
   ]
  },
  {
   "cell_type": "code",
   "execution_count": 56,
   "metadata": {},
   "outputs": [],
   "source": [
    "import json\n",
    "\n",
    "class DadosPessoais():\n",
    "    def __init__(self, name: str, age: int):\n",
    "        self.name = name\n",
    "        self.age = age\n",
    "\n",
    "    def showInfo(self):\n",
    "        print(\"Nome é \" + self.name, \"Idade é \", self.age)\n",
    "\n",
    "# instanciando um objeto\n",
    "usuario = DadosPessoais(\"João\", 36)\n",
    "\n",
    "dicionario = {\n",
    "    DadosPessoais: usuario,\n",
    "    \"salario\": 9000,\n",
    "    \"skills\": [\"Python\", \"Machine Learning\", \"Web Development\"],\n",
    "    \"email\": \"jane.doe@pynative.com\"\n",
    "}\n",
    "\n",
    "# criando arquivo json sem tipos não basicos (obj DadosPessoais)\n",
    "with open(\"file_json_sem_tipos_nao_basicos.json\", mode='w', encoding='utf-8') as write_file:\n",
    "    json.dump(dicionario, write_file, skipkeys=True)\n"
   ]
  },
  {
   "cell_type": "markdown",
   "metadata": {},
   "source": [
    "# <font color=#FF0000>**json.dumps()**</font> - Lidar com caracteres não ASCII de dados JSON ao gravá-los em um arquivo\n",
    "\n",
    "O json.dump() método possui  ensure_ascii parâmetro. O  ensure_ascii é verdadeiro por padrão. A saída tem a garantia de ter todos os caracteres não ASCII de entrada com escape. Se  ensure_ascii for falso, esses caracteres serão reproduzidos no estado em que se encontram. Se você deseja armazenar caracteres não ASCII, no estado em que se encontra, use o código a seguir.\n",
    "\n",
    "Obs.: Se usar o **ensure_ascii=False** como parametro do json.dump o mesmo irá salvar palavras com acentuação no arquivo json. Uma boa pratica ao abrir estes arquivos é usar o encoding  utf-8\n",
    "\n",
    "~~~\n",
    "\n",
    "# boa pratica se salvar um json com ensure_ascii=False é abrir o mesmo com encoding utf-8\n",
    "with open(caminho, mode='r', encoding='utf-8') as read_file:\n",
    "~~~"
   ]
  },
  {
   "cell_type": "code",
   "execution_count": 79,
   "metadata": {},
   "outputs": [
    {
     "name": "stdout",
     "output_type": "stream",
     "text": [
      "unicode_data = {'string1': '明彦', 'string2': 'ø'}\n",
      "encoded_unicode = '{\"string1\": \"明彦\", \"string2\": \"ø\"}'\n",
      "encoded_unicode = '{\"string1\": \"\\\\u660e\\\\u5f66\", \"string2\": \"\\\\u00f8\"}'\n",
      "{'string1': '明彦', 'string2': 'ø'}\n"
     ]
    }
   ],
   "source": [
    "import json\n",
    "# encoding in UTF-8\n",
    "unicode_data= {\n",
    "    \"string1\": \"明彦\",\n",
    "    \"string2\": u\"\\u00f8\"}\n",
    "\n",
    "print(f'{unicode_data = }')\n",
    "\n",
    "# dumps com ensure_ascii=False\n",
    "encoded_unicode = json.dumps(unicode_data, ensure_ascii=False)\n",
    "print(f'{encoded_unicode = }')\n",
    "encoded_unicode = json.dumps(unicode_data, ensure_ascii=True)\n",
    "print(f'{encoded_unicode = }')\n",
    "\n",
    "# dumps com ensure_ascii=True (default)\n",
    "print(json.loads(encoded_unicode))"
   ]
  },
  {
   "cell_type": "markdown",
   "metadata": {},
   "source": [
    "# <font color=#FF0000>**CSV (Comma Separated Values)**</font> - Trabalhando com arquivo CSV"
   ]
  },
  {
   "cell_type": "markdown",
   "metadata": {},
   "source": [
    "# <font color=#FF0000>**csv.reader**</font> - Leia CSV com delimitador de vírgula\n",
    "\n",
    "csv.reader função no modo padrão para arquivos CSV com delimitador de vírgula.\n",
    "\n",
    "csv.reader(file) ou csv.reader(file, delimiter=',') é a mesma coisa, uma vez que o delimiter default é = ','"
   ]
  },
  {
   "cell_type": "code",
   "execution_count": 38,
   "metadata": {},
   "outputs": [
    {
     "name": "stdout",
     "output_type": "stream",
     "text": [
      "['Cod', 'Nome', 'Email']\n",
      "['1', 'Guilherme', 'guilherme@guilherme.com.br']\n",
      "['2', 'Elias', 'elias@elias.com.br']\n",
      "['3', 'Gabriel', 'gabriel@gabriel.com.br']\n",
      "['4', 'Anderson', 'anderson@anderson.com.br']\n",
      "['5', 'Alex', 'alex@alex.com.br']\n",
      "['6', 'Vini', 'vini@vini.com.br']\n",
      "['7', 'Letícia', 'leticia@leticia.com.br']\n",
      "['8', 'Giulia', 'giulia@giulia.com.br']\n",
      "['9', 'Felipe', 'felipe@felipe.com.br']\n",
      "['10', 'Luísa', 'luisa@luisa']\n",
      "['11', 'Livio', 'livio@livio.com.br']\n"
     ]
    }
   ],
   "source": [
    "import csv\n",
    "\n",
    "with open('contatos.csv', mode='r', encoding='utf8', newline='') as file:\n",
    "    # csv.reader(file) ou csv.reader(file, delimiter=',') é a mesma coisa, uma vez que o delimiter default é = ','\n",
    "    csv_reader = csv.reader(file)\n",
    "    for row in csv_reader:\n",
    "        print(row)"
   ]
  },
  {
   "cell_type": "markdown",
   "metadata": {},
   "source": [
    "# <font color=#FF0000>**csv.reader - delimiter='\\t'**</font> - Leia CSV com delimitador diferente\n",
    "\n",
    "Por padrão, uma vírgula é usada como delimitador em um arquivo CSV. No entanto, alguns arquivos CSV podem usar outros delimitadores além de vírgulas. Os populares | e \\t(tab)."
   ]
  },
  {
   "cell_type": "code",
   "execution_count": 37,
   "metadata": {},
   "outputs": [
    {
     "name": "stdout",
     "output_type": "stream",
     "text": [
      "['cod\\tnome\\temail']\n",
      "['1\\tJoao\\tjoao@gmail.com']\n",
      "['2\\tAmanda\\tamanda@gmail.com']\n",
      "['3\\tArthur\\tarthur@gmail.com']\n",
      "['4\\tMatheus\\tmatheus@gmail.com']\n",
      "['5\\tGustavo\\tgustavo@gmail.com']\n",
      "['6\\tRenato\\trenato@gmail.com']\n",
      "----------------------------------------------------------------------\n",
      "['cod', 'nome', 'email']\n",
      "['1', 'Joao', 'joao@gmail.com']\n",
      "['2', 'Amanda', 'amanda@gmail.com']\n",
      "['3', 'Arthur', 'arthur@gmail.com']\n",
      "['4', 'Matheus', 'matheus@gmail.com']\n",
      "['5', 'Gustavo', 'gustavo@gmail.com']\n",
      "['6', 'Renato', 'renato@gmail.com']\n"
     ]
    }
   ],
   "source": [
    "import csv\n",
    "\n",
    "with open('contatos_com_delimitador_tab.csv', mode='r', encoding='utf8', newline='') as file:\n",
    "    # csv.reader(file) ou csv.reader(file, delimiter=',') é a mesma coisa, uma vez que o delimiter default é = ','\n",
    "    csv_reader = csv.reader(file)\n",
    "    for row in csv_reader:\n",
    "        print(row)\n",
    "        \n",
    "    print('-' * 70)\n",
    "    # utilizando seek(0) para retornar ao inicio do arquivo para ler novamente\n",
    "    file.seek(0)\n",
    "   \n",
    "    # agora usando o delimeter '\\t'(\\t = tab)\n",
    "    csv_reader = csv.reader(file, delimiter='\\t')\n",
    "    for row in csv_reader:\n",
    "        print(row)"
   ]
  },
  {
   "cell_type": "markdown",
   "metadata": {},
   "source": [
    "# <font color=#FF0000>**csv.reader - skipinitialspace=True**</font> - Leia arquivos CSV com espaços iniciais\n",
    "\n",
    "Isso permite que o reader objeto saiba que as entradas possuem um espaço em branco inicial. Como resultado, os espaços iniciais que estavam presentes após um delimitador são removidos."
   ]
  },
  {
   "cell_type": "code",
   "execution_count": 39,
   "metadata": {},
   "outputs": [
    {
     "name": "stdout",
     "output_type": "stream",
     "text": [
      "[' Cod', ' Nome', ' Email']\n",
      "[' 1', ' Guilherme', ' guilherme@guilherme.com.br']\n",
      "[' 2', ' Elias', ' elias@elias.com.br']\n",
      "[' 3', ' Gabriel', ' gabriel@gabriel.com.br']\n",
      "[' 4', ' Anderson', ' anderson@anderson.com.br']\n",
      "[' 5', ' Alex', ' alex@alex.com.br']\n",
      "[' 6', ' Vini', ' vini@vini.com.br']\n",
      "[' 7', ' Letícia', ' leticia@leticia.com.br']\n",
      "[' 8', ' Giulia', ' giulia@giulia.com.br']\n",
      "[' 9', ' Felipe', ' felipe@felipe.com.br']\n",
      "[' 10', ' Luísa', ' luisa@luisa']\n",
      "[' 11', '  Livio', ' livio@livio.com.br']\n",
      "----------------------------------------------------------------------\n",
      "['Cod', 'Nome', 'Email']\n",
      "['1', 'Guilherme', 'guilherme@guilherme.com.br']\n",
      "['2', 'Elias', 'elias@elias.com.br']\n",
      "['3', 'Gabriel', 'gabriel@gabriel.com.br']\n",
      "['4', 'Anderson', 'anderson@anderson.com.br']\n",
      "['5', 'Alex', 'alex@alex.com.br']\n",
      "['6', 'Vini', 'vini@vini.com.br']\n",
      "['7', 'Letícia', 'leticia@leticia.com.br']\n",
      "['8', 'Giulia', 'giulia@giulia.com.br']\n",
      "['9', 'Felipe', 'felipe@felipe.com.br']\n",
      "['10', 'Luísa', 'luisa@luisa']\n",
      "['11', 'Livio', 'livio@livio.com.br']\n"
     ]
    }
   ],
   "source": [
    "import csv\n",
    "\n",
    "with open('contatos_com_espaços.csv', mode='r', encoding='utf8', newline='') as file:\n",
    "    csv_reader = csv.reader(file)\n",
    "    for row in csv_reader:\n",
    "        print(row)\n",
    "        \n",
    "    print('-' * 70)\n",
    "    # utilizando seek(0) para retornar ao inicio do arquivo para ler novamente\n",
    "    file.seek(0)\n",
    "   \n",
    "    # agora usando o skipinitialspace=True para eliminar os espaços \n",
    "    csv_reader = csv.reader(file, skipinitialspace=True)\n",
    "    for row in csv_reader:\n",
    "        print(row)"
   ]
  },
  {
   "cell_type": "markdown",
   "metadata": {},
   "source": [
    "# <font color=#FF0000>**csv.reader - quoting=csv.QUOTE_ALL, skipinitialspace=True**</font> - Ler arquivos CSV com aspas\n",
    "\n",
    "Como você pode ver, passamos csv.QUOTE_ALL para o quoting parâmetro. É uma constante definida pelo csv módulo.\n",
    "\n",
    "csv.QUOTE_ALL especifica o objeto leitor que todos os valores no arquivo CSV estão presentes entre aspas.\n",
    "\n",
    "Existem 3 outras constantes predefinidas que você pode passar para o quoting parâmetro:\n",
    "\n",
    "* csv.QUOTE_MINIMAL- Especifica o reader objeto que o arquivo CSV tem aspas em torno das entradas que contêm caracteres especiais, como delimitador , quotechar ou qualquer um dos caracteres no determinador de linha .\n",
    "* csv.QUOTE_NONNUMERIC- Especifica o reader objeto que o arquivo CSV tem aspas em torno das entradas não numéricas.\n",
    "* csv.QUOTE_NONE - Especifica o objeto leitor que nenhuma das entradas tem aspas ao redor."
   ]
  },
  {
   "cell_type": "code",
   "execution_count": 45,
   "metadata": {},
   "outputs": [
    {
     "name": "stdout",
     "output_type": "stream",
     "text": [
      "['SN', ' \"Nome\"', ' \"Citações\"']\n",
      "['1', ' Buda', ' \"O que pensamos que nos tornamos\"']\n",
      "['2', ' Mark Twain', ' \"Nunca se arrependa de nada que o tenha feito sorrir\"']\n",
      "['3', ' Oscar Wilde', ' \"Seja você mesmo', ' todo mundo já está tomado\"']\n",
      "----------------------------------------------------------------------\n",
      "['SN', 'Nome', 'Citações']\n",
      "['1', 'Buda', 'O que pensamos que nos tornamos']\n",
      "['2', 'Mark Twain', 'Nunca se arrependa de nada que o tenha feito sorrir']\n",
      "['3', 'Oscar Wilde', 'Seja você mesmo, todo mundo já está tomado']\n"
     ]
    }
   ],
   "source": [
    "import csv\n",
    "\n",
    "with open('arquivo_csv_com_aspas.csv', mode='r', encoding='utf8', newline='') as file:\n",
    "    csv_reader = csv.reader(file)\n",
    "    for row in csv_reader:\n",
    "        print(row)\n",
    "        \n",
    "    print('-' * 70)\n",
    "    # utilizando seek(0) para retornar ao inicio do arquivo para ler novamente\n",
    "    file.seek(0)\n",
    "   \n",
    "    # agora usando o quoting=csv.QUOTE_ALL, skipinitialspace=True para eliminar as aspas e espaços\n",
    "    csv_reader = csv.reader(file, quoting=csv.QUOTE_ALL, skipinitialspace=True)\n",
    "    for row in csv_reader:\n",
    "        print(row)"
   ]
  },
  {
   "cell_type": "markdown",
   "metadata": {},
   "source": [
    "# <font color=#FF0000>**csv.reader - dialect='myDialect'**</font> - Ler arquivos CSV usando dialeto\n",
    "\n",
    "Passamos vários parâmetros ( delimiter, quotinge, skipinitialspace) para a csv.reader()função.\n",
    "\n",
    "Essa prática é aceitável ao lidar com um ou dois arquivos. Mas isso tornará o código mais redundante e feio quando começarmos a trabalhar com vários arquivos CSV com formatos semelhantes. Como solução para isso, o csv módulo oferece dialect como parâmetro opcional.\n",
    "\n",
    "Dialeto ajuda a agrupar muitos padrões de formatação específicas, como delimiter, skipinitialspace, quoting, escapecharem um único nome dialeto.\n",
    "\n",
    "Ele pode então ser passado como um parâmetro para várias writer ou reader instâncias."
   ]
  },
  {
   "cell_type": "code",
   "execution_count": 48,
   "metadata": {},
   "outputs": [
    {
     "name": "stdout",
     "output_type": "stream",
     "text": [
      "['ID | \"Nome\" | \"O email\"']\n",
      "['A878 | \"Alfonso K. Hamby\" | \"alfonsokhamby@rhyta.com\"']\n",
      "['F854 | \"Susanne Briard\" | \"susannebriard@armyspy.com\"']\n",
      "['E833 | \"Katja Mauer\" | \"kmauer@jadoop.com\"']\n",
      "----------------------------------------------------------------------\n",
      "['ID ', 'Nome ', 'O email']\n",
      "['A878 ', 'Alfonso K. Hamby ', 'alfonsokhamby@rhyta.com']\n",
      "['F854 ', 'Susanne Briard ', 'susannebriard@armyspy.com']\n",
      "['E833 ', 'Katja Mauer ', 'kmauer@jadoop.com']\n"
     ]
    }
   ],
   "source": [
    "import csv\n",
    "\n",
    "with open('arquivo_csv_uso_dialetos.csv', mode='r', encoding='utf8', newline='') as file:\n",
    "    csv_reader = csv.reader(file)\n",
    "    for row in csv_reader:\n",
    "        print(row)\n",
    "        \n",
    "    print('-' * 70)\n",
    "    # utilizando seek(0) para retornar ao inicio do arquivo para ler novamente\n",
    "    file.seek(0)\n",
    "    # registrando um dialeto\n",
    "    csv.register_dialect('myDialect', delimiter='|', skipinitialspace=True, quoting=csv.QUOTE_ALL)\n",
    "    # agora usando o dialect='myDialect'\n",
    "    csv_reader = csv.reader(file, dialect='myDialect')\n",
    "    for row in csv_reader:\n",
    "        print(row)\n",
    "        \n",
    "    \"\"\"A vantagem de usar dialect é que torna o programa mais modular. Observe que podemos reutilizar\n",
    "    'myDialect' para abrir outros arquivos sem ter que especificar novamente o formato CSV.\"\"\""
   ]
  },
  {
   "cell_type": "markdown",
   "metadata": {},
   "source": [
    "# <font color=#FF0000>**csv.DictReader**</font>\n",
    "\n",
    "Entradas da primeira linha são as chaves do dicionário. E as entradas nas outras linhas são os valores do dicionário."
   ]
  },
  {
   "cell_type": "code",
   "execution_count": 68,
   "metadata": {},
   "outputs": [
    {
     "name": "stdout",
     "output_type": "stream",
     "text": [
      "{'Cod': '1', 'Nome': 'Guilherme', 'Email': 'guilherme@guilherme.com.br'}\n",
      "{'Cod': '2', 'Nome': 'Elias', 'Email': 'elias@elias.com.br'}\n",
      "{'Cod': '3', 'Nome': 'Gabriel', 'Email': 'gabriel@gabriel.com.br'}\n",
      "{'Cod': '4', 'Nome': 'Anderson', 'Email': 'anderson@anderson.com.br'}\n",
      "{'Cod': '5', 'Nome': 'Alex', 'Email': 'alex@alex.com.br'}\n",
      "{'Cod': '6', 'Nome': 'Vini', 'Email': 'vini@vini.com.br'}\n",
      "{'Cod': '7', 'Nome': 'Letícia', 'Email': 'leticia@leticia.com.br'}\n",
      "{'Cod': '8', 'Nome': 'Giulia', 'Email': 'giulia@giulia.com.br'}\n",
      "{'Cod': '9', 'Nome': 'Felipe', 'Email': 'felipe@felipe.com.br'}\n",
      "{'Cod': '10', 'Nome': 'Luísa', 'Email': 'luisa@luisa'}\n",
      "{'Cod': '11', 'Nome': 'Livio', 'Email': 'livio@livio.com.br'}\n"
     ]
    }
   ],
   "source": [
    "import csv\n",
    "\n",
    "with open('contatos.csv', mode='r', encoding='utf8', newline='') as file:\n",
    "    csv_file = csv.DictReader(file)\n",
    "    for row in csv_file:\n",
    "        print(row) # python >= 3.8 print(dict(row)) python < 3.8\n",
    "\n",
    "# Entradas da primeira linha são as chaves do dicionário. E as entradas nas outras linhas são os valores do dicionário."
   ]
  },
  {
   "cell_type": "markdown",
   "metadata": {},
   "source": [
    "# <font color=#FF0000>**csv.writer writerow**</font> - Gravando linha por linha com writerow\n",
    "\n",
    "A csv.writer()função retorna um writer objeto que converte os dados do usuário em uma string delimitada. Esta string pode ser usada posteriormente para gravar em arquivos CSV usando a writerow()função. Vamos dar um exemplo."
   ]
  },
  {
   "cell_type": "code",
   "execution_count": 73,
   "metadata": {},
   "outputs": [],
   "source": [
    "import csv\n",
    "\n",
    "# Gravando linha por linha com writerow\n",
    "with open('arquivo_csv_writer.csv', mode='w', encoding='utf8', newline='') as file:\n",
    "    writer = csv.writer(file)\n",
    "    writer.writerow([\"SN\", \"Movie\", \"Protagonist\"])\n",
    "    writer.writerow([1, \"Lord of the Rings\", \"Frodo Baggins\"])\n",
    "    writer.writerow([2, \"Harry Potter\", \"Harry Potter\"])"
   ]
  },
  {
   "cell_type": "markdown",
   "metadata": {},
   "source": [
    "# <font color=#FF0000>**csv.writer writerows**</font> - Gravando várias linhas com writerows"
   ]
  },
  {
   "cell_type": "code",
   "execution_count": 74,
   "metadata": {},
   "outputs": [],
   "source": [
    "import csv\n",
    "# Gravando varias linhas com writerows\n",
    "lista = [[\"SN\", \"Movie\", \"Protagonist\"], [1, \"Lord of the Rings\", \"Frodo Baggins\"], [2, \"Harry Potter\", \"Harry Potter\"]]\n",
    "with open('arquivo_csv_writer_rows.csv', mode='w', encoding='utf8', newline='') as file:\n",
    "    writer = csv.writer(file)\n",
    "    writer.writerows(lista)"
   ]
  },
  {
   "cell_type": "markdown",
   "metadata": {},
   "source": [
    "# <font color=#FF0000>**csv.writer - delimiter**</font> - Gravando em um arquivo CSV com delimitador\n",
    "\n",
    "```\n",
    "cod\tnome\temail\n",
    "1\tJoao\tjoao@gmail.com\n",
    "2\tAmanda\tamanda@gmail.com\n",
    "3\tArthur\tarthur@gmail.com\n",
    "4\tMatheus\tmatheus@gmail.com\n",
    "5\tGustavo\tgustavo@gmail.com\n",
    "6\tRenato\trenato@gmail.com\n",
    "```"
   ]
  },
  {
   "cell_type": "code",
   "execution_count": 75,
   "metadata": {},
   "outputs": [],
   "source": [
    "import csv\n",
    "\n",
    "lista = [['cod', 'nome', 'email'], ['1', 'Joao', 'joao@gmail.com'], ['2', 'Amanda', 'amanda@gmail.com'],\n",
    "         ['3', 'Arthur', 'arthur@gmail.com'], ['4', 'Matheus', 'matheus@gmail.com'], ['5', 'Gustavo', 'gustavo@gmail.com'], \n",
    "         ['6', 'Renato', 'renato@gmail.com']]\n",
    "\n",
    "with open('contatos_com_delimitador_tab.csv', mode='w', encoding='utf8', newline='') as file:\n",
    "    writer = csv.writer(file, delimiter='\\t')\n",
    "    writer.writerows(lista)"
   ]
  },
  {
   "cell_type": "markdown",
   "metadata": {},
   "source": [
    "# <font color=#FF0000>**csv.writer - quoting=csv.QUOTE_NONNUMERIC**</font> - Gravando em um arquivo CSV com aspas\n",
    "\n",
    "* _csv.QUOTE_NONNUMERIC_ Especifica o writer objeto que as aspas devem ser adicionadas às entradas **não numéricas**.\n",
    "* _csv.QUOTE_ALL_ Especifica o writer objeto para gravar o arquivo CSV com aspas em torno de **todas as entradas**.\n",
    "* _csv.QUOTE_MINIMAL_ Especifica o writer objeto para citar apenas os campos que contêm caracteres especiais (delimitador , quotechar ou quaisquer caracteres no determinador de linha)\n",
    "* _csv.QUOTE_NONE_ Especifica o writer objeto que nenhuma das entradas deve ser citada. **É o valor padrão**.\n",
    "```\n",
    "\"cod\",\"nome\",\"email\"\n",
    "1,\"Joao\",\"joao@gmail.com\"\n",
    "2,\"Amanda\",\"amanda@gmail.com\"\n",
    "3,\"Arthur\",\"arthur@gmail.com\"\n",
    "4,\"Matheus\",\"matheus@gmail.com\"\n",
    "5,\"Gustavo\",\"gustavo@gmail.com\"\n",
    "6,\"Renato\",\"renato@gmail.com\"\n",
    "```"
   ]
  },
  {
   "cell_type": "code",
   "execution_count": 76,
   "metadata": {},
   "outputs": [],
   "source": [
    "import csv\n",
    "\n",
    "lista = [[\"cod\", \"nome\", \"email\"], [1, 'Joao', 'joao@gmail.com'], [2, 'Amanda', \"amanda@gmail.com\"],\n",
    "         [3, 'Arthur', 'arthur@gmail.com'], [4, \"Matheus\", 'matheus@gmail.com'], [5, 'Gustavo', 'gustavo@gmail.com'], \n",
    "         [6, \"Renato\", 'renato@gmail.com']]\n",
    "\n",
    "with open('arquivo_csv_com_aspas.csv', mode='w', encoding='utf8', newline='') as file:\n",
    "    writer = csv.writer(file, quoting=csv.QUOTE_NONNUMERIC)\n",
    "    writer.writerows(lista)"
   ]
  },
  {
   "cell_type": "markdown",
   "metadata": {},
   "source": [
    "# <font color=#FF0000>**csv.writer - quoting=csv.QUOTE_NONNUMERIC e quotechar='*'**</font> - Gravando arquivos CSV com caractere de citação personalizado\n",
    "\n",
    "```\n",
    "*cod*,*nome*,*email*\n",
    "*1*,*Joao*,*joao@gmail.com*\n",
    "*2*,*Amanda*,*amanda@gmail.com*\n",
    "*3*,*Arthur*,*arthur@gmail.com*\n",
    "*4*,*Matheus*,*matheus@gmail.com*\n",
    "*5*,*Gustavo*,*gustavo@gmail.com*\n",
    "*6*,*Renato*,*renato@gmail.com*\n",
    "```"
   ]
  },
  {
   "cell_type": "code",
   "execution_count": 78,
   "metadata": {},
   "outputs": [],
   "source": [
    "import csv\n",
    "\n",
    "lista = [['cod', 'nome', 'email'], ['1', 'Joao', 'joao@gmail.com'], ['2', 'Amanda', 'amanda@gmail.com'],\n",
    "         ['3', 'Arthur', 'arthur@gmail.com'], ['4', 'Matheus', 'matheus@gmail.com'], ['5', 'Gustavo', 'gustavo@gmail.com'], \n",
    "         ['6', 'Renato', 'renato@gmail.com']]\n",
    "\n",
    "with open('arquivo_csv_com_quotechar.csv', mode='w', encoding='utf8', newline='') as file:\n",
    "    writer = csv.writer(file, quoting=csv.QUOTE_NONNUMERIC, quotechar='*')\n",
    "    writer.writerows(lista)"
   ]
  },
  {
   "cell_type": "markdown",
   "metadata": {},
   "source": [
    "# <font color=#FF0000>**csv.writer - dialect='myDialect'**</font> - Gravando arquivos CSV usando dialeto\n",
    "\n",
    "A vantagem de usar dialect é que torna o programa mais modular. Observe que podemos reutilizar myDialect para gravar outros arquivos CSV sem ter que especificar novamente o formato CSV.\n",
    "\n",
    "```\n",
    "*cod*|*nome*|*email*\n",
    "*1*|*Joao*|*joao@gmail.com*\n",
    "*2*|*Amanda*|*amanda@gmail.com*\n",
    "*3*|*Arthur*|*arthur@gmail.com*\n",
    "*4*|*Matheus*|*matheus@gmail.com*\n",
    "*5*|*Gustavo*|*gustavo@gmail.com*\n",
    "*6*|*Renato*|*renato@gmail.com*\n",
    "```"
   ]
  },
  {
   "cell_type": "code",
   "execution_count": 79,
   "metadata": {},
   "outputs": [],
   "source": [
    "import csv\n",
    "\n",
    "lista = [['cod', 'nome', 'email'], ['1', 'Joao', 'joao@gmail.com'], ['2', 'Amanda', 'amanda@gmail.com'],\n",
    "         ['3', 'Arthur', 'arthur@gmail.com'], ['4', 'Matheus', 'matheus@gmail.com'], ['5', 'Gustavo', 'gustavo@gmail.com'], \n",
    "         ['6', 'Renato', 'renato@gmail.com']]\n",
    "\n",
    "csv.register_dialect('myDialect', delimiter='|', quoting=csv.QUOTE_NONNUMERIC, quotechar='*')\n",
    "\n",
    "with open('arquivo_csv_uso_dialetos.csv', mode='w', encoding='utf8', newline='') as file:\n",
    "    writer = csv.writer(file, dialect='myDialect')\n",
    "    writer.writerows(lista)"
   ]
  },
  {
   "cell_type": "markdown",
   "metadata": {},
   "source": [
    "# <font color=#FF0000>**csv.DictWriter**</font> - Gravando arquivos CSV atraves de uma lista de dicionarios\n",
    "\n",
    "```\n",
    "cod,nome,email\n",
    "1,Joao,joao@gmail.com\n",
    "2,Amanda,amanda@gmail.com\n",
    "3,Arthur,arthur@gmail.com\n",
    "4,Matheus,matheus@gmail.com\n",
    "5,Gustavo,gustavo@gmail.com\n",
    "6,Renato,renato@gmail.com\n",
    "```"
   ]
  },
  {
   "cell_type": "code",
   "execution_count": 81,
   "metadata": {},
   "outputs": [],
   "source": [
    "import csv\n",
    "\n",
    "lista = [{'cod': 1, 'nome': 'Joao', 'email': 'joao@gmail.com'}, {'cod': 2, 'nome': 'Amanda', 'email': 'amanda@gmail.com'},\n",
    "         {'cod': 3, 'nome': 'Arthur', 'email': 'arthur@gmail.com'}, {'cod': 4, 'nome': 'Matheus', 'email': 'matheus@gmail.com'},\n",
    "         {'cod': 5, 'nome': 'Gustavo', 'email': 'gustavo@gmail.com'}, {'cod': 6, 'nome': 'Renato', 'email': 'renato@gmail.com'}]\n",
    "\n",
    "with open('arquivo_csv_dictWriter.csv', mode='w', encoding='utf8', newline='') as file:\n",
    "    fieldnames = ['cod', 'nome', 'email']\n",
    "    writer = csv.DictWriter(file, fieldnames=fieldnames)\n",
    "\n",
    "    writer.writeheader()\n",
    "    writer.writerows(lista)"
   ]
  },
  {
   "cell_type": "markdown",
   "metadata": {},
   "source": [
    "# <font color=#FF0000>**csv to Excel com openpyxl**</font> - Transformando arquivos CSV em Excel\n"
   ]
  },
  {
   "cell_type": "code",
   "execution_count": 4,
   "metadata": {},
   "outputs": [],
   "source": [
    "import csv\n",
    "from openpyxl import Workbook\n",
    "import os\n",
    "\n",
    "wb = Workbook()\n",
    "ws = wb.active\n",
    "\n",
    "with open('salarios.csv') as f:\n",
    "    reader = csv.reader(f, delimiter=',')\n",
    "    for row in reader:\n",
    "        ws.append(row)\n",
    "\n",
    "wb.save('salarios.xlsx')\n",
    "\n",
    "os.startfile('salarios.xlsx')\n",
    "# os.system(\"start EXCEL.EXE salarios.xlsx\")\n",
    "# os.system(\"open -a 'path/Microsoft Excel.app' 'path/file.xlsx'\")"
   ]
  }
 ],
 "metadata": {
  "interpreter": {
   "hash": "325cb660cce599eef17833f9bb0afcb0e3dbe3e8605c570c8e00eb36d04c5df3"
  },
  "kernelspec": {
   "display_name": "Python 3.9.5 64-bit ('venv': venv)",
   "name": "python3"
  },
  "language_info": {
   "codemirror_mode": {
    "name": "ipython",
    "version": 3
   },
   "file_extension": ".py",
   "mimetype": "text/x-python",
   "name": "python",
   "nbconvert_exporter": "python",
   "pygments_lexer": "ipython3",
   "version": "3.9.5"
  },
  "orig_nbformat": 4
 },
 "nbformat": 4,
 "nbformat_minor": 2
}
