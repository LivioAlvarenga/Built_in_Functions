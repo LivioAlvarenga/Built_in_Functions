{
 "cells": [
  {
   "cell_type": "markdown",
   "source": [
    "# <font color=#FF0000>**OS**</font>\r\n",
    "O módulo OS em Python fornece funções para interagir com o sistema operacional. O sistema operacional está incluído nos módulos de utilitário padrão do Python. Este módulo fornece uma maneira portátil de usar a funcionalidade dependente do sistema operacional. O módulo os.path é um submódulo do módulo OS em Python usado para manipulação de nomes de caminho comuns."
   ],
   "metadata": {}
  },
  {
   "cell_type": "markdown",
   "source": [
    "# <font color=#FF0000>**os.getcwd()**</font> - Mostra em qual diretorio estamos"
   ],
   "metadata": {}
  },
  {
   "cell_type": "code",
   "execution_count": 48,
   "source": [
    "from os import getcwd\r\n",
    "\r\n",
    "print(getcwd())"
   ],
   "outputs": [
    {
     "output_type": "stream",
     "name": "stdout",
     "text": [
      "c:\\Users\\Avell\\OneDrive\\DEV\\Python_Tutorial\\Python_3\\Arquivos_Modulos_Pacotes\n"
     ]
    }
   ],
   "metadata": {}
  },
  {
   "cell_type": "markdown",
   "source": [
    "# <font color=#FF0000>**os.path.split()**</font> - Separa path e arquivo"
   ],
   "metadata": {}
  },
  {
   "cell_type": "code",
   "execution_count": 124,
   "source": [
    "from os.path import join, exists, split\r\n",
    "\r\n",
    "path = join('C:\\\\','Users','Avell')\r\n",
    "file = 'config.json'\r\n",
    "caminho = join(path,file)\r\n",
    "print(f'{caminho = }')\r\n",
    "\r\n",
    "# separando path e file com split\r\n",
    "path, file = split(caminho)\r\n",
    "print(f'{path = }\\n{file = }')"
   ],
   "outputs": [
    {
     "output_type": "stream",
     "name": "stdout",
     "text": [
      "caminho = 'C:\\\\Users\\\\Avell\\\\config.json'\n",
      "path = 'C:\\\\Users\\\\Avell'\n",
      "file = 'config.json'\n"
     ]
    }
   ],
   "metadata": {}
  },
  {
   "cell_type": "markdown",
   "source": [
    "# <font color=#FF0000>**os.listdir()**</font> - Lista diretorios e arquivos de uma pasta e coloca eles em uma list"
   ],
   "metadata": {}
  },
  {
   "cell_type": "code",
   "execution_count": 54,
   "source": [
    "from os import listdir\r\n",
    "from os.path import join\r\n",
    "\r\n",
    "path = join('C:\\\\','Users','Avell','OneDrive','DEV','Python_Tutorial','Python_3','Arquivos_Modulos_Pacotes', 'Diretorio1')\r\n",
    "\r\n",
    "arquivos = listdir(path)\r\n",
    "print(f'{arquivos = }')\r\n",
    "\r\n",
    "# se colocar listdir('.'), monstra os arquivos do diretorio atual\r\n",
    "\r\n",
    "arquivos = listdir('.')\r\n",
    "print(f'\\n{arquivos = }')\r\n"
   ],
   "outputs": [
    {
     "output_type": "stream",
     "name": "stdout",
     "text": [
      "arquivos = ['file_criado_com_open.txt', 'file_criado_com_open_copy.txt', 'file_criado_com_pathlib.txt', 'file_criado_com_with.txt']\n",
      "\n",
      "arquivos = ['arquivo1.txt', 'arquivos_diretorios.ipynb', 'config_app.json', 'contatos.csv', 'contatos.json', 'Diretorio1', 'file_json_compacto.json', 'file_json_formatado.json', 'file_json_sem_formatar.json', 'file_json_sem_tipos_nao_basicos.json', 'python-logo.png', 'python-logo2.png', 'salarios.csv', 'Tabela_Modos_de_arquivo_em_Python.png', 'teste.txt', 'trabalhando_com_arquivos.ipynb']\n"
     ]
    }
   ],
   "metadata": {}
  },
  {
   "cell_type": "markdown",
   "source": [
    "# <font color=#FF0000>**os.path.join()**</font> - Juntando strings em caminhos\r\n",
    "\r\n",
    "O método os.path.join () em Python une um ou mais componentes de caminho de forma inteligente. Este método concatena vários componentes de caminho com exatamente um separador de diretório ('/') após cada parte não vazia, exceto o último componente de caminho. Se o último componente do caminho a ser unido estiver vazio, um separador de diretório ('/') será colocado no final. \r\n",
    "Se um componente de caminho representa um caminho absoluto, todos os componentes anteriores unidos são descartados e a união continua a partir do componente de caminho absoluto."
   ],
   "metadata": {}
  },
  {
   "cell_type": "code",
   "execution_count": 27,
   "source": [
    "# importing os module\r\n",
    "from os.path import join\r\n",
    " \r\n",
    "# Path\r\n",
    "path = \"C:\\\\Users\\\\Avell\\\\OneDrive\\\\DEV\\\\Python_Tutorial\\\\Python_3\\\\Arquivos_Modulos_Pacotes\"\r\n",
    " \r\n",
    "# Join various path components\r\n",
    "print(join(path, \"PROJETOS\", \"file.txt\"))\r\n",
    "print(join(path, \"PROJETOS\", \"\"))"
   ],
   "outputs": [
    {
     "output_type": "stream",
     "name": "stdout",
     "text": [
      "C:\\Users\\Avell\\OneDrive\\DEV\\Python_Tutorial\\Python_3\\Arquivos_Modulos_Pacotes\\PROJETOS\\file.txt\n",
      "C:\\Users\\Avell\\OneDrive\\DEV\\Python_Tutorial\\Python_3\\Arquivos_Modulos_Pacotes\\PROJETOS\\\n"
     ]
    }
   ],
   "metadata": {}
  },
  {
   "cell_type": "markdown",
   "source": [
    "# <font color=#FF0000>**os.mkdir()**</font> - Criando diretorios\r\n",
    "\r\n",
    "O módulo OS em Python fornece funções para interagir com o sistema operacional. O sistema operacional está incluído nos módulos de utilitário padrão do Python. Este módulo fornece uma maneira portátil de usar a funcionalidade dependente do sistema operacional.\r\n",
    "\r\n",
    "Todas as funções no módulo os levantam OSError no caso de nomes de arquivo e caminhos inválidos ou inacessíveis, ou outros argumentos que têm o tipo correto, mas não são aceitos pelo sistema operacional.\r\n",
    "\r\n",
    "os.mkdir() método em Python é **usado para criar um diretório chamado path** com o modo numérico especificado. Este método dispara **FileExistsError se o diretório a ser criado já existe**."
   ],
   "metadata": {}
  },
  {
   "cell_type": "code",
   "execution_count": 29,
   "source": [
    "from os import mkdir\r\n",
    "from os.path import join, isdir\r\n",
    "\r\n",
    "diretorio = 'Diretorio1'\r\n",
    "path = join('C:\\\\','Users','Avell','OneDrive','DEV','Python_Tutorial','Python_3','Arquivos_Modulos_Pacotes', diretorio)\r\n",
    "print(f'{path = }')\r\n",
    "\r\n",
    "# evitando o FileExistsError com isdir\r\n",
    "if not isdir(path):\r\n",
    "    mkdir(path)\r\n",
    "else:\r\n",
    "    print(f'diretorio: {path}\\nJá existe.')"
   ],
   "outputs": [
    {
     "output_type": "stream",
     "name": "stdout",
     "text": [
      "path = 'C:\\\\Users\\\\Avell\\\\OneDrive\\\\DEV\\\\Python_Tutorial\\\\Python_3\\\\Arquivos_Modulos_Pacotes\\\\Diretorio1'\n",
      "diretorio: C:\\Users\\Avell\\OneDrive\\DEV\\Python_Tutorial\\Python_3\\Arquivos_Modulos_Pacotes\\Diretorio1\n",
      "Já existe.\n"
     ]
    }
   ],
   "metadata": {}
  },
  {
   "cell_type": "markdown",
   "source": [
    "# <font color=#FF0000>**os.path.isdir()**</font> e <font color=#FF0000>**os.path.exists()**</font> - Verificando se existe o diretorio\r\n",
    "\r\n",
    "Estes métodos iram nos retornar um booleano, True ou False, que vai dizer se o diretório existe ou não.\r\n",
    "\r\n",
    "## OBS.: EXISTS VERIFICA ARQUIVO OU DIRETORIO ENQUANTO ISDIR VERIFICA SOMENTE DIRETORIO"
   ],
   "metadata": {}
  },
  {
   "cell_type": "code",
   "execution_count": 71,
   "source": [
    "from os.path import isdir, exists, join\r\n",
    "diretorio = 'Diretorio1'\r\n",
    "path1 = join('C:\\\\','Users','Avell','OneDrive','DEV','Python_Tutorial','Python_3','Arquivos_Modulos_Pacotes', diretorio)\r\n",
    "path2 = join('C:\\\\','Users','Avell','OneDrive','DEV','Python_Tutorial','Python_3','Arquivos_Modulos_Pacotes', 'projeto2')\r\n",
    "\r\n",
    "print(f'{isdir(path1) = }')\r\n",
    "print(f'{isdir(path2) = }')\r\n",
    "\r\n",
    "print(f'{exists(path1) = }')\r\n",
    "print(f'{exists(path2) = }')\r\n"
   ],
   "outputs": [
    {
     "output_type": "stream",
     "name": "stdout",
     "text": [
      "isdir(path1) = True\n",
      "isdir(path2) = False\n",
      "exists(path1) = True\n",
      "exists(path2) = False\n"
     ]
    }
   ],
   "metadata": {}
  },
  {
   "cell_type": "markdown",
   "source": [
    "# <font color=#FF0000>**os.rmdir()**</font> - Usado para remover o diretório."
   ],
   "metadata": {}
  },
  {
   "cell_type": "code",
   "execution_count": 66,
   "source": [
    "from os.path import join, isdir\r\n",
    "from os import rmdir, mkdir\r\n",
    "\r\n",
    "# criando um diretorio para ser removido\r\n",
    "diretorio = 'Diretorio_Apagar'\r\n",
    "path = join('C:\\\\','Users','Avell','OneDrive','DEV','Python_Tutorial','Python_3','Arquivos_Modulos_Pacotes','Diretorio1', diretorio)\r\n",
    "print(f'{path = }')\r\n",
    "\r\n",
    "# evitando o FileExistsError com isdir\r\n",
    "if not isdir(path):\r\n",
    "    mkdir(path)\r\n",
    "else:\r\n",
    "    print(f'diretorio: {path}\\nJá existe.')\r\n"
   ],
   "outputs": [
    {
     "output_type": "stream",
     "name": "stdout",
     "text": [
      "path = 'C:\\\\Users\\\\Avell\\\\OneDrive\\\\DEV\\\\Python_Tutorial\\\\Python_3\\\\Arquivos_Modulos_Pacotes\\\\Diretorio1\\\\Diretorio_Apagar'\n"
     ]
    }
   ],
   "metadata": {}
  },
  {
   "cell_type": "code",
   "execution_count": 67,
   "source": [
    "# apagando 'Diretorio_Apagar'\r\n",
    "diretorio = 'Diretorio_Apagar'\r\n",
    "path = join('C:\\\\','Users','Avell','OneDrive','DEV','Python_Tutorial','Python_3','Arquivos_Modulos_Pacotes','Diretorio1', diretorio)\r\n",
    "print(f'{path = }')\r\n",
    "\r\n",
    "# se não existir diretorio gera erro FileNotFoundError\r\n",
    "rmdir(path)"
   ],
   "outputs": [
    {
     "output_type": "stream",
     "name": "stdout",
     "text": [
      "path = 'C:\\\\Users\\\\Avell\\\\OneDrive\\\\DEV\\\\Python_Tutorial\\\\Python_3\\\\Arquivos_Modulos_Pacotes\\\\Diretorio1\\\\Diretorio_Apagar'\n"
     ]
    }
   ],
   "metadata": {}
  },
  {
   "cell_type": "markdown",
   "source": [
    "# <font color=#FF0000>**os.path.isfile()**</font> e <font color=#FF0000>**os.path.exists()**</font> - Verificando se existe o arquivo\r\n",
    "\r\n",
    "Estes métodos iram nos retornar um booleano, True ou False, que vai dizer se o arquivo existe ou não.\r\n",
    "\r\n",
    "## OBS.: EXISTS VERIFICA ARQUIVO OU DIRETORIO ENQUANTO ISFILE VERIFICA SOMENTE ARQUIVO"
   ],
   "metadata": {}
  },
  {
   "cell_type": "code",
   "execution_count": null,
   "source": [
    "from os.path import isfile, exists, join\r\n",
    "arquivo = 'file_criado_com_open.txt'\r\n",
    "arquivo1 = 'arquivo_inexistente.txt'\r\n",
    "path1 = join('C:\\\\','Users','Avell','OneDrive','DEV','Python_Tutorial','Python_3','Arquivos_Modulos_Pacotes', 'Diretorio1', arquivo)\r\n",
    "path2 = join('C:\\\\','Users','Avell','OneDrive','DEV','Python_Tutorial','Python_3','Arquivos_Modulos_Pacotes', 'Diretorio1', arquivo1)\r\n",
    "\r\n",
    "print(f'{isfile(path1) = }')\r\n",
    "print(f'{isfile(path2) = }')\r\n",
    "\r\n",
    "print(f'{exists(path1) = }')\r\n",
    "print(f'{exists(path2) = }')\r\n"
   ],
   "outputs": [
    {
     "output_type": "stream",
     "name": "stdout",
     "text": [
      "isfile(path1) = True\n",
      "isfile(path2) = False\n",
      "exists(path1) = True\n",
      "exists(path2) = False\n"
     ]
    }
   ],
   "metadata": {}
  },
  {
   "cell_type": "markdown",
   "source": [
    "# <font color=#FF0000>**os.rename()**</font> - Usado para renomear um arquivo ou diretório."
   ],
   "metadata": {}
  },
  {
   "cell_type": "code",
   "execution_count": 85,
   "source": [
    "from os import rename\r\n",
    "from pathlib import Path\r\n",
    "\r\n",
    "arquivo = 'file_criado_com_open.txt'\r\n",
    "arquivo_renomeado = 'file_criado_com_open_renomeado.txt'\r\n",
    "path1 = join('C:\\\\','Users','Avell','OneDrive','DEV','Python_Tutorial','Python_3','Arquivos_Modulos_Pacotes', 'Diretorio1', arquivo)\r\n",
    "path2 = join('C:\\\\','Users','Avell','OneDrive','DEV','Python_Tutorial','Python_3','Arquivos_Modulos_Pacotes', 'Diretorio1', arquivo_renomeado)\r\n",
    "\r\n",
    "# criando arquivo\r\n",
    "Path(path1).touch()\r\n",
    "\r\n",
    "# se não encontrar arquivo gera um erro FileNotFoundError e se o arquivo ja existir gera um FileExistsError\r\n",
    "rename(path1, path2)"
   ],
   "outputs": [],
   "metadata": {}
  },
  {
   "cell_type": "markdown",
   "source": [
    "# open - with - <font color=#FF0000>**pathlib.Path()**</font> - Criando um arquivo vazio"
   ],
   "metadata": {}
  },
  {
   "cell_type": "code",
   "execution_count": 38,
   "source": [
    "from os.path import join\r\n",
    "from pathlib import Path\r\n",
    "\r\n",
    "file = 'file_criado_com_open.txt'\r\n",
    "path1 = join('C:\\\\','Users','Avell','OneDrive','DEV','Python_Tutorial','Python_3','Arquivos_Modulos_Pacotes', 'Diretorio1', file)\r\n",
    "\r\n",
    "# criando com open (se existir ele apaga e cria por cima, pois colocamos mode='w')\r\n",
    "f = open(path1, mode='w', encoding='utf-8')\r\n",
    "f.write('')\r\n",
    "f.close()\r\n",
    "\r\n",
    "file = 'file_criado_com_with.txt'\r\n",
    "path1 = join('C:\\\\','Users','Avell','OneDrive','DEV','Python_Tutorial','Python_3','Arquivos_Modulos_Pacotes', 'Diretorio1', file)\r\n",
    "# criando com with (se existir ele apaga e cria por cima, pois colocamos mode='w')\r\n",
    "with open(path1, mode='w', encoding='utf-8') as f:\r\n",
    "    f.write('')\r\n",
    "\r\n",
    "file = 'file_criado_com_pathlib.txt'\r\n",
    "path1 = join('C:\\\\','Users','Avell','OneDrive','DEV','Python_Tutorial','Python_3','Arquivos_Modulos_Pacotes', 'Diretorio1', file)  \r\n",
    "# criando com pathlib (se existir ele NÃO cria por cima, mantem o antigo)\r\n",
    "Path(path1).touch()\r\n"
   ],
   "outputs": [],
   "metadata": {}
  },
  {
   "cell_type": "markdown",
   "source": [
    "# <font color=#FF0000>**shutil.copy()**</font> - Copiando um arquivo"
   ],
   "metadata": {}
  },
  {
   "cell_type": "code",
   "execution_count": 45,
   "source": [
    "from os.path import join\r\n",
    "from shutil import copy\r\n",
    "\r\n",
    "file = 'file_criado_com_open.txt'\r\n",
    "path1 = join('C:\\\\','Users','Avell','OneDrive','DEV','Python_Tutorial','Python_3','Arquivos_Modulos_Pacotes', 'Diretorio1', file)\r\n",
    "\r\n",
    "file_copy = 'file_criado_com_open_copy.txt'\r\n",
    "path2 = join('C:\\\\','Users','Avell','OneDrive','DEV','Python_Tutorial','Python_3','Arquivos_Modulos_Pacotes', 'Diretorio1', file_copy)\r\n",
    "\r\n",
    "copy(path1, path2)"
   ],
   "outputs": [
    {
     "output_type": "execute_result",
     "data": {
      "text/plain": [
       "'C:\\\\Users\\\\Avell\\\\OneDrive\\\\DEV\\\\Python_Tutorial\\\\Python_3\\\\Arquivos_Modulos_Pacotes\\\\Diretorio1\\\\file_criado_com_open_copy.txt'"
      ]
     },
     "metadata": {},
     "execution_count": 45
    }
   ],
   "metadata": {}
  },
  {
   "cell_type": "code",
   "execution_count": 46,
   "source": [
    "\r\n",
    "# obs: se não existir o arquivo gera um erro:\r\n",
    "file = 'arquivo_inexistente.txt'\r\n",
    "path1 = join('C:\\\\','Users','Avell','OneDrive','DEV','Python_Tutorial','Python_3','Arquivos_Modulos_Pacotes', 'Diretorio1', file)\r\n",
    "\r\n",
    "file_copy = 'arquivo_inexistente_copy.txt'\r\n",
    "path2 = join('C:\\\\','Users','Avell','OneDrive','DEV','Python_Tutorial','Python_3','Arquivos_Modulos_Pacotes', 'Diretorio1', file_copy)\r\n",
    "\r\n",
    "copy(path1, path2)"
   ],
   "outputs": [
    {
     "output_type": "error",
     "ename": "FileNotFoundError",
     "evalue": "[Errno 2] No such file or directory: 'C:\\\\Users\\\\Avell\\\\OneDrive\\\\DEV\\\\Python_Tutorial\\\\Python_3\\\\Arquivos_Modulos_Pacotes\\\\Diretorio1\\\\arquivo_inexistente.txt'",
     "traceback": [
      "\u001b[1;31m---------------------------------------------------------------------------\u001b[0m",
      "\u001b[1;31mFileNotFoundError\u001b[0m                         Traceback (most recent call last)",
      "\u001b[1;32m<ipython-input-46-59022a511a10>\u001b[0m in \u001b[0;36m<module>\u001b[1;34m\u001b[0m\n\u001b[0;32m      6\u001b[0m \u001b[0mpath2\u001b[0m \u001b[1;33m=\u001b[0m \u001b[0mjoin\u001b[0m\u001b[1;33m(\u001b[0m\u001b[1;34m'C:\\\\'\u001b[0m\u001b[1;33m,\u001b[0m\u001b[1;34m'Users'\u001b[0m\u001b[1;33m,\u001b[0m\u001b[1;34m'Avell'\u001b[0m\u001b[1;33m,\u001b[0m\u001b[1;34m'OneDrive'\u001b[0m\u001b[1;33m,\u001b[0m\u001b[1;34m'DEV'\u001b[0m\u001b[1;33m,\u001b[0m\u001b[1;34m'Python_Tutorial'\u001b[0m\u001b[1;33m,\u001b[0m\u001b[1;34m'Python_3'\u001b[0m\u001b[1;33m,\u001b[0m\u001b[1;34m'Arquivos_Modulos_Pacotes'\u001b[0m\u001b[1;33m,\u001b[0m \u001b[1;34m'Diretorio1'\u001b[0m\u001b[1;33m,\u001b[0m \u001b[0mfile_copy\u001b[0m\u001b[1;33m)\u001b[0m\u001b[1;33m\u001b[0m\u001b[1;33m\u001b[0m\u001b[0m\n\u001b[0;32m      7\u001b[0m \u001b[1;33m\u001b[0m\u001b[0m\n\u001b[1;32m----> 8\u001b[1;33m \u001b[0mcopy\u001b[0m\u001b[1;33m(\u001b[0m\u001b[0mpath1\u001b[0m\u001b[1;33m,\u001b[0m \u001b[0mpath2\u001b[0m\u001b[1;33m)\u001b[0m\u001b[1;33m\u001b[0m\u001b[1;33m\u001b[0m\u001b[0m\n\u001b[0m",
      "\u001b[1;32m~\\AppData\\Local\\Programs\\Python\\Python39\\lib\\shutil.py\u001b[0m in \u001b[0;36mcopy\u001b[1;34m(src, dst, follow_symlinks)\u001b[0m\n\u001b[0;32m    416\u001b[0m     \u001b[1;32mif\u001b[0m \u001b[0mos\u001b[0m\u001b[1;33m.\u001b[0m\u001b[0mpath\u001b[0m\u001b[1;33m.\u001b[0m\u001b[0misdir\u001b[0m\u001b[1;33m(\u001b[0m\u001b[0mdst\u001b[0m\u001b[1;33m)\u001b[0m\u001b[1;33m:\u001b[0m\u001b[1;33m\u001b[0m\u001b[1;33m\u001b[0m\u001b[0m\n\u001b[0;32m    417\u001b[0m         \u001b[0mdst\u001b[0m \u001b[1;33m=\u001b[0m \u001b[0mos\u001b[0m\u001b[1;33m.\u001b[0m\u001b[0mpath\u001b[0m\u001b[1;33m.\u001b[0m\u001b[0mjoin\u001b[0m\u001b[1;33m(\u001b[0m\u001b[0mdst\u001b[0m\u001b[1;33m,\u001b[0m \u001b[0mos\u001b[0m\u001b[1;33m.\u001b[0m\u001b[0mpath\u001b[0m\u001b[1;33m.\u001b[0m\u001b[0mbasename\u001b[0m\u001b[1;33m(\u001b[0m\u001b[0msrc\u001b[0m\u001b[1;33m)\u001b[0m\u001b[1;33m)\u001b[0m\u001b[1;33m\u001b[0m\u001b[1;33m\u001b[0m\u001b[0m\n\u001b[1;32m--> 418\u001b[1;33m     \u001b[0mcopyfile\u001b[0m\u001b[1;33m(\u001b[0m\u001b[0msrc\u001b[0m\u001b[1;33m,\u001b[0m \u001b[0mdst\u001b[0m\u001b[1;33m,\u001b[0m \u001b[0mfollow_symlinks\u001b[0m\u001b[1;33m=\u001b[0m\u001b[0mfollow_symlinks\u001b[0m\u001b[1;33m)\u001b[0m\u001b[1;33m\u001b[0m\u001b[1;33m\u001b[0m\u001b[0m\n\u001b[0m\u001b[0;32m    419\u001b[0m     \u001b[0mcopymode\u001b[0m\u001b[1;33m(\u001b[0m\u001b[0msrc\u001b[0m\u001b[1;33m,\u001b[0m \u001b[0mdst\u001b[0m\u001b[1;33m,\u001b[0m \u001b[0mfollow_symlinks\u001b[0m\u001b[1;33m=\u001b[0m\u001b[0mfollow_symlinks\u001b[0m\u001b[1;33m)\u001b[0m\u001b[1;33m\u001b[0m\u001b[1;33m\u001b[0m\u001b[0m\n\u001b[0;32m    420\u001b[0m     \u001b[1;32mreturn\u001b[0m \u001b[0mdst\u001b[0m\u001b[1;33m\u001b[0m\u001b[1;33m\u001b[0m\u001b[0m\n",
      "\u001b[1;32m~\\AppData\\Local\\Programs\\Python\\Python39\\lib\\shutil.py\u001b[0m in \u001b[0;36mcopyfile\u001b[1;34m(src, dst, follow_symlinks)\u001b[0m\n\u001b[0;32m    262\u001b[0m         \u001b[0mos\u001b[0m\u001b[1;33m.\u001b[0m\u001b[0msymlink\u001b[0m\u001b[1;33m(\u001b[0m\u001b[0mos\u001b[0m\u001b[1;33m.\u001b[0m\u001b[0mreadlink\u001b[0m\u001b[1;33m(\u001b[0m\u001b[0msrc\u001b[0m\u001b[1;33m)\u001b[0m\u001b[1;33m,\u001b[0m \u001b[0mdst\u001b[0m\u001b[1;33m)\u001b[0m\u001b[1;33m\u001b[0m\u001b[1;33m\u001b[0m\u001b[0m\n\u001b[0;32m    263\u001b[0m     \u001b[1;32melse\u001b[0m\u001b[1;33m:\u001b[0m\u001b[1;33m\u001b[0m\u001b[1;33m\u001b[0m\u001b[0m\n\u001b[1;32m--> 264\u001b[1;33m         \u001b[1;32mwith\u001b[0m \u001b[0mopen\u001b[0m\u001b[1;33m(\u001b[0m\u001b[0msrc\u001b[0m\u001b[1;33m,\u001b[0m \u001b[1;34m'rb'\u001b[0m\u001b[1;33m)\u001b[0m \u001b[1;32mas\u001b[0m \u001b[0mfsrc\u001b[0m\u001b[1;33m,\u001b[0m \u001b[0mopen\u001b[0m\u001b[1;33m(\u001b[0m\u001b[0mdst\u001b[0m\u001b[1;33m,\u001b[0m \u001b[1;34m'wb'\u001b[0m\u001b[1;33m)\u001b[0m \u001b[1;32mas\u001b[0m \u001b[0mfdst\u001b[0m\u001b[1;33m:\u001b[0m\u001b[1;33m\u001b[0m\u001b[1;33m\u001b[0m\u001b[0m\n\u001b[0m\u001b[0;32m    265\u001b[0m             \u001b[1;31m# macOS\u001b[0m\u001b[1;33m\u001b[0m\u001b[1;33m\u001b[0m\u001b[1;33m\u001b[0m\u001b[0m\n\u001b[0;32m    266\u001b[0m             \u001b[1;32mif\u001b[0m \u001b[0m_HAS_FCOPYFILE\u001b[0m\u001b[1;33m:\u001b[0m\u001b[1;33m\u001b[0m\u001b[1;33m\u001b[0m\u001b[0m\n",
      "\u001b[1;31mFileNotFoundError\u001b[0m: [Errno 2] No such file or directory: 'C:\\\\Users\\\\Avell\\\\OneDrive\\\\DEV\\\\Python_Tutorial\\\\Python_3\\\\Arquivos_Modulos_Pacotes\\\\Diretorio1\\\\arquivo_inexistente.txt'"
     ]
    }
   ],
   "metadata": {}
  },
  {
   "cell_type": "markdown",
   "source": [
    "# <font color=#FF0000>**shutil.move()**</font> - Movimentando um arquivo"
   ],
   "metadata": {}
  },
  {
   "cell_type": "code",
   "execution_count": 68,
   "source": [
    "from os.path import join\r\n",
    "from shutil import move\r\n",
    "from pathlib import Path\r\n",
    "\r\n",
    "file = 'arquivo_trocar_diretorio.txt'\r\n",
    "path1 = join('C:\\\\','Users','Avell','OneDrive','DEV','Python_Tutorial','Python_3','Arquivos_Modulos_Pacotes','Diretorio1', file)\r\n",
    "\r\n",
    "# criando arquivo a ser movido\r\n",
    "Path(path1).touch()"
   ],
   "outputs": [],
   "metadata": {}
  },
  {
   "cell_type": "code",
   "execution_count": 70,
   "source": [
    "# movendo arquivo - se não existir o arquivo gera erro FileNotFoundError\r\n",
    "file_move = 'arquivo_trocar_diretorio.txt'\r\n",
    "path2 = join('C:\\\\','Users','Avell','OneDrive','DEV','Python_Tutorial','Python_3','Arquivos_Modulos_Pacotes','Diretorio1','Mover_arquivos', file_move)\r\n",
    "\r\n",
    "# você pode mover e ja renomear o arquivo caso seja a necessidade, é so trocar o nome em file_move\r\n",
    "move(path1, path2)"
   ],
   "outputs": [
    {
     "output_type": "error",
     "ename": "FileNotFoundError",
     "evalue": "[Errno 2] No such file or directory: 'C:\\\\Users\\\\Avell\\\\OneDrive\\\\DEV\\\\Python_Tutorial\\\\Python_3\\\\Arquivos_Modulos_Pacotes\\\\Diretorio1\\\\arquivo_trocar_diretorio.txt'",
     "traceback": [
      "\u001b[1;31m---------------------------------------------------------------------------\u001b[0m",
      "\u001b[1;31mFileNotFoundError\u001b[0m                         Traceback (most recent call last)",
      "\u001b[1;32m~\\AppData\\Local\\Programs\\Python\\Python39\\lib\\shutil.py\u001b[0m in \u001b[0;36mmove\u001b[1;34m(src, dst, copy_function)\u001b[0m\n\u001b[0;32m    805\u001b[0m     \u001b[1;32mtry\u001b[0m\u001b[1;33m:\u001b[0m\u001b[1;33m\u001b[0m\u001b[1;33m\u001b[0m\u001b[0m\n\u001b[1;32m--> 806\u001b[1;33m         \u001b[0mos\u001b[0m\u001b[1;33m.\u001b[0m\u001b[0mrename\u001b[0m\u001b[1;33m(\u001b[0m\u001b[0msrc\u001b[0m\u001b[1;33m,\u001b[0m \u001b[0mreal_dst\u001b[0m\u001b[1;33m)\u001b[0m\u001b[1;33m\u001b[0m\u001b[1;33m\u001b[0m\u001b[0m\n\u001b[0m\u001b[0;32m    807\u001b[0m     \u001b[1;32mexcept\u001b[0m \u001b[0mOSError\u001b[0m\u001b[1;33m:\u001b[0m\u001b[1;33m\u001b[0m\u001b[1;33m\u001b[0m\u001b[0m\n",
      "\u001b[1;31mFileNotFoundError\u001b[0m: [WinError 2] O sistema não pode encontrar o arquivo especificado: 'C:\\\\Users\\\\Avell\\\\OneDrive\\\\DEV\\\\Python_Tutorial\\\\Python_3\\\\Arquivos_Modulos_Pacotes\\\\Diretorio1\\\\arquivo_trocar_diretorio.txt' -> 'C:\\\\Users\\\\Avell\\\\OneDrive\\\\DEV\\\\Python_Tutorial\\\\Python_3\\\\Arquivos_Modulos_Pacotes\\\\Diretorio1\\\\Mover_arquivos\\\\arquivo_trocar_diretorio.txt'",
      "\nDuring handling of the above exception, another exception occurred:\n",
      "\u001b[1;31mFileNotFoundError\u001b[0m                         Traceback (most recent call last)",
      "\u001b[1;32m<ipython-input-70-d1fa1be7c0af>\u001b[0m in \u001b[0;36m<module>\u001b[1;34m\u001b[0m\n\u001b[0;32m      3\u001b[0m \u001b[0mpath2\u001b[0m \u001b[1;33m=\u001b[0m \u001b[0mjoin\u001b[0m\u001b[1;33m(\u001b[0m\u001b[1;34m'C:\\\\'\u001b[0m\u001b[1;33m,\u001b[0m\u001b[1;34m'Users'\u001b[0m\u001b[1;33m,\u001b[0m\u001b[1;34m'Avell'\u001b[0m\u001b[1;33m,\u001b[0m\u001b[1;34m'OneDrive'\u001b[0m\u001b[1;33m,\u001b[0m\u001b[1;34m'DEV'\u001b[0m\u001b[1;33m,\u001b[0m\u001b[1;34m'Python_Tutorial'\u001b[0m\u001b[1;33m,\u001b[0m\u001b[1;34m'Python_3'\u001b[0m\u001b[1;33m,\u001b[0m\u001b[1;34m'Arquivos_Modulos_Pacotes'\u001b[0m\u001b[1;33m,\u001b[0m\u001b[1;34m'Diretorio1'\u001b[0m\u001b[1;33m,\u001b[0m\u001b[1;34m'Mover_arquivos'\u001b[0m\u001b[1;33m,\u001b[0m \u001b[0mfile_move\u001b[0m\u001b[1;33m)\u001b[0m\u001b[1;33m\u001b[0m\u001b[1;33m\u001b[0m\u001b[0m\n\u001b[0;32m      4\u001b[0m \u001b[1;33m\u001b[0m\u001b[0m\n\u001b[1;32m----> 5\u001b[1;33m \u001b[0mmove\u001b[0m\u001b[1;33m(\u001b[0m\u001b[0mpath1\u001b[0m\u001b[1;33m,\u001b[0m \u001b[0mpath2\u001b[0m\u001b[1;33m)\u001b[0m\u001b[1;33m\u001b[0m\u001b[1;33m\u001b[0m\u001b[0m\n\u001b[0m",
      "\u001b[1;32m~\\AppData\\Local\\Programs\\Python\\Python39\\lib\\shutil.py\u001b[0m in \u001b[0;36mmove\u001b[1;34m(src, dst, copy_function)\u001b[0m\n\u001b[0;32m    824\u001b[0m             \u001b[0mrmtree\u001b[0m\u001b[1;33m(\u001b[0m\u001b[0msrc\u001b[0m\u001b[1;33m)\u001b[0m\u001b[1;33m\u001b[0m\u001b[1;33m\u001b[0m\u001b[0m\n\u001b[0;32m    825\u001b[0m         \u001b[1;32melse\u001b[0m\u001b[1;33m:\u001b[0m\u001b[1;33m\u001b[0m\u001b[1;33m\u001b[0m\u001b[0m\n\u001b[1;32m--> 826\u001b[1;33m             \u001b[0mcopy_function\u001b[0m\u001b[1;33m(\u001b[0m\u001b[0msrc\u001b[0m\u001b[1;33m,\u001b[0m \u001b[0mreal_dst\u001b[0m\u001b[1;33m)\u001b[0m\u001b[1;33m\u001b[0m\u001b[1;33m\u001b[0m\u001b[0m\n\u001b[0m\u001b[0;32m    827\u001b[0m             \u001b[0mos\u001b[0m\u001b[1;33m.\u001b[0m\u001b[0munlink\u001b[0m\u001b[1;33m(\u001b[0m\u001b[0msrc\u001b[0m\u001b[1;33m)\u001b[0m\u001b[1;33m\u001b[0m\u001b[1;33m\u001b[0m\u001b[0m\n\u001b[0;32m    828\u001b[0m     \u001b[1;32mreturn\u001b[0m \u001b[0mreal_dst\u001b[0m\u001b[1;33m\u001b[0m\u001b[1;33m\u001b[0m\u001b[0m\n",
      "\u001b[1;32m~\\AppData\\Local\\Programs\\Python\\Python39\\lib\\shutil.py\u001b[0m in \u001b[0;36mcopy2\u001b[1;34m(src, dst, follow_symlinks)\u001b[0m\n\u001b[0;32m    433\u001b[0m     \u001b[1;32mif\u001b[0m \u001b[0mos\u001b[0m\u001b[1;33m.\u001b[0m\u001b[0mpath\u001b[0m\u001b[1;33m.\u001b[0m\u001b[0misdir\u001b[0m\u001b[1;33m(\u001b[0m\u001b[0mdst\u001b[0m\u001b[1;33m)\u001b[0m\u001b[1;33m:\u001b[0m\u001b[1;33m\u001b[0m\u001b[1;33m\u001b[0m\u001b[0m\n\u001b[0;32m    434\u001b[0m         \u001b[0mdst\u001b[0m \u001b[1;33m=\u001b[0m \u001b[0mos\u001b[0m\u001b[1;33m.\u001b[0m\u001b[0mpath\u001b[0m\u001b[1;33m.\u001b[0m\u001b[0mjoin\u001b[0m\u001b[1;33m(\u001b[0m\u001b[0mdst\u001b[0m\u001b[1;33m,\u001b[0m \u001b[0mos\u001b[0m\u001b[1;33m.\u001b[0m\u001b[0mpath\u001b[0m\u001b[1;33m.\u001b[0m\u001b[0mbasename\u001b[0m\u001b[1;33m(\u001b[0m\u001b[0msrc\u001b[0m\u001b[1;33m)\u001b[0m\u001b[1;33m)\u001b[0m\u001b[1;33m\u001b[0m\u001b[1;33m\u001b[0m\u001b[0m\n\u001b[1;32m--> 435\u001b[1;33m     \u001b[0mcopyfile\u001b[0m\u001b[1;33m(\u001b[0m\u001b[0msrc\u001b[0m\u001b[1;33m,\u001b[0m \u001b[0mdst\u001b[0m\u001b[1;33m,\u001b[0m \u001b[0mfollow_symlinks\u001b[0m\u001b[1;33m=\u001b[0m\u001b[0mfollow_symlinks\u001b[0m\u001b[1;33m)\u001b[0m\u001b[1;33m\u001b[0m\u001b[1;33m\u001b[0m\u001b[0m\n\u001b[0m\u001b[0;32m    436\u001b[0m     \u001b[0mcopystat\u001b[0m\u001b[1;33m(\u001b[0m\u001b[0msrc\u001b[0m\u001b[1;33m,\u001b[0m \u001b[0mdst\u001b[0m\u001b[1;33m,\u001b[0m \u001b[0mfollow_symlinks\u001b[0m\u001b[1;33m=\u001b[0m\u001b[0mfollow_symlinks\u001b[0m\u001b[1;33m)\u001b[0m\u001b[1;33m\u001b[0m\u001b[1;33m\u001b[0m\u001b[0m\n\u001b[0;32m    437\u001b[0m     \u001b[1;32mreturn\u001b[0m \u001b[0mdst\u001b[0m\u001b[1;33m\u001b[0m\u001b[1;33m\u001b[0m\u001b[0m\n",
      "\u001b[1;32m~\\AppData\\Local\\Programs\\Python\\Python39\\lib\\shutil.py\u001b[0m in \u001b[0;36mcopyfile\u001b[1;34m(src, dst, follow_symlinks)\u001b[0m\n\u001b[0;32m    262\u001b[0m         \u001b[0mos\u001b[0m\u001b[1;33m.\u001b[0m\u001b[0msymlink\u001b[0m\u001b[1;33m(\u001b[0m\u001b[0mos\u001b[0m\u001b[1;33m.\u001b[0m\u001b[0mreadlink\u001b[0m\u001b[1;33m(\u001b[0m\u001b[0msrc\u001b[0m\u001b[1;33m)\u001b[0m\u001b[1;33m,\u001b[0m \u001b[0mdst\u001b[0m\u001b[1;33m)\u001b[0m\u001b[1;33m\u001b[0m\u001b[1;33m\u001b[0m\u001b[0m\n\u001b[0;32m    263\u001b[0m     \u001b[1;32melse\u001b[0m\u001b[1;33m:\u001b[0m\u001b[1;33m\u001b[0m\u001b[1;33m\u001b[0m\u001b[0m\n\u001b[1;32m--> 264\u001b[1;33m         \u001b[1;32mwith\u001b[0m \u001b[0mopen\u001b[0m\u001b[1;33m(\u001b[0m\u001b[0msrc\u001b[0m\u001b[1;33m,\u001b[0m \u001b[1;34m'rb'\u001b[0m\u001b[1;33m)\u001b[0m \u001b[1;32mas\u001b[0m \u001b[0mfsrc\u001b[0m\u001b[1;33m,\u001b[0m \u001b[0mopen\u001b[0m\u001b[1;33m(\u001b[0m\u001b[0mdst\u001b[0m\u001b[1;33m,\u001b[0m \u001b[1;34m'wb'\u001b[0m\u001b[1;33m)\u001b[0m \u001b[1;32mas\u001b[0m \u001b[0mfdst\u001b[0m\u001b[1;33m:\u001b[0m\u001b[1;33m\u001b[0m\u001b[1;33m\u001b[0m\u001b[0m\n\u001b[0m\u001b[0;32m    265\u001b[0m             \u001b[1;31m# macOS\u001b[0m\u001b[1;33m\u001b[0m\u001b[1;33m\u001b[0m\u001b[1;33m\u001b[0m\u001b[0m\n\u001b[0;32m    266\u001b[0m             \u001b[1;32mif\u001b[0m \u001b[0m_HAS_FCOPYFILE\u001b[0m\u001b[1;33m:\u001b[0m\u001b[1;33m\u001b[0m\u001b[1;33m\u001b[0m\u001b[0m\n",
      "\u001b[1;31mFileNotFoundError\u001b[0m: [Errno 2] No such file or directory: 'C:\\\\Users\\\\Avell\\\\OneDrive\\\\DEV\\\\Python_Tutorial\\\\Python_3\\\\Arquivos_Modulos_Pacotes\\\\Diretorio1\\\\arquivo_trocar_diretorio.txt'"
     ]
    }
   ],
   "metadata": {}
  },
  {
   "cell_type": "markdown",
   "source": [
    "# <font color=#FF0000>**os.remove()**</font> - Removendo arquivos\r\n",
    "\r\n",
    "os.remove() método em Python é usado para remover ou excluir um caminho de arquivo. Este método não pode remover ou excluir um diretório. **Se o caminho especificado for um diretório, OSError será gerado pelo método**. os.rmdir() pode ser usado para remover o diretório."
   ],
   "metadata": {}
  },
  {
   "cell_type": "code",
   "execution_count": 55,
   "source": [
    "from os.path import join\r\n",
    "from os import remove\r\n",
    "from pathlib import Path\r\n",
    "\r\n",
    "# criando arquivo para ser deletado\r\n",
    "file = 'file_apagar.txt'\r\n",
    "path1 = join('C:\\\\','Users','Avell','OneDrive','DEV','Python_Tutorial','Python_3','Arquivos_Modulos_Pacotes', 'Diretorio1', file)\r\n",
    "\r\n",
    "Path(path1).touch()\r\n"
   ],
   "outputs": [],
   "metadata": {}
  },
  {
   "cell_type": "code",
   "execution_count": 57,
   "source": [
    "# apagando o arquivo 'file_apagar.txt'\r\n",
    "remove(path1)\r\n",
    "\r\n",
    "# se o arquivo não existir gera um erro FileNotFoundError"
   ],
   "outputs": [
    {
     "output_type": "error",
     "ename": "FileNotFoundError",
     "evalue": "[WinError 2] O sistema não pode encontrar o arquivo especificado: 'C:\\\\Users\\\\Avell\\\\OneDrive\\\\DEV\\\\Python_Tutorial\\\\Python_3\\\\Arquivos_Modulos_Pacotes\\\\Diretorio1\\\\file_apagar.txt'",
     "traceback": [
      "\u001b[1;31m---------------------------------------------------------------------------\u001b[0m",
      "\u001b[1;31mFileNotFoundError\u001b[0m                         Traceback (most recent call last)",
      "\u001b[1;32m<ipython-input-57-420ce989753e>\u001b[0m in \u001b[0;36m<module>\u001b[1;34m\u001b[0m\n\u001b[0;32m      1\u001b[0m \u001b[1;31m# apagando o arquivo 'file_apagar.txt'\u001b[0m\u001b[1;33m\u001b[0m\u001b[1;33m\u001b[0m\u001b[1;33m\u001b[0m\u001b[0m\n\u001b[1;32m----> 2\u001b[1;33m \u001b[0mremove\u001b[0m\u001b[1;33m(\u001b[0m\u001b[0mpath1\u001b[0m\u001b[1;33m)\u001b[0m\u001b[1;33m\u001b[0m\u001b[1;33m\u001b[0m\u001b[0m\n\u001b[0m",
      "\u001b[1;31mFileNotFoundError\u001b[0m: [WinError 2] O sistema não pode encontrar o arquivo especificado: 'C:\\\\Users\\\\Avell\\\\OneDrive\\\\DEV\\\\Python_Tutorial\\\\Python_3\\\\Arquivos_Modulos_Pacotes\\\\Diretorio1\\\\file_apagar.txt'"
     ]
    }
   ],
   "metadata": {}
  },
  {
   "cell_type": "code",
   "execution_count": 61,
   "source": [
    "# se for um diretorio gera erro PermissionError\r\n",
    "# os.rmdir()pode ser usado para remover o diretório.\r\n",
    "\r\n",
    "path1 = join('C:\\\\','Users','Avell','OneDrive','DEV','Python_Tutorial','Python_3','Arquivos_Modulos_Pacotes', 'Diretorio1')\r\n",
    "print(f'{path1 = }')\r\n",
    "\r\n",
    "remove(path1)"
   ],
   "outputs": [
    {
     "output_type": "stream",
     "name": "stdout",
     "text": [
      "path1 = 'C:\\\\Users\\\\Avell\\\\OneDrive\\\\DEV\\\\Python_Tutorial\\\\Python_3\\\\Arquivos_Modulos_Pacotes\\\\Diretorio1'\n"
     ]
    },
    {
     "output_type": "error",
     "ename": "PermissionError",
     "evalue": "[WinError 5] Acesso negado: 'C:\\\\Users\\\\Avell\\\\OneDrive\\\\DEV\\\\Python_Tutorial\\\\Python_3\\\\Arquivos_Modulos_Pacotes\\\\Diretorio1'",
     "traceback": [
      "\u001b[1;31m---------------------------------------------------------------------------\u001b[0m",
      "\u001b[1;31mPermissionError\u001b[0m                           Traceback (most recent call last)",
      "\u001b[1;32m<ipython-input-61-0cde6d682ffd>\u001b[0m in \u001b[0;36m<module>\u001b[1;34m\u001b[0m\n\u001b[0;32m      4\u001b[0m \u001b[0mprint\u001b[0m\u001b[1;33m(\u001b[0m\u001b[1;34mf'{path1 = }'\u001b[0m\u001b[1;33m)\u001b[0m\u001b[1;33m\u001b[0m\u001b[1;33m\u001b[0m\u001b[0m\n\u001b[0;32m      5\u001b[0m \u001b[1;33m\u001b[0m\u001b[0m\n\u001b[1;32m----> 6\u001b[1;33m \u001b[0mremove\u001b[0m\u001b[1;33m(\u001b[0m\u001b[0mpath1\u001b[0m\u001b[1;33m)\u001b[0m\u001b[1;33m\u001b[0m\u001b[1;33m\u001b[0m\u001b[0m\n\u001b[0m",
      "\u001b[1;31mPermissionError\u001b[0m: [WinError 5] Acesso negado: 'C:\\\\Users\\\\Avell\\\\OneDrive\\\\DEV\\\\Python_Tutorial\\\\Python_3\\\\Arquivos_Modulos_Pacotes\\\\Diretorio1'"
     ]
    }
   ],
   "metadata": {}
  },
  {
   "cell_type": "markdown",
   "source": [
    "# <font color=#FF0000>**os.path.abspath()**</font> - Verificando path completo de arquivo"
   ],
   "metadata": {}
  },
  {
   "cell_type": "code",
   "execution_count": 3,
   "source": [
    "from os import listdir\r\n",
    "from os.path import join, abspath\r\n",
    "\r\n",
    "path = join('C:\\\\','Users','Avell','OneDrive','DEV','Python_Tutorial','Python_3','Arquivos_Modulos_Pacotes', 'Diretorio1')\r\n",
    "\r\n",
    "arquivos = listdir(path)\r\n",
    "print(f'{arquivos = }\\n')\r\n",
    "\r\n",
    "# verificando path completo de cada arquivo/pasta\r\n",
    "for item in arquivos:\r\n",
    "    print(abspath(item))"
   ],
   "outputs": [
    {
     "output_type": "stream",
     "name": "stdout",
     "text": [
      "arquivos = ['file_criado_com_open_copy.txt', 'file_criado_com_open_renomeado.txt', 'file_criado_com_pathlib.txt', 'file_criado_com_with.txt', 'Mover_arquivos']\n",
      "\n",
      "c:\\Users\\Avell\\OneDrive\\DEV\\Python_Tutorial\\Python_3\\Arquivos_Modulos_Pacotes\\file_criado_com_open_copy.txt\n",
      "c:\\Users\\Avell\\OneDrive\\DEV\\Python_Tutorial\\Python_3\\Arquivos_Modulos_Pacotes\\file_criado_com_open_renomeado.txt\n",
      "c:\\Users\\Avell\\OneDrive\\DEV\\Python_Tutorial\\Python_3\\Arquivos_Modulos_Pacotes\\file_criado_com_pathlib.txt\n",
      "c:\\Users\\Avell\\OneDrive\\DEV\\Python_Tutorial\\Python_3\\Arquivos_Modulos_Pacotes\\file_criado_com_with.txt\n",
      "c:\\Users\\Avell\\OneDrive\\DEV\\Python_Tutorial\\Python_3\\Arquivos_Modulos_Pacotes\\Mover_arquivos\n"
     ]
    }
   ],
   "metadata": {}
  },
  {
   "cell_type": "markdown",
   "source": [
    "# <font color=#FF0000>**os.sep**</font> - Verificando diretorio raiz linux ou windows\r\n",
    "\r\n",
    "* Linux retorna \"/\"\r\n",
    "* Windows retorna \"C:\\\\\" (ou qualquer que seja o disco atual)"
   ],
   "metadata": {}
  },
  {
   "cell_type": "code",
   "execution_count": 5,
   "source": [
    "import os\r\n",
    "\r\n",
    "# verificando qual separador o sistema usa.\r\n",
    "print(f'{os.sep = }')\r\n",
    "\r\n",
    "# Agora vamos ver a unidade principal e com seu separador\r\n",
    "print(f'\\n{os.path.abspath(os.sep) = }')"
   ],
   "outputs": [
    {
     "output_type": "stream",
     "name": "stdout",
     "text": [
      "os.sep = '\\\\'\n",
      "\n",
      "os.path.abspath(os.sep) = 'c:\\\\'\n"
     ]
    }
   ],
   "metadata": {}
  },
  {
   "cell_type": "markdown",
   "source": [
    "# <font color=#FF0000>**os.walk**</font> - Cria um gerador que navega entre as pastas\r\n",
    "\r\n",
    "Como atravessar o sistema de arquivos em Python? Suponha que tenhamos dado abaixo a estrutura de arquivos em nosso sistema e queremos percorrer todos os seus ramos completamente de cima para baixo.\r\n",
    "\r\n",
    "![ex os.walk](osWalk-1.jpg)\r\n",
    "\r\n",
    "OS.walk () gera os nomes dos arquivos em uma árvore de diretórios percorrendo a árvore de cima para baixo ou de baixo para cima. Para cada diretório na árvore enraizada no diretório superior (incluindo o próprio topo), ele produz uma 3-tupla (caminho de diretório, nomes de diretório, nomes de arquivo).\r\n",
    "\r\n",
    "root: Imprime diretórios apenas do que você especificou.\r\n",
    "dirs: Imprime subdiretórios da raiz.\r\n",
    "arquivos: imprime todos os arquivos da raiz e dos diretórios."
   ],
   "metadata": {}
  },
  {
   "cell_type": "code",
   "execution_count": 122,
   "source": [
    "from os import walk\r\n",
    "\r\n",
    "# gera um gerador, que devemos inteirar com um for\r\n",
    "print(f'{walk(\"H:/Meu Drive\")}')\r\n",
    "\r\n",
    "# tupla (caminho de diretório, nomes de diretório, nomes de arquivo).\r\n",
    "for data in walk('H:/Meu Drive'):\r\n",
    "    print(f'\\n{data = }')\r\n",
    "    \r\n",
    "# melhorando a impressão\r\n",
    "for x, data in enumerate(walk('H:/Meu Drive')):\r\n",
    "    print(f'\\nNivel {x}')\r\n",
    "    print(f'Raiz = {data[0]}')\r\n",
    "    print(f'Pastas = {data[1]}')\r\n",
    "    print(f'Arquivos = {data[2]}\\n')"
   ],
   "outputs": [
    {
     "output_type": "stream",
     "name": "stdout",
     "text": [
      "<generator object _walk at 0x000001B897742200>\n",
      "\n",
      "data = ('H:/Meu Drive', ['Config', 'DESPESAS', 'PROJETOS', 'BACKUP'], ['desktop.ini'])\n",
      "\n",
      "data = ('H:/Meu Drive\\\\Config', [], ['vreeland_logo.png', 'vreeland_logo.jpg'])\n",
      "\n",
      "data = ('H:/Meu Drive\\\\DESPESAS', [], [])\n",
      "\n",
      "data = ('H:/Meu Drive\\\\PROJETOS', [], [])\n",
      "\n",
      "data = ('H:/Meu Drive\\\\BACKUP', [], [])\n",
      "\n",
      "Nivel 0\n",
      "Raiz = H:/Meu Drive\n",
      "Pastas = ['Config', 'DESPESAS', 'PROJETOS', 'BACKUP']\n",
      "Arquivos = ['desktop.ini']\n",
      "\n",
      "\n",
      "Nivel 1\n",
      "Raiz = H:/Meu Drive\\Config\n",
      "Pastas = []\n",
      "Arquivos = ['vreeland_logo.png', 'vreeland_logo.jpg']\n",
      "\n",
      "\n",
      "Nivel 2\n",
      "Raiz = H:/Meu Drive\\DESPESAS\n",
      "Pastas = []\n",
      "Arquivos = []\n",
      "\n",
      "\n",
      "Nivel 3\n",
      "Raiz = H:/Meu Drive\\PROJETOS\n",
      "Pastas = []\n",
      "Arquivos = []\n",
      "\n",
      "\n",
      "Nivel 4\n",
      "Raiz = H:/Meu Drive\\BACKUP\n",
      "Pastas = []\n",
      "Arquivos = []\n",
      "\n"
     ]
    }
   ],
   "metadata": {}
  },
  {
   "cell_type": "markdown",
   "source": [
    "# <font color=#FF0000>**os.path.getctime()**</font> e <font color=#FF0000>**os.stat()**</font> - Verificando data/hora de criação do arquivo no Windows"
   ],
   "metadata": {}
  },
  {
   "cell_type": "code",
   "execution_count": 115,
   "source": [
    "from os.path import getctime, join\r\n",
    "from pathlib import Path\r\n",
    "from time import ctime\r\n",
    "from datetime import datetime\r\n",
    "\r\n",
    "# criando arquivo\r\n",
    "\r\n",
    "file = 'file_criado_com_pathlib.txt'\r\n",
    "path1 = join('C:\\\\','Users','Avell','OneDrive','DEV','Python_Tutorial','Python_3','Arquivos_Modulos_Pacotes', 'Diretorio1', file)  \r\n",
    "# criando com pathlib (se existir ele NÃO cria por cima, mantem o antigo)\r\n",
    "Path(path1).touch()\r\n",
    "\r\n",
    "# verificando data e hora de criação do arquivo\r\n",
    "file = getctime(path1)\r\n",
    "\r\n",
    "# transformando float em string date\r\n",
    "data = ctime(file)\r\n",
    "\r\n",
    "# convertendo string em datetime\r\n",
    "date_time = datetime.fromtimestamp(file)\r\n",
    "\r\n",
    "print(f'{file = }')\r\n",
    "print(f'{data = }')\r\n",
    "print(f'{date_time = }')\r\n",
    "print(f'{date_time.strftime(\"%Y/%m/%d\")}')\r\n",
    "print(f'{date_time.strftime(\"%Y/%b/%d\")}')\r\n",
    "print(f'{date_time.strftime(\"%H:%M\")}')\r\n",
    "\r\n"
   ],
   "outputs": [
    {
     "output_type": "stream",
     "name": "stdout",
     "text": [
      "file = 1632741615.465849\n",
      "data = 'Mon Sep 27 08:20:15 2021'\n",
      "date_time = datetime.datetime(2021, 9, 27, 8, 20, 15, 465849)\n",
      "2021/09/27\n",
      "2021/Sep/27\n",
      "08:20\n"
     ]
    }
   ],
   "metadata": {}
  }
 ],
 "metadata": {
  "orig_nbformat": 4,
  "language_info": {
   "name": "python",
   "version": "3.9.5",
   "mimetype": "text/x-python",
   "codemirror_mode": {
    "name": "ipython",
    "version": 3
   },
   "pygments_lexer": "ipython3",
   "nbconvert_exporter": "python",
   "file_extension": ".py"
  },
  "kernelspec": {
   "name": "python3",
   "display_name": "Python 3.9.5 64-bit ('venv': venv)"
  },
  "interpreter": {
   "hash": "325cb660cce599eef17833f9bb0afcb0e3dbe3e8605c570c8e00eb36d04c5df3"
  }
 },
 "nbformat": 4,
 "nbformat_minor": 2
}