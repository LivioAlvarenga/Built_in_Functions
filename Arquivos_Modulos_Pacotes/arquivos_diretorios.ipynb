{
 "cells": [
  {
   "cell_type": "markdown",
   "metadata": {},
   "source": [
    "# <font color=#FF0000>**OS**</font>\n",
    "O módulo OS em Python fornece funções para interagir com o sistema operacional. O sistema operacional está incluído nos módulos de utilitário padrão do Python. Este módulo fornece uma maneira portátil de usar a funcionalidade dependente do sistema operacional. O módulo os.path é um submódulo do módulo OS em Python usado para manipulação de nomes de caminho comuns."
   ]
  },
  {
   "cell_type": "markdown",
   "metadata": {},
   "source": [
    "# <font color=#FF0000>**os.getcwd()**</font> - Mostra em qual diretorio estamos"
   ]
  },
  {
   "cell_type": "code",
   "execution_count": 48,
   "metadata": {},
   "outputs": [
    {
     "name": "stdout",
     "output_type": "stream",
     "text": [
      "c:\\Users\\Avell\\OneDrive\\DEV\\Python_Tutorial\\Python_3\\Arquivos_Modulos_Pacotes\n"
     ]
    }
   ],
   "source": [
    "from os import getcwd\n",
    "\n",
    "print(getcwd())"
   ]
  },
  {
   "cell_type": "markdown",
   "metadata": {},
   "source": [
    "# <font color=#FF0000>**os.path.split()**</font> - Separa path e arquivo"
   ]
  },
  {
   "cell_type": "code",
   "execution_count": 124,
   "metadata": {},
   "outputs": [
    {
     "name": "stdout",
     "output_type": "stream",
     "text": [
      "caminho = 'C:\\\\Users\\\\Avell\\\\config.json'\n",
      "path = 'C:\\\\Users\\\\Avell'\n",
      "file = 'config.json'\n"
     ]
    }
   ],
   "source": [
    "from os.path import join, exists, split\n",
    "\n",
    "path = join('C:\\\\','Users','Avell')\n",
    "file = 'config.json'\n",
    "caminho = join(path,file)\n",
    "print(f'{caminho = }')\n",
    "\n",
    "# separando path e file com split\n",
    "path, file = split(caminho)\n",
    "print(f'{path = }\\n{file = }')"
   ]
  },
  {
   "cell_type": "markdown",
   "metadata": {},
   "source": [
    "# <font color=#FF0000>**os.path.splitext()**</font> - Separa arquivo e extensão"
   ]
  },
  {
   "cell_type": "code",
   "execution_count": 7,
   "metadata": {},
   "outputs": [
    {
     "name": "stdout",
     "output_type": "stream",
     "text": [
      "caminho = 'C:\\\\Users\\\\Avell\\\\config.alpha.json'\n",
      "path = 'C:\\\\Users\\\\Avell'\n",
      "file = 'config.alpha.json'\n",
      "file = 'config.alpha'\n",
      "extension = '.json'\n"
     ]
    }
   ],
   "source": [
    "from os.path import join, exists, split, splitext\n",
    "\n",
    "path = join('C:\\\\','Users','Avell')\n",
    "file = 'config.alpha.json'\n",
    "caminho = join(path,file)\n",
    "print(f'{caminho = }')\n",
    "\n",
    "# separando path e file com split\n",
    "path, file = split(caminho)\n",
    "print(f'{path = }\\n{file = }')\n",
    "\n",
    "# separando file e extensão com splittext\n",
    "file, extension = splitext(file)\n",
    "print(f'{file = }\\n{extension = }')"
   ]
  },
  {
   "cell_type": "markdown",
   "metadata": {},
   "source": [
    "# <font color=#FF0000>**os.listdir()**</font> - Lista diretorios e arquivos de uma pasta e coloca eles em uma list"
   ]
  },
  {
   "cell_type": "code",
   "execution_count": 54,
   "metadata": {},
   "outputs": [
    {
     "name": "stdout",
     "output_type": "stream",
     "text": [
      "arquivos = ['file_criado_com_open.txt', 'file_criado_com_open_copy.txt', 'file_criado_com_pathlib.txt', 'file_criado_com_with.txt']\n",
      "\n",
      "arquivos = ['arquivo1.txt', 'arquivos_diretorios.ipynb', 'config_app.json', 'contatos.csv', 'contatos.json', 'Diretorio1', 'file_json_compacto.json', 'file_json_formatado.json', 'file_json_sem_formatar.json', 'file_json_sem_tipos_nao_basicos.json', 'python-logo.png', 'python-logo2.png', 'salarios.csv', 'Tabela_Modos_de_arquivo_em_Python.png', 'teste.txt', 'trabalhando_com_arquivos.ipynb']\n"
     ]
    }
   ],
   "source": [
    "from os import listdir\n",
    "from os.path import join\n",
    "\n",
    "path = join('C:\\\\','Users','Avell','OneDrive','DEV','Python_Tutorial','Python_3','Arquivos_Modulos_Pacotes', 'Diretorio1')\n",
    "\n",
    "arquivos = listdir(path)\n",
    "print(f'{arquivos = }')\n",
    "\n",
    "# se colocar listdir('.'), monstra os arquivos do diretorio atual\n",
    "\n",
    "arquivos = listdir('.')\n",
    "print(f'\\n{arquivos = }')\n"
   ]
  },
  {
   "cell_type": "markdown",
   "metadata": {},
   "source": [
    "# <font color=#FF0000>**os.path.join()**</font> - Juntando strings em caminhos\n",
    "\n",
    "O método os.path.join () em Python une um ou mais componentes de caminho de forma inteligente. Este método concatena vários componentes de caminho com exatamente um separador de diretório ('/') após cada parte não vazia, exceto o último componente de caminho. Se o último componente do caminho a ser unido estiver vazio, um separador de diretório ('/') será colocado no final. \n",
    "Se um componente de caminho representa um caminho absoluto, todos os componentes anteriores unidos são descartados e a união continua a partir do componente de caminho absoluto."
   ]
  },
  {
   "cell_type": "code",
   "execution_count": 27,
   "metadata": {},
   "outputs": [
    {
     "name": "stdout",
     "output_type": "stream",
     "text": [
      "C:\\Users\\Avell\\OneDrive\\DEV\\Python_Tutorial\\Python_3\\Arquivos_Modulos_Pacotes\\PROJETOS\\file.txt\n",
      "C:\\Users\\Avell\\OneDrive\\DEV\\Python_Tutorial\\Python_3\\Arquivos_Modulos_Pacotes\\PROJETOS\\\n"
     ]
    }
   ],
   "source": [
    "# importing os module\n",
    "from os.path import join\n",
    " \n",
    "# Path\n",
    "path = \"C:\\\\Users\\\\Avell\\\\OneDrive\\\\DEV\\\\Python_Tutorial\\\\Python_3\\\\Arquivos_Modulos_Pacotes\"\n",
    " \n",
    "# Join various path components\n",
    "print(join(path, \"PROJETOS\", \"file.txt\"))\n",
    "print(join(path, \"PROJETOS\", \"\"))"
   ]
  },
  {
   "cell_type": "markdown",
   "metadata": {},
   "source": [
    "# <font color=#FF0000>**os.mkdir()**</font> - Criando diretorios\n",
    "\n",
    "O módulo OS em Python fornece funções para interagir com o sistema operacional. O sistema operacional está incluído nos módulos de utilitário padrão do Python. Este módulo fornece uma maneira portátil de usar a funcionalidade dependente do sistema operacional.\n",
    "\n",
    "Todas as funções no módulo os levantam OSError no caso de nomes de arquivo e caminhos inválidos ou inacessíveis, ou outros argumentos que têm o tipo correto, mas não são aceitos pelo sistema operacional.\n",
    "\n",
    "os.mkdir() método em Python é **usado para criar um diretório chamado path** com o modo numérico especificado. Este método dispara **FileExistsError se o diretório a ser criado já existe**."
   ]
  },
  {
   "cell_type": "code",
   "execution_count": 29,
   "metadata": {},
   "outputs": [
    {
     "name": "stdout",
     "output_type": "stream",
     "text": [
      "path = 'C:\\\\Users\\\\Avell\\\\OneDrive\\\\DEV\\\\Python_Tutorial\\\\Python_3\\\\Arquivos_Modulos_Pacotes\\\\Diretorio1'\n",
      "diretorio: C:\\Users\\Avell\\OneDrive\\DEV\\Python_Tutorial\\Python_3\\Arquivos_Modulos_Pacotes\\Diretorio1\n",
      "Já existe.\n"
     ]
    }
   ],
   "source": [
    "from os import mkdir\n",
    "from os.path import join, isdir\n",
    "\n",
    "diretorio = 'Diretorio1'\n",
    "path = join('C:\\\\','Users','Avell','OneDrive','DEV','Python_Tutorial','Python_3','Arquivos_Modulos_Pacotes', diretorio)\n",
    "print(f'{path = }')\n",
    "\n",
    "# evitando o FileExistsError com isdir\n",
    "if not isdir(path):\n",
    "    mkdir(path)\n",
    "else:\n",
    "    print(f'diretorio: {path}\\nJá existe.')"
   ]
  },
  {
   "cell_type": "markdown",
   "metadata": {},
   "source": [
    "# <font color=#FF0000>**os.path.isdir()**</font> e <font color=#FF0000>**os.path.exists()**</font> - Verificando se existe o diretorio\n",
    "\n",
    "Estes métodos iram nos retornar um booleano, True ou False, que vai dizer se o diretório existe ou não.\n",
    "\n",
    "## OBS.: EXISTS VERIFICA ARQUIVO OU DIRETORIO ENQUANTO ISDIR VERIFICA SOMENTE DIRETORIO"
   ]
  },
  {
   "cell_type": "code",
   "execution_count": 71,
   "metadata": {},
   "outputs": [
    {
     "name": "stdout",
     "output_type": "stream",
     "text": [
      "isdir(path1) = True\n",
      "isdir(path2) = False\n",
      "exists(path1) = True\n",
      "exists(path2) = False\n"
     ]
    }
   ],
   "source": [
    "from os.path import isdir, exists, join\n",
    "diretorio = 'Diretorio1'\n",
    "path1 = join('C:\\\\','Users','Avell','OneDrive','DEV','Python_Tutorial','Python_3','Arquivos_Modulos_Pacotes', diretorio)\n",
    "path2 = join('C:\\\\','Users','Avell','OneDrive','DEV','Python_Tutorial','Python_3','Arquivos_Modulos_Pacotes', 'projeto2')\n",
    "\n",
    "print(f'{isdir(path1) = }')\n",
    "print(f'{isdir(path2) = }')\n",
    "\n",
    "print(f'{exists(path1) = }')\n",
    "print(f'{exists(path2) = }')\n"
   ]
  },
  {
   "cell_type": "markdown",
   "metadata": {},
   "source": [
    "# <font color=#FF0000>**os.rmdir()**</font> - Usado para remover o diretório."
   ]
  },
  {
   "cell_type": "code",
   "execution_count": 66,
   "metadata": {},
   "outputs": [
    {
     "name": "stdout",
     "output_type": "stream",
     "text": [
      "path = 'C:\\\\Users\\\\Avell\\\\OneDrive\\\\DEV\\\\Python_Tutorial\\\\Python_3\\\\Arquivos_Modulos_Pacotes\\\\Diretorio1\\\\Diretorio_Apagar'\n"
     ]
    }
   ],
   "source": [
    "from os.path import join, isdir\n",
    "from os import rmdir, mkdir\n",
    "\n",
    "# criando um diretorio para ser removido\n",
    "diretorio = 'Diretorio_Apagar'\n",
    "path = join('C:\\\\','Users','Avell','OneDrive','DEV','Python_Tutorial','Python_3','Arquivos_Modulos_Pacotes','Diretorio1', diretorio)\n",
    "print(f'{path = }')\n",
    "\n",
    "# evitando o FileExistsError com isdir\n",
    "if not isdir(path):\n",
    "    mkdir(path)\n",
    "else:\n",
    "    print(f'diretorio: {path}\\nJá existe.')\n"
   ]
  },
  {
   "cell_type": "code",
   "execution_count": 67,
   "metadata": {},
   "outputs": [
    {
     "name": "stdout",
     "output_type": "stream",
     "text": [
      "path = 'C:\\\\Users\\\\Avell\\\\OneDrive\\\\DEV\\\\Python_Tutorial\\\\Python_3\\\\Arquivos_Modulos_Pacotes\\\\Diretorio1\\\\Diretorio_Apagar'\n"
     ]
    }
   ],
   "source": [
    "# apagando 'Diretorio_Apagar'\n",
    "diretorio = 'Diretorio_Apagar'\n",
    "path = join('C:\\\\','Users','Avell','OneDrive','DEV','Python_Tutorial','Python_3','Arquivos_Modulos_Pacotes','Diretorio1', diretorio)\n",
    "print(f'{path = }')\n",
    "\n",
    "# se não existir diretorio gera erro FileNotFoundError\n",
    "rmdir(path)"
   ]
  },
  {
   "cell_type": "markdown",
   "metadata": {},
   "source": [
    "# <font color=#FF0000>**os.path.isfile()**</font> e <font color=#FF0000>**os.path.exists()**</font> - Verificando se existe o arquivo\n",
    "\n",
    "Estes métodos iram nos retornar um booleano, True ou False, que vai dizer se o arquivo existe ou não.\n",
    "\n",
    "## OBS.: EXISTS VERIFICA ARQUIVO OU DIRETORIO ENQUANTO ISFILE VERIFICA SOMENTE ARQUIVO"
   ]
  },
  {
   "cell_type": "code",
   "execution_count": null,
   "metadata": {},
   "outputs": [
    {
     "name": "stdout",
     "output_type": "stream",
     "text": [
      "isfile(path1) = True\n",
      "isfile(path2) = False\n",
      "exists(path1) = True\n",
      "exists(path2) = False\n"
     ]
    }
   ],
   "source": [
    "from os.path import isfile, exists, join\n",
    "arquivo = 'file_criado_com_open.txt'\n",
    "arquivo1 = 'arquivo_inexistente.txt'\n",
    "path1 = join('C:\\\\','Users','Avell','OneDrive','DEV','Python_Tutorial','Python_3','Arquivos_Modulos_Pacotes', 'Diretorio1', arquivo)\n",
    "path2 = join('C:\\\\','Users','Avell','OneDrive','DEV','Python_Tutorial','Python_3','Arquivos_Modulos_Pacotes', 'Diretorio1', arquivo1)\n",
    "\n",
    "print(f'{isfile(path1) = }')\n",
    "print(f'{isfile(path2) = }')\n",
    "\n",
    "print(f'{exists(path1) = }')\n",
    "print(f'{exists(path2) = }')\n"
   ]
  },
  {
   "cell_type": "markdown",
   "metadata": {},
   "source": [
    "# <font color=#FF0000>**os.rename()**</font> - Usado para renomear um arquivo ou diretório."
   ]
  },
  {
   "cell_type": "code",
   "execution_count": 85,
   "metadata": {},
   "outputs": [],
   "source": [
    "from os import rename\n",
    "from pathlib import Path\n",
    "\n",
    "arquivo = 'file_criado_com_open.txt'\n",
    "arquivo_renomeado = 'file_criado_com_open_renomeado.txt'\n",
    "path1 = join('C:\\\\','Users','Avell','OneDrive','DEV','Python_Tutorial','Python_3','Arquivos_Modulos_Pacotes', 'Diretorio1', arquivo)\n",
    "path2 = join('C:\\\\','Users','Avell','OneDrive','DEV','Python_Tutorial','Python_3','Arquivos_Modulos_Pacotes', 'Diretorio1', arquivo_renomeado)\n",
    "\n",
    "# criando arquivo\n",
    "Path(path1).touch()\n",
    "\n",
    "# se não encontrar arquivo gera um erro FileNotFoundError e se o arquivo ja existir gera um FileExistsError\n",
    "rename(path1, path2)"
   ]
  },
  {
   "cell_type": "markdown",
   "metadata": {},
   "source": [
    "# open - with - <font color=#FF0000>**pathlib.Path()**</font> - Criando um arquivo vazio"
   ]
  },
  {
   "cell_type": "code",
   "execution_count": 38,
   "metadata": {},
   "outputs": [],
   "source": [
    "from os.path import join\n",
    "from pathlib import Path\n",
    "\n",
    "file = 'file_criado_com_open.txt'\n",
    "path1 = join('C:\\\\','Users','Avell','OneDrive','DEV','Python_Tutorial','Python_3','Arquivos_Modulos_Pacotes', 'Diretorio1', file)\n",
    "\n",
    "# criando com open (se existir ele apaga e cria por cima, pois colocamos mode='w')\n",
    "f = open(path1, mode='w', encoding='utf-8')\n",
    "f.write('')\n",
    "f.close()\n",
    "\n",
    "file = 'file_criado_com_with.txt'\n",
    "path1 = join('C:\\\\','Users','Avell','OneDrive','DEV','Python_Tutorial','Python_3','Arquivos_Modulos_Pacotes', 'Diretorio1', file)\n",
    "# criando com with (se existir ele apaga e cria por cima, pois colocamos mode='w')\n",
    "with open(path1, mode='w', encoding='utf-8') as f:\n",
    "    f.write('')\n",
    "\n",
    "file = 'file_criado_com_pathlib.txt'\n",
    "path1 = join('C:\\\\','Users','Avell','OneDrive','DEV','Python_Tutorial','Python_3','Arquivos_Modulos_Pacotes', 'Diretorio1', file)  \n",
    "# criando com pathlib (se existir ele NÃO cria por cima, mantem o antigo)\n",
    "Path(path1).touch()\n"
   ]
  },
  {
   "cell_type": "markdown",
   "metadata": {},
   "source": [
    "# <font color=#FF0000>**shutil.copy()**</font> - Copiando um arquivo"
   ]
  },
  {
   "cell_type": "code",
   "execution_count": 45,
   "metadata": {},
   "outputs": [
    {
     "data": {
      "text/plain": [
       "'C:\\\\Users\\\\Avell\\\\OneDrive\\\\DEV\\\\Python_Tutorial\\\\Python_3\\\\Arquivos_Modulos_Pacotes\\\\Diretorio1\\\\file_criado_com_open_copy.txt'"
      ]
     },
     "execution_count": 45,
     "metadata": {},
     "output_type": "execute_result"
    }
   ],
   "source": [
    "from os.path import join\n",
    "from shutil import copy\n",
    "\n",
    "file = 'file_criado_com_open.txt'\n",
    "path1 = join('C:\\\\','Users','Avell','OneDrive','DEV','Python_Tutorial','Python_3','Arquivos_Modulos_Pacotes', 'Diretorio1', file)\n",
    "\n",
    "file_copy = 'file_criado_com_open_copy.txt'\n",
    "path2 = join('C:\\\\','Users','Avell','OneDrive','DEV','Python_Tutorial','Python_3','Arquivos_Modulos_Pacotes', 'Diretorio1', file_copy)\n",
    "\n",
    "copy(path1, path2)"
   ]
  },
  {
   "cell_type": "code",
   "execution_count": 46,
   "metadata": {},
   "outputs": [
    {
     "ename": "FileNotFoundError",
     "evalue": "[Errno 2] No such file or directory: 'C:\\\\Users\\\\Avell\\\\OneDrive\\\\DEV\\\\Python_Tutorial\\\\Python_3\\\\Arquivos_Modulos_Pacotes\\\\Diretorio1\\\\arquivo_inexistente.txt'",
     "output_type": "error",
     "traceback": [
      "\u001b[1;31m---------------------------------------------------------------------------\u001b[0m",
      "\u001b[1;31mFileNotFoundError\u001b[0m                         Traceback (most recent call last)",
      "\u001b[1;32m<ipython-input-46-59022a511a10>\u001b[0m in \u001b[0;36m<module>\u001b[1;34m\u001b[0m\n\u001b[0;32m      6\u001b[0m \u001b[0mpath2\u001b[0m \u001b[1;33m=\u001b[0m \u001b[0mjoin\u001b[0m\u001b[1;33m(\u001b[0m\u001b[1;34m'C:\\\\'\u001b[0m\u001b[1;33m,\u001b[0m\u001b[1;34m'Users'\u001b[0m\u001b[1;33m,\u001b[0m\u001b[1;34m'Avell'\u001b[0m\u001b[1;33m,\u001b[0m\u001b[1;34m'OneDrive'\u001b[0m\u001b[1;33m,\u001b[0m\u001b[1;34m'DEV'\u001b[0m\u001b[1;33m,\u001b[0m\u001b[1;34m'Python_Tutorial'\u001b[0m\u001b[1;33m,\u001b[0m\u001b[1;34m'Python_3'\u001b[0m\u001b[1;33m,\u001b[0m\u001b[1;34m'Arquivos_Modulos_Pacotes'\u001b[0m\u001b[1;33m,\u001b[0m \u001b[1;34m'Diretorio1'\u001b[0m\u001b[1;33m,\u001b[0m \u001b[0mfile_copy\u001b[0m\u001b[1;33m)\u001b[0m\u001b[1;33m\u001b[0m\u001b[1;33m\u001b[0m\u001b[0m\n\u001b[0;32m      7\u001b[0m \u001b[1;33m\u001b[0m\u001b[0m\n\u001b[1;32m----> 8\u001b[1;33m \u001b[0mcopy\u001b[0m\u001b[1;33m(\u001b[0m\u001b[0mpath1\u001b[0m\u001b[1;33m,\u001b[0m \u001b[0mpath2\u001b[0m\u001b[1;33m)\u001b[0m\u001b[1;33m\u001b[0m\u001b[1;33m\u001b[0m\u001b[0m\n\u001b[0m",
      "\u001b[1;32m~\\AppData\\Local\\Programs\\Python\\Python39\\lib\\shutil.py\u001b[0m in \u001b[0;36mcopy\u001b[1;34m(src, dst, follow_symlinks)\u001b[0m\n\u001b[0;32m    416\u001b[0m     \u001b[1;32mif\u001b[0m \u001b[0mos\u001b[0m\u001b[1;33m.\u001b[0m\u001b[0mpath\u001b[0m\u001b[1;33m.\u001b[0m\u001b[0misdir\u001b[0m\u001b[1;33m(\u001b[0m\u001b[0mdst\u001b[0m\u001b[1;33m)\u001b[0m\u001b[1;33m:\u001b[0m\u001b[1;33m\u001b[0m\u001b[1;33m\u001b[0m\u001b[0m\n\u001b[0;32m    417\u001b[0m         \u001b[0mdst\u001b[0m \u001b[1;33m=\u001b[0m \u001b[0mos\u001b[0m\u001b[1;33m.\u001b[0m\u001b[0mpath\u001b[0m\u001b[1;33m.\u001b[0m\u001b[0mjoin\u001b[0m\u001b[1;33m(\u001b[0m\u001b[0mdst\u001b[0m\u001b[1;33m,\u001b[0m \u001b[0mos\u001b[0m\u001b[1;33m.\u001b[0m\u001b[0mpath\u001b[0m\u001b[1;33m.\u001b[0m\u001b[0mbasename\u001b[0m\u001b[1;33m(\u001b[0m\u001b[0msrc\u001b[0m\u001b[1;33m)\u001b[0m\u001b[1;33m)\u001b[0m\u001b[1;33m\u001b[0m\u001b[1;33m\u001b[0m\u001b[0m\n\u001b[1;32m--> 418\u001b[1;33m     \u001b[0mcopyfile\u001b[0m\u001b[1;33m(\u001b[0m\u001b[0msrc\u001b[0m\u001b[1;33m,\u001b[0m \u001b[0mdst\u001b[0m\u001b[1;33m,\u001b[0m \u001b[0mfollow_symlinks\u001b[0m\u001b[1;33m=\u001b[0m\u001b[0mfollow_symlinks\u001b[0m\u001b[1;33m)\u001b[0m\u001b[1;33m\u001b[0m\u001b[1;33m\u001b[0m\u001b[0m\n\u001b[0m\u001b[0;32m    419\u001b[0m     \u001b[0mcopymode\u001b[0m\u001b[1;33m(\u001b[0m\u001b[0msrc\u001b[0m\u001b[1;33m,\u001b[0m \u001b[0mdst\u001b[0m\u001b[1;33m,\u001b[0m \u001b[0mfollow_symlinks\u001b[0m\u001b[1;33m=\u001b[0m\u001b[0mfollow_symlinks\u001b[0m\u001b[1;33m)\u001b[0m\u001b[1;33m\u001b[0m\u001b[1;33m\u001b[0m\u001b[0m\n\u001b[0;32m    420\u001b[0m     \u001b[1;32mreturn\u001b[0m \u001b[0mdst\u001b[0m\u001b[1;33m\u001b[0m\u001b[1;33m\u001b[0m\u001b[0m\n",
      "\u001b[1;32m~\\AppData\\Local\\Programs\\Python\\Python39\\lib\\shutil.py\u001b[0m in \u001b[0;36mcopyfile\u001b[1;34m(src, dst, follow_symlinks)\u001b[0m\n\u001b[0;32m    262\u001b[0m         \u001b[0mos\u001b[0m\u001b[1;33m.\u001b[0m\u001b[0msymlink\u001b[0m\u001b[1;33m(\u001b[0m\u001b[0mos\u001b[0m\u001b[1;33m.\u001b[0m\u001b[0mreadlink\u001b[0m\u001b[1;33m(\u001b[0m\u001b[0msrc\u001b[0m\u001b[1;33m)\u001b[0m\u001b[1;33m,\u001b[0m \u001b[0mdst\u001b[0m\u001b[1;33m)\u001b[0m\u001b[1;33m\u001b[0m\u001b[1;33m\u001b[0m\u001b[0m\n\u001b[0;32m    263\u001b[0m     \u001b[1;32melse\u001b[0m\u001b[1;33m:\u001b[0m\u001b[1;33m\u001b[0m\u001b[1;33m\u001b[0m\u001b[0m\n\u001b[1;32m--> 264\u001b[1;33m         \u001b[1;32mwith\u001b[0m \u001b[0mopen\u001b[0m\u001b[1;33m(\u001b[0m\u001b[0msrc\u001b[0m\u001b[1;33m,\u001b[0m \u001b[1;34m'rb'\u001b[0m\u001b[1;33m)\u001b[0m \u001b[1;32mas\u001b[0m \u001b[0mfsrc\u001b[0m\u001b[1;33m,\u001b[0m \u001b[0mopen\u001b[0m\u001b[1;33m(\u001b[0m\u001b[0mdst\u001b[0m\u001b[1;33m,\u001b[0m \u001b[1;34m'wb'\u001b[0m\u001b[1;33m)\u001b[0m \u001b[1;32mas\u001b[0m \u001b[0mfdst\u001b[0m\u001b[1;33m:\u001b[0m\u001b[1;33m\u001b[0m\u001b[1;33m\u001b[0m\u001b[0m\n\u001b[0m\u001b[0;32m    265\u001b[0m             \u001b[1;31m# macOS\u001b[0m\u001b[1;33m\u001b[0m\u001b[1;33m\u001b[0m\u001b[1;33m\u001b[0m\u001b[0m\n\u001b[0;32m    266\u001b[0m             \u001b[1;32mif\u001b[0m \u001b[0m_HAS_FCOPYFILE\u001b[0m\u001b[1;33m:\u001b[0m\u001b[1;33m\u001b[0m\u001b[1;33m\u001b[0m\u001b[0m\n",
      "\u001b[1;31mFileNotFoundError\u001b[0m: [Errno 2] No such file or directory: 'C:\\\\Users\\\\Avell\\\\OneDrive\\\\DEV\\\\Python_Tutorial\\\\Python_3\\\\Arquivos_Modulos_Pacotes\\\\Diretorio1\\\\arquivo_inexistente.txt'"
     ]
    }
   ],
   "source": [
    "\n",
    "# obs: se não existir o arquivo gera um erro:\n",
    "file = 'arquivo_inexistente.txt'\n",
    "path1 = join('C:\\\\','Users','Avell','OneDrive','DEV','Python_Tutorial','Python_3','Arquivos_Modulos_Pacotes', 'Diretorio1', file)\n",
    "\n",
    "file_copy = 'arquivo_inexistente_copy.txt'\n",
    "path2 = join('C:\\\\','Users','Avell','OneDrive','DEV','Python_Tutorial','Python_3','Arquivos_Modulos_Pacotes', 'Diretorio1', file_copy)\n",
    "\n",
    "copy(path1, path2)"
   ]
  },
  {
   "cell_type": "markdown",
   "metadata": {},
   "source": [
    "# <font color=#FF0000>**shutil.move()**</font> - Movimentando um arquivo"
   ]
  },
  {
   "cell_type": "code",
   "execution_count": 68,
   "metadata": {},
   "outputs": [],
   "source": [
    "from os.path import join\n",
    "from shutil import move\n",
    "from pathlib import Path\n",
    "\n",
    "file = 'arquivo_trocar_diretorio.txt'\n",
    "path1 = join('C:\\\\','Users','Avell','OneDrive','DEV','Python_Tutorial','Python_3','Arquivos_Modulos_Pacotes','Diretorio1', file)\n",
    "\n",
    "# criando arquivo a ser movido\n",
    "Path(path1).touch()"
   ]
  },
  {
   "cell_type": "code",
   "execution_count": 70,
   "metadata": {},
   "outputs": [
    {
     "ename": "FileNotFoundError",
     "evalue": "[Errno 2] No such file or directory: 'C:\\\\Users\\\\Avell\\\\OneDrive\\\\DEV\\\\Python_Tutorial\\\\Python_3\\\\Arquivos_Modulos_Pacotes\\\\Diretorio1\\\\arquivo_trocar_diretorio.txt'",
     "output_type": "error",
     "traceback": [
      "\u001b[1;31m---------------------------------------------------------------------------\u001b[0m",
      "\u001b[1;31mFileNotFoundError\u001b[0m                         Traceback (most recent call last)",
      "\u001b[1;32m~\\AppData\\Local\\Programs\\Python\\Python39\\lib\\shutil.py\u001b[0m in \u001b[0;36mmove\u001b[1;34m(src, dst, copy_function)\u001b[0m\n\u001b[0;32m    805\u001b[0m     \u001b[1;32mtry\u001b[0m\u001b[1;33m:\u001b[0m\u001b[1;33m\u001b[0m\u001b[1;33m\u001b[0m\u001b[0m\n\u001b[1;32m--> 806\u001b[1;33m         \u001b[0mos\u001b[0m\u001b[1;33m.\u001b[0m\u001b[0mrename\u001b[0m\u001b[1;33m(\u001b[0m\u001b[0msrc\u001b[0m\u001b[1;33m,\u001b[0m \u001b[0mreal_dst\u001b[0m\u001b[1;33m)\u001b[0m\u001b[1;33m\u001b[0m\u001b[1;33m\u001b[0m\u001b[0m\n\u001b[0m\u001b[0;32m    807\u001b[0m     \u001b[1;32mexcept\u001b[0m \u001b[0mOSError\u001b[0m\u001b[1;33m:\u001b[0m\u001b[1;33m\u001b[0m\u001b[1;33m\u001b[0m\u001b[0m\n",
      "\u001b[1;31mFileNotFoundError\u001b[0m: [WinError 2] O sistema não pode encontrar o arquivo especificado: 'C:\\\\Users\\\\Avell\\\\OneDrive\\\\DEV\\\\Python_Tutorial\\\\Python_3\\\\Arquivos_Modulos_Pacotes\\\\Diretorio1\\\\arquivo_trocar_diretorio.txt' -> 'C:\\\\Users\\\\Avell\\\\OneDrive\\\\DEV\\\\Python_Tutorial\\\\Python_3\\\\Arquivos_Modulos_Pacotes\\\\Diretorio1\\\\Mover_arquivos\\\\arquivo_trocar_diretorio.txt'",
      "\nDuring handling of the above exception, another exception occurred:\n",
      "\u001b[1;31mFileNotFoundError\u001b[0m                         Traceback (most recent call last)",
      "\u001b[1;32m<ipython-input-70-d1fa1be7c0af>\u001b[0m in \u001b[0;36m<module>\u001b[1;34m\u001b[0m\n\u001b[0;32m      3\u001b[0m \u001b[0mpath2\u001b[0m \u001b[1;33m=\u001b[0m \u001b[0mjoin\u001b[0m\u001b[1;33m(\u001b[0m\u001b[1;34m'C:\\\\'\u001b[0m\u001b[1;33m,\u001b[0m\u001b[1;34m'Users'\u001b[0m\u001b[1;33m,\u001b[0m\u001b[1;34m'Avell'\u001b[0m\u001b[1;33m,\u001b[0m\u001b[1;34m'OneDrive'\u001b[0m\u001b[1;33m,\u001b[0m\u001b[1;34m'DEV'\u001b[0m\u001b[1;33m,\u001b[0m\u001b[1;34m'Python_Tutorial'\u001b[0m\u001b[1;33m,\u001b[0m\u001b[1;34m'Python_3'\u001b[0m\u001b[1;33m,\u001b[0m\u001b[1;34m'Arquivos_Modulos_Pacotes'\u001b[0m\u001b[1;33m,\u001b[0m\u001b[1;34m'Diretorio1'\u001b[0m\u001b[1;33m,\u001b[0m\u001b[1;34m'Mover_arquivos'\u001b[0m\u001b[1;33m,\u001b[0m \u001b[0mfile_move\u001b[0m\u001b[1;33m)\u001b[0m\u001b[1;33m\u001b[0m\u001b[1;33m\u001b[0m\u001b[0m\n\u001b[0;32m      4\u001b[0m \u001b[1;33m\u001b[0m\u001b[0m\n\u001b[1;32m----> 5\u001b[1;33m \u001b[0mmove\u001b[0m\u001b[1;33m(\u001b[0m\u001b[0mpath1\u001b[0m\u001b[1;33m,\u001b[0m \u001b[0mpath2\u001b[0m\u001b[1;33m)\u001b[0m\u001b[1;33m\u001b[0m\u001b[1;33m\u001b[0m\u001b[0m\n\u001b[0m",
      "\u001b[1;32m~\\AppData\\Local\\Programs\\Python\\Python39\\lib\\shutil.py\u001b[0m in \u001b[0;36mmove\u001b[1;34m(src, dst, copy_function)\u001b[0m\n\u001b[0;32m    824\u001b[0m             \u001b[0mrmtree\u001b[0m\u001b[1;33m(\u001b[0m\u001b[0msrc\u001b[0m\u001b[1;33m)\u001b[0m\u001b[1;33m\u001b[0m\u001b[1;33m\u001b[0m\u001b[0m\n\u001b[0;32m    825\u001b[0m         \u001b[1;32melse\u001b[0m\u001b[1;33m:\u001b[0m\u001b[1;33m\u001b[0m\u001b[1;33m\u001b[0m\u001b[0m\n\u001b[1;32m--> 826\u001b[1;33m             \u001b[0mcopy_function\u001b[0m\u001b[1;33m(\u001b[0m\u001b[0msrc\u001b[0m\u001b[1;33m,\u001b[0m \u001b[0mreal_dst\u001b[0m\u001b[1;33m)\u001b[0m\u001b[1;33m\u001b[0m\u001b[1;33m\u001b[0m\u001b[0m\n\u001b[0m\u001b[0;32m    827\u001b[0m             \u001b[0mos\u001b[0m\u001b[1;33m.\u001b[0m\u001b[0munlink\u001b[0m\u001b[1;33m(\u001b[0m\u001b[0msrc\u001b[0m\u001b[1;33m)\u001b[0m\u001b[1;33m\u001b[0m\u001b[1;33m\u001b[0m\u001b[0m\n\u001b[0;32m    828\u001b[0m     \u001b[1;32mreturn\u001b[0m \u001b[0mreal_dst\u001b[0m\u001b[1;33m\u001b[0m\u001b[1;33m\u001b[0m\u001b[0m\n",
      "\u001b[1;32m~\\AppData\\Local\\Programs\\Python\\Python39\\lib\\shutil.py\u001b[0m in \u001b[0;36mcopy2\u001b[1;34m(src, dst, follow_symlinks)\u001b[0m\n\u001b[0;32m    433\u001b[0m     \u001b[1;32mif\u001b[0m \u001b[0mos\u001b[0m\u001b[1;33m.\u001b[0m\u001b[0mpath\u001b[0m\u001b[1;33m.\u001b[0m\u001b[0misdir\u001b[0m\u001b[1;33m(\u001b[0m\u001b[0mdst\u001b[0m\u001b[1;33m)\u001b[0m\u001b[1;33m:\u001b[0m\u001b[1;33m\u001b[0m\u001b[1;33m\u001b[0m\u001b[0m\n\u001b[0;32m    434\u001b[0m         \u001b[0mdst\u001b[0m \u001b[1;33m=\u001b[0m \u001b[0mos\u001b[0m\u001b[1;33m.\u001b[0m\u001b[0mpath\u001b[0m\u001b[1;33m.\u001b[0m\u001b[0mjoin\u001b[0m\u001b[1;33m(\u001b[0m\u001b[0mdst\u001b[0m\u001b[1;33m,\u001b[0m \u001b[0mos\u001b[0m\u001b[1;33m.\u001b[0m\u001b[0mpath\u001b[0m\u001b[1;33m.\u001b[0m\u001b[0mbasename\u001b[0m\u001b[1;33m(\u001b[0m\u001b[0msrc\u001b[0m\u001b[1;33m)\u001b[0m\u001b[1;33m)\u001b[0m\u001b[1;33m\u001b[0m\u001b[1;33m\u001b[0m\u001b[0m\n\u001b[1;32m--> 435\u001b[1;33m     \u001b[0mcopyfile\u001b[0m\u001b[1;33m(\u001b[0m\u001b[0msrc\u001b[0m\u001b[1;33m,\u001b[0m \u001b[0mdst\u001b[0m\u001b[1;33m,\u001b[0m \u001b[0mfollow_symlinks\u001b[0m\u001b[1;33m=\u001b[0m\u001b[0mfollow_symlinks\u001b[0m\u001b[1;33m)\u001b[0m\u001b[1;33m\u001b[0m\u001b[1;33m\u001b[0m\u001b[0m\n\u001b[0m\u001b[0;32m    436\u001b[0m     \u001b[0mcopystat\u001b[0m\u001b[1;33m(\u001b[0m\u001b[0msrc\u001b[0m\u001b[1;33m,\u001b[0m \u001b[0mdst\u001b[0m\u001b[1;33m,\u001b[0m \u001b[0mfollow_symlinks\u001b[0m\u001b[1;33m=\u001b[0m\u001b[0mfollow_symlinks\u001b[0m\u001b[1;33m)\u001b[0m\u001b[1;33m\u001b[0m\u001b[1;33m\u001b[0m\u001b[0m\n\u001b[0;32m    437\u001b[0m     \u001b[1;32mreturn\u001b[0m \u001b[0mdst\u001b[0m\u001b[1;33m\u001b[0m\u001b[1;33m\u001b[0m\u001b[0m\n",
      "\u001b[1;32m~\\AppData\\Local\\Programs\\Python\\Python39\\lib\\shutil.py\u001b[0m in \u001b[0;36mcopyfile\u001b[1;34m(src, dst, follow_symlinks)\u001b[0m\n\u001b[0;32m    262\u001b[0m         \u001b[0mos\u001b[0m\u001b[1;33m.\u001b[0m\u001b[0msymlink\u001b[0m\u001b[1;33m(\u001b[0m\u001b[0mos\u001b[0m\u001b[1;33m.\u001b[0m\u001b[0mreadlink\u001b[0m\u001b[1;33m(\u001b[0m\u001b[0msrc\u001b[0m\u001b[1;33m)\u001b[0m\u001b[1;33m,\u001b[0m \u001b[0mdst\u001b[0m\u001b[1;33m)\u001b[0m\u001b[1;33m\u001b[0m\u001b[1;33m\u001b[0m\u001b[0m\n\u001b[0;32m    263\u001b[0m     \u001b[1;32melse\u001b[0m\u001b[1;33m:\u001b[0m\u001b[1;33m\u001b[0m\u001b[1;33m\u001b[0m\u001b[0m\n\u001b[1;32m--> 264\u001b[1;33m         \u001b[1;32mwith\u001b[0m \u001b[0mopen\u001b[0m\u001b[1;33m(\u001b[0m\u001b[0msrc\u001b[0m\u001b[1;33m,\u001b[0m \u001b[1;34m'rb'\u001b[0m\u001b[1;33m)\u001b[0m \u001b[1;32mas\u001b[0m \u001b[0mfsrc\u001b[0m\u001b[1;33m,\u001b[0m \u001b[0mopen\u001b[0m\u001b[1;33m(\u001b[0m\u001b[0mdst\u001b[0m\u001b[1;33m,\u001b[0m \u001b[1;34m'wb'\u001b[0m\u001b[1;33m)\u001b[0m \u001b[1;32mas\u001b[0m \u001b[0mfdst\u001b[0m\u001b[1;33m:\u001b[0m\u001b[1;33m\u001b[0m\u001b[1;33m\u001b[0m\u001b[0m\n\u001b[0m\u001b[0;32m    265\u001b[0m             \u001b[1;31m# macOS\u001b[0m\u001b[1;33m\u001b[0m\u001b[1;33m\u001b[0m\u001b[1;33m\u001b[0m\u001b[0m\n\u001b[0;32m    266\u001b[0m             \u001b[1;32mif\u001b[0m \u001b[0m_HAS_FCOPYFILE\u001b[0m\u001b[1;33m:\u001b[0m\u001b[1;33m\u001b[0m\u001b[1;33m\u001b[0m\u001b[0m\n",
      "\u001b[1;31mFileNotFoundError\u001b[0m: [Errno 2] No such file or directory: 'C:\\\\Users\\\\Avell\\\\OneDrive\\\\DEV\\\\Python_Tutorial\\\\Python_3\\\\Arquivos_Modulos_Pacotes\\\\Diretorio1\\\\arquivo_trocar_diretorio.txt'"
     ]
    }
   ],
   "source": [
    "# movendo arquivo - se não existir o arquivo gera erro FileNotFoundError\n",
    "file_move = 'arquivo_trocar_diretorio.txt'\n",
    "path2 = join('C:\\\\','Users','Avell','OneDrive','DEV','Python_Tutorial','Python_3','Arquivos_Modulos_Pacotes','Diretorio1','Mover_arquivos', file_move)\n",
    "\n",
    "# você pode mover e ja renomear o arquivo caso seja a necessidade, é so trocar o nome em file_move\n",
    "move(path1, path2)"
   ]
  },
  {
   "cell_type": "markdown",
   "metadata": {},
   "source": [
    "# <font color=#FF0000>**os.remove()**</font> - Removendo arquivos\n",
    "\n",
    "os.remove() método em Python é usado para remover ou excluir um caminho de arquivo. Este método não pode remover ou excluir um diretório. **Se o caminho especificado for um diretório, OSError será gerado pelo método**. os.rmdir() pode ser usado para remover o diretório."
   ]
  },
  {
   "cell_type": "code",
   "execution_count": 55,
   "metadata": {},
   "outputs": [],
   "source": [
    "from os.path import join\n",
    "from os import remove\n",
    "from pathlib import Path\n",
    "\n",
    "# criando arquivo para ser deletado\n",
    "file = 'file_apagar.txt'\n",
    "path1 = join('C:\\\\','Users','Avell','OneDrive','DEV','Python_Tutorial','Python_3','Arquivos_Modulos_Pacotes', 'Diretorio1', file)\n",
    "\n",
    "Path(path1).touch()\n"
   ]
  },
  {
   "cell_type": "code",
   "execution_count": 57,
   "metadata": {},
   "outputs": [
    {
     "ename": "FileNotFoundError",
     "evalue": "[WinError 2] O sistema não pode encontrar o arquivo especificado: 'C:\\\\Users\\\\Avell\\\\OneDrive\\\\DEV\\\\Python_Tutorial\\\\Python_3\\\\Arquivos_Modulos_Pacotes\\\\Diretorio1\\\\file_apagar.txt'",
     "output_type": "error",
     "traceback": [
      "\u001b[1;31m---------------------------------------------------------------------------\u001b[0m",
      "\u001b[1;31mFileNotFoundError\u001b[0m                         Traceback (most recent call last)",
      "\u001b[1;32m<ipython-input-57-420ce989753e>\u001b[0m in \u001b[0;36m<module>\u001b[1;34m\u001b[0m\n\u001b[0;32m      1\u001b[0m \u001b[1;31m# apagando o arquivo 'file_apagar.txt'\u001b[0m\u001b[1;33m\u001b[0m\u001b[1;33m\u001b[0m\u001b[1;33m\u001b[0m\u001b[0m\n\u001b[1;32m----> 2\u001b[1;33m \u001b[0mremove\u001b[0m\u001b[1;33m(\u001b[0m\u001b[0mpath1\u001b[0m\u001b[1;33m)\u001b[0m\u001b[1;33m\u001b[0m\u001b[1;33m\u001b[0m\u001b[0m\n\u001b[0m",
      "\u001b[1;31mFileNotFoundError\u001b[0m: [WinError 2] O sistema não pode encontrar o arquivo especificado: 'C:\\\\Users\\\\Avell\\\\OneDrive\\\\DEV\\\\Python_Tutorial\\\\Python_3\\\\Arquivos_Modulos_Pacotes\\\\Diretorio1\\\\file_apagar.txt'"
     ]
    }
   ],
   "source": [
    "# apagando o arquivo 'file_apagar.txt'\n",
    "remove(path1)\n",
    "\n",
    "# se o arquivo não existir gera um erro FileNotFoundError"
   ]
  },
  {
   "cell_type": "code",
   "execution_count": 61,
   "metadata": {},
   "outputs": [
    {
     "name": "stdout",
     "output_type": "stream",
     "text": [
      "path1 = 'C:\\\\Users\\\\Avell\\\\OneDrive\\\\DEV\\\\Python_Tutorial\\\\Python_3\\\\Arquivos_Modulos_Pacotes\\\\Diretorio1'\n"
     ]
    },
    {
     "ename": "PermissionError",
     "evalue": "[WinError 5] Acesso negado: 'C:\\\\Users\\\\Avell\\\\OneDrive\\\\DEV\\\\Python_Tutorial\\\\Python_3\\\\Arquivos_Modulos_Pacotes\\\\Diretorio1'",
     "output_type": "error",
     "traceback": [
      "\u001b[1;31m---------------------------------------------------------------------------\u001b[0m",
      "\u001b[1;31mPermissionError\u001b[0m                           Traceback (most recent call last)",
      "\u001b[1;32m<ipython-input-61-0cde6d682ffd>\u001b[0m in \u001b[0;36m<module>\u001b[1;34m\u001b[0m\n\u001b[0;32m      4\u001b[0m \u001b[0mprint\u001b[0m\u001b[1;33m(\u001b[0m\u001b[1;34mf'{path1 = }'\u001b[0m\u001b[1;33m)\u001b[0m\u001b[1;33m\u001b[0m\u001b[1;33m\u001b[0m\u001b[0m\n\u001b[0;32m      5\u001b[0m \u001b[1;33m\u001b[0m\u001b[0m\n\u001b[1;32m----> 6\u001b[1;33m \u001b[0mremove\u001b[0m\u001b[1;33m(\u001b[0m\u001b[0mpath1\u001b[0m\u001b[1;33m)\u001b[0m\u001b[1;33m\u001b[0m\u001b[1;33m\u001b[0m\u001b[0m\n\u001b[0m",
      "\u001b[1;31mPermissionError\u001b[0m: [WinError 5] Acesso negado: 'C:\\\\Users\\\\Avell\\\\OneDrive\\\\DEV\\\\Python_Tutorial\\\\Python_3\\\\Arquivos_Modulos_Pacotes\\\\Diretorio1'"
     ]
    }
   ],
   "source": [
    "# se for um diretorio gera erro PermissionError\n",
    "# os.rmdir()pode ser usado para remover o diretório.\n",
    "\n",
    "path1 = join('C:\\\\','Users','Avell','OneDrive','DEV','Python_Tutorial','Python_3','Arquivos_Modulos_Pacotes', 'Diretorio1')\n",
    "print(f'{path1 = }')\n",
    "\n",
    "remove(path1)"
   ]
  },
  {
   "cell_type": "markdown",
   "metadata": {},
   "source": [
    "# <font color=#FF0000>**os.path.abspath()**</font> - Verificando path completo de arquivo"
   ]
  },
  {
   "cell_type": "code",
   "execution_count": 3,
   "metadata": {},
   "outputs": [
    {
     "name": "stdout",
     "output_type": "stream",
     "text": [
      "arquivos = ['file_criado_com_open_copy.txt', 'file_criado_com_open_renomeado.txt', 'file_criado_com_pathlib.txt', 'file_criado_com_with.txt', 'Mover_arquivos']\n",
      "\n",
      "c:\\Users\\Avell\\OneDrive\\DEV\\Python_Tutorial\\Python_3\\Arquivos_Modulos_Pacotes\\file_criado_com_open_copy.txt\n",
      "c:\\Users\\Avell\\OneDrive\\DEV\\Python_Tutorial\\Python_3\\Arquivos_Modulos_Pacotes\\file_criado_com_open_renomeado.txt\n",
      "c:\\Users\\Avell\\OneDrive\\DEV\\Python_Tutorial\\Python_3\\Arquivos_Modulos_Pacotes\\file_criado_com_pathlib.txt\n",
      "c:\\Users\\Avell\\OneDrive\\DEV\\Python_Tutorial\\Python_3\\Arquivos_Modulos_Pacotes\\file_criado_com_with.txt\n",
      "c:\\Users\\Avell\\OneDrive\\DEV\\Python_Tutorial\\Python_3\\Arquivos_Modulos_Pacotes\\Mover_arquivos\n"
     ]
    }
   ],
   "source": [
    "from os import listdir\n",
    "from os.path import join, abspath\n",
    "\n",
    "path = join('C:\\\\','Users','Avell','OneDrive','DEV','Python_Tutorial','Python_3','Arquivos_Modulos_Pacotes', 'Diretorio1')\n",
    "\n",
    "arquivos = listdir(path)\n",
    "print(f'{arquivos = }\\n')\n",
    "\n",
    "# verificando path completo de cada arquivo/pasta\n",
    "for item in arquivos:\n",
    "    print(abspath(item))"
   ]
  },
  {
   "cell_type": "markdown",
   "metadata": {},
   "source": [
    "# <font color=#FF0000>**os.sep**</font> - Verificando diretorio raiz linux ou windows\n",
    "\n",
    "* Linux retorna \"/\"\n",
    "* Windows retorna \"C:\\\\\" (ou qualquer que seja o disco atual)"
   ]
  },
  {
   "cell_type": "code",
   "execution_count": 5,
   "metadata": {},
   "outputs": [
    {
     "name": "stdout",
     "output_type": "stream",
     "text": [
      "os.sep = '\\\\'\n",
      "\n",
      "os.path.abspath(os.sep) = 'c:\\\\'\n"
     ]
    }
   ],
   "source": [
    "import os\n",
    "\n",
    "# verificando qual separador o sistema usa.\n",
    "print(f'{os.sep = }')\n",
    "\n",
    "# Agora vamos ver a unidade principal e com seu separador\n",
    "print(f'\\n{os.path.abspath(os.sep) = }')"
   ]
  },
  {
   "cell_type": "markdown",
   "metadata": {},
   "source": [
    "# <font color=#FF0000>**os.walk**</font> - Cria um gerador que navega entre as pastas\n",
    "\n",
    "Como atravessar o sistema de arquivos em Python? Suponha que tenhamos dado abaixo a estrutura de arquivos em nosso sistema e queremos percorrer todos os seus ramos completamente de cima para baixo.\n",
    "\n",
    "![ex os.walk](osWalk-1.jpg)\n",
    "\n",
    "OS.walk () gera os nomes dos arquivos em uma árvore de diretórios percorrendo a árvore de cima para baixo ou de baixo para cima. Para cada diretório na árvore enraizada no diretório superior (incluindo o próprio topo), ele produz uma 3-tupla (caminho de diretório, nomes de diretório, nomes de arquivo).\n",
    "\n",
    "root: Imprime diretórios apenas do que você especificou.\n",
    "dirs: Imprime subdiretórios da raiz.\n",
    "arquivos: imprime todos os arquivos da raiz e dos diretórios."
   ]
  },
  {
   "cell_type": "code",
   "execution_count": 5,
   "metadata": {},
   "outputs": [
    {
     "name": "stdout",
     "output_type": "stream",
     "text": [
      "<generator object _walk at 0x000001E707C73820>\n",
      ">>> data = ('H:/Meu Drive', ['DESPESAS', 'PROJETOS', 'BACKUP', 'CONFIG'], ['desktop.ini'])\n",
      " \n",
      ">>> data = ('H:/Meu Drive\\\\DESPESAS', ['PROJETO_1', 'PROJETO_2', 'PROJETO_3', 'PROJETO_4', 'PROJETO_5', 'PROJETO_6', 'PROJETO_7', 'PROJETO_8', 'PROJETO_9', 'PROJETO_10'], [])\n",
      " \n",
      ">>> data = ('H:/Meu Drive\\\\DESPESAS\\\\PROJETO_1', [], ['Recibo 2.jpeg', 'Invoice 1.pdf', 'Invoice 3.pdf', 'Recibo 1.jpeg'])\n",
      " \n",
      ">>> data = ('H:/Meu Drive\\\\DESPESAS\\\\PROJETO_2', [], [])\n",
      " \n",
      ">>> data = ('H:/Meu Drive\\\\DESPESAS\\\\PROJETO_3', [], [])\n",
      " \n",
      ">>> data = ('H:/Meu Drive\\\\DESPESAS\\\\PROJETO_4', [], [])\n",
      " \n",
      ">>> data = ('H:/Meu Drive\\\\DESPESAS\\\\PROJETO_5', [], [])\n",
      " \n",
      ">>> data = ('H:/Meu Drive\\\\DESPESAS\\\\PROJETO_6', [], [])\n",
      " \n",
      ">>> data = ('H:/Meu Drive\\\\DESPESAS\\\\PROJETO_7', [], [])\n",
      " \n",
      ">>> data = ('H:/Meu Drive\\\\DESPESAS\\\\PROJETO_8', [], [])\n",
      " \n",
      ">>> data = ('H:/Meu Drive\\\\DESPESAS\\\\PROJETO_9', [], [])\n",
      " \n",
      ">>> data = ('H:/Meu Drive\\\\DESPESAS\\\\PROJETO_10', [], [])\n",
      " \n",
      ">>> data = ('H:/Meu Drive\\\\PROJETOS', ['PROJETOS_FINALIZADOS', 'PROJETO_1', 'PROJETO_2', 'PROJETO_3', 'PROJETO_4', 'PROJETO_5', 'PROJETO_6', 'PROJETO_7', 'PROJETO_8', 'PROJETO_9', 'PROJETO_10'], [])\n",
      " \n",
      ">>> data = ('H:/Meu Drive\\\\PROJETOS\\\\PROJETOS_FINALIZADOS', [], [])\n",
      " \n",
      ">>> data = ('H:/Meu Drive\\\\PROJETOS\\\\PROJETO_1', ['Despesas_Lançadas', 'Despesas_Aprovadas', 'Lixeira'], ['Config.json', 'Lançamentos.csv', 'Log.csv', 'foto_project.jpg', 'finance_step.json'])\n",
      " \n",
      ">>> data = ('H:/Meu Drive\\\\PROJETOS\\\\PROJETO_1\\\\Despesas_Lançadas', [], [])\n",
      " \n",
      ">>> data = ('H:/Meu Drive\\\\PROJETOS\\\\PROJETO_1\\\\Despesas_Aprovadas', [], [])\n",
      " \n",
      ">>> data = ('H:/Meu Drive\\\\PROJETOS\\\\PROJETO_1\\\\Lixeira', [], [])\n",
      " \n",
      ">>> data = ('H:/Meu Drive\\\\PROJETOS\\\\PROJETO_2', ['Despesas_Lançadas', 'Despesas_Aprovadas', 'Lixeira'], ['Config.json', 'Lançamentos.csv', 'Log.csv', 'foto_project.jpeg', 'finance_step.json'])\n",
      " \n",
      ">>> data = ('H:/Meu Drive\\\\PROJETOS\\\\PROJETO_2\\\\Despesas_Lançadas', [], [])\n",
      " \n",
      ">>> data = ('H:/Meu Drive\\\\PROJETOS\\\\PROJETO_2\\\\Despesas_Aprovadas', [], [])\n",
      " \n",
      ">>> data = ('H:/Meu Drive\\\\PROJETOS\\\\PROJETO_2\\\\Lixeira', [], [])\n",
      " \n",
      ">>> data = ('H:/Meu Drive\\\\PROJETOS\\\\PROJETO_3', ['Despesas_Lançadas', 'Despesas_Aprovadas', 'Lixeira'], ['Config.json', 'Lançamentos.csv', 'Log.csv', 'foto_project.png', 'finance_step.json'])\n",
      " \n",
      ">>> data = ('H:/Meu Drive\\\\PROJETOS\\\\PROJETO_3\\\\Despesas_Lançadas', [], [])\n",
      " \n",
      ">>> data = ('H:/Meu Drive\\\\PROJETOS\\\\PROJETO_3\\\\Despesas_Aprovadas', [], [])\n",
      " \n",
      ">>> data = ('H:/Meu Drive\\\\PROJETOS\\\\PROJETO_3\\\\Lixeira', [], [])\n",
      " \n",
      ">>> data = ('H:/Meu Drive\\\\PROJETOS\\\\PROJETO_4', ['Despesas_Lançadas', 'Despesas_Aprovadas', 'Lixeira'], ['Config.json', 'Lançamentos.csv', 'Log.csv', 'finance_step.json', 'foto_project.jpeg'])\n",
      " \n",
      ">>> data = ('H:/Meu Drive\\\\PROJETOS\\\\PROJETO_4\\\\Despesas_Lançadas', [], [])\n",
      " \n",
      ">>> data = ('H:/Meu Drive\\\\PROJETOS\\\\PROJETO_4\\\\Despesas_Aprovadas', [], [])\n",
      " \n",
      ">>> data = ('H:/Meu Drive\\\\PROJETOS\\\\PROJETO_4\\\\Lixeira', [], [])\n",
      " \n",
      ">>> data = ('H:/Meu Drive\\\\PROJETOS\\\\PROJETO_5', ['Despesas_Lançadas', 'Despesas_Aprovadas', 'Lixeira'], ['Config.json', 'Lançamentos.csv', 'Log.csv', 'foto_project.jpeg', 'finance_step.json'])\n",
      " \n",
      ">>> data = ('H:/Meu Drive\\\\PROJETOS\\\\PROJETO_5\\\\Despesas_Lançadas', [], [])\n",
      " \n",
      ">>> data = ('H:/Meu Drive\\\\PROJETOS\\\\PROJETO_5\\\\Despesas_Aprovadas', [], [])\n",
      " \n",
      ">>> data = ('H:/Meu Drive\\\\PROJETOS\\\\PROJETO_5\\\\Lixeira', [], [])\n",
      " \n",
      ">>> data = ('H:/Meu Drive\\\\PROJETOS\\\\PROJETO_6', ['Despesas_Lançadas', 'Despesas_Aprovadas', 'Lixeira'], ['Config.json', 'Lançamentos.csv', 'Log.csv', 'foto_project.jpeg', 'finance_step.json'])\n",
      " \n",
      ">>> data = ('H:/Meu Drive\\\\PROJETOS\\\\PROJETO_6\\\\Despesas_Lançadas', [], [])\n",
      " \n",
      ">>> data = ('H:/Meu Drive\\\\PROJETOS\\\\PROJETO_6\\\\Despesas_Aprovadas', [], [])\n",
      " \n",
      ">>> data = ('H:/Meu Drive\\\\PROJETOS\\\\PROJETO_6\\\\Lixeira', [], [])\n",
      " \n",
      ">>> data = ('H:/Meu Drive\\\\PROJETOS\\\\PROJETO_7', ['Despesas_Lançadas', 'Despesas_Aprovadas', 'Lixeira'], ['Config.json', 'Lançamentos.csv', 'Log.csv', 'foto_project.jpeg', 'finance_step.json'])\n",
      " \n",
      ">>> data = ('H:/Meu Drive\\\\PROJETOS\\\\PROJETO_7\\\\Despesas_Lançadas', [], [])\n",
      " \n",
      ">>> data = ('H:/Meu Drive\\\\PROJETOS\\\\PROJETO_7\\\\Despesas_Aprovadas', [], [])\n",
      " \n",
      ">>> data = ('H:/Meu Drive\\\\PROJETOS\\\\PROJETO_7\\\\Lixeira', [], [])\n",
      " \n",
      ">>> data = ('H:/Meu Drive\\\\PROJETOS\\\\PROJETO_8', ['Despesas_Lançadas', 'Despesas_Aprovadas', 'Lixeira'], ['Config.json', 'Lançamentos.csv', 'Log.csv', 'foto_project.jpeg', 'finance_step.json'])\n",
      " \n",
      ">>> data = ('H:/Meu Drive\\\\PROJETOS\\\\PROJETO_8\\\\Despesas_Lançadas', [], [])\n",
      " \n",
      ">>> data = ('H:/Meu Drive\\\\PROJETOS\\\\PROJETO_8\\\\Despesas_Aprovadas', [], [])\n",
      " \n",
      ">>> data = ('H:/Meu Drive\\\\PROJETOS\\\\PROJETO_8\\\\Lixeira', [], [])\n",
      " \n",
      ">>> data = ('H:/Meu Drive\\\\PROJETOS\\\\PROJETO_9', ['Despesas_Lançadas', 'Despesas_Aprovadas', 'Lixeira'], ['Config.json', 'Lançamentos.csv', 'Log.csv', 'foto_project.jpeg', 'finance_step.json'])\n",
      " \n",
      ">>> data = ('H:/Meu Drive\\\\PROJETOS\\\\PROJETO_9\\\\Despesas_Lançadas', [], [])\n",
      " \n",
      ">>> data = ('H:/Meu Drive\\\\PROJETOS\\\\PROJETO_9\\\\Despesas_Aprovadas', [], [])\n",
      " \n",
      ">>> data = ('H:/Meu Drive\\\\PROJETOS\\\\PROJETO_9\\\\Lixeira', [], [])\n",
      " \n",
      ">>> data = ('H:/Meu Drive\\\\PROJETOS\\\\PROJETO_10', ['Despesas_Lançadas', 'Despesas_Aprovadas', 'Lixeira'], ['Config.json', 'Lançamentos.csv', 'Log.csv', 'foto_project.jpg', 'finance_step.json'])\n",
      " \n",
      ">>> data = ('H:/Meu Drive\\\\PROJETOS\\\\PROJETO_10\\\\Despesas_Lançadas', [], [])\n",
      " \n",
      ">>> data = ('H:/Meu Drive\\\\PROJETOS\\\\PROJETO_10\\\\Despesas_Aprovadas', [], [])\n",
      " \n",
      ">>> data = ('H:/Meu Drive\\\\PROJETOS\\\\PROJETO_10\\\\Lixeira', [], [])\n",
      " \n",
      ">>> data = ('H:/Meu Drive\\\\BACKUP', [], [])\n",
      " \n",
      ">>> data = ('H:/Meu Drive\\\\CONFIG', ['LIXEIRA', 'APP'], [])\n",
      " \n",
      ">>> data = ('H:/Meu Drive\\\\CONFIG\\\\LIXEIRA', [], [])\n",
      " \n",
      ">>> data = ('H:/Meu Drive\\\\CONFIG\\\\APP', [], ['Log.csv', 'foto_project.jpg', 'data_user.csv', 'config_app.json', 'finance_step.json'])\n",
      " \n",
      "\n",
      "Nivel 0\n",
      "Raiz = H:/Meu Drive\n",
      "Pastas = ['DESPESAS', 'PROJETOS', 'BACKUP', 'CONFIG']\n",
      "Arquivos = ['desktop.ini']\n",
      "\n",
      "\n",
      "Nivel 1\n",
      "Raiz = H:/Meu Drive\\DESPESAS\n",
      "Pastas = ['PROJETO_1', 'PROJETO_2', 'PROJETO_3', 'PROJETO_4', 'PROJETO_5', 'PROJETO_6', 'PROJETO_7', 'PROJETO_8', 'PROJETO_9', 'PROJETO_10']\n",
      "Arquivos = []\n",
      "\n",
      "\n",
      "Nivel 2\n",
      "Raiz = H:/Meu Drive\\DESPESAS\\PROJETO_1\n",
      "Pastas = []\n",
      "Arquivos = ['Recibo 2.jpeg', 'Invoice 1.pdf', 'Invoice 3.pdf', 'Recibo 1.jpeg']\n",
      "\n",
      "\n",
      "Nivel 3\n",
      "Raiz = H:/Meu Drive\\DESPESAS\\PROJETO_2\n",
      "Pastas = []\n",
      "Arquivos = []\n",
      "\n",
      "\n",
      "Nivel 4\n",
      "Raiz = H:/Meu Drive\\DESPESAS\\PROJETO_3\n",
      "Pastas = []\n",
      "Arquivos = []\n",
      "\n",
      "\n",
      "Nivel 5\n",
      "Raiz = H:/Meu Drive\\DESPESAS\\PROJETO_4\n",
      "Pastas = []\n",
      "Arquivos = []\n",
      "\n",
      "\n",
      "Nivel 6\n",
      "Raiz = H:/Meu Drive\\DESPESAS\\PROJETO_5\n",
      "Pastas = []\n",
      "Arquivos = []\n",
      "\n",
      "\n",
      "Nivel 7\n",
      "Raiz = H:/Meu Drive\\DESPESAS\\PROJETO_6\n",
      "Pastas = []\n",
      "Arquivos = []\n",
      "\n",
      "\n",
      "Nivel 8\n",
      "Raiz = H:/Meu Drive\\DESPESAS\\PROJETO_7\n",
      "Pastas = []\n",
      "Arquivos = []\n",
      "\n",
      "\n",
      "Nivel 9\n",
      "Raiz = H:/Meu Drive\\DESPESAS\\PROJETO_8\n",
      "Pastas = []\n",
      "Arquivos = []\n",
      "\n",
      "\n",
      "Nivel 10\n",
      "Raiz = H:/Meu Drive\\DESPESAS\\PROJETO_9\n",
      "Pastas = []\n",
      "Arquivos = []\n",
      "\n",
      "\n",
      "Nivel 11\n",
      "Raiz = H:/Meu Drive\\DESPESAS\\PROJETO_10\n",
      "Pastas = []\n",
      "Arquivos = []\n",
      "\n",
      "\n",
      "Nivel 12\n",
      "Raiz = H:/Meu Drive\\PROJETOS\n",
      "Pastas = ['PROJETOS_FINALIZADOS', 'PROJETO_1', 'PROJETO_2', 'PROJETO_3', 'PROJETO_4', 'PROJETO_5', 'PROJETO_6', 'PROJETO_7', 'PROJETO_8', 'PROJETO_9', 'PROJETO_10']\n",
      "Arquivos = []\n",
      "\n",
      "\n",
      "Nivel 13\n",
      "Raiz = H:/Meu Drive\\PROJETOS\\PROJETOS_FINALIZADOS\n",
      "Pastas = []\n",
      "Arquivos = []\n",
      "\n",
      "\n",
      "Nivel 14\n",
      "Raiz = H:/Meu Drive\\PROJETOS\\PROJETO_1\n",
      "Pastas = ['Despesas_Lançadas', 'Despesas_Aprovadas', 'Lixeira']\n",
      "Arquivos = ['Config.json', 'Lançamentos.csv', 'Log.csv', 'foto_project.jpg', 'finance_step.json']\n",
      "\n",
      "\n",
      "Nivel 15\n",
      "Raiz = H:/Meu Drive\\PROJETOS\\PROJETO_1\\Despesas_Lançadas\n",
      "Pastas = []\n",
      "Arquivos = []\n",
      "\n",
      "\n",
      "Nivel 16\n",
      "Raiz = H:/Meu Drive\\PROJETOS\\PROJETO_1\\Despesas_Aprovadas\n",
      "Pastas = []\n",
      "Arquivos = []\n",
      "\n",
      "\n",
      "Nivel 17\n",
      "Raiz = H:/Meu Drive\\PROJETOS\\PROJETO_1\\Lixeira\n",
      "Pastas = []\n",
      "Arquivos = []\n",
      "\n",
      "\n",
      "Nivel 18\n",
      "Raiz = H:/Meu Drive\\PROJETOS\\PROJETO_2\n",
      "Pastas = ['Despesas_Lançadas', 'Despesas_Aprovadas', 'Lixeira']\n",
      "Arquivos = ['Config.json', 'Lançamentos.csv', 'Log.csv', 'foto_project.jpeg', 'finance_step.json']\n",
      "\n",
      "\n",
      "Nivel 19\n",
      "Raiz = H:/Meu Drive\\PROJETOS\\PROJETO_2\\Despesas_Lançadas\n",
      "Pastas = []\n",
      "Arquivos = []\n",
      "\n",
      "\n",
      "Nivel 20\n",
      "Raiz = H:/Meu Drive\\PROJETOS\\PROJETO_2\\Despesas_Aprovadas\n",
      "Pastas = []\n",
      "Arquivos = []\n",
      "\n",
      "\n",
      "Nivel 21\n",
      "Raiz = H:/Meu Drive\\PROJETOS\\PROJETO_2\\Lixeira\n",
      "Pastas = []\n",
      "Arquivos = []\n",
      "\n",
      "\n",
      "Nivel 22\n",
      "Raiz = H:/Meu Drive\\PROJETOS\\PROJETO_3\n",
      "Pastas = ['Despesas_Lançadas', 'Despesas_Aprovadas', 'Lixeira']\n",
      "Arquivos = ['Config.json', 'Lançamentos.csv', 'Log.csv', 'foto_project.png', 'finance_step.json']\n",
      "\n",
      "\n",
      "Nivel 23\n",
      "Raiz = H:/Meu Drive\\PROJETOS\\PROJETO_3\\Despesas_Lançadas\n",
      "Pastas = []\n",
      "Arquivos = []\n",
      "\n",
      "\n",
      "Nivel 24\n",
      "Raiz = H:/Meu Drive\\PROJETOS\\PROJETO_3\\Despesas_Aprovadas\n",
      "Pastas = []\n",
      "Arquivos = []\n",
      "\n",
      "\n",
      "Nivel 25\n",
      "Raiz = H:/Meu Drive\\PROJETOS\\PROJETO_3\\Lixeira\n",
      "Pastas = []\n",
      "Arquivos = []\n",
      "\n",
      "\n",
      "Nivel 26\n",
      "Raiz = H:/Meu Drive\\PROJETOS\\PROJETO_4\n",
      "Pastas = ['Despesas_Lançadas', 'Despesas_Aprovadas', 'Lixeira']\n",
      "Arquivos = ['Config.json', 'Lançamentos.csv', 'Log.csv', 'finance_step.json', 'foto_project.jpeg']\n",
      "\n",
      "\n",
      "Nivel 27\n",
      "Raiz = H:/Meu Drive\\PROJETOS\\PROJETO_4\\Despesas_Lançadas\n",
      "Pastas = []\n",
      "Arquivos = []\n",
      "\n",
      "\n",
      "Nivel 28\n",
      "Raiz = H:/Meu Drive\\PROJETOS\\PROJETO_4\\Despesas_Aprovadas\n",
      "Pastas = []\n",
      "Arquivos = []\n",
      "\n",
      "\n",
      "Nivel 29\n",
      "Raiz = H:/Meu Drive\\PROJETOS\\PROJETO_4\\Lixeira\n",
      "Pastas = []\n",
      "Arquivos = []\n",
      "\n",
      "\n",
      "Nivel 30\n",
      "Raiz = H:/Meu Drive\\PROJETOS\\PROJETO_5\n",
      "Pastas = ['Despesas_Lançadas', 'Despesas_Aprovadas', 'Lixeira']\n",
      "Arquivos = ['Config.json', 'Lançamentos.csv', 'Log.csv', 'foto_project.jpeg', 'finance_step.json']\n",
      "\n",
      "\n",
      "Nivel 31\n",
      "Raiz = H:/Meu Drive\\PROJETOS\\PROJETO_5\\Despesas_Lançadas\n",
      "Pastas = []\n",
      "Arquivos = []\n",
      "\n",
      "\n",
      "Nivel 32\n",
      "Raiz = H:/Meu Drive\\PROJETOS\\PROJETO_5\\Despesas_Aprovadas\n",
      "Pastas = []\n",
      "Arquivos = []\n",
      "\n",
      "\n",
      "Nivel 33\n",
      "Raiz = H:/Meu Drive\\PROJETOS\\PROJETO_5\\Lixeira\n",
      "Pastas = []\n",
      "Arquivos = []\n",
      "\n",
      "\n",
      "Nivel 34\n",
      "Raiz = H:/Meu Drive\\PROJETOS\\PROJETO_6\n",
      "Pastas = ['Despesas_Lançadas', 'Despesas_Aprovadas', 'Lixeira']\n",
      "Arquivos = ['Config.json', 'Lançamentos.csv', 'Log.csv', 'foto_project.jpeg', 'finance_step.json']\n",
      "\n",
      "\n",
      "Nivel 35\n",
      "Raiz = H:/Meu Drive\\PROJETOS\\PROJETO_6\\Despesas_Lançadas\n",
      "Pastas = []\n",
      "Arquivos = []\n",
      "\n",
      "\n",
      "Nivel 36\n",
      "Raiz = H:/Meu Drive\\PROJETOS\\PROJETO_6\\Despesas_Aprovadas\n",
      "Pastas = []\n",
      "Arquivos = []\n",
      "\n",
      "\n",
      "Nivel 37\n",
      "Raiz = H:/Meu Drive\\PROJETOS\\PROJETO_6\\Lixeira\n",
      "Pastas = []\n",
      "Arquivos = []\n",
      "\n",
      "\n",
      "Nivel 38\n",
      "Raiz = H:/Meu Drive\\PROJETOS\\PROJETO_7\n",
      "Pastas = ['Despesas_Lançadas', 'Despesas_Aprovadas', 'Lixeira']\n",
      "Arquivos = ['Config.json', 'Lançamentos.csv', 'Log.csv', 'foto_project.jpeg', 'finance_step.json']\n",
      "\n",
      "\n",
      "Nivel 39\n",
      "Raiz = H:/Meu Drive\\PROJETOS\\PROJETO_7\\Despesas_Lançadas\n",
      "Pastas = []\n",
      "Arquivos = []\n",
      "\n",
      "\n",
      "Nivel 40\n",
      "Raiz = H:/Meu Drive\\PROJETOS\\PROJETO_7\\Despesas_Aprovadas\n",
      "Pastas = []\n",
      "Arquivos = []\n",
      "\n",
      "\n",
      "Nivel 41\n",
      "Raiz = H:/Meu Drive\\PROJETOS\\PROJETO_7\\Lixeira\n",
      "Pastas = []\n",
      "Arquivos = []\n",
      "\n",
      "\n",
      "Nivel 42\n",
      "Raiz = H:/Meu Drive\\PROJETOS\\PROJETO_8\n",
      "Pastas = ['Despesas_Lançadas', 'Despesas_Aprovadas', 'Lixeira']\n",
      "Arquivos = ['Config.json', 'Lançamentos.csv', 'Log.csv', 'foto_project.jpeg', 'finance_step.json']\n",
      "\n",
      "\n",
      "Nivel 43\n",
      "Raiz = H:/Meu Drive\\PROJETOS\\PROJETO_8\\Despesas_Lançadas\n",
      "Pastas = []\n",
      "Arquivos = []\n",
      "\n",
      "\n",
      "Nivel 44\n",
      "Raiz = H:/Meu Drive\\PROJETOS\\PROJETO_8\\Despesas_Aprovadas\n",
      "Pastas = []\n",
      "Arquivos = []\n",
      "\n",
      "\n",
      "Nivel 45\n",
      "Raiz = H:/Meu Drive\\PROJETOS\\PROJETO_8\\Lixeira\n",
      "Pastas = []\n",
      "Arquivos = []\n",
      "\n",
      "\n",
      "Nivel 46\n",
      "Raiz = H:/Meu Drive\\PROJETOS\\PROJETO_9\n",
      "Pastas = ['Despesas_Lançadas', 'Despesas_Aprovadas', 'Lixeira']\n",
      "Arquivos = ['Config.json', 'Lançamentos.csv', 'Log.csv', 'foto_project.jpeg', 'finance_step.json']\n",
      "\n",
      "\n",
      "Nivel 47\n",
      "Raiz = H:/Meu Drive\\PROJETOS\\PROJETO_9\\Despesas_Lançadas\n",
      "Pastas = []\n",
      "Arquivos = []\n",
      "\n",
      "\n",
      "Nivel 48\n",
      "Raiz = H:/Meu Drive\\PROJETOS\\PROJETO_9\\Despesas_Aprovadas\n",
      "Pastas = []\n",
      "Arquivos = []\n",
      "\n",
      "\n",
      "Nivel 49\n",
      "Raiz = H:/Meu Drive\\PROJETOS\\PROJETO_9\\Lixeira\n",
      "Pastas = []\n",
      "Arquivos = []\n",
      "\n",
      "\n",
      "Nivel 50\n",
      "Raiz = H:/Meu Drive\\PROJETOS\\PROJETO_10\n",
      "Pastas = ['Despesas_Lançadas', 'Despesas_Aprovadas', 'Lixeira']\n",
      "Arquivos = ['Config.json', 'Lançamentos.csv', 'Log.csv', 'foto_project.jpg', 'finance_step.json']\n",
      "\n",
      "\n",
      "Nivel 51\n",
      "Raiz = H:/Meu Drive\\PROJETOS\\PROJETO_10\\Despesas_Lançadas\n",
      "Pastas = []\n",
      "Arquivos = []\n",
      "\n",
      "\n",
      "Nivel 52\n",
      "Raiz = H:/Meu Drive\\PROJETOS\\PROJETO_10\\Despesas_Aprovadas\n",
      "Pastas = []\n",
      "Arquivos = []\n",
      "\n",
      "\n",
      "Nivel 53\n",
      "Raiz = H:/Meu Drive\\PROJETOS\\PROJETO_10\\Lixeira\n",
      "Pastas = []\n",
      "Arquivos = []\n",
      "\n",
      "\n",
      "Nivel 54\n",
      "Raiz = H:/Meu Drive\\BACKUP\n",
      "Pastas = []\n",
      "Arquivos = []\n",
      "\n",
      "\n",
      "Nivel 55\n",
      "Raiz = H:/Meu Drive\\CONFIG\n",
      "Pastas = ['LIXEIRA', 'APP']\n",
      "Arquivos = []\n",
      "\n",
      "\n",
      "Nivel 56\n",
      "Raiz = H:/Meu Drive\\CONFIG\\LIXEIRA\n",
      "Pastas = []\n",
      "Arquivos = []\n",
      "\n",
      "\n",
      "Nivel 57\n",
      "Raiz = H:/Meu Drive\\CONFIG\\APP\n",
      "Pastas = []\n",
      "Arquivos = ['Log.csv', 'foto_project.jpg', 'data_user.csv', 'config_app.json', 'finance_step.json']\n",
      "\n"
     ]
    }
   ],
   "source": [
    "from os import walk\n",
    "\n",
    "# gera um gerador, que devemos inteirar com um for\n",
    "print(f'{walk(\"H:/Meu Drive\")}')\n",
    "\n",
    "# tupla (caminho de diretório, nomes de diretório, nomes de arquivo).\n",
    "for data in walk('H:/Meu Drive'):\n",
    "    print(f'>>> {data = }\\n ')\n",
    "    \n",
    "# melhorando a impressão\n",
    "for x, data in enumerate(walk('H:/Meu Drive')):\n",
    "    print(f'\\nNivel {x}')\n",
    "    print(f'Raiz = {data[0]}')\n",
    "    print(f'Pastas = {data[1]}')\n",
    "    print(f'Arquivos = {data[2]}\\n')"
   ]
  },
  {
   "cell_type": "markdown",
   "metadata": {},
   "source": [
    "# <font color=#FF0000>**os.path.getctime()**</font> e <font color=#FF0000>**os.stat()**</font> - Verificando data/hora de criação do arquivo no Windows"
   ]
  },
  {
   "cell_type": "code",
   "execution_count": 115,
   "metadata": {},
   "outputs": [
    {
     "name": "stdout",
     "output_type": "stream",
     "text": [
      "file = 1632741615.465849\n",
      "data = 'Mon Sep 27 08:20:15 2021'\n",
      "date_time = datetime.datetime(2021, 9, 27, 8, 20, 15, 465849)\n",
      "2021/09/27\n",
      "2021/Sep/27\n",
      "08:20\n"
     ]
    }
   ],
   "source": [
    "from os.path import getctime, join\n",
    "from pathlib import Path\n",
    "from time import ctime\n",
    "from datetime import datetime\n",
    "\n",
    "# criando arquivo\n",
    "\n",
    "file = 'file_criado_com_pathlib.txt'\n",
    "path1 = join('C:\\\\','Users','Avell','OneDrive','DEV','Python_Tutorial','Python_3','Arquivos_Modulos_Pacotes', 'Diretorio1', file)  \n",
    "# criando com pathlib (se existir ele NÃO cria por cima, mantem o antigo)\n",
    "Path(path1).touch()\n",
    "\n",
    "# verificando data e hora de criação do arquivo\n",
    "file = getctime(path1)\n",
    "\n",
    "# transformando float em string date\n",
    "data = ctime(file)\n",
    "\n",
    "# convertendo string em datetime\n",
    "date_time = datetime.fromtimestamp(file)\n",
    "\n",
    "print(f'{file = }')\n",
    "print(f'{data = }')\n",
    "print(f'{date_time = }')\n",
    "print(f'{date_time.strftime(\"%Y/%m/%d\")}')\n",
    "print(f'{date_time.strftime(\"%Y/%b/%d\")}')\n",
    "print(f'{date_time.strftime(\"%H:%M\")}')\n",
    "\n"
   ]
  }
 ],
 "metadata": {
  "interpreter": {
   "hash": "325cb660cce599eef17833f9bb0afcb0e3dbe3e8605c570c8e00eb36d04c5df3"
  },
  "kernelspec": {
   "display_name": "Python 3.9.5 64-bit ('venv': venv)",
   "name": "python3"
  },
  "language_info": {
   "codemirror_mode": {
    "name": "ipython",
    "version": 3
   },
   "file_extension": ".py",
   "mimetype": "text/x-python",
   "name": "python",
   "nbconvert_exporter": "python",
   "pygments_lexer": "ipython3",
   "version": "3.9.5"
  },
  "orig_nbformat": 4
 },
 "nbformat": 4,
 "nbformat_minor": 2
}
