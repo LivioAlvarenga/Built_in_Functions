{
 "cells": [
  {
   "cell_type": "markdown",
   "metadata": {},
   "source": [
    "# Python_version com platform"
   ]
  },
  {
   "cell_type": "code",
   "execution_count": 1,
   "metadata": {},
   "outputs": [
    {
     "name": "stdout",
     "output_type": "stream",
     "text": [
      "Versão da Linguagem Python Usada Neste Jupyter Notebook: 3.9.5\n"
     ]
    }
   ],
   "source": [
    "# Versão da Linguagem Python\n",
    "from platform import python_version\n",
    "print('Versão da Linguagem Python Usada Neste Jupyter Notebook:', python_version())"
   ]
  },
  {
   "cell_type": "code",
   "execution_count": 1,
   "metadata": {},
   "outputs": [
    {
     "name": "stdout",
     "output_type": "stream",
     "text": [
      "Windows\n",
      "3.9.5\n",
      "Intel64 Family 6 Model 165 Stepping 2, GenuineIntel\n"
     ]
    }
   ],
   "source": [
    "import platform  #módulo utilizado para monitorar a plataforma (S.O) que estamos utilizando\n",
    "\n",
    "x = platform\n",
    "plataforma=x.system()\n",
    "print(plataforma)\n",
    "print(x.python_version())\n",
    "print(x.processor())"
   ]
  },
  {
   "cell_type": "markdown",
   "metadata": {},
   "source": [
    "# Atalhos Jupyter Notebook"
   ]
  },
  {
   "cell_type": "markdown",
   "metadata": {},
   "source": [
    "**Ctrl-Enter**: executa a célula;\r\n",
    "\r\n",
    "**Shift-Enter**: executa a célula e cria uma nova célula abaixo no modo de comando;\r\n",
    "\r\n",
    "**Alt-Enter**: executa a célula e cria uma nova célula abaixo no modo de edição;\r\n",
    "\r\n",
    "**Y**: muda a célula para o tipo código;\r\n",
    "\r\n",
    "**M**: muda a célula para o tipo markdown;\r\n",
    "\r\n",
    "**A**: insere célula acima;\r\n",
    "\r\n",
    "**B**: insere célula abaixo;\r\n",
    "\r\n",
    "**X**: recorta a célula;\r\n",
    "\r\n",
    "**C**: copia a célula;\r\n",
    "\r\n",
    "**V**: cola a célula do clipboard abaixo;\r\n",
    "\r\n",
    "**shift-V**: cola a célula do clipboard acima;\r\n",
    "\r\n",
    "**D, D**: deleta uma célula;\r\n",
    "\r\n",
    "**Z**: desfaz o apagar célula;\r\n",
    "\r\n",
    "**L**: ativa a enumeração das linhas."
   ]
  },
  {
   "cell_type": "markdown",
   "metadata": {},
   "source": [
    "# Temas do Jupyter Notebook"
   ]
  },
  {
   "cell_type": "markdown",
   "metadata": {},
   "source": [
    "No CMD: conda install jupyterthemes ou pip install jupyterthemes\r\n",
    "\r\n",
    "dark\r\n",
    "\r\n",
    "jt -t onedork -T -f roboto -fs 12 -cursc o -cursw 3 -tfs 11 -nfs 12 -cellw 88%\r\n",
    "\r\n",
    "ligth\r\n",
    "\r\n",
    "jt -t grade3 -T -f roboto -fs 12 -cursc r -cursw 2 -tfs 11 -nfs 12 -cellw 88%"
   ]
  }
 ],
 "metadata": {
  "interpreter": {
   "hash": "325cb660cce599eef17833f9bb0afcb0e3dbe3e8605c570c8e00eb36d04c5df3"
  },
  "kernelspec": {
   "display_name": "Python 3.9.5 64-bit ('venv': venv)",
   "name": "python3"
  },
  "language_info": {
   "name": "python",
   "version": ""
  },
  "orig_nbformat": 4
 },
 "nbformat": 4,
 "nbformat_minor": 2
}