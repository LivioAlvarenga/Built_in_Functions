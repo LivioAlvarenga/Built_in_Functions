{
 "cells": [
  {
   "cell_type": "markdown",
   "metadata": {},
   "source": [
    "# 1.1 Desempacotar uma sequencia em variaveis separadas\n",
    "\n",
    "Cookbook Python 1ed pos 421"
   ]
  },
  {
   "cell_type": "code",
   "execution_count": 5,
   "metadata": {},
   "outputs": [
    {
     "name": "stdout",
     "output_type": "stream",
     "text": [
      "x = 5, y = 1, ano = 2021, mes = 1, dia = 18\n"
     ]
    }
   ],
   "source": [
    "# Desempacotando Iteravel por atribuição\n",
    "p = (5, 1, (2021, 1, 18))\n",
    "\n",
    "x, y, (ano, mes, dia) = p\n",
    "\n",
    "print(f'{x = }, {y = }, {ano = }, {mes = }, {dia = }')"
   ]
  },
  {
   "cell_type": "code",
   "execution_count": 6,
   "metadata": {},
   "outputs": [
    {
     "name": "stdout",
     "output_type": "stream",
     "text": [
      "ano = 2021, mes = 1\n"
     ]
    }
   ],
   "source": [
    "# Desempacotando Iteravel somente o necessário por atribuição\n",
    "p = (5, 1, (2021, 1, 18))\n",
    "\n",
    "_, _, (ano, mes, _) = p\n",
    "\n",
    "print(f'{ano = }, {mes = }')"
   ]
  },
  {
   "cell_type": "markdown",
   "metadata": {},
   "source": [
    "# 1.2 Desempacotar elementos de iteráveis de tamanho arbitrário\n",
    "\n",
    "Cookbook Python 1ed pos 456"
   ]
  },
  {
   "cell_type": "code",
   "execution_count": 7,
   "metadata": {},
   "outputs": [
    {
     "name": "stdout",
     "output_type": "stream",
     "text": [
      "nome = 'Livio', email = 'livio@example.com', telefones = ['31-98800-1999', '11-98800-1999']\n"
     ]
    }
   ],
   "source": [
    "# Desempacotando Iteravel por atribuição utilizando *\n",
    "dados = ('Livio', 'livio@example.com', '31-98800-1999', '11-98800-1999')\n",
    "\n",
    "nome, email, *telefones = dados\n",
    "\n",
    "print(f'{nome = }, {email = }, {telefones = }')"
   ]
  },
  {
   "cell_type": "code",
   "execution_count": 8,
   "metadata": {},
   "outputs": [
    {
     "name": "stdout",
     "output_type": "stream",
     "text": [
      "primeiro_semestre = [100, 200, 300, 400, 500, 600]\n"
     ]
    }
   ],
   "source": [
    "# Desempacotando Iteravel por atribuição utilizando * no inicio\n",
    "vendas_ano = [100, 200, 300, 400, 500, 600, 700, 800, 900, 1000, 1100, 1200]\n",
    "\n",
    "*primeiro_semestre, _, _, _, _, _, _, = vendas_ano\n",
    "\n",
    "print(f'{primeiro_semestre = }')"
   ]
  },
  {
   "cell_type": "code",
   "execution_count": 10,
   "metadata": {},
   "outputs": [
    {
     "name": "stdout",
     "output_type": "stream",
     "text": [
      "uname = 'nobody', fields = ['*', '-2', '-2', 'Unprivileged User'], homedir = '/var/empty', sh = '/usr/bin/false'\n"
     ]
    }
   ],
   "source": [
    "# Desempacotando Iteravel por atribuição utilizando *\n",
    "line = 'nobody:*:-2:-2:Unprivileged User:/var/empty:/usr/bin/false'\n",
    "\n",
    "uname, *fields, homedir, sh = line.split(':')\n",
    "\n",
    "print(f'{uname = }, {fields = }, {homedir = }, {sh = }')"
   ]
  },
  {
   "cell_type": "code",
   "execution_count": 12,
   "metadata": {},
   "outputs": [
    {
     "name": "stdout",
     "output_type": "stream",
     "text": [
      "nome = 'Livio', ano = 2021\n"
     ]
    }
   ],
   "source": [
    "# Desempacotando Iteravel por atribuição utilizando mais de um *\n",
    "\n",
    "dados = ('Livio', 50, 123.45, (12, 18, 2021))\n",
    "\n",
    "nome, *_, (*_, ano) = dados\n",
    "\n",
    "print(f'{nome = }, {ano = }')"
   ]
  },
  {
   "cell_type": "markdown",
   "metadata": {},
   "source": [
    "# 1.3 Manter os últimos N itens de uma lista\n",
    "\n",
    "Cookbook Python 1ed pos 515"
   ]
  },
  {
   "cell_type": "code",
   "execution_count": 3,
   "metadata": {},
   "outputs": [
    {
     "name": "stdout",
     "output_type": "stream",
     "text": [
      "\n",
      "O Apache Spark Ã© um framework que executa rapidamente o processamento de grandes volumes de dados. AlÃ©m disso, ele permite que as tarefas possam ser executadas entre vÃ¡rias mÃ¡quinas. JÃ¡ o Spark MLlib Ã© uma ferramenta do Apache Spark que permite a montagem de aplicaÃ§Ãµes com aprendizado de mÃ¡quina.\n",
      "----------\n",
      "\n",
      "A API de Machine Learning do Spark contÃ©m dois pacotes. A primeira versÃ£o do MLlib foi desenvolvida com base em RDD, que Ã© a estrutura de dados fundamental do Spark. Ela ainda Ã© compatÃ­vel, mas estÃ¡ apenas em modo de manutenÃ§Ã£o. Essa versÃ£o estÃ¡ em org.apache.spark.mllib.\n",
      "----------\n",
      "\n",
      "Como os outros componentes de anÃ¡lise de dados unificados do Spark, o MLlib estÃ¡ mudando para APIs baseadas em DataFrames para fornecer mais facilidade no uso e tirar proveito das otimizaÃ§Ãµes do Spark SQL. A nova versÃ£o da API pode ser localizada em org.apache.spark.ml.\n",
      "----------\n",
      "\n",
      "Um ponto interessante Ã© que, por conta destes pacotes, a API baseada no MLlib DataFrame Ã© referenciada como Spark ML. Esse nÃ£o Ã© um nome oficial, mas esta nomenclatura Ã© bastante utilizada entre a comunidade.\n",
      "----------\n",
      "\n",
      "MLlib Ã© uma biblioteca do Spark que permite a construÃ§Ã£o de algoritmos em alta qualidade, escalabilidade e velocidade. Ela oferece vÃ¡rias ferramentas que dÃ£o suporte na montagem de modelos de aprendizado de mÃ¡quina. Entre eles temos algoritmos para modelos de classificaÃ§Ã£o, regressÃ£o, clusterizaÃ§Ã£o e filtragem colaborativa.\n",
      "----------\n",
      "\n",
      "A MLlib se integra perfeitamente a outros componentes do Spark, como Spark SQL, que dÃ¡ suporte a operaÃ§Ãµes de tratamento de dados como a extraÃ§Ã£o, transformaÃ§Ã£o, reduÃ§Ã£o e seleÃ§Ã£o de caracterÃ­sticas. AlÃ©m disso, o Apache Spark sempre se mantÃ©m atualizado, de modo que bugs e demais problemas sÃ£o constantemente corrigidos. A versÃ£o mais recente da biblioteca MLlib Ã© a 3.0. Nessa versÃ£o, foi realizada a remoÃ§Ã£o de algumas funÃ§Ãµes e correÃ§Ãµes de ambiente, entradas e saÃ­das.\n",
      "----------\n",
      "\n",
      "Portanto, a Spark MLlib Ã© uma Ã³tima opÃ§Ã£o de ferramenta para construÃ§Ã£o de modelos de Machine Learning, principalmente quando eles precisam ser aplicados em grandes volumes de dados. AlÃ©m disso, ela nÃ£o fica para trÃ¡s em outras opÃ§Ãµes de bibliotecas que sÃ£o comumente utilizadas, pois oferece um suporte de vÃ¡rios algoritmos de aprendizado de mÃ¡quina e tratamento de dados.----------\n"
     ]
    }
   ],
   "source": []
  }
 ],
 "metadata": {
  "interpreter": {
   "hash": "325cb660cce599eef17833f9bb0afcb0e3dbe3e8605c570c8e00eb36d04c5df3"
  },
  "kernelspec": {
   "display_name": "Python 3.9.5 64-bit ('venv': venv)",
   "language": "python",
   "name": "python3"
  },
  "language_info": {
   "codemirror_mode": {
    "name": "ipython",
    "version": 3
   },
   "file_extension": ".py",
   "mimetype": "text/x-python",
   "name": "python",
   "nbconvert_exporter": "python",
   "pygments_lexer": "ipython3",
   "version": "3.9.5"
  },
  "orig_nbformat": 4
 },
 "nbformat": 4,
 "nbformat_minor": 2
}
