{
 "cells": [
  {
   "cell_type": "markdown",
   "metadata": {},
   "source": [
    "# Hierarquia de exceção\r\n",
    "\r\n",
    "## A hierarquia de classes para exceções integradas é:\r\n",
    "\r\n",
    "BaseException\r\n",
    "\r\n",
    " +-- SystemExit\r\n",
    "\r\n",
    " +-- KeyboardInterrupt\r\n",
    "\r\n",
    " +-- GeneratorExit\r\n",
    "\r\n",
    " +-- Exception\r\n",
    "\r\n",
    "      +-- StopIteration\r\n",
    "\r\n",
    "      +-- StopAsyncIteration\r\n",
    "\r\n",
    "      +-- ArithmeticError\r\n",
    "\r\n",
    "      |    +-- FloatingPointError\r\n",
    "\r\n",
    "      |    +-- OverflowError\r\n",
    "\r\n",
    "      |    +-- ZeroDivisionError\r\n",
    "\r\n",
    "      +-- AssertionError\r\n",
    "\r\n",
    "      +-- AttributeError\r\n",
    "\r\n",
    "      +-- BufferError\r\n",
    "\r\n",
    "      +-- EOFError\r\n",
    "\r\n",
    "      +-- ImportError\r\n",
    "\r\n",
    "      |    +-- ModuleNotFoundError\r\n",
    "\r\n",
    "      +-- LookupError\r\n",
    "\r\n",
    "      |    +-- IndexError\r\n",
    "\r\n",
    "      |    +-- KeyError\r\n",
    "\r\n",
    "      +-- MemoryError\r\n",
    "\r\n",
    "      +-- NameError\r\n",
    "\r\n",
    "      |    +-- UnboundLocalError\r\n",
    "\r\n",
    "      +-- OSError\r\n",
    "\r\n",
    "      |    +-- BlockingIOError\r\n",
    "\r\n",
    "      |    +-- ChildProcessError\r\n",
    "\r\n",
    "      |    +-- ConnectionError\r\n",
    "\r\n",
    "      |    |    +-- BrokenPipeError\r\n",
    "\r\n",
    "      |    |    +-- ConnectionAbortedError\r\n",
    "\r\n",
    "      |    |    +-- ConnectionRefusedError\r\n",
    "\r\n",
    "      |    |    +-- ConnectionResetError\r\n",
    "\r\n",
    "      |    +-- FileExistsError\r\n",
    "\r\n",
    "      |    +-- FileNotFoundError\r\n",
    "\r\n",
    "      |    +-- InterruptedError\r\n",
    "\r\n",
    "      |    +-- IsADirectoryError\r\n",
    "\r\n",
    "      |    +-- NotADirectoryError\r\n",
    "\r\n",
    "      |    +-- PermissionError\r\n",
    "\r\n",
    "      |    +-- ProcessLookupError\r\n",
    "\r\n",
    "      |    +-- TimeoutError\r\n",
    "\r\n",
    "      +-- ReferenceError\r\n",
    "\r\n",
    "      +-- RuntimeError\r\n",
    "\r\n",
    "      |    +-- NotImplementedError\r\n",
    "\r\n",
    "      |    +-- RecursionError\r\n",
    "\r\n",
    "      +-- SyntaxError\r\n",
    "\r\n",
    "      |    +-- IndentationError\r\n",
    "\r\n",
    "      |         +-- TabError\r\n",
    "\r\n",
    "      +-- SystemError\r\n",
    "\r\n",
    "      +-- TypeError\r\n",
    "\r\n",
    "      +-- ValueError\r\n",
    "      \r\n",
    "      |    +-- UnicodeError\r\n",
    "\r\n",
    "      |         +-- UnicodeDecodeError\r\n",
    "\r\n",
    "      |         +-- UnicodeEncodeError\r\n",
    "\r\n",
    "      |         +-- UnicodeTranslateError\r\n",
    "\r\n",
    "      +-- Warning\r\n",
    "\r\n",
    "           +-- DeprecationWarning\r\n",
    "\r\n",
    "           +-- PendingDeprecationWarning\r\n",
    "\r\n",
    "           +-- RuntimeWarning\r\n",
    "\r\n",
    "           +-- SyntaxWarning\r\n",
    "\r\n",
    "           +-- UserWarning\r\n",
    "\r\n",
    "           +-- FutureWarning\r\n",
    "\r\n",
    "           +-- ImportWarning\r\n",
    "\r\n",
    "           +-- UnicodeWarning\r\n",
    "\r\n",
    "           +-- BytesWarning\r\n",
    "           \r\n",
    "           +-- ResourceWarning"
   ]
  },
  {
   "cell_type": "markdown",
   "metadata": {},
   "source": [
    "# **ZeroDivisionError**"
   ]
  },
  {
   "cell_type": "code",
   "execution_count": 7,
   "metadata": {},
   "outputs": [
    {
     "name": "stdout",
     "output_type": "stream",
     "text": [
      "O resultado da dvisão de 10 por 2.5 é 4.0\n"
     ]
    },
    {
     "ename": "ZeroDivisionError",
     "evalue": "division by zero",
     "output_type": "error",
     "traceback": [
      "\u001b[1;31m---------------------------------------------------------------------------\u001b[0m",
      "\u001b[1;31mZeroDivisionError\u001b[0m                         Traceback (most recent call last)",
      "\u001b[1;32m<ipython-input-7-41b889fdf86f>\u001b[0m in \u001b[0;36m<module>\u001b[1;34m\u001b[0m\n\u001b[0;32m      7\u001b[0m \u001b[1;33m\u001b[0m\u001b[0m\n\u001b[0;32m      8\u001b[0m \u001b[0mtesta_divisão\u001b[0m\u001b[1;33m(\u001b[0m\u001b[1;36m2.5\u001b[0m\u001b[1;33m)\u001b[0m\u001b[1;33m\u001b[0m\u001b[1;33m\u001b[0m\u001b[0m\n\u001b[1;32m----> 9\u001b[1;33m \u001b[0mtesta_divisão\u001b[0m\u001b[1;33m(\u001b[0m\u001b[1;36m0\u001b[0m\u001b[1;33m)\u001b[0m\u001b[1;33m\u001b[0m\u001b[1;33m\u001b[0m\u001b[0m\n\u001b[0m",
      "\u001b[1;32m<ipython-input-7-41b889fdf86f>\u001b[0m in \u001b[0;36mtesta_divisão\u001b[1;34m(divisor)\u001b[0m\n\u001b[0;32m      3\u001b[0m \u001b[1;33m\u001b[0m\u001b[0m\n\u001b[0;32m      4\u001b[0m \u001b[1;32mdef\u001b[0m \u001b[0mtesta_divisão\u001b[0m\u001b[1;33m(\u001b[0m\u001b[0mdivisor\u001b[0m\u001b[1;33m)\u001b[0m\u001b[1;33m:\u001b[0m\u001b[1;33m\u001b[0m\u001b[1;33m\u001b[0m\u001b[0m\n\u001b[1;32m----> 5\u001b[1;33m     \u001b[0mresultado\u001b[0m \u001b[1;33m=\u001b[0m \u001b[0mdividir\u001b[0m\u001b[1;33m(\u001b[0m\u001b[1;36m10\u001b[0m\u001b[1;33m,\u001b[0m \u001b[0mdivisor\u001b[0m\u001b[1;33m)\u001b[0m\u001b[1;33m\u001b[0m\u001b[1;33m\u001b[0m\u001b[0m\n\u001b[0m\u001b[0;32m      6\u001b[0m     \u001b[0mprint\u001b[0m\u001b[1;33m(\u001b[0m\u001b[1;34mf'O resultado da dvisão de 10 por {divisor} é {resultado}'\u001b[0m\u001b[1;33m)\u001b[0m\u001b[1;33m\u001b[0m\u001b[1;33m\u001b[0m\u001b[0m\n\u001b[0;32m      7\u001b[0m \u001b[1;33m\u001b[0m\u001b[0m\n",
      "\u001b[1;32m<ipython-input-7-41b889fdf86f>\u001b[0m in \u001b[0;36mdividir\u001b[1;34m(dividendo, divisor)\u001b[0m\n\u001b[0;32m      1\u001b[0m \u001b[1;32mdef\u001b[0m \u001b[0mdividir\u001b[0m\u001b[1;33m(\u001b[0m\u001b[0mdividendo\u001b[0m\u001b[1;33m,\u001b[0m \u001b[0mdivisor\u001b[0m\u001b[1;33m)\u001b[0m\u001b[1;33m:\u001b[0m\u001b[1;33m\u001b[0m\u001b[1;33m\u001b[0m\u001b[0m\n\u001b[1;32m----> 2\u001b[1;33m     \u001b[1;32mreturn\u001b[0m \u001b[0mdividendo\u001b[0m \u001b[1;33m/\u001b[0m \u001b[0mdivisor\u001b[0m\u001b[1;33m\u001b[0m\u001b[1;33m\u001b[0m\u001b[0m\n\u001b[0m\u001b[0;32m      3\u001b[0m \u001b[1;33m\u001b[0m\u001b[0m\n\u001b[0;32m      4\u001b[0m \u001b[1;32mdef\u001b[0m \u001b[0mtesta_divisão\u001b[0m\u001b[1;33m(\u001b[0m\u001b[0mdivisor\u001b[0m\u001b[1;33m)\u001b[0m\u001b[1;33m:\u001b[0m\u001b[1;33m\u001b[0m\u001b[1;33m\u001b[0m\u001b[0m\n\u001b[0;32m      5\u001b[0m     \u001b[0mresultado\u001b[0m \u001b[1;33m=\u001b[0m \u001b[0mdividir\u001b[0m\u001b[1;33m(\u001b[0m\u001b[1;36m10\u001b[0m\u001b[1;33m,\u001b[0m \u001b[0mdivisor\u001b[0m\u001b[1;33m)\u001b[0m\u001b[1;33m\u001b[0m\u001b[1;33m\u001b[0m\u001b[0m\n",
      "\u001b[1;31mZeroDivisionError\u001b[0m: division by zero"
     ]
    }
   ],
   "source": [
    "def dividir(dividendo, divisor):\r\n",
    "    return dividendo / divisor\r\n",
    "\r\n",
    "def testa_divisão(divisor):\r\n",
    "    resultado = dividir(10, divisor)\r\n",
    "    print(f'O resultado da dvisão de 10 por {divisor} é {resultado}')\r\n",
    "\r\n",
    "testa_divisão(2.5)\r\n",
    "testa_divisão(0)"
   ]
  },
  {
   "cell_type": "markdown",
   "metadata": {},
   "source": [
    "## **Lendo Traceback**\r\n",
    "\r\n",
    "![Traceback](Traceback.png)\r\n",
    "\r\n",
    "O Traceback é um rastreio de informação.\r\n",
    "\r\n",
    "1. ZeroDivisionError: division by zero - definição do erro e sua descrição\r\n",
    "\r\n",
    "1. ----> 2     return dividendo / divisor - Origem do disparo\r\n",
    "\r\n",
    "1. ----> 5     resultado = dividir(10, divisor) - Segunda propagação do erro\r\n",
    "\r\n",
    "1. ----> 8 testa_divisão(0) - Origem de todas as chamadas (\\<module>)"
   ]
  },
  {
   "cell_type": "markdown",
   "metadata": {},
   "source": [
    "## Resolvendo ZeroDivisionError com try/except"
   ]
  },
  {
   "cell_type": "code",
   "execution_count": 6,
   "metadata": {},
   "outputs": [
    {
     "name": "stdout",
     "output_type": "stream",
     "text": [
      "O resultado da dvisão de 10 por 2.5 é 4.0\n",
      "Erro de divisão por zero tratado\n"
     ]
    }
   ],
   "source": [
    "def dividir(dividendo, divisor):\r\n",
    "    return dividendo / divisor\r\n",
    "\r\n",
    "def testa_divisão(divisor):\r\n",
    "    try:\r\n",
    "        resultado = dividir(10, divisor)\r\n",
    "        print(f'O resultado da dvisão de 10 por {divisor} é {resultado}')\r\n",
    "    except ZeroDivisionError:\r\n",
    "        print('Erro de divisão por zero tratado')\r\n",
    "\r\n",
    "testa_divisão(2.5)\r\n",
    "testa_divisão(0)"
   ]
  },
  {
   "cell_type": "markdown",
   "metadata": {},
   "source": [
    "# Multiplos excepts\r\n",
    "Multiplos excepts seguindo a hierarquia exmplificando o ZeroDivisionError\r\n",
    "\r\n",
    "Exception\r\n",
    "\r\n",
    "      +-- ArithmeticError\r\n",
    "\r\n",
    "      |    +-- ZeroDivisionError\r\n",
    "\r\n",
    "No exemplo abaixo temos um tratamente especifico de AttributeError, como o erro gerado foi de ZeroDivisionError colocamos abaixo outro except com tratamento geral, ou seja, Exception que é numero 1 na hierarquia."
   ]
  },
  {
   "cell_type": "code",
   "execution_count": 30,
   "metadata": {},
   "outputs": [
    {
     "name": "stdout",
     "output_type": "stream",
     "text": [
      "Tratamento geral de erro\n"
     ]
    }
   ],
   "source": [
    "# Provocando o erro ZeroDivisionError\r\n",
    "try:\r\n",
    "    1 / 0\r\n",
    "except AttributeError:\r\n",
    "    print('Erro de atributo tratado')\r\n",
    "except Exception: \r\n",
    "    print('Tratamento geral de erro')"
   ]
  }
 ],
 "metadata": {
  "interpreter": {
   "hash": "325cb660cce599eef17833f9bb0afcb0e3dbe3e8605c570c8e00eb36d04c5df3"
  },
  "kernelspec": {
   "display_name": "Python 3.9.5 64-bit ('venv': venv)",
   "name": "python3"
  },
  "language_info": {
   "codemirror_mode": {
    "name": "ipython",
    "version": 3
   },
   "file_extension": ".py",
   "mimetype": "text/x-python",
   "name": "python",
   "nbconvert_exporter": "python",
   "pygments_lexer": "ipython3",
   "version": "3.9.5"
  },
  "orig_nbformat": 4
 },
 "nbformat": 4,
 "nbformat_minor": 2
}