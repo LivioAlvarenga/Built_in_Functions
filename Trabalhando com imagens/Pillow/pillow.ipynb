{
 "cells": [
  {
   "cell_type": "markdown",
   "metadata": {},
   "source": [
    "# <font color=#FF0000>**PILLOW**</font>\n",
    "\n",
    "Biblioteca de manipulação de imagens."
   ]
  },
  {
   "cell_type": "markdown",
   "metadata": {},
   "source": [
    "## <font color=#FF0000>**open()**</font> e <font color=#FF0000>**show()**</font> - Abrindo imagem e mostrando a mesma."
   ]
  },
  {
   "cell_type": "code",
   "execution_count": 7,
   "metadata": {},
   "outputs": [],
   "source": [
    "from PIL import Image\n",
    "\n",
    "im = Image.open('Produtivese_menor.png')\n",
    "\n",
    "im.show()"
   ]
  },
  {
   "cell_type": "markdown",
   "metadata": {},
   "source": [
    "## <font color=#FF0000>**filename**</font> e <font color=#FF0000>**size**</font> e <font color=#FF0000>**format**</font> - Verificando nome, tamanho e formato da imagem."
   ]
  },
  {
   "cell_type": "code",
   "execution_count": 22,
   "metadata": {},
   "outputs": [
    {
     "name": "stdout",
     "output_type": "stream",
     "text": [
      "O tamanho da imagem Produtivese_menor.png é:\n",
      " >>> (236, 197)\n",
      "\n",
      "O formato da imagem Produtivese_menor.png é:\n",
      " >>> PNG\n"
     ]
    }
   ],
   "source": [
    "from PIL import Image\n",
    "\n",
    "im = Image.open('Produtivese_menor.png')\n",
    "print(f'O tamanho da imagem {im.filename} é:\\n >>> {im.size}')\n",
    "\n",
    "print(f'\\nO formato da imagem {im.filename} é:\\n >>> {im.format}')"
   ]
  },
  {
   "cell_type": "markdown",
   "metadata": {},
   "source": [
    "## <font color=#FF0000>**save**</font> - Salvando a imagem e convertendo a mesma de JPG p/ PNG"
   ]
  },
  {
   "cell_type": "code",
   "execution_count": 17,
   "metadata": {},
   "outputs": [
    {
     "name": "stdout",
     "output_type": "stream",
     "text": [
      "O tamanho da imagem Python.jpg é:\n",
      " >>> (1000, 1000)\n",
      "\n",
      "O tamanho da imagem Python.png é:\n",
      " >>> (1000, 1000)\n"
     ]
    }
   ],
   "source": [
    "from PIL import Image\n",
    "\n",
    "im = Image.open('Python.jpg')\n",
    "print(f'O tamanho da imagem {im.filename} é:\\n >>> {im.size}')\n",
    "\n",
    "# convertendo imagem\n",
    "im.save('Python.png')\n",
    "im = Image.open('Python.png')\n",
    "print(f'\\nO tamanho da imagem {im.filename} é:\\n >>> {im.size}')"
   ]
  },
  {
   "cell_type": "markdown",
   "metadata": {},
   "source": [
    "## <font color=#FF0000>**save + propriedades**</font> - optimize | quality | exif"
   ]
  },
  {
   "cell_type": "code",
   "execution_count": 65,
   "metadata": {},
   "outputs": [
    {
     "name": "stdout",
     "output_type": "stream",
     "text": [
      "O tamanho da imagem Python.jpg é:\n",
      " >>> (1000, 1000)\n",
      "\n",
      "O tamanho da imagem Python_500x500.jpg é:\n",
      " >>> (500, 500)\n"
     ]
    }
   ],
   "source": [
    "from PIL import Image\n",
    "\n",
    "im = Image.open('Python.jpg')\n",
    "print(f'O tamanho da imagem {im.filename} é:\\n >>> {im.size}')\n",
    "\n",
    "# reduzindo imagem\n",
    "tamanho = (500, 500)\n",
    "im_menor = im.resize(tamanho)\n",
    "im_menor.save('Python_500x500.jpg',\n",
    "              optimize=True, # Melhora a imagem, gasta mais processamento.\n",
    "              quality=50, # Reduz um pouco a qualidade 50 e 60 é imperceptivel\n",
    "              exif=im.info.get('exif') # Copia os metadados da imagem\n",
    ")\n",
    "im = Image.open('Python_500x500.jpg')\n",
    "print(f'\\nO tamanho da imagem {im.filename} é:\\n >>> {im.size}')"
   ]
  },
  {
   "cell_type": "markdown",
   "metadata": {},
   "source": [
    "## <font color=#FF0000>**resize()**</font> - Modificando tamanho da imagem"
   ]
  },
  {
   "cell_type": "code",
   "execution_count": 30,
   "metadata": {},
   "outputs": [
    {
     "name": "stdout",
     "output_type": "stream",
     "text": [
      "O tamanho da imagem Python.jpg é:\n",
      " >>> (1000, 1000)\n",
      "\n",
      "O tamanho da imagem Python_500x500.jpg é:\n",
      " >>> (500, 500)\n"
     ]
    }
   ],
   "source": [
    "from PIL import Image\n",
    "\n",
    "im = Image.open('Python.jpg')\n",
    "print(f'O tamanho da imagem {im.filename} é:\\n >>> {im.size}')\n",
    "\n",
    "# reduzindo imagem\n",
    "tamanho = (500, 500)\n",
    "im_menor = im.resize(tamanho)\n",
    "im_menor.save('Python_500x500.jpg')\n",
    "im = Image.open('Python_500x500.jpg')\n",
    "print(f'\\nO tamanho da imagem {im.filename} é:\\n >>> {im.size}')"
   ]
  },
  {
   "cell_type": "markdown",
   "metadata": {},
   "source": [
    "## <font color=#FF0000>**rotate()**</font> - Girando a imagem"
   ]
  },
  {
   "cell_type": "code",
   "execution_count": 33,
   "metadata": {},
   "outputs": [],
   "source": [
    "from PIL import Image\n",
    "\n",
    "# girando cortando a imagem\n",
    "im = Image.open('Python.jpg')\n",
    "im.rotate(-45).show()"
   ]
  },
  {
   "cell_type": "code",
   "execution_count": 32,
   "metadata": {},
   "outputs": [],
   "source": [
    "# girando sem cortar a imagem\n",
    "im = Image.open('Python.jpg')\n",
    "im.rotate(-45, expand=True).show()"
   ]
  },
  {
   "cell_type": "markdown",
   "metadata": {},
   "source": [
    "## <font color=#FF0000>**transpose()**</font> - Espelhando a imagem"
   ]
  },
  {
   "cell_type": "code",
   "execution_count": 42,
   "metadata": {},
   "outputs": [],
   "source": [
    "from PIL import Image\n",
    "\n",
    "# inverte a imagem horizontal\n",
    "im = Image.open('Produtivese.png')\n",
    "im.transpose(Image.FLIP_LEFT_RIGHT).show()"
   ]
  },
  {
   "cell_type": "code",
   "execution_count": 36,
   "metadata": {},
   "outputs": [],
   "source": [
    "# inverte a imagem vertical\n",
    "im = Image.open('Produtivese.png')\n",
    "im.transpose(Image.FLIP_TOP_BOTTOM).show()"
   ]
  },
  {
   "cell_type": "code",
   "execution_count": 39,
   "metadata": {},
   "outputs": [],
   "source": [
    "# inverte a imagem vertical\n",
    "im = Image.open('Produtivese.png')\n",
    "im.transpose(Image.ROTATE_90).show()\n",
    "im.transpose(Image.ROTATE_180).show()\n",
    "im.transpose(Image.ROTATE_270).show()\n",
    "im.transpose(Image.TRANSVERSE).show()\n",
    "im.transpose(Image.TRANSPOSE).show()"
   ]
  },
  {
   "cell_type": "markdown",
   "metadata": {},
   "source": [
    "## Forma simples de verificar se arquivo é imagem com <font color=#FF0000>**Image.open**</font>"
   ]
  },
  {
   "cell_type": "code",
   "execution_count": 48,
   "metadata": {},
   "outputs": [
    {
     "name": "stdout",
     "output_type": "stream",
     "text": [
      "É imagem!!!\n"
     ]
    },
    {
     "data": {
      "text/plain": [
       "'No entanto, enquanto isso cobre suficientemente a maioria dos casos, alguns arquivos de imagem como, xcf, \\n svg e psd não estão sendo detectados. Arquivos Psd lançam uma exceção OverflowError.'"
      ]
     },
     "execution_count": 48,
     "metadata": {},
     "output_type": "execute_result"
    }
   ],
   "source": [
    "from PIL import Image\n",
    "try:\n",
    "    im=Image.open('Produtivese.png')\n",
    "    print('É imagem!!!')\n",
    "except IOError:\n",
    "    print('Não conseguiu abrir imagem!!!')\n",
    "\n",
    "\"\"\"No entanto, enquanto isso cobre suficientemente a maioria dos casos, alguns arquivos de imagem como, xcf, \n",
    " svg e psd não estão sendo detectados. Arquivos Psd lançam uma exceção OverflowError.\"\"\""
   ]
  },
  {
   "cell_type": "code",
   "execution_count": 49,
   "metadata": {},
   "outputs": [
    {
     "name": "stdout",
     "output_type": "stream",
     "text": [
      "Não conseguiu abrir imagem!!!\n"
     ]
    }
   ],
   "source": [
    "# simulando falha, tentando abrir arquivo texto (arquio_texto.txt).\n",
    "try:\n",
    "    im=Image.open('arquio_texto.txt')\n",
    "    print('É imagem!!!')\n",
    "except IOError:\n",
    "    print('Não conseguiu abrir imagem!!!')"
   ]
  },
  {
   "cell_type": "markdown",
   "metadata": {},
   "source": [
    "## Verificar se arquivo é imagem com erro/corrompido <font color=#FF0000>**Image.verify**</font>"
   ]
  },
  {
   "cell_type": "code",
   "execution_count": 55,
   "metadata": {},
   "outputs": [
    {
     "name": "stdout",
     "output_type": "stream",
     "text": [
      "Imagem ok!!!\n"
     ]
    }
   ],
   "source": [
    "from PIL import Image\n",
    "\n",
    "try:\n",
    "    im = Image.open('Produtivese.png')\n",
    "    im.verify() \n",
    "    im.close()\n",
    "    im = Image.open('Produtivese.png') \n",
    "    im.transpose(Image.FLIP_LEFT_RIGHT)\n",
    "    im.close()\n",
    "    print('Imagem ok!!!')\n",
    "except:\n",
    "    print('Imagem corrompida!!!')"
   ]
  },
  {
   "cell_type": "markdown",
   "metadata": {},
   "source": [
    "## Redimensionando uma imagem mantendo a proporção com <font color=#FF0000>**resize((width, height), Image.LANCZOS)**</font>"
   ]
  },
  {
   "cell_type": "code",
   "execution_count": 60,
   "metadata": {},
   "outputs": [
    {
     "name": "stdout",
     "output_type": "stream",
     "text": [
      "O tamanho da imagem Produtivese2.png é:\n",
      " >>> (942, 600)\n",
      "\n",
      "O formato da imagem Produtivese2.png é:\n",
      " >>> PNG\n",
      "\n",
      ">>> width = 942\n",
      ">>> height = 600\n",
      "\n",
      ">>> new_height = 318\n"
     ]
    }
   ],
   "source": [
    "from PIL import Image\n",
    "\n",
    "im = Image.open('Produtivese2.png')\n",
    "print(f'O tamanho da imagem {im.filename} é:\\n >>> {im.size}')\n",
    "\n",
    "print(f'\\nO formato da imagem {im.filename} é:\\n >>> {im.format}')\n",
    "\n",
    "# largura padrão de 500\n",
    "new_width = 500\n",
    "\n",
    "# desencapsulando im.size\n",
    "width, height = im.size\n",
    "print(f'\\n>>> width = {width}\\n>>> height = {height}')\n",
    "\n",
    "# redimensionando height na mesma proporção que new_width (arredondado)\n",
    "new_height = round(new_width * height / width)\n",
    "print(f'\\n>>> new_height = {new_height}')\n",
    "\n",
    "# redimensionando e salvando a imagem\n",
    "new_im = im.resize((new_width, new_height), Image.LANCZOS)\n",
    "\n",
    "new_im.save('Produtivese2_NewSize.png')\n",
    "\n"
   ]
  }
 ],
 "metadata": {
  "interpreter": {
   "hash": "325cb660cce599eef17833f9bb0afcb0e3dbe3e8605c570c8e00eb36d04c5df3"
  },
  "kernelspec": {
   "display_name": "Python 3.9.5 64-bit ('venv': venv)",
   "name": "python3"
  },
  "language_info": {
   "codemirror_mode": {
    "name": "ipython",
    "version": 3
   },
   "file_extension": ".py",
   "mimetype": "text/x-python",
   "name": "python",
   "nbconvert_exporter": "python",
   "pygments_lexer": "ipython3",
   "version": "3.9.5"
  },
  "orig_nbformat": 4
 },
 "nbformat": 4,
 "nbformat_minor": 2
}
