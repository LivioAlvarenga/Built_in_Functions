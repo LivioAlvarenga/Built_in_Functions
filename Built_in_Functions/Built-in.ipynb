{
 "cells": [
  {
   "cell_type": "markdown",
   "metadata": {},
   "source": [
    "# **Built in Functions**"
   ]
  },
  {
   "cell_type": "markdown",
   "metadata": {},
   "source": [
    "# **bool()**\r\n",
    "Valores vazios ou zeros são considerado False, do contrário são considerados True (Truth Value Testing).\r\n",
    "\r\n",
    "\"Truth Value Testing\". Isto é, decidir quando um valor é considerado True ou False"
   ]
  },
  {
   "cell_type": "code",
   "execution_count": 2,
   "metadata": {},
   "outputs": [
    {
     "name": "stdout",
     "output_type": "stream",
     "text": [
      "False\n",
      "False\n",
      "False\n",
      "True\n",
      "True\n",
      "True\n",
      "True\n",
      "True\n"
     ]
    }
   ],
   "source": [
    "print(bool(0))\n",
    "print(bool(\"\"))\n",
    "print(bool(None))\n",
    "print(bool(1))\n",
    "print(bool(-100))\n",
    "print(bool(13.5))\n",
    "print(bool(\"teste\"))\n",
    "print(bool(True))"
   ]
  },
  {
   "cell_type": "markdown",
   "metadata": {},
   "source": [
    "# **f'' / .format()**"
   ]
  },
  {
   "cell_type": "code",
   "execution_count": 2,
   "metadata": {},
   "outputs": [
    {
     "name": "stdout",
     "output_type": "stream",
     "text": [
      "----> Hello World! <----\n",
      "----> Hello World! <----\n"
     ]
    }
   ],
   "source": [
    "# antes da versão 3.6 \n",
    "a = ('Hello World!')\n",
    "print('----> {} <----'.format(a))\n",
    "\n",
    "# ou f''\n",
    "print(f'----> {a} <----')"
   ]
  },
  {
   "cell_type": "code",
   "execution_count": 3,
   "metadata": {},
   "outputs": [
    {
     "name": "stdout",
     "output_type": "stream",
     "text": [
      "O José tem 23 anos e ganha R$987.30.\n",
      "O --------José-------- tem 23 anos e ganha R$987.30.\n",
      "O José---------------- tem 23 anos e ganha R$987.30.\n",
      "O ----------------José tem 23 anos e ganha R$987.30.\n",
      "O José tem 23 anos e ganha R$987.30.\n",
      "O José tem 23 anos.\n"
     ]
    }
   ],
   "source": [
    "nome = 'José'\n",
    "idade = 23\n",
    "salario = 987.30\n",
    "print(f'O {nome} tem {idade} anos e ganha R${salario:.2f}.') #Python 3.6+\n",
    "print(f'O {nome:-^20} tem {idade} anos e ganha R${salario:.2f}.') #Python 3.6+\n",
    "print(f'O {nome:-<20} tem {idade} anos e ganha R${salario:.2f}.') #Python 3.6+\n",
    "print(f'O {nome:->20} tem {idade} anos e ganha R${salario:.2f}.') #Python 3.6+\n",
    "print('O {} tem {} anos e ganha R${:.2f}.'.format(nome, idade, salario)) #Python 3\n",
    "print('O %s tem %d anos.' % (nome, idade)) #Python 2"
   ]
  },
  {
   "cell_type": "code",
   "execution_count": 13,
   "metadata": {},
   "outputs": [
    {
     "name": "stdout",
     "output_type": "stream",
     "text": [
      "--------------120.00\n",
      "-------10.10--------\n",
      "R$120.00\n",
      "R$120.00\n",
      "R$ 120.00\n",
      "R$  120.00\n",
      "R$00120.00\n",
      "R$00120.0000\n",
      "R$0000000120\n",
      "R$0120\n",
      "R$ 120\n"
     ]
    }
   ],
   "source": [
    "# formatação de traços + casas decimais\n",
    "vlr = 120\n",
    "vlr2 = 10.1\n",
    "print(f'{vlr:->20.2f}')\n",
    "print(f'{vlr2:-^20.2f}')\n",
    "print(f'R${vlr:5.2f}')\n",
    "print(f'R${vlr:6.2f}')\n",
    "print(f'R${vlr:7.2f}')\n",
    "print(f'R${vlr:8.2f}')\n",
    "print(f'R${vlr:08.2f}')\n",
    "print(f'R${vlr:010.4f}') # f para float\n",
    "print(f'R${vlr:010d}')# d para inteiros\n",
    "print(f'R${vlr:04d}')\n",
    "print(f'R${vlr:4d}')"
   ]
  },
  {
   "cell_type": "code",
   "execution_count": 1,
   "metadata": {},
   "outputs": [
    {
     "name": "stdout",
     "output_type": "stream",
     "text": [
      "n1 =    100\n",
      "n1 = 000100\n",
      "n2 = 000001\n",
      "n2 =      1\n",
      "n3 = 00.758\n",
      "n4 = 15.770 ou 15.77\n"
     ]
    }
   ],
   "source": [
    "n1, n2, n3, n4 = 100, 1, 00.758, 15.77\n",
    "\n",
    "print(f'n1 = {n1:6}\\nn1 = {n1:06}') # total de casas = 6 com opção de colocar ou não zero\n",
    "print(f'n2 = {n2:06}')\n",
    "print(f'n2 = {n2: 6}')\n",
    "print(f'n3 = {n3:06.3f}') # variavel + ':' + total de casas decimais + '.' + casas decimais a direita da ','\n",
    "print(f'n4 = {n4:06.3f} ou {n4:.2f}')"
   ]
  },
  {
   "cell_type": "code",
   "execution_count": 6,
   "metadata": {},
   "outputs": [
    {
     "name": "stdout",
     "output_type": "stream",
     "text": [
      "O 0º valor recebido é \t R$1000,00\n",
      "Agora sem o tab\n",
      "O 0º valor recebido é R$1000,00\n",
      "-----------------------------------\n",
      "O 1º valor recebido é \t R$1000,00\n",
      "Agora sem o tab\n",
      "O 1º valor recebido é R$1000,00\n",
      "-----------------------------------\n",
      "O 2º valor recebido é \t R$1000,00\n",
      "Agora sem o tab\n",
      "O 2º valor recebido é R$1000,00\n",
      "-----------------------------------\n",
      "O 3º valor recebido é \t R$1000,00\n",
      "Agora sem o tab\n",
      "O 3º valor recebido é R$1000,00\n",
      "-----------------------------------\n",
      "O 4º valor recebido é \t R$1000,00\n",
      "Agora sem o tab\n",
      "O 4º valor recebido é R$1000,00\n",
      "-----------------------------------\n"
     ]
    }
   ],
   "source": [
    "# formatação com tab \\t\n",
    "for c in range(0,5):\n",
    "    print(f'O {c}º valor recebido é \\t R$1000,00')\n",
    "    print('Agora sem o tab')\n",
    "    print(f'O {c}º valor recebido é R$1000,00')\n",
    "    print('-' * 35)"
   ]
  },
  {
   "cell_type": "markdown",
   "metadata": {},
   "source": [
    "# **.find() .rfind**"
   ]
  },
  {
   "cell_type": "code",
   "execution_count": 1,
   "metadata": {},
   "outputs": [
    {
     "name": "stdout",
     "output_type": "stream",
     "text": [
      "2\n",
      "A letra \"o\" aparece a ultima vez na posição 22.\n"
     ]
    }
   ],
   "source": [
    "frase = '  Curso em Vídeo Python  '\n",
    "print(frase.find('Curso'))\n",
    "print('A letra \"o\" aparece a ultima vez na posição {}.'.format(frase.lower().rfind('o')+1))"
   ]
  },
  {
   "cell_type": "markdown",
   "metadata": {},
   "source": [
    "# **print()**\r\n",
    "value é o valor que queremos imprimir, as reticências indicam que a função pode receber mais de um valor, basta separá-los por vírgula.\r\n",
    "\r\n",
    "sep é o separador entre os valores, por padrão o separador é um espaço em branco.\r\n",
    "\r\n",
    "end é o que acontecerá ao final da função, por padrão há uma quebra de linha, uma nova linha (\\n). "
   ]
  },
  {
   "cell_type": "markdown",
   "metadata": {},
   "source": [
    "## fomatando o print"
   ]
  },
  {
   "cell_type": "code",
   "execution_count": 1,
   "metadata": {},
   "outputs": [
    {
     "name": "stdout",
     "output_type": "stream",
     "text": [
      "Prazer em te conhecer\n",
      "Livio Alvarenga!\n",
      "Prazer em te conhecer Livio Alvarenga     !\n",
      "Prazer em te conhecer      Livio Alvarenga!\n",
      "Prazer em te conhecer Livio Alvarenga     !\n",
      "Prazer em te conhecer   Livio Alvarenga   !\n",
      "Prazer em te conhecer ===Livio Alvarenga===!\n"
     ]
    }
   ],
   "source": [
    "nome = 'Livio Alvarenga'\n",
    "print(f'Prazer em te conhecer\\n{nome}!') #\\n executa um enter\n",
    "print(f'Prazer em te conhecer {nome:20}!')\n",
    "print(f'Prazer em te conhecer {nome:>20}!')\n",
    "print(f'Prazer em te conhecer {nome:<20}!')\n",
    "print(f'Prazer em te conhecer {nome:^20}!')\n",
    "print(f'Prazer em te conhecer {nome:=^21}!')"
   ]
  },
  {
   "cell_type": "code",
   "execution_count": 6,
   "metadata": {},
   "outputs": [
    {
     "name": "stdout",
     "output_type": "stream",
     "text": [
      "-------FIM DO PROGRAMA--------\n",
      "       FIM DO PROGRAMA        \n"
     ]
    }
   ],
   "source": [
    "print(f'{\"FIM DO PROGRAMA\":-^30}')\n",
    "print(f'{\"FIM DO PROGRAMA\":^30}')"
   ]
  },
  {
   "cell_type": "code",
   "execution_count": 5,
   "metadata": {},
   "outputs": [
    {
     "name": "stdout",
     "output_type": "stream",
     "text": [
      "u\n",
      "  C\n",
      "urso em Vídeo Python  \n",
      " Croe\n",
      "imprimindo um texto longo!!! imprimindo um texto longo!!!\n",
      "imprimindo um texto longo!!! imprimindo um texto longo!!!\n",
      "imprimindo um texto longo!!! imprimindo um texto longo!!!\n"
     ]
    }
   ],
   "source": [
    "frase = '  Curso em Vídeo Python  '\n",
    "print(frase[3])\n",
    "print(frase[:3])\n",
    "print(frase[3:])\n",
    "print(frase[0:10:2])\n",
    "print(\"\"\"imprimindo um texto longo!!! imprimindo um texto longo!!!\n",
    "imprimindo um texto longo!!! imprimindo um texto longo!!!\n",
    "imprimindo um texto longo!!! imprimindo um texto longo!!!\"\"\")"
   ]
  },
  {
   "cell_type": "markdown",
   "metadata": {},
   "source": [
    "## print sep e end"
   ]
  },
  {
   "cell_type": "code",
   "execution_count": 8,
   "metadata": {},
   "outputs": [
    {
     "name": "stdout",
     "output_type": "stream",
     "text": [
      "t1 --> t2 --> t3 --> FIM\n"
     ]
    }
   ],
   "source": [
    "# print com end\n",
    "t1 = 't1'\n",
    "t2 = 't2'\n",
    "t3 = 't3'\n",
    "print('{} --> {}'.format(t1, t2), end='')\n",
    "print(f' --> {t3}', end='')\n",
    "print(' --> FIM')"
   ]
  },
  {
   "cell_type": "code",
   "execution_count": 9,
   "metadata": {},
   "outputs": [
    {
     "name": "stdout",
     "output_type": "stream",
     "text": [
      "Brasil-ganhou-5-titulos mundiais\n"
     ]
    }
   ],
   "source": [
    "print(\"Brasil\", \"ganhou\", 5, \"titulos mundiais\", sep=\"-\")"
   ]
  },
  {
   "cell_type": "markdown",
   "metadata": {},
   "source": [
    "## Imprimindo com pprint( )"
   ]
  },
  {
   "cell_type": "code",
   "execution_count": 5,
   "metadata": {},
   "outputs": [
    {
     "name": "stdout",
     "output_type": "stream",
     "text": [
      "{'Cidade': 'Belo Horizonte',\n",
      " 'Idade': 40,\n",
      " 'nome': 'Livio'}\n"
     ]
    }
   ],
   "source": [
    "from pprint import pprint\r\n",
    "\r\n",
    "# ! Imprimindo com pprint + width\r\n",
    "\r\n",
    "cliente = {'nome': 'Livio', 'Idade': 40, 'Cidade': 'Belo Horizonte'}\r\n",
    "\r\n",
    "pprint(cliente, width=40)"
   ]
  },
  {
   "cell_type": "markdown",
   "metadata": {},
   "source": [
    "# **round()**"
   ]
  },
  {
   "cell_type": "code",
   "execution_count": 14,
   "metadata": {},
   "outputs": [
    {
     "data": {
      "text/plain": [
       "3.14"
      ]
     },
     "execution_count": 14,
     "metadata": {},
     "output_type": "execute_result"
    }
   ],
   "source": [
    "# Retorna o valor com arredondamento\n",
    "round(3.14151922,2)"
   ]
  }
 ],
 "metadata": {
  "interpreter": {
   "hash": "325cb660cce599eef17833f9bb0afcb0e3dbe3e8605c570c8e00eb36d04c5df3"
  },
  "kernelspec": {
   "display_name": "Python 3.9.5 64-bit ('venv': venv)",
   "name": "python3"
  },
  "language_info": {
   "codemirror_mode": {
    "name": "ipython",
    "version": 3
   },
   "file_extension": ".py",
   "mimetype": "text/x-python",
   "name": "python",
   "nbconvert_exporter": "python",
   "pygments_lexer": "ipython3",
   "version": "3.9.5"
  },
  "orig_nbformat": 4
 },
 "nbformat": 4,
 "nbformat_minor": 2
}