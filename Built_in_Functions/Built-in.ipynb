{
 "metadata": {
  "language_info": {
   "codemirror_mode": {
    "name": "ipython",
    "version": 3
   },
   "file_extension": ".py",
   "mimetype": "text/x-python",
   "name": "python",
   "nbconvert_exporter": "python",
   "pygments_lexer": "ipython3",
   "version": "3.9.5"
  },
  "orig_nbformat": 4,
  "kernelspec": {
   "name": "python3",
   "display_name": "Python 3.9.5  ('venv': venv)"
  },
  "interpreter": {
   "hash": "325cb660cce599eef17833f9bb0afcb0e3dbe3e8605c570c8e00eb36d04c5df3"
  }
 },
 "nbformat": 4,
 "nbformat_minor": 2,
 "cells": [
  {
   "source": [
    "<h1><font color=#32CD32>Built in Functions</font></h1>"
   ],
   "cell_type": "markdown",
   "metadata": {}
  },
  {
   "source": [
    "<h2><font color=#00BFFF>f'' / .format()</font></h2>"
   ],
   "cell_type": "markdown",
   "metadata": {}
  },
  {
   "cell_type": "code",
   "execution_count": 2,
   "metadata": {},
   "outputs": [
    {
     "output_type": "stream",
     "name": "stdout",
     "text": [
      "----> Hello World! <----\n----> Hello World! <----\n"
     ]
    }
   ],
   "source": [
    "# antes da versão 3.6 \n",
    "a = ('Hello World!')\n",
    "print('----> {} <----'.format(a))\n",
    "\n",
    "# ou f''\n",
    "print(f'----> {a} <----')"
   ]
  },
  {
   "cell_type": "code",
   "execution_count": 3,
   "metadata": {},
   "outputs": [
    {
     "output_type": "stream",
     "name": "stdout",
     "text": [
      "O José tem 23 anos e ganha R$987.30.\nO --------José-------- tem 23 anos e ganha R$987.30.\nO José---------------- tem 23 anos e ganha R$987.30.\nO ----------------José tem 23 anos e ganha R$987.30.\nO José tem 23 anos e ganha R$987.30.\nO José tem 23 anos.\n"
     ]
    }
   ],
   "source": [
    "nome = 'José'\n",
    "idade = 23\n",
    "salario = 987.30\n",
    "print(f'O {nome} tem {idade} anos e ganha R${salario:.2f}.') #Python 3.6+\n",
    "print(f'O {nome:-^20} tem {idade} anos e ganha R${salario:.2f}.') #Python 3.6+\n",
    "print(f'O {nome:-<20} tem {idade} anos e ganha R${salario:.2f}.') #Python 3.6+\n",
    "print(f'O {nome:->20} tem {idade} anos e ganha R${salario:.2f}.') #Python 3.6+\n",
    "print('O {} tem {} anos e ganha R${:.2f}.'.format(nome, idade, salario)) #Python 3\n",
    "print('O %s tem %d anos.' % (nome, idade)) #Python 2"
   ]
  },
  {
   "cell_type": "code",
   "execution_count": 4,
   "metadata": {},
   "outputs": [
    {
     "output_type": "stream",
     "name": "stdout",
     "text": [
      "--------------120.00\n-------10.10--------\n"
     ]
    }
   ],
   "source": [
    "# formatação de traços + casas decimais\n",
    "vlr = 120\n",
    "vlr2 = 10.1\n",
    "print(f'{vlr:->20.2f}')\n",
    "print(f'{vlr2:-^20.2f}')"
   ]
  },
  {
   "cell_type": "code",
   "execution_count": 6,
   "metadata": {},
   "outputs": [
    {
     "output_type": "stream",
     "name": "stdout",
     "text": [
      "O 0º valor recebido é \t R$1000,00\nAgora sem o tab\nO 0º valor recebido é R$1000,00\n-----------------------------------\nO 1º valor recebido é \t R$1000,00\nAgora sem o tab\nO 1º valor recebido é R$1000,00\n-----------------------------------\nO 2º valor recebido é \t R$1000,00\nAgora sem o tab\nO 2º valor recebido é R$1000,00\n-----------------------------------\nO 3º valor recebido é \t R$1000,00\nAgora sem o tab\nO 3º valor recebido é R$1000,00\n-----------------------------------\nO 4º valor recebido é \t R$1000,00\nAgora sem o tab\nO 4º valor recebido é R$1000,00\n-----------------------------------\n"
     ]
    }
   ],
   "source": [
    "# formatação com tab \\t\n",
    "for c in range(0,5):\n",
    "    print(f'O {c}º valor recebido é \\t R$1000,00')\n",
    "    print('Agora sem o tab')\n",
    "    print(f'O {c}º valor recebido é R$1000,00')\n",
    "    print('-' * 35)"
   ]
  },
  {
   "source": [
    "<h2><font color=#00BFFF>print()</font></h2>"
   ],
   "cell_type": "markdown",
   "metadata": {}
  },
  {
   "source": [
    "<h3><font color=#DAA520>fomatando o print</font></h3>"
   ],
   "cell_type": "markdown",
   "metadata": {}
  },
  {
   "cell_type": "code",
   "execution_count": 1,
   "metadata": {},
   "outputs": [
    {
     "output_type": "stream",
     "name": "stdout",
     "text": [
      "Prazer em te conhecer\nLivio Alvarenga!\nPrazer em te conhecer Livio Alvarenga     !\nPrazer em te conhecer      Livio Alvarenga!\nPrazer em te conhecer Livio Alvarenga     !\nPrazer em te conhecer   Livio Alvarenga   !\nPrazer em te conhecer ===Livio Alvarenga===!\n"
     ]
    }
   ],
   "source": [
    "nome = 'Livio Alvarenga'\n",
    "print(f'Prazer em te conhecer\\n{nome}!') #\\n executa um enter\n",
    "print(f'Prazer em te conhecer {nome:20}!')\n",
    "print(f'Prazer em te conhecer {nome:>20}!')\n",
    "print(f'Prazer em te conhecer {nome:<20}!')\n",
    "print(f'Prazer em te conhecer {nome:^20}!')\n",
    "print(f'Prazer em te conhecer {nome:=^21}!')"
   ]
  },
  {
   "cell_type": "code",
   "execution_count": 6,
   "metadata": {},
   "outputs": [
    {
     "output_type": "stream",
     "name": "stdout",
     "text": [
      "-------FIM DO PROGRAMA--------\n       FIM DO PROGRAMA        \n"
     ]
    }
   ],
   "source": [
    "print(f'{\"FIM DO PROGRAMA\":-^30}')\n",
    "print(f'{\"FIM DO PROGRAMA\":^30}')"
   ]
  },
  {
   "cell_type": "code",
   "execution_count": 5,
   "metadata": {},
   "outputs": [
    {
     "output_type": "stream",
     "name": "stdout",
     "text": [
      "u\n  C\nurso em Vídeo Python  \n Croe\nimprimindo um texto longo!!! imprimindo um texto longo!!!\nimprimindo um texto longo!!! imprimindo um texto longo!!!\nimprimindo um texto longo!!! imprimindo um texto longo!!!\n"
     ]
    }
   ],
   "source": [
    "frase = '  Curso em Vídeo Python  '\n",
    "print(frase[3])\n",
    "print(frase[:3])\n",
    "print(frase[3:])\n",
    "print(frase[0:10:2])\n",
    "print(\"\"\"imprimindo um texto longo!!! imprimindo um texto longo!!!\n",
    "imprimindo um texto longo!!! imprimindo um texto longo!!!\n",
    "imprimindo um texto longo!!! imprimindo um texto longo!!!\"\"\")"
   ]
  },
  {
   "source": [
    "<h3><font color=#DAA520>print sep e end</font></h3>"
   ],
   "cell_type": "markdown",
   "metadata": {}
  },
  {
   "cell_type": "code",
   "execution_count": 8,
   "metadata": {},
   "outputs": [
    {
     "output_type": "stream",
     "name": "stdout",
     "text": [
      "t1 --> t2 --> t3 --> FIM\n"
     ]
    }
   ],
   "source": [
    "# print com end\n",
    "t1 = 't1'\n",
    "t2 = 't2'\n",
    "t3 = 't3'\n",
    "print('{} --> {}'.format(t1, t2), end='')\n",
    "print(f' --> {t3}', end='')\n",
    "print(' --> FIM')"
   ]
  },
  {
   "cell_type": "code",
   "execution_count": 9,
   "metadata": {},
   "outputs": [
    {
     "output_type": "stream",
     "name": "stdout",
     "text": [
      "Brasil-ganhou-5-titulos mundiais\n"
     ]
    }
   ],
   "source": [
    "print(\"Brasil\", \"ganhou\", 5, \"titulos mundiais\", sep=\"-\")"
   ]
  }
 ]
}