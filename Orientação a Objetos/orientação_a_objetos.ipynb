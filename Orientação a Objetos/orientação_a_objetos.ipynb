{
 "metadata": {
  "language_info": {
   "codemirror_mode": {
    "name": "ipython",
    "version": 3
   },
   "file_extension": ".py",
   "mimetype": "text/x-python",
   "name": "python",
   "nbconvert_exporter": "python",
   "pygments_lexer": "ipython3",
   "version": "3.9.5"
  },
  "orig_nbformat": 4,
  "kernelspec": {
   "name": "python3",
   "display_name": "Python 3.9.5  ('venv': venv)"
  },
  "interpreter": {
   "hash": "325cb660cce599eef17833f9bb0afcb0e3dbe3e8605c570c8e00eb36d04c5df3"
  }
 },
 "nbformat": 4,
 "nbformat_minor": 2,
 "cells": [
  {
   "source": [
    "<h1><font color=#32CD32>Orientação a objeto</font></h1>"
   ],
   "cell_type": "markdown",
   "metadata": {}
  },
  {
   "source": [
    "<h2><font color=#00BFFF>Self de uma class</font></h2>\n",
    "Self é a referência que sabe encontrar o objeto construído em memória."
   ],
   "cell_type": "markdown",
   "metadata": {}
  },
  {
   "cell_type": "code",
   "execution_count": 13,
   "metadata": {},
   "outputs": [
    {
     "output_type": "stream",
     "name": "stdout",
     "text": [
      "O tipo do objeto conta1 é: <class '__main__.Conta'>\nEndereço de memória do objeto conta1 é: <__main__.Conta object at 0x0000020928876280>\n\nO tipo do objeto conta2 é: <class '__main__.Conta'>\nEndereço de memória do objeto conta2 é: <__main__.Conta object at 0x0000020928CED250>\n\nconta1 é igual a conta2? False\n"
     ]
    }
   ],
   "source": [
    "class Conta(object):\n",
    "    pass\n",
    "\n",
    "conta1 = Conta()\n",
    "print(f'O tipo do objeto conta1 é: {type(conta1)}\\nEndereço de memória do objeto conta1 é: {conta1}')\n",
    "\n",
    "conta2 = Conta()\n",
    "print(f'\\nO tipo do objeto conta2 é: {type(conta2)}\\nEndereço de memória do objeto conta2 é: {conta2}')\n",
    "\n",
    "print(f'\\nconta1 é igual a conta2? {conta1 == conta2}')\n"
   ]
  },
  {
   "source": [
    "<h2><font color=#00BFFF>Atributos de uma class</font></h2>\n",
    "Os atributos são as características que especificam uma classe. Estão na função especial __init__ e fora dela.\n",
    "\n",
    "A função construtora ____init____ é uma implícita, que é chamada automaticamente.\n",
    "\n",
    "<h3><font color=#DAA520>Atributos da instancia(objeto) Vs atributos da classe</font></h3>\n",
    "\n",
    "Atributos da instancia estão na função construtora ____init____ ja os atributos da classe estão na classe."
   ],
   "cell_type": "markdown",
   "metadata": {}
  },
  {
   "cell_type": "code",
   "execution_count": 3,
   "metadata": {},
   "outputs": [
    {
     "output_type": "stream",
     "name": "stdout",
     "text": [
      "12\nAna\n3\n"
     ]
    }
   ],
   "source": [
    "class Conta(object):\n",
    "    # tamanho_numero_conta é um atributo da classe\n",
    "    tamanho_numero_conta = 3\n",
    "\n",
    "    # numero e titular são atributos da instância(objeto)\n",
    "    def __init__(self, numero: int, titular: str):\n",
    "        self.numero: int = numero\n",
    "        self.titular: str = titular\n",
    "\n",
    "conta1 = Conta(12, 'Ana')\n",
    "\n",
    "print(conta1.numero)\n",
    "print(conta1.titular)\n",
    "print(conta1.tamanho_numero_conta)"
   ]
  },
  {
   "source": [
    "<h3><font color=#DAA520>Atributos __privados (encapsulamento) - self.__numero: int = numero</font></h3>\n",
    "\n",
    "Não podemos acessar o atributo privado diretamente. Teremos que usar os métodos responsáveis por encapsular o acesso ao objeto. \n",
    "\n",
    "Para tornar um atributo privado adicionanmos dois caracteres underscore (__) a esquerda. A ação de tornar privado o acesso aos atributos, no mundo Orientado a Objetos, chamamos de encapsulamento."
   ],
   "cell_type": "markdown",
   "metadata": {}
  },
  {
   "cell_type": "code",
   "execution_count": 22,
   "metadata": {},
   "outputs": [
    {
     "output_type": "error",
     "ename": "AttributeError",
     "evalue": "'Conta' object has no attribute 'numero'",
     "traceback": [
      "\u001b[1;31m---------------------------------------------------------------------------\u001b[0m",
      "\u001b[1;31mAttributeError\u001b[0m                            Traceback (most recent call last)",
      "\u001b[1;32m<ipython-input-22-1124ea7bb6a7>\u001b[0m in \u001b[0;36m<module>\u001b[1;34m\u001b[0m\n\u001b[0;32m      8\u001b[0m \u001b[0mconta1\u001b[0m \u001b[1;33m=\u001b[0m \u001b[0mConta\u001b[0m\u001b[1;33m(\u001b[0m\u001b[1;36m12\u001b[0m\u001b[1;33m,\u001b[0m \u001b[1;34m'Ana'\u001b[0m\u001b[1;33m)\u001b[0m\u001b[1;33m\u001b[0m\u001b[1;33m\u001b[0m\u001b[0m\n\u001b[0;32m      9\u001b[0m \u001b[1;33m\u001b[0m\u001b[0m\n\u001b[1;32m---> 10\u001b[1;33m \u001b[0mprint\u001b[0m\u001b[1;33m(\u001b[0m\u001b[0mconta1\u001b[0m\u001b[1;33m.\u001b[0m\u001b[0mnumero\u001b[0m\u001b[1;33m)\u001b[0m\u001b[1;33m\u001b[0m\u001b[1;33m\u001b[0m\u001b[0m\n\u001b[0m\u001b[0;32m     11\u001b[0m \u001b[0mprint\u001b[0m\u001b[1;33m(\u001b[0m\u001b[0mconta1\u001b[0m\u001b[1;33m.\u001b[0m\u001b[0mtitular\u001b[0m\u001b[1;33m)\u001b[0m\u001b[1;33m\u001b[0m\u001b[1;33m\u001b[0m\u001b[0m\n",
      "\u001b[1;31mAttributeError\u001b[0m: 'Conta' object has no attribute 'numero'"
     ]
    }
   ],
   "source": [
    "class Conta(object):\n",
    "\n",
    "    def __init__(self, numero: int, titular: str):\n",
    "        # Dois undercores __ tornam as variáveis privadas.\n",
    "        self.__numero: int = numero\n",
    "        self.__titular: str = titular\n",
    "\n",
    "conta1 = Conta(12, 'Ana')\n",
    "\n",
    "print(conta1.numero)\n",
    "print(conta1.titular)"
   ]
  },
  {
   "source": [
    "<h3><font color=#DAA520>Acessando atributos __privados com métodos getters - @property</font></h3>\n",
    "O uso do getters são métodos usados apenas para retornar dados de atributos __privados.\n",
    "\n",
    "Uma solução ao invés de usar get e set no nome das variaveis é usar uma property, A declaração de uma property é feita com o uso do caractere @. @property para getters e @nome da função.setter para setters.\n",
    "\n",
    "Obs: Usar property é uma ótima prática. Quando criamos getters e setters todos os lugares que já acessam a classe precisam mudar."
   ],
   "cell_type": "markdown",
   "metadata": {}
  },
  {
   "cell_type": "code",
   "execution_count": 27,
   "metadata": {},
   "outputs": [
    {
     "output_type": "stream",
     "name": "stdout",
     "text": [
      "12\nAna\n"
     ]
    }
   ],
   "source": [
    "class Conta(object):\n",
    "\n",
    "    def __init__(self, numero: int, titular: str):\n",
    "        self.__numero: int = numero\n",
    "        self.__titular: str = titular\n",
    "\n",
    "    @property\n",
    "    def numero(self) -> int:\n",
    "        \"\"\"Getter de __numero, retorna número da conta.\"\"\"\n",
    "        return self.__numero\n",
    "\n",
    "    @property\n",
    "    def titular(self) -> str:\n",
    "        \"\"\"Getter de __titular, retorna nome titular.\"\"\"\n",
    "        return self.__titular.title()\n",
    "\n",
    "conta1 = Conta(12, 'Ana')\n",
    "\n",
    "print(conta1.numero)\n",
    "print(conta1.titular)"
   ]
  },
  {
   "source": [
    "<h3><font color=#DAA520>Modificando atributos __privados com métodos setters - @numero.setter</font></h3>\n",
    "\n",
    "O uso do setters são métodos usados para modificar os dados de atributos __privados.\n",
    "\n",
    "Uma solução ao invés de usar get e set no nome das variaveis é usar uma property, A declaração de uma property é feita com o uso do caractere @. @property para getters e @nome da função.setter para setters.\n",
    "\n",
    "Obs: Usar property é uma ótima prática. Quando criamos getters e setters todos os lugares que já acessam a classe precisam mudar."
   ],
   "cell_type": "markdown",
   "metadata": {}
  },
  {
   "cell_type": "code",
   "execution_count": 29,
   "metadata": {},
   "outputs": [
    {
     "output_type": "stream",
     "name": "stdout",
     "text": [
      "12\n100\n"
     ]
    }
   ],
   "source": [
    "class Conta(object):\n",
    "\n",
    "    def __init__(self, numero: int):\n",
    "        self.__numero: int = numero\n",
    "\n",
    "    @property\n",
    "    def numero(self) -> int:\n",
    "        \"\"\"Getter de __numero, retorna número da conta.\"\"\"\n",
    "        return self.__numero\n",
    "\n",
    "    @numero.setter\n",
    "    def numero(self, numero: int) -> int:\n",
    "        \"\"\"Setter de __numero, editar numero de conta.\n",
    "        Ex.: conta.numero = 100\"\"\"\n",
    "        self.__numero = numero\n",
    "\n",
    "conta1 = Conta(12)\n",
    "\n",
    "print(conta1.numero)\n",
    "conta1.numero = 100\n",
    "print(conta1.numero)"
   ]
  },
  {
   "source": [
    "<h2><font color=#00BFFF>Métodos estáticos de uma class - @staticmethod</font></h2>\n",
    "\n",
    "Todas as linguagens orientadas a objeto trabalham com métodos estáticos, fica inapropriado usar property, porque ele sempre precisa do self. A configuração correta será @staticmethod.\n",
    "\n",
    "Métodos estáticos tem um cheiro de linguagem procedural já que independe de um objeto para ser chamado e não manipula informações/atributos de objetos. Deve ser usado com bastante cautela!\n",
    "\n",
    "Cuidados a tomar...\n",
    "\n",
    "Sempre que você usar métodos estáticos em classes que contém herança, observe se não está tentando acessar alguma informação da classe a partir do método estático, pois isso pode dar algumas dores de cabeça pra entender o motivo dos problemas.\n",
    "\n",
    "Alguns pythonistas não aconselham o uso do @staticmethod, já que poderia ser substituído por uma simples função no corpo do módulo. Outros mais puristas entendem que os métodos estáticos fazem sentido, sim, e que devem ser vistos como responsabilidade das classes."
   ],
   "cell_type": "markdown",
   "metadata": {}
  },
  {
   "cell_type": "code",
   "execution_count": 4,
   "metadata": {},
   "outputs": [
    {
     "output_type": "stream",
     "name": "stdout",
     "text": [
      "12\n001\n001\n"
     ]
    }
   ],
   "source": [
    "class Conta(object):\n",
    "\n",
    "    def __init__(self, numero: int):\n",
    "        self.__numero: int = numero\n",
    "\n",
    "    @property\n",
    "    def numero(self) -> int:\n",
    "        \"\"\"Getter de __numero, retorna número da conta.\"\"\"\n",
    "        return self.__numero\n",
    "    \n",
    "    @staticmethod\n",
    "    def código_banco() -> str:\n",
    "        \"\"\"Retorna código do banco é uma @staticmethod.\"\"\"\n",
    "        return '001'\n",
    "\n",
    "conta1 = Conta(12)\n",
    "\n",
    "print(conta1.numero)\n",
    "print(conta1.código_banco())\n",
    "\n",
    "# Pode ser chamado sem ser instanciado\n",
    "print(Conta.código_banco())"
   ]
  },
  {
   "source": [
    "<h2><font color=#00BFFF>Métodos de classe de uma class - @classmethod</font></h2>\n",
    "\n",
    "São métodos declarados com @classmethod. Quando criamos um método de classe, temos acesso aos atributos da classe. Da mesma forma com os atributos de classe, podemos acessar estes métodos de dentro dos métodos de instância, a partir de ____class____, se desejarmos.\n",
    "\n",
    "O @classmethod permite que você chame o metodo de uma classe sem precisar instânciar a classe."
   ],
   "cell_type": "markdown",
   "metadata": {}
  },
  {
   "cell_type": "code",
   "execution_count": 6,
   "metadata": {},
   "outputs": [
    {
     "output_type": "stream",
     "name": "stdout",
     "text": [
      "Olá!\n"
     ]
    },
    {
     "output_type": "error",
     "ename": "TypeError",
     "evalue": "escreve() missing 1 required positional argument: 'text'",
     "traceback": [
      "\u001b[1;31m---------------------------------------------------------------------------\u001b[0m",
      "\u001b[1;31mTypeError\u001b[0m                                 Traceback (most recent call last)",
      "\u001b[1;32m<ipython-input-6-8065a532cad1>\u001b[0m in \u001b[0;36m<module>\u001b[1;34m\u001b[0m\n\u001b[0;32m     11\u001b[0m \u001b[1;33m\u001b[0m\u001b[0m\n\u001b[0;32m     12\u001b[0m \u001b[0mEscritor\u001b[0m\u001b[1;33m.\u001b[0m\u001b[0mescreve_novo\u001b[0m\u001b[1;33m(\u001b[0m\u001b[1;34m\"Olá!\"\u001b[0m\u001b[1;33m)\u001b[0m \u001b[1;31m# Vai executar\u001b[0m\u001b[1;33m\u001b[0m\u001b[1;33m\u001b[0m\u001b[0m\n\u001b[1;32m---> 13\u001b[1;33m \u001b[0mEscritor\u001b[0m\u001b[1;33m.\u001b[0m\u001b[0mescreve\u001b[0m\u001b[1;33m(\u001b[0m\u001b[1;34m\"Olá!\"\u001b[0m\u001b[1;33m)\u001b[0m \u001b[1;31m# Não vai executar\u001b[0m\u001b[1;33m\u001b[0m\u001b[1;33m\u001b[0m\u001b[0m\n\u001b[0m",
      "\u001b[1;31mTypeError\u001b[0m: escreve() missing 1 required positional argument: 'text'"
     ]
    }
   ],
   "source": [
    "class Escritor():\n",
    "    def __init__(self):\n",
    "        pass\n",
    "\n",
    "    def escreve(self, text):\n",
    "        print(text)\n",
    "\n",
    "    @classmethod\n",
    "    def escreve_novo(cls, text):\n",
    "        print(text)\n",
    "\n",
    "Escritor.escreve_novo(\"Olá!\") # Vai executar\n",
    "Escritor.escreve(\"Olá!\") # Não vai executar"
   ]
  },
  {
   "source": [
    "<h3><font color=#DAA520>staticmethod vs classmethod vs self</font></h3>\n",
    "\n",
    "O staticmethod não recebe a classe como referência enquanto o classmethod recebe.\n",
    "\n",
    "Podemos usar o classmethod como construtor da nossa classe, recebendo um objeto de outra classe ou até da mesma no staticmethod não.\n",
    "\n",
    "Outra coisa é que o uso do @classmethod é mais útil quando usado em herança, já que a classe é levada em consideração. Alguns programadores questionam o uso do @staticmethod (por parecer não ter muita utilidade) e por este motivo é mais comum o uso do @classmethod."
   ],
   "cell_type": "markdown",
   "metadata": {}
  },
  {
   "cell_type": "code",
   "execution_count": 31,
   "metadata": {},
   "outputs": [
    {
     "output_type": "stream",
     "name": "stdout",
     "text": [
      "Self - so funciono apos ser instanciado!\n\nstatic_method - funciono sem ser instanciado, mas não acesso nada na classe!\n\nclass_method - funciono sem ser instanciado, é acesso objetos na classe, veja --> <__main__.Teste object at 0x0000025B1402B550>!\n"
     ]
    }
   ],
   "source": [
    "class Teste:\n",
    "    def __init__(self, nome):\n",
    "        self.nome = nome\n",
    "    \n",
    "    def test_self(self):\n",
    "        print('Self - so funciono apos ser instanciado!')\n",
    "\n",
    "    @staticmethod\n",
    "    def static_method():  # não recebe cls\n",
    "        print('\\nstatic_method - funciono sem ser instanciado, mas não acesso nada na classe!')\n",
    "\n",
    "    @classmethod\n",
    "    def class_method(cls, teste):  # recebe cls\n",
    "        print(f'\\nclass_method - funciono sem ser instanciado, é acesso objetos na classe, veja --> {cls(teste.nome)}!')\n",
    "\n",
    "# self precisamos instanciar uma classe\n",
    "instancia = Teste('Ana')\n",
    "instancia.test_self()\n",
    "\n",
    "# staticmethod, não precisamos estanciar, mas não conseguimos acessar nenhum objeto da classe.\n",
    "Teste.static_method()\n",
    "\n",
    "# classmethod, não precisamos estanciar, e conseguimos acessar objetos da classe.\n",
    "Teste.class_method(instancia)"
   ]
  }
 ]
}