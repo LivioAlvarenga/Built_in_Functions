{
 "metadata": {
  "language_info": {
   "codemirror_mode": {
    "name": "ipython",
    "version": 3
   },
   "file_extension": ".py",
   "mimetype": "text/x-python",
   "name": "python",
   "nbconvert_exporter": "python",
   "pygments_lexer": "ipython3",
   "version": "3.8.5-final"
  },
  "orig_nbformat": 2,
  "kernelspec": {
   "name": "python3",
   "display_name": "Python 3.8.5 64-bit (conda)",
   "metadata": {
    "interpreter": {
     "hash": "e2e40fc1c38c381d76887a3ae1b55b9071bed2dfcea6a2cd064831dac0dea8c6"
    }
   }
  }
 },
 "nbformat": 4,
 "nbformat_minor": 2,
 "cells": [
  {
   "source": [
    "<h1><font color=#32CD32>Lists and Lists Comprehensions</font></h1>"
   ],
   "cell_type": "markdown",
   "metadata": {}
  },
  {
   "source": [
    "<h2><font color=#00BFFF>List Comprehensions</font></h2>"
   ],
   "cell_type": "markdown",
   "metadata": {}
  },
  {
   "source": [
    "<h3><font color=#DAA520>lista2 = [fruta.upper() for fruta in frutas]</font></h3>"
   ],
   "cell_type": "markdown",
   "metadata": {}
  },
  {
   "cell_type": "code",
   "execution_count": 4,
   "metadata": {},
   "outputs": [
    {
     "output_type": "stream",
     "name": "stdout",
     "text": [
      "['MAÇÃ', 'BANANA', 'LARANJA', 'MELANCIA']\n['MAÇÃ', 'BANANA', 'LARANJA', 'MELANCIA']\n"
     ]
    }
   ],
   "source": [
    "frutas = [\"maçã\", \"banana\", \"laranja\", \"melancia\"]\n",
    "# Agora ele precisa criar uma nova lista com as mesmas frutas, mas tudo escrito em letras maiúsculas. Ele escreveu o laço abaixo:\n",
    "lista1, lista1 = [], []\n",
    "for fruta in frutas:\n",
    "    lista1.append(fruta.upper())\n",
    "print(lista1)\n",
    "\n",
    "lista2 = [fruta.upper() for fruta in frutas] # executa em for + variavel + sequencia\n",
    "print(lista2)"
   ]
  },
  {
   "source": [
    "<h3><font color=#DAA520>lista2 = [fruta.upper() for fruta in frutas]</font></h3>"
   ],
   "cell_type": "markdown",
   "metadata": {}
  },
  {
   "cell_type": "code",
   "execution_count": 4,
   "metadata": {},
   "outputs": [
    {
     "output_type": "stream",
     "name": "stdout",
     "text": [
      "[4, 8]\n[4, 8]\n"
     ]
    }
   ],
   "source": [
    "inteiros = [1,3,4,5,7,8,9]\n",
    "pares1, pares2 = [], []\n",
    "for numero in inteiros:\n",
    "    if numero % 2 == 0:\n",
    "        pares1.append(numero)\n",
    "print(pares1)\n",
    "\n",
    "pares2 = [ numero for numero in inteiros if numero % 2 == 0]\n",
    "print(pares2)"
   ]
  }
 ]
}